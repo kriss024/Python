{
 "cells": [
  {
   "cell_type": "code",
   "execution_count": 1,
   "id": "a59a00ee",
   "metadata": {},
   "outputs": [],
   "source": [
    "import pyspark\n",
    "from pyspark.sql.session import SparkSession"
   ]
  },
  {
   "cell_type": "code",
   "execution_count": 2,
   "id": "297a32d2",
   "metadata": {},
   "outputs": [],
   "source": [
    "spark = SparkSession.builder\\\n",
    "       .master(\"local[*]\")\\\n",
    "       .appName(\"parquet_example\")\\\n",
    "       .getOrCreate()"
   ]
  },
  {
   "cell_type": "code",
   "execution_count": 3,
   "id": "03ebf820",
   "metadata": {},
   "outputs": [
    {
     "data": {
      "text/html": [
       "\n",
       "        <div>\n",
       "            <p><b>SparkContext</b></p>\n",
       "\n",
       "            <p><a href=\"http://971762ac81d9:4040\">Spark UI</a></p>\n",
       "\n",
       "            <dl>\n",
       "              <dt>Version</dt>\n",
       "                <dd><code>v3.1.1</code></dd>\n",
       "              <dt>Master</dt>\n",
       "                <dd><code>local[*]</code></dd>\n",
       "              <dt>AppName</dt>\n",
       "                <dd><code>parquet_example</code></dd>\n",
       "            </dl>\n",
       "        </div>\n",
       "        "
      ],
      "text/plain": [
       "<SparkContext master=local[*] appName=parquet_example>"
      ]
     },
     "execution_count": 3,
     "metadata": {},
     "output_type": "execute_result"
    }
   ],
   "source": [
    "spark.sparkContext"
   ]
  },
  {
   "cell_type": "code",
   "execution_count": 4,
   "id": "804007de",
   "metadata": {},
   "outputs": [],
   "source": [
    "df = spark.read.csv('Vermont_Vendor_Payments.csv', header='true', inferSchema = True)"
   ]
  },
  {
   "cell_type": "code",
   "execution_count": 5,
   "id": "9cf65d65",
   "metadata": {},
   "outputs": [],
   "source": [
    "from pyspark.sql.functions import col, to_date\n",
    "from pyspark.sql.types import DoubleType"
   ]
  },
  {
   "cell_type": "code",
   "execution_count": 6,
   "id": "87529a99",
   "metadata": {},
   "outputs": [],
   "source": [
    "df = (df\n",
    "      .withColumn(\"Amount\", col(\"Amount\").cast(DoubleType()))\n",
    "      .withColumn(\"Quarter Ending\", to_date(col(\"Quarter Ending\"),\"MM/dd/yyy\"))\n",
    "      .withColumnRenamed(\"Quarter Ending\",\"Quarter_Ending\")\n",
    "      .withColumnRenamed(\"Vendor Number\",\"Vendor_Number\")\n",
    "      .withColumnRenamed(\"DeptID Description\",\"DeptID_Description\")\n",
    "      .withColumnRenamed(\"Fund Description\",\"Fund_Description\")\n",
    "     )"
   ]
  },
  {
   "cell_type": "code",
   "execution_count": 7,
   "id": "570a2a37",
   "metadata": {},
   "outputs": [
    {
     "name": "stdout",
     "output_type": "stream",
     "text": [
      "root\n",
      " |-- Quarter_Ending: date (nullable = true)\n",
      " |-- Department: string (nullable = true)\n",
      " |-- UnitNo: integer (nullable = true)\n",
      " |-- Vendor_Number: string (nullable = true)\n",
      " |-- Vendor: string (nullable = true)\n",
      " |-- City: string (nullable = true)\n",
      " |-- State: string (nullable = true)\n",
      " |-- DeptID_Description: string (nullable = true)\n",
      " |-- DeptID: string (nullable = true)\n",
      " |-- Amount: double (nullable = true)\n",
      " |-- Account: string (nullable = true)\n",
      " |-- AcctNo: string (nullable = true)\n",
      " |-- Fund_Description: string (nullable = true)\n",
      " |-- Fund: string (nullable = true)\n",
      "\n"
     ]
    }
   ],
   "source": [
    "df.printSchema()"
   ]
  },
  {
   "cell_type": "code",
   "execution_count": 8,
   "id": "575ada25",
   "metadata": {},
   "outputs": [
    {
     "name": "stdout",
     "output_type": "stream",
     "text": [
      "The total number of rows is: 1680170 \n",
      "The total number of columns is: 14\n"
     ]
    }
   ],
   "source": [
    "print('The total number of rows is:', df.count(), '\\nThe total number of columns is:', len(df.columns))"
   ]
  },
  {
   "cell_type": "code",
   "execution_count": 9,
   "id": "cd070a3b",
   "metadata": {},
   "outputs": [],
   "source": [
    "df.repartition(1).write.mode('overwrite').parquet('Vermont_Vendor_Payments.parquet')"
   ]
  },
  {
   "cell_type": "code",
   "execution_count": 10,
   "id": "4ca15e20",
   "metadata": {},
   "outputs": [],
   "source": [
    "df_parquet=spark.read.parquet('Vermont_Vendor_Payments.parquet')"
   ]
  },
  {
   "cell_type": "code",
   "execution_count": 11,
   "id": "4ca87e4a",
   "metadata": {},
   "outputs": [
    {
     "name": "stdout",
     "output_type": "stream",
     "text": [
      "root\n",
      " |-- Quarter_Ending: date (nullable = true)\n",
      " |-- Department: string (nullable = true)\n",
      " |-- UnitNo: integer (nullable = true)\n",
      " |-- Vendor_Number: string (nullable = true)\n",
      " |-- Vendor: string (nullable = true)\n",
      " |-- City: string (nullable = true)\n",
      " |-- State: string (nullable = true)\n",
      " |-- DeptID_Description: string (nullable = true)\n",
      " |-- DeptID: string (nullable = true)\n",
      " |-- Amount: double (nullable = true)\n",
      " |-- Account: string (nullable = true)\n",
      " |-- AcctNo: string (nullable = true)\n",
      " |-- Fund_Description: string (nullable = true)\n",
      " |-- Fund: string (nullable = true)\n",
      "\n"
     ]
    }
   ],
   "source": [
    "df_parquet.printSchema()"
   ]
  },
  {
   "cell_type": "code",
   "execution_count": 12,
   "id": "ebaeee11",
   "metadata": {},
   "outputs": [
    {
     "name": "stdout",
     "output_type": "stream",
     "text": [
      "The total number of rows is: 1680170 \n",
      "The total number of columns is: 14\n"
     ]
    }
   ],
   "source": [
    "print('The total number of rows is:', df_parquet.count(), '\\nThe total number of columns is:', len(df_parquet.columns))"
   ]
  },
  {
   "cell_type": "code",
   "execution_count": 1,
   "id": "553539e0",
   "metadata": {},
   "outputs": [],
   "source": [
    "import numpy as np\n",
    "import pandas as pd\n",
    "import pyarrow as pa\n",
    "import pyarrow.parquet as pq"
   ]
  },
  {
   "cell_type": "code",
   "execution_count": 2,
   "id": "df414615",
   "metadata": {},
   "outputs": [],
   "source": [
    "parquet_pd = pd.read_parquet('Vermont_Vendor_Payments.parquet', engine='pyarrow')"
   ]
  },
  {
   "cell_type": "code",
   "execution_count": 3,
   "id": "b4bb2c20",
   "metadata": {},
   "outputs": [
    {
     "data": {
      "text/html": [
       "<div>\n",
       "<style scoped>\n",
       "    .dataframe tbody tr th:only-of-type {\n",
       "        vertical-align: middle;\n",
       "    }\n",
       "\n",
       "    .dataframe tbody tr th {\n",
       "        vertical-align: top;\n",
       "    }\n",
       "\n",
       "    .dataframe thead th {\n",
       "        text-align: right;\n",
       "    }\n",
       "</style>\n",
       "<table border=\"1\" class=\"dataframe\">\n",
       "  <thead>\n",
       "    <tr style=\"text-align: right;\">\n",
       "      <th></th>\n",
       "      <th>Quarter_Ending</th>\n",
       "      <th>Department</th>\n",
       "      <th>UnitNo</th>\n",
       "      <th>Vendor_Number</th>\n",
       "      <th>Vendor</th>\n",
       "      <th>City</th>\n",
       "      <th>State</th>\n",
       "      <th>DeptID_Description</th>\n",
       "      <th>DeptID</th>\n",
       "      <th>Amount</th>\n",
       "      <th>Account</th>\n",
       "      <th>AcctNo</th>\n",
       "      <th>Fund_Description</th>\n",
       "      <th>Fund</th>\n",
       "    </tr>\n",
       "  </thead>\n",
       "  <tbody>\n",
       "    <tr>\n",
       "      <th>0</th>\n",
       "      <td>2009-09-30</td>\n",
       "      <td>Environmental Conservation</td>\n",
       "      <td>6140.0</td>\n",
       "      <td>0000276016</td>\n",
       "      <td>1st Run Computer Services Inc</td>\n",
       "      <td>None</td>\n",
       "      <td>NY</td>\n",
       "      <td>WQD - Waterbury</td>\n",
       "      <td>6140040206</td>\n",
       "      <td>930.0</td>\n",
       "      <td>Rep&amp;Maint-Info Tech Hardware</td>\n",
       "      <td>513000</td>\n",
       "      <td>Environmental Permit Fund</td>\n",
       "      <td>21295</td>\n",
       "    </tr>\n",
       "    <tr>\n",
       "      <th>1</th>\n",
       "      <td>2009-09-30</td>\n",
       "      <td>Environmental Conservation</td>\n",
       "      <td>6140.0</td>\n",
       "      <td>0000276016</td>\n",
       "      <td>1st Run Computer Services Inc</td>\n",
       "      <td>None</td>\n",
       "      <td>NY</td>\n",
       "      <td>Water Supply Division - Wtby</td>\n",
       "      <td>6140040406</td>\n",
       "      <td>930.0</td>\n",
       "      <td>Rep&amp;Maint-Info Tech Hardware</td>\n",
       "      <td>513000</td>\n",
       "      <td>Environmental Permit Fund</td>\n",
       "      <td>21295</td>\n",
       "    </tr>\n",
       "    <tr>\n",
       "      <th>2</th>\n",
       "      <td>2009-09-30</td>\n",
       "      <td>Vermont Veterans' Home</td>\n",
       "      <td>3300.0</td>\n",
       "      <td>0000284121</td>\n",
       "      <td>210 Innovations LLC</td>\n",
       "      <td>None</td>\n",
       "      <td>CT</td>\n",
       "      <td>MAINTENANCE</td>\n",
       "      <td>3300010300</td>\n",
       "      <td>24.0</td>\n",
       "      <td>Freight &amp; Express Mail</td>\n",
       "      <td>517300</td>\n",
       "      <td>Vermont Medicaid</td>\n",
       "      <td>21782</td>\n",
       "    </tr>\n",
       "    <tr>\n",
       "      <th>3</th>\n",
       "      <td>2009-09-30</td>\n",
       "      <td>Vermont Veterans' Home</td>\n",
       "      <td>3300.0</td>\n",
       "      <td>0000284121</td>\n",
       "      <td>210 Innovations LLC</td>\n",
       "      <td>None</td>\n",
       "      <td>CT</td>\n",
       "      <td>MAINTENANCE</td>\n",
       "      <td>3300010300</td>\n",
       "      <td>420.0</td>\n",
       "      <td>Building Maintenance Supplies</td>\n",
       "      <td>520200</td>\n",
       "      <td>Vermont Medicaid</td>\n",
       "      <td>21782</td>\n",
       "    </tr>\n",
       "    <tr>\n",
       "      <th>4</th>\n",
       "      <td>2009-09-30</td>\n",
       "      <td>Corrections</td>\n",
       "      <td>3480.0</td>\n",
       "      <td>0000207719</td>\n",
       "      <td>21st Century Cellular</td>\n",
       "      <td>None</td>\n",
       "      <td>PA</td>\n",
       "      <td>Brattleboro P&amp;P</td>\n",
       "      <td>3480004630</td>\n",
       "      <td>270.8</td>\n",
       "      <td>Telecom-Wireless Phone Service</td>\n",
       "      <td>516659</td>\n",
       "      <td>General Fund</td>\n",
       "      <td>10000</td>\n",
       "    </tr>\n",
       "  </tbody>\n",
       "</table>\n",
       "</div>"
      ],
      "text/plain": [
       "  Quarter_Ending                  Department  UnitNo Vendor_Number  \\\n",
       "0     2009-09-30  Environmental Conservation  6140.0    0000276016   \n",
       "1     2009-09-30  Environmental Conservation  6140.0    0000276016   \n",
       "2     2009-09-30      Vermont Veterans' Home  3300.0    0000284121   \n",
       "3     2009-09-30      Vermont Veterans' Home  3300.0    0000284121   \n",
       "4     2009-09-30                 Corrections  3480.0    0000207719   \n",
       "\n",
       "                          Vendor  City State            DeptID_Description  \\\n",
       "0  1st Run Computer Services Inc  None    NY               WQD - Waterbury   \n",
       "1  1st Run Computer Services Inc  None    NY  Water Supply Division - Wtby   \n",
       "2            210 Innovations LLC  None    CT                   MAINTENANCE   \n",
       "3            210 Innovations LLC  None    CT                   MAINTENANCE   \n",
       "4          21st Century Cellular  None    PA               Brattleboro P&P   \n",
       "\n",
       "       DeptID  Amount                         Account  AcctNo  \\\n",
       "0  6140040206   930.0    Rep&Maint-Info Tech Hardware  513000   \n",
       "1  6140040406   930.0    Rep&Maint-Info Tech Hardware  513000   \n",
       "2  3300010300    24.0          Freight & Express Mail  517300   \n",
       "3  3300010300   420.0   Building Maintenance Supplies  520200   \n",
       "4  3480004630   270.8  Telecom-Wireless Phone Service  516659   \n",
       "\n",
       "            Fund_Description   Fund  \n",
       "0  Environmental Permit Fund  21295  \n",
       "1  Environmental Permit Fund  21295  \n",
       "2           Vermont Medicaid  21782  \n",
       "3           Vermont Medicaid  21782  \n",
       "4               General Fund  10000  "
      ]
     },
     "execution_count": 3,
     "metadata": {},
     "output_type": "execute_result"
    }
   ],
   "source": [
    "parquet_pd.head()"
   ]
  },
  {
   "cell_type": "code",
   "execution_count": 4,
   "id": "d6033a43",
   "metadata": {},
   "outputs": [
    {
     "name": "stdout",
     "output_type": "stream",
     "text": [
      "The total number of rows is: 1680170 \n",
      "The total number of columns is: 14\n"
     ]
    }
   ],
   "source": [
    "print('The total number of rows is:', parquet_pd.shape[0], '\\nThe total number of columns is:', parquet_pd.shape[1])"
   ]
  }
 ],
 "metadata": {
  "kernelspec": {
   "display_name": "Python 3",
   "language": "python",
   "name": "python3"
  },
  "language_info": {
   "codemirror_mode": {
    "name": "ipython",
    "version": 3
   },
   "file_extension": ".py",
   "mimetype": "text/x-python",
   "name": "python",
   "nbconvert_exporter": "python",
   "pygments_lexer": "ipython3",
   "version": "3.8.8"
  }
 },
 "nbformat": 4,
 "nbformat_minor": 5
}
