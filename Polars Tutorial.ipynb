{
 "cells": [
  {
   "cell_type": "code",
   "execution_count": 1,
   "id": "642c3c2a",
   "metadata": {},
   "outputs": [],
   "source": [
    "import numpy as np\n",
    "import pandas as pd\n",
    "import polars as pl\n",
    "import polars.selectors as cs\n",
    "import seaborn as sns\n",
    "import matplotlib\n",
    "import matplotlib.pyplot as plt\n",
    "from IPython.display import display\n",
    "# Config the matlotlib backend as plotting inline in IPython\n",
    "%matplotlib inline"
   ]
  },
  {
   "cell_type": "code",
   "execution_count": 2,
   "id": "3abc3eb9",
   "metadata": {},
   "outputs": [
    {
     "name": "stdout",
     "output_type": "stream",
     "text": [
      "Numeric columns: ['Age', 'Annual_Income', 'Monthly_Inhand_Salary', 'Num_Bank_Accounts', 'Num_Credit_Card', 'Interest_Rate', 'Num_of_Loan', 'Delay_from_due_date', 'Num_of_Delayed_Payment', 'Changed_Credit_Limit', 'Num_Credit_Inquiries', 'Outstanding_Debt', 'Credit_Utilization_Ratio', 'Total_EMI_per_month', 'Amount_invested_monthly', 'Monthly_Balance']\n",
      "String columns: ['ID', 'Customer_ID', 'Month', 'Name', 'SSN', 'Occupation', 'Type_of_Loan', 'Credit_Mix', 'Credit_History_Age', 'Payment_of_Min_Amount', 'Payment_Behaviour', 'Credit_Score']\n"
     ]
    },
    {
     "data": {
      "text/html": [
       "<div><style>\n",
       ".dataframe > thead > tr > th,\n",
       ".dataframe > tbody > tr > td {\n",
       "  text-align: right;\n",
       "}\n",
       "</style>\n",
       "<small>shape: (100_000, 28)</small><table border=\"1\" class=\"dataframe\"><thead><tr><th>ID</th><th>Customer_ID</th><th>Month</th><th>Name</th><th>Age</th><th>SSN</th><th>Occupation</th><th>Annual_Income</th><th>Monthly_Inhand_Salary</th><th>Num_Bank_Accounts</th><th>Num_Credit_Card</th><th>Interest_Rate</th><th>Num_of_Loan</th><th>Type_of_Loan</th><th>Delay_from_due_date</th><th>Num_of_Delayed_Payment</th><th>Changed_Credit_Limit</th><th>Num_Credit_Inquiries</th><th>Credit_Mix</th><th>Outstanding_Debt</th><th>Credit_Utilization_Ratio</th><th>Credit_History_Age</th><th>Payment_of_Min_Amount</th><th>Total_EMI_per_month</th><th>Amount_invested_monthly</th><th>Payment_Behaviour</th><th>Monthly_Balance</th><th>Credit_Score</th></tr><tr><td>str</td><td>str</td><td>str</td><td>str</td><td>i64</td><td>str</td><td>str</td><td>f64</td><td>f64</td><td>i64</td><td>i64</td><td>i64</td><td>i64</td><td>str</td><td>i64</td><td>f64</td><td>f64</td><td>f64</td><td>str</td><td>f64</td><td>f64</td><td>str</td><td>str</td><td>f64</td><td>f64</td><td>str</td><td>f64</td><td>str</td></tr></thead><tbody><tr><td>&quot;0x1602&quot;</td><td>&quot;CUS_0xd40&quot;</td><td>&quot;January&quot;</td><td>&quot;Aaron Maashoh&quot;</td><td>23</td><td>&quot;821-00-0265&quot;</td><td>&quot;Scientist&quot;</td><td>19114.12</td><td>1824.843333</td><td>3</td><td>4</td><td>3</td><td>4</td><td>&quot;Auto Loan, Cre…</td><td>3</td><td>7.0</td><td>11.27</td><td>4.0</td><td>&quot;&quot;</td><td>809.98</td><td>26.82262</td><td>&quot;22 Years and 1…</td><td>&quot;No&quot;</td><td>49.574949</td><td>80.415295</td><td>&quot;High spent Sma…</td><td>312.494089</td><td>&quot;Good&quot;</td></tr><tr><td>&quot;0x1603&quot;</td><td>&quot;CUS_0xd40&quot;</td><td>&quot;February&quot;</td><td>&quot;Aaron Maashoh&quot;</td><td>23</td><td>&quot;821-00-0265&quot;</td><td>&quot;Scientist&quot;</td><td>19114.12</td><td>null</td><td>3</td><td>4</td><td>3</td><td>4</td><td>&quot;Auto Loan, Cre…</td><td>-1</td><td>null</td><td>11.27</td><td>4.0</td><td>&quot;Good&quot;</td><td>809.98</td><td>31.94496</td><td>null</td><td>&quot;No&quot;</td><td>49.574949</td><td>118.280222</td><td>&quot;Low spent Larg…</td><td>284.629162</td><td>&quot;Good&quot;</td></tr><tr><td>&quot;0x1604&quot;</td><td>&quot;CUS_0xd40&quot;</td><td>&quot;March&quot;</td><td>&quot;Aaron Maashoh&quot;</td><td>-500</td><td>&quot;821-00-0265&quot;</td><td>&quot;Scientist&quot;</td><td>19114.12</td><td>null</td><td>3</td><td>4</td><td>3</td><td>4</td><td>&quot;Auto Loan, Cre…</td><td>3</td><td>7.0</td><td>null</td><td>4.0</td><td>&quot;Good&quot;</td><td>809.98</td><td>28.609352</td><td>&quot;22 Years and 3…</td><td>&quot;No&quot;</td><td>49.574949</td><td>81.699521</td><td>&quot;Low spent Medi…</td><td>331.209863</td><td>&quot;Good&quot;</td></tr><tr><td>&quot;0x1605&quot;</td><td>&quot;CUS_0xd40&quot;</td><td>&quot;April&quot;</td><td>&quot;Aaron Maashoh&quot;</td><td>23</td><td>&quot;821-00-0265&quot;</td><td>&quot;Scientist&quot;</td><td>19114.12</td><td>null</td><td>3</td><td>4</td><td>3</td><td>4</td><td>&quot;Auto Loan, Cre…</td><td>5</td><td>4.0</td><td>6.27</td><td>4.0</td><td>&quot;Good&quot;</td><td>809.98</td><td>31.377862</td><td>&quot;22 Years and 4…</td><td>&quot;No&quot;</td><td>49.574949</td><td>199.458074</td><td>&quot;Low spent Smal…</td><td>223.45131</td><td>&quot;Good&quot;</td></tr><tr><td>&quot;0x1606&quot;</td><td>&quot;CUS_0xd40&quot;</td><td>&quot;May&quot;</td><td>&quot;Aaron Maashoh&quot;</td><td>23</td><td>&quot;821-00-0265&quot;</td><td>&quot;Scientist&quot;</td><td>19114.12</td><td>1824.843333</td><td>3</td><td>4</td><td>3</td><td>4</td><td>&quot;Auto Loan, Cre…</td><td>6</td><td>null</td><td>11.27</td><td>4.0</td><td>&quot;Good&quot;</td><td>809.98</td><td>24.797347</td><td>&quot;22 Years and 5…</td><td>&quot;No&quot;</td><td>49.574949</td><td>41.420153</td><td>&quot;High spent Med…</td><td>341.489231</td><td>&quot;Good&quot;</td></tr><tr><td>&quot;0x1607&quot;</td><td>&quot;CUS_0xd40&quot;</td><td>&quot;June&quot;</td><td>&quot;Aaron Maashoh&quot;</td><td>23</td><td>&quot;821-00-0265&quot;</td><td>&quot;Scientist&quot;</td><td>19114.12</td><td>null</td><td>3</td><td>4</td><td>3</td><td>4</td><td>&quot;Auto Loan, Cre…</td><td>8</td><td>4.0</td><td>9.27</td><td>4.0</td><td>&quot;Good&quot;</td><td>809.98</td><td>27.262259</td><td>&quot;22 Years and 6…</td><td>&quot;No&quot;</td><td>49.574949</td><td>62.430172</td><td>&quot;!@9#%8&quot;</td><td>340.479212</td><td>&quot;Good&quot;</td></tr><tr><td>&quot;0x1608&quot;</td><td>&quot;CUS_0xd40&quot;</td><td>&quot;July&quot;</td><td>&quot;Aaron Maashoh&quot;</td><td>23</td><td>&quot;821-00-0265&quot;</td><td>&quot;Scientist&quot;</td><td>19114.12</td><td>1824.843333</td><td>3</td><td>4</td><td>3</td><td>4</td><td>&quot;Auto Loan, Cre…</td><td>3</td><td>8.0</td><td>11.27</td><td>4.0</td><td>&quot;Good&quot;</td><td>809.98</td><td>22.537593</td><td>&quot;22 Years and 7…</td><td>&quot;No&quot;</td><td>49.574949</td><td>178.344067</td><td>&quot;Low spent Smal…</td><td>244.565317</td><td>&quot;Good&quot;</td></tr><tr><td>&quot;0x1609&quot;</td><td>&quot;CUS_0xd40&quot;</td><td>&quot;August&quot;</td><td>null</td><td>23</td><td>&quot;#F%$D@*&amp;8&quot;</td><td>&quot;Scientist&quot;</td><td>19114.12</td><td>1824.843333</td><td>3</td><td>4</td><td>3</td><td>4</td><td>&quot;Auto Loan, Cre…</td><td>3</td><td>6.0</td><td>11.27</td><td>4.0</td><td>&quot;Good&quot;</td><td>809.98</td><td>23.933795</td><td>null</td><td>&quot;No&quot;</td><td>49.574949</td><td>24.785217</td><td>&quot;High spent Med…</td><td>358.124168</td><td>&quot;Standard&quot;</td></tr><tr><td>&quot;0x160e&quot;</td><td>&quot;CUS_0x21b1&quot;</td><td>&quot;January&quot;</td><td>&quot;Rick Rothacker…</td><td>28</td><td>&quot;004-07-5839&quot;</td><td>&quot;&quot;</td><td>34847.84</td><td>3037.986667</td><td>2</td><td>4</td><td>6</td><td>1</td><td>&quot;Credit-Builder…</td><td>3</td><td>4.0</td><td>5.42</td><td>2.0</td><td>&quot;Good&quot;</td><td>605.03</td><td>24.464031</td><td>&quot;26 Years and 7…</td><td>&quot;No&quot;</td><td>18.816215</td><td>104.291825</td><td>&quot;Low spent Smal…</td><td>470.690627</td><td>&quot;Standard&quot;</td></tr><tr><td>&quot;0x160f&quot;</td><td>&quot;CUS_0x21b1&quot;</td><td>&quot;February&quot;</td><td>&quot;Rick Rothacker…</td><td>28</td><td>&quot;004-07-5839&quot;</td><td>&quot;Teacher&quot;</td><td>34847.84</td><td>3037.986667</td><td>2</td><td>4</td><td>6</td><td>1</td><td>&quot;Credit-Builder…</td><td>7</td><td>1.0</td><td>7.42</td><td>2.0</td><td>&quot;Good&quot;</td><td>605.03</td><td>38.550848</td><td>&quot;26 Years and 8…</td><td>&quot;No&quot;</td><td>18.816215</td><td>40.391238</td><td>&quot;High spent Lar…</td><td>484.591214</td><td>&quot;Good&quot;</td></tr><tr><td>&quot;0x1610&quot;</td><td>&quot;CUS_0x21b1&quot;</td><td>&quot;March&quot;</td><td>&quot;Rick Rothacker…</td><td>28</td><td>&quot;004-07-5839&quot;</td><td>&quot;Teacher&quot;</td><td>34847.84</td><td>3037.986667</td><td>2</td><td>1385</td><td>6</td><td>1</td><td>&quot;Credit-Builder…</td><td>3</td><td>-1.0</td><td>5.42</td><td>2.0</td><td>&quot;&quot;</td><td>605.03</td><td>33.224951</td><td>&quot;26 Years and 9…</td><td>&quot;No&quot;</td><td>18.816215</td><td>58.515976</td><td>&quot;High spent Lar…</td><td>466.466476</td><td>&quot;Standard&quot;</td></tr><tr><td>&quot;0x1611&quot;</td><td>&quot;CUS_0x21b1&quot;</td><td>&quot;April&quot;</td><td>&quot;Rick Rothacker…</td><td>28</td><td>&quot;004-07-5839&quot;</td><td>&quot;Teacher&quot;</td><td>34847.84</td><td>null</td><td>2</td><td>4</td><td>6</td><td>1</td><td>&quot;Credit-Builder…</td><td>3</td><td>3.0</td><td>5.42</td><td>2.0</td><td>&quot;Good&quot;</td><td>605.03</td><td>39.182656</td><td>&quot;26 Years and 1…</td><td>&quot;No&quot;</td><td>18.816215</td><td>99.306228</td><td>&quot;Low spent Medi…</td><td>465.676224</td><td>&quot;Good&quot;</td></tr><tr><td>&hellip;</td><td>&hellip;</td><td>&hellip;</td><td>&hellip;</td><td>&hellip;</td><td>&hellip;</td><td>&hellip;</td><td>&hellip;</td><td>&hellip;</td><td>&hellip;</td><td>&hellip;</td><td>&hellip;</td><td>&hellip;</td><td>&hellip;</td><td>&hellip;</td><td>&hellip;</td><td>&hellip;</td><td>&hellip;</td><td>&hellip;</td><td>&hellip;</td><td>&hellip;</td><td>&hellip;</td><td>&hellip;</td><td>&hellip;</td><td>&hellip;</td><td>&hellip;</td><td>&hellip;</td><td>&hellip;</td></tr><tr><td>&quot;0x25fde&quot;</td><td>&quot;CUS_0x8600&quot;</td><td>&quot;May&quot;</td><td>&quot;Sarah McBridec…</td><td>28</td><td>&quot;#F%$D@*&amp;8&quot;</td><td>&quot;Architect&quot;</td><td>20002.88</td><td>1929.906667</td><td>10</td><td>8</td><td>29</td><td>5</td><td>&quot;Personal Loan,…</td><td>33</td><td>25.0</td><td>18.31</td><td>9.0</td><td>&quot;&quot;</td><td>3571.7</td><td>28.50825</td><td>&quot;6 Years and 0 …</td><td>&quot;Yes&quot;</td><td>60.964772</td><td>213.97801</td><td>&quot;Low spent Smal…</td><td>208.047884</td><td>&quot;Standard&quot;</td></tr><tr><td>&quot;0x25fdf&quot;</td><td>&quot;CUS_0x8600&quot;</td><td>&quot;June&quot;</td><td>&quot;Sarah McBridec…</td><td>28</td><td>&quot;031-35-0942&quot;</td><td>&quot;&quot;</td><td>20002.88</td><td>1929.906667</td><td>10</td><td>8</td><td>29</td><td>5</td><td>&quot;Personal Loan,…</td><td>33</td><td>25.0</td><td>16.31</td><td>9.0</td><td>&quot;Bad&quot;</td><td>3571.7</td><td>33.359987</td><td>&quot;6 Years and 1 …</td><td>&quot;Yes&quot;</td><td>60.964772</td><td>74.366603</td><td>&quot;!@9#%8&quot;</td><td>307.659291</td><td>&quot;Standard&quot;</td></tr><tr><td>&quot;0x25fe0&quot;</td><td>&quot;CUS_0x8600&quot;</td><td>&quot;July&quot;</td><td>&quot;Sarah McBridec…</td><td>28</td><td>&quot;031-35-0942&quot;</td><td>&quot;Architect&quot;</td><td>20002.88</td><td>1929.906667</td><td>10</td><td>8</td><td>29</td><td>5</td><td>&quot;Personal Loan,…</td><td>33</td><td>26.0</td><td>18.31</td><td>9.0</td><td>&quot;Bad&quot;</td><td>3571.7</td><td>25.123535</td><td>null</td><td>&quot;Yes&quot;</td><td>60.964772</td><td>173.275503</td><td>&quot;Low spent Larg…</td><td>228.750392</td><td>&quot;Standard&quot;</td></tr><tr><td>&quot;0x25fe1&quot;</td><td>&quot;CUS_0x8600&quot;</td><td>&quot;August&quot;</td><td>&quot;Sarah McBridec…</td><td>29</td><td>&quot;031-35-0942&quot;</td><td>&quot;Architect&quot;</td><td>20002.88</td><td>1929.906667</td><td>10</td><td>8</td><td>29</td><td>5</td><td>&quot;Personal Loan,…</td><td>33</td><td>25.0</td><td>18.31</td><td>9.0</td><td>&quot;Bad&quot;</td><td>3571.7</td><td>37.140784</td><td>&quot;6 Years and 3 …</td><td>&quot;Yes&quot;</td><td>60.964772</td><td>34.662906</td><td>&quot;High spent Lar…</td><td>337.362988</td><td>&quot;Standard&quot;</td></tr><tr><td>&quot;0x25fe6&quot;</td><td>&quot;CUS_0x942c&quot;</td><td>&quot;January&quot;</td><td>&quot;Nicks&quot;</td><td>24</td><td>&quot;078-73-5990&quot;</td><td>&quot;Mechanic&quot;</td><td>39628.99</td><td>3359.415833</td><td>4</td><td>6</td><td>7</td><td>2</td><td>&quot;Auto Loan, and…</td><td>23</td><td>null</td><td>9.5</td><td>3.0</td><td>&quot;&quot;</td><td>502.38</td><td>32.991333</td><td>&quot;31 Years and 3…</td><td>&quot;No&quot;</td><td>35.104023</td><td>401.196481</td><td>&quot;Low spent Smal…</td><td>189.64108</td><td>&quot;Poor&quot;</td></tr><tr><td>&quot;0x25fe7&quot;</td><td>&quot;CUS_0x942c&quot;</td><td>&quot;February&quot;</td><td>&quot;Nicks&quot;</td><td>25</td><td>&quot;078-73-5990&quot;</td><td>&quot;Mechanic&quot;</td><td>39628.99</td><td>3359.415833</td><td>4</td><td>6</td><td>7</td><td>2</td><td>&quot;Auto Loan, and…</td><td>23</td><td>null</td><td>11.5</td><td>3.0</td><td>&quot;Good&quot;</td><td>502.38</td><td>29.135447</td><td>&quot;31 Years and 4…</td><td>&quot;No&quot;</td><td>58638.0</td><td>180.733095</td><td>&quot;Low spent Medi…</td><td>400.104466</td><td>&quot;Standard&quot;</td></tr><tr><td>&quot;0x25fe8&quot;</td><td>&quot;CUS_0x942c&quot;</td><td>&quot;March&quot;</td><td>&quot;Nicks&quot;</td><td>25</td><td>&quot;078-73-5990&quot;</td><td>&quot;Mechanic&quot;</td><td>39628.99</td><td>3359.415833</td><td>4</td><td>6</td><td>7</td><td>2</td><td>&quot;Auto Loan, and…</td><td>20</td><td>6.0</td><td>9.5</td><td>3.0</td><td>&quot;&quot;</td><td>502.38</td><td>39.323569</td><td>&quot;31 Years and 5…</td><td>&quot;No&quot;</td><td>35.104023</td><td>140.581403</td><td>&quot;High spent Med…</td><td>410.256158</td><td>&quot;Poor&quot;</td></tr><tr><td>&quot;0x25fe9&quot;</td><td>&quot;CUS_0x942c&quot;</td><td>&quot;April&quot;</td><td>&quot;Nicks&quot;</td><td>25</td><td>&quot;078-73-5990&quot;</td><td>&quot;Mechanic&quot;</td><td>39628.99</td><td>3359.415833</td><td>4</td><td>6</td><td>7</td><td>2</td><td>&quot;Auto Loan, and…</td><td>23</td><td>7.0</td><td>11.5</td><td>3.0</td><td>&quot;&quot;</td><td>502.38</td><td>34.663572</td><td>&quot;31 Years and 6…</td><td>&quot;No&quot;</td><td>35.104023</td><td>60.971333</td><td>&quot;High spent Lar…</td><td>479.866228</td><td>&quot;Poor&quot;</td></tr><tr><td>&quot;0x25fea&quot;</td><td>&quot;CUS_0x942c&quot;</td><td>&quot;May&quot;</td><td>&quot;Nicks&quot;</td><td>25</td><td>&quot;078-73-5990&quot;</td><td>&quot;Mechanic&quot;</td><td>39628.99</td><td>3359.415833</td><td>4</td><td>6</td><td>7</td><td>2</td><td>&quot;Auto Loan, and…</td><td>18</td><td>7.0</td><td>11.5</td><td>3.0</td><td>&quot;&quot;</td><td>502.38</td><td>40.565631</td><td>&quot;31 Years and 7…</td><td>&quot;No&quot;</td><td>35.104023</td><td>54.18595</td><td>&quot;High spent Med…</td><td>496.65161</td><td>&quot;Poor&quot;</td></tr><tr><td>&quot;0x25feb&quot;</td><td>&quot;CUS_0x942c&quot;</td><td>&quot;June&quot;</td><td>&quot;Nicks&quot;</td><td>25</td><td>&quot;078-73-5990&quot;</td><td>&quot;Mechanic&quot;</td><td>39628.99</td><td>3359.415833</td><td>4</td><td>6</td><td>5729</td><td>2</td><td>&quot;Auto Loan, and…</td><td>27</td><td>6.0</td><td>11.5</td><td>3.0</td><td>&quot;Good&quot;</td><td>502.38</td><td>41.255522</td><td>&quot;31 Years and 8…</td><td>&quot;No&quot;</td><td>35.104023</td><td>24.028477</td><td>&quot;High spent Lar…</td><td>516.809083</td><td>&quot;Poor&quot;</td></tr><tr><td>&quot;0x25fec&quot;</td><td>&quot;CUS_0x942c&quot;</td><td>&quot;July&quot;</td><td>&quot;Nicks&quot;</td><td>25</td><td>&quot;078-73-5990&quot;</td><td>&quot;Mechanic&quot;</td><td>39628.99</td><td>3359.415833</td><td>4</td><td>6</td><td>7</td><td>2</td><td>&quot;Auto Loan, and…</td><td>20</td><td>null</td><td>11.5</td><td>3.0</td><td>&quot;Good&quot;</td><td>502.38</td><td>33.638208</td><td>&quot;31 Years and 9…</td><td>&quot;No&quot;</td><td>35.104023</td><td>251.672582</td><td>&quot;Low spent Larg…</td><td>319.164979</td><td>&quot;Standard&quot;</td></tr><tr><td>&quot;0x25fed&quot;</td><td>&quot;CUS_0x942c&quot;</td><td>&quot;August&quot;</td><td>&quot;Nicks&quot;</td><td>25</td><td>&quot;078-73-5990&quot;</td><td>&quot;Mechanic&quot;</td><td>39628.99</td><td>3359.415833</td><td>4</td><td>6</td><td>7</td><td>2</td><td>&quot;Auto Loan, and…</td><td>18</td><td>6.0</td><td>11.5</td><td>3.0</td><td>&quot;Good&quot;</td><td>502.38</td><td>34.192463</td><td>&quot;31 Years and 1…</td><td>&quot;No&quot;</td><td>35.104023</td><td>167.163865</td><td>&quot;!@9#%8&quot;</td><td>393.673696</td><td>&quot;Poor&quot;</td></tr></tbody></table></div>"
      ],
      "text/plain": [
       "shape: (100_000, 28)\n",
       "┌─────────┬────────────┬──────────┬────────────┬───┬───────────┬───────────┬───────────┬───────────┐\n",
       "│ ID      ┆ Customer_I ┆ Month    ┆ Name       ┆ … ┆ Amount_in ┆ Payment_B ┆ Monthly_B ┆ Credit_Sc │\n",
       "│ ---     ┆ D          ┆ ---      ┆ ---        ┆   ┆ vested_mo ┆ ehaviour  ┆ alance    ┆ ore       │\n",
       "│ str     ┆ ---        ┆ str      ┆ str        ┆   ┆ nthly     ┆ ---       ┆ ---       ┆ ---       │\n",
       "│         ┆ str        ┆          ┆            ┆   ┆ ---       ┆ str       ┆ f64       ┆ str       │\n",
       "│         ┆            ┆          ┆            ┆   ┆ f64       ┆           ┆           ┆           │\n",
       "╞═════════╪════════════╪══════════╪════════════╪═══╪═══════════╪═══════════╪═══════════╪═══════════╡\n",
       "│ 0x1602  ┆ CUS_0xd40  ┆ January  ┆ Aaron      ┆ … ┆ 80.415295 ┆ High      ┆ 312.49408 ┆ Good      │\n",
       "│         ┆            ┆          ┆ Maashoh    ┆   ┆           ┆ spent     ┆ 9         ┆           │\n",
       "│         ┆            ┆          ┆            ┆   ┆           ┆ Small     ┆           ┆           │\n",
       "│         ┆            ┆          ┆            ┆   ┆           ┆ value     ┆           ┆           │\n",
       "│         ┆            ┆          ┆            ┆   ┆           ┆ payments  ┆           ┆           │\n",
       "│ 0x1603  ┆ CUS_0xd40  ┆ February ┆ Aaron      ┆ … ┆ 118.28022 ┆ Low spent ┆ 284.62916 ┆ Good      │\n",
       "│         ┆            ┆          ┆ Maashoh    ┆   ┆ 2         ┆ Large     ┆ 2         ┆           │\n",
       "│         ┆            ┆          ┆            ┆   ┆           ┆ value     ┆           ┆           │\n",
       "│         ┆            ┆          ┆            ┆   ┆           ┆ payments  ┆           ┆           │\n",
       "│ 0x1604  ┆ CUS_0xd40  ┆ March    ┆ Aaron      ┆ … ┆ 81.699521 ┆ Low spent ┆ 331.20986 ┆ Good      │\n",
       "│         ┆            ┆          ┆ Maashoh    ┆   ┆           ┆ Medium    ┆ 3         ┆           │\n",
       "│         ┆            ┆          ┆            ┆   ┆           ┆ value     ┆           ┆           │\n",
       "│         ┆            ┆          ┆            ┆   ┆           ┆ payments  ┆           ┆           │\n",
       "│ 0x1605  ┆ CUS_0xd40  ┆ April    ┆ Aaron      ┆ … ┆ 199.45807 ┆ Low spent ┆ 223.45131 ┆ Good      │\n",
       "│         ┆            ┆          ┆ Maashoh    ┆   ┆ 4         ┆ Small     ┆           ┆           │\n",
       "│         ┆            ┆          ┆            ┆   ┆           ┆ value     ┆           ┆           │\n",
       "│         ┆            ┆          ┆            ┆   ┆           ┆ payments  ┆           ┆           │\n",
       "│ …       ┆ …          ┆ …        ┆ …          ┆ … ┆ …         ┆ …         ┆ …         ┆ …         │\n",
       "│ 0x25fea ┆ CUS_0x942c ┆ May      ┆ Nicks      ┆ … ┆ 54.18595  ┆ High      ┆ 496.65161 ┆ Poor      │\n",
       "│         ┆            ┆          ┆            ┆   ┆           ┆ spent     ┆           ┆           │\n",
       "│         ┆            ┆          ┆            ┆   ┆           ┆ Medium    ┆           ┆           │\n",
       "│         ┆            ┆          ┆            ┆   ┆           ┆ value     ┆           ┆           │\n",
       "│         ┆            ┆          ┆            ┆   ┆           ┆ payments  ┆           ┆           │\n",
       "│ 0x25feb ┆ CUS_0x942c ┆ June     ┆ Nicks      ┆ … ┆ 24.028477 ┆ High      ┆ 516.80908 ┆ Poor      │\n",
       "│         ┆            ┆          ┆            ┆   ┆           ┆ spent     ┆ 3         ┆           │\n",
       "│         ┆            ┆          ┆            ┆   ┆           ┆ Large     ┆           ┆           │\n",
       "│         ┆            ┆          ┆            ┆   ┆           ┆ value     ┆           ┆           │\n",
       "│         ┆            ┆          ┆            ┆   ┆           ┆ payments  ┆           ┆           │\n",
       "│ 0x25fec ┆ CUS_0x942c ┆ July     ┆ Nicks      ┆ … ┆ 251.67258 ┆ Low spent ┆ 319.16497 ┆ Standard  │\n",
       "│         ┆            ┆          ┆            ┆   ┆ 2         ┆ Large     ┆ 9         ┆           │\n",
       "│         ┆            ┆          ┆            ┆   ┆           ┆ value     ┆           ┆           │\n",
       "│         ┆            ┆          ┆            ┆   ┆           ┆ payments  ┆           ┆           │\n",
       "│ 0x25fed ┆ CUS_0x942c ┆ August   ┆ Nicks      ┆ … ┆ 167.16386 ┆ !@9#%8    ┆ 393.67369 ┆ Poor      │\n",
       "│         ┆            ┆          ┆            ┆   ┆ 5         ┆           ┆ 6         ┆           │\n",
       "└─────────┴────────────┴──────────┴────────────┴───┴───────────┴───────────┴───────────┴───────────┘"
      ]
     },
     "execution_count": 2,
     "metadata": {},
     "output_type": "execute_result"
    }
   ],
   "source": [
    "df = pl.read_parquet('credit_datase.parquet')\n",
    "\n",
    "numeric = df.select(cs.numeric()).columns\n",
    "string = df.select(cs.string()).columns\n",
    "\n",
    "print('Numeric columns: ' + str(numeric))\n",
    "print('String columns: ' + str(string))\n",
    "\n",
    "out = df.select(pl.col(\"*\"))\n",
    "out"
   ]
  },
  {
   "cell_type": "code",
   "execution_count": 3,
   "id": "c36b533b",
   "metadata": {},
   "outputs": [
    {
     "data": {
      "text/html": [
       "<div><style>\n",
       ".dataframe > thead > tr > th,\n",
       ".dataframe > tbody > tr > td {\n",
       "  text-align: right;\n",
       "}\n",
       "</style>\n",
       "<small>shape: (100_000, 16)</small><table border=\"1\" class=\"dataframe\"><thead><tr><th>Age</th><th>Annual_Income</th><th>Monthly_Inhand_Salary</th><th>Num_Bank_Accounts</th><th>Num_Credit_Card</th><th>Interest_Rate</th><th>Num_of_Loan</th><th>Delay_from_due_date</th><th>Num_of_Delayed_Payment</th><th>Changed_Credit_Limit</th><th>Num_Credit_Inquiries</th><th>Outstanding_Debt</th><th>Credit_Utilization_Ratio</th><th>Total_EMI_per_month</th><th>Amount_invested_monthly</th><th>Monthly_Balance</th></tr><tr><td>i64</td><td>f64</td><td>f64</td><td>i64</td><td>i64</td><td>i64</td><td>i64</td><td>i64</td><td>f64</td><td>f64</td><td>f64</td><td>f64</td><td>f64</td><td>f64</td><td>f64</td><td>f64</td></tr></thead><tbody><tr><td>23</td><td>19114.12</td><td>1824.843333</td><td>3</td><td>4</td><td>3</td><td>4</td><td>3</td><td>7.0</td><td>11.27</td><td>4.0</td><td>809.98</td><td>26.82262</td><td>49.574949</td><td>80.415295</td><td>312.494089</td></tr><tr><td>23</td><td>19114.12</td><td>null</td><td>3</td><td>4</td><td>3</td><td>4</td><td>-1</td><td>null</td><td>11.27</td><td>4.0</td><td>809.98</td><td>31.94496</td><td>49.574949</td><td>118.280222</td><td>284.629162</td></tr><tr><td>-500</td><td>19114.12</td><td>null</td><td>3</td><td>4</td><td>3</td><td>4</td><td>3</td><td>7.0</td><td>null</td><td>4.0</td><td>809.98</td><td>28.609352</td><td>49.574949</td><td>81.699521</td><td>331.209863</td></tr><tr><td>23</td><td>19114.12</td><td>null</td><td>3</td><td>4</td><td>3</td><td>4</td><td>5</td><td>4.0</td><td>6.27</td><td>4.0</td><td>809.98</td><td>31.377862</td><td>49.574949</td><td>199.458074</td><td>223.45131</td></tr><tr><td>23</td><td>19114.12</td><td>1824.843333</td><td>3</td><td>4</td><td>3</td><td>4</td><td>6</td><td>null</td><td>11.27</td><td>4.0</td><td>809.98</td><td>24.797347</td><td>49.574949</td><td>41.420153</td><td>341.489231</td></tr><tr><td>23</td><td>19114.12</td><td>null</td><td>3</td><td>4</td><td>3</td><td>4</td><td>8</td><td>4.0</td><td>9.27</td><td>4.0</td><td>809.98</td><td>27.262259</td><td>49.574949</td><td>62.430172</td><td>340.479212</td></tr><tr><td>23</td><td>19114.12</td><td>1824.843333</td><td>3</td><td>4</td><td>3</td><td>4</td><td>3</td><td>8.0</td><td>11.27</td><td>4.0</td><td>809.98</td><td>22.537593</td><td>49.574949</td><td>178.344067</td><td>244.565317</td></tr><tr><td>23</td><td>19114.12</td><td>1824.843333</td><td>3</td><td>4</td><td>3</td><td>4</td><td>3</td><td>6.0</td><td>11.27</td><td>4.0</td><td>809.98</td><td>23.933795</td><td>49.574949</td><td>24.785217</td><td>358.124168</td></tr><tr><td>28</td><td>34847.84</td><td>3037.986667</td><td>2</td><td>4</td><td>6</td><td>1</td><td>3</td><td>4.0</td><td>5.42</td><td>2.0</td><td>605.03</td><td>24.464031</td><td>18.816215</td><td>104.291825</td><td>470.690627</td></tr><tr><td>28</td><td>34847.84</td><td>3037.986667</td><td>2</td><td>4</td><td>6</td><td>1</td><td>7</td><td>1.0</td><td>7.42</td><td>2.0</td><td>605.03</td><td>38.550848</td><td>18.816215</td><td>40.391238</td><td>484.591214</td></tr><tr><td>28</td><td>34847.84</td><td>3037.986667</td><td>2</td><td>1385</td><td>6</td><td>1</td><td>3</td><td>-1.0</td><td>5.42</td><td>2.0</td><td>605.03</td><td>33.224951</td><td>18.816215</td><td>58.515976</td><td>466.466476</td></tr><tr><td>28</td><td>34847.84</td><td>null</td><td>2</td><td>4</td><td>6</td><td>1</td><td>3</td><td>3.0</td><td>5.42</td><td>2.0</td><td>605.03</td><td>39.182656</td><td>18.816215</td><td>99.306228</td><td>465.676224</td></tr><tr><td>&hellip;</td><td>&hellip;</td><td>&hellip;</td><td>&hellip;</td><td>&hellip;</td><td>&hellip;</td><td>&hellip;</td><td>&hellip;</td><td>&hellip;</td><td>&hellip;</td><td>&hellip;</td><td>&hellip;</td><td>&hellip;</td><td>&hellip;</td><td>&hellip;</td><td>&hellip;</td></tr><tr><td>28</td><td>20002.88</td><td>1929.906667</td><td>10</td><td>8</td><td>29</td><td>5</td><td>33</td><td>25.0</td><td>18.31</td><td>9.0</td><td>3571.7</td><td>28.50825</td><td>60.964772</td><td>213.97801</td><td>208.047884</td></tr><tr><td>28</td><td>20002.88</td><td>1929.906667</td><td>10</td><td>8</td><td>29</td><td>5</td><td>33</td><td>25.0</td><td>16.31</td><td>9.0</td><td>3571.7</td><td>33.359987</td><td>60.964772</td><td>74.366603</td><td>307.659291</td></tr><tr><td>28</td><td>20002.88</td><td>1929.906667</td><td>10</td><td>8</td><td>29</td><td>5</td><td>33</td><td>26.0</td><td>18.31</td><td>9.0</td><td>3571.7</td><td>25.123535</td><td>60.964772</td><td>173.275503</td><td>228.750392</td></tr><tr><td>29</td><td>20002.88</td><td>1929.906667</td><td>10</td><td>8</td><td>29</td><td>5</td><td>33</td><td>25.0</td><td>18.31</td><td>9.0</td><td>3571.7</td><td>37.140784</td><td>60.964772</td><td>34.662906</td><td>337.362988</td></tr><tr><td>24</td><td>39628.99</td><td>3359.415833</td><td>4</td><td>6</td><td>7</td><td>2</td><td>23</td><td>null</td><td>9.5</td><td>3.0</td><td>502.38</td><td>32.991333</td><td>35.104023</td><td>401.196481</td><td>189.64108</td></tr><tr><td>25</td><td>39628.99</td><td>3359.415833</td><td>4</td><td>6</td><td>7</td><td>2</td><td>23</td><td>null</td><td>11.5</td><td>3.0</td><td>502.38</td><td>29.135447</td><td>58638.0</td><td>180.733095</td><td>400.104466</td></tr><tr><td>25</td><td>39628.99</td><td>3359.415833</td><td>4</td><td>6</td><td>7</td><td>2</td><td>20</td><td>6.0</td><td>9.5</td><td>3.0</td><td>502.38</td><td>39.323569</td><td>35.104023</td><td>140.581403</td><td>410.256158</td></tr><tr><td>25</td><td>39628.99</td><td>3359.415833</td><td>4</td><td>6</td><td>7</td><td>2</td><td>23</td><td>7.0</td><td>11.5</td><td>3.0</td><td>502.38</td><td>34.663572</td><td>35.104023</td><td>60.971333</td><td>479.866228</td></tr><tr><td>25</td><td>39628.99</td><td>3359.415833</td><td>4</td><td>6</td><td>7</td><td>2</td><td>18</td><td>7.0</td><td>11.5</td><td>3.0</td><td>502.38</td><td>40.565631</td><td>35.104023</td><td>54.18595</td><td>496.65161</td></tr><tr><td>25</td><td>39628.99</td><td>3359.415833</td><td>4</td><td>6</td><td>5729</td><td>2</td><td>27</td><td>6.0</td><td>11.5</td><td>3.0</td><td>502.38</td><td>41.255522</td><td>35.104023</td><td>24.028477</td><td>516.809083</td></tr><tr><td>25</td><td>39628.99</td><td>3359.415833</td><td>4</td><td>6</td><td>7</td><td>2</td><td>20</td><td>null</td><td>11.5</td><td>3.0</td><td>502.38</td><td>33.638208</td><td>35.104023</td><td>251.672582</td><td>319.164979</td></tr><tr><td>25</td><td>39628.99</td><td>3359.415833</td><td>4</td><td>6</td><td>7</td><td>2</td><td>18</td><td>6.0</td><td>11.5</td><td>3.0</td><td>502.38</td><td>34.192463</td><td>35.104023</td><td>167.163865</td><td>393.673696</td></tr></tbody></table></div>"
      ],
      "text/plain": [
       "shape: (100_000, 16)\n",
       "┌──────┬────────────┬────────────┬────────────┬───┬────────────┬───────────┬───────────┬───────────┐\n",
       "│ Age  ┆ Annual_Inc ┆ Monthly_In ┆ Num_Bank_A ┆ … ┆ Credit_Uti ┆ Total_EMI ┆ Amount_in ┆ Monthly_B │\n",
       "│ ---  ┆ ome        ┆ hand_Salar ┆ ccounts    ┆   ┆ lization_R ┆ _per_mont ┆ vested_mo ┆ alance    │\n",
       "│ i64  ┆ ---        ┆ y          ┆ ---        ┆   ┆ atio       ┆ h         ┆ nthly     ┆ ---       │\n",
       "│      ┆ f64        ┆ ---        ┆ i64        ┆   ┆ ---        ┆ ---       ┆ ---       ┆ f64       │\n",
       "│      ┆            ┆ f64        ┆            ┆   ┆ f64        ┆ f64       ┆ f64       ┆           │\n",
       "╞══════╪════════════╪════════════╪════════════╪═══╪════════════╪═══════════╪═══════════╪═══════════╡\n",
       "│ 23   ┆ 19114.12   ┆ 1824.84333 ┆ 3          ┆ … ┆ 26.82262   ┆ 49.574949 ┆ 80.415295 ┆ 312.49408 │\n",
       "│      ┆            ┆ 3          ┆            ┆   ┆            ┆           ┆           ┆ 9         │\n",
       "│ 23   ┆ 19114.12   ┆ null       ┆ 3          ┆ … ┆ 31.94496   ┆ 49.574949 ┆ 118.28022 ┆ 284.62916 │\n",
       "│      ┆            ┆            ┆            ┆   ┆            ┆           ┆ 2         ┆ 2         │\n",
       "│ -500 ┆ 19114.12   ┆ null       ┆ 3          ┆ … ┆ 28.609352  ┆ 49.574949 ┆ 81.699521 ┆ 331.20986 │\n",
       "│      ┆            ┆            ┆            ┆   ┆            ┆           ┆           ┆ 3         │\n",
       "│ 23   ┆ 19114.12   ┆ null       ┆ 3          ┆ … ┆ 31.377862  ┆ 49.574949 ┆ 199.45807 ┆ 223.45131 │\n",
       "│      ┆            ┆            ┆            ┆   ┆            ┆           ┆ 4         ┆           │\n",
       "│ …    ┆ …          ┆ …          ┆ …          ┆ … ┆ …          ┆ …         ┆ …         ┆ …         │\n",
       "│ 25   ┆ 39628.99   ┆ 3359.41583 ┆ 4          ┆ … ┆ 40.565631  ┆ 35.104023 ┆ 54.18595  ┆ 496.65161 │\n",
       "│      ┆            ┆ 3          ┆            ┆   ┆            ┆           ┆           ┆           │\n",
       "│ 25   ┆ 39628.99   ┆ 3359.41583 ┆ 4          ┆ … ┆ 41.255522  ┆ 35.104023 ┆ 24.028477 ┆ 516.80908 │\n",
       "│      ┆            ┆ 3          ┆            ┆   ┆            ┆           ┆           ┆ 3         │\n",
       "│ 25   ┆ 39628.99   ┆ 3359.41583 ┆ 4          ┆ … ┆ 33.638208  ┆ 35.104023 ┆ 251.67258 ┆ 319.16497 │\n",
       "│      ┆            ┆ 3          ┆            ┆   ┆            ┆           ┆ 2         ┆ 9         │\n",
       "│ 25   ┆ 39628.99   ┆ 3359.41583 ┆ 4          ┆ … ┆ 34.192463  ┆ 35.104023 ┆ 167.16386 ┆ 393.67369 │\n",
       "│      ┆            ┆ 3          ┆            ┆   ┆            ┆           ┆ 5         ┆ 6         │\n",
       "└──────┴────────────┴────────────┴────────────┴───┴────────────┴───────────┴───────────┴───────────┘"
      ]
     },
     "execution_count": 3,
     "metadata": {},
     "output_type": "execute_result"
    }
   ],
   "source": [
    "out = (df\n",
    "       .select(pl.col(\"*\")\n",
    "       .exclude(string))\n",
    "       )\n",
    "out"
   ]
  },
  {
   "cell_type": "code",
   "execution_count": 4,
   "id": "54425068",
   "metadata": {},
   "outputs": [
    {
     "name": "stderr",
     "output_type": "stream",
     "text": [
      "/opt/conda/lib/python3.11/site-packages/polars/series/series.py:1113: RuntimeWarning: invalid value encountered in log\n",
      "  series = f(lambda out: ufunc(*args, out=out, dtype=dtype_char, **kwargs))\n",
      "/opt/conda/lib/python3.11/site-packages/polars/series/series.py:1113: RuntimeWarning: divide by zero encountered in log\n",
      "  series = f(lambda out: ufunc(*args, out=out, dtype=dtype_char, **kwargs))\n"
     ]
    },
    {
     "data": {
      "text/html": [
       "<div><style>\n",
       ".dataframe > thead > tr > th,\n",
       ".dataframe > tbody > tr > td {\n",
       "  text-align: right;\n",
       "}\n",
       "</style>\n",
       "<small>shape: (100_000, 16)</small><table border=\"1\" class=\"dataframe\"><thead><tr><th>Age_log</th><th>Annual_Income_log</th><th>Monthly_Inhand_Salary_log</th><th>Num_Bank_Accounts_log</th><th>Num_Credit_Card_log</th><th>Interest_Rate_log</th><th>Num_of_Loan_log</th><th>Delay_from_due_date_log</th><th>Num_of_Delayed_Payment_log</th><th>Changed_Credit_Limit_log</th><th>Num_Credit_Inquiries_log</th><th>Outstanding_Debt_log</th><th>Credit_Utilization_Ratio_log</th><th>Total_EMI_per_month_log</th><th>Amount_invested_monthly_log</th><th>Monthly_Balance_log</th></tr><tr><td>f64</td><td>f64</td><td>f64</td><td>f64</td><td>f64</td><td>f64</td><td>f64</td><td>f64</td><td>f64</td><td>f64</td><td>f64</td><td>f64</td><td>f64</td><td>f64</td><td>f64</td><td>f64</td></tr></thead><tbody><tr><td>3.135494</td><td>9.858183</td><td>7.509249</td><td>1.098612</td><td>1.386294</td><td>1.098612</td><td>1.386294</td><td>1.098612</td><td>1.94591</td><td>2.422144</td><td>1.386294</td><td>6.69701</td><td>3.289246</td><td>3.903486</td><td>4.387204</td><td>5.744586</td></tr><tr><td>3.135494</td><td>9.858183</td><td>null</td><td>1.098612</td><td>1.386294</td><td>1.098612</td><td>1.386294</td><td>NaN</td><td>null</td><td>2.422144</td><td>1.386294</td><td>6.69701</td><td>3.464014</td><td>3.903486</td><td>4.773057</td><td>5.651187</td></tr><tr><td>NaN</td><td>9.858183</td><td>null</td><td>1.098612</td><td>1.386294</td><td>1.098612</td><td>1.386294</td><td>1.098612</td><td>1.94591</td><td>null</td><td>1.386294</td><td>6.69701</td><td>3.353734</td><td>3.903486</td><td>4.403048</td><td>5.802752</td></tr><tr><td>3.135494</td><td>9.858183</td><td>null</td><td>1.098612</td><td>1.386294</td><td>1.098612</td><td>1.386294</td><td>1.609438</td><td>1.386294</td><td>1.835776</td><td>1.386294</td><td>6.69701</td><td>3.446103</td><td>3.903486</td><td>5.295604</td><td>5.409194</td></tr><tr><td>3.135494</td><td>9.858183</td><td>7.509249</td><td>1.098612</td><td>1.386294</td><td>1.098612</td><td>1.386294</td><td>1.791759</td><td>null</td><td>2.422144</td><td>1.386294</td><td>6.69701</td><td>3.210737</td><td>3.903486</td><td>3.723768</td><td>5.833316</td></tr><tr><td>3.135494</td><td>9.858183</td><td>null</td><td>1.098612</td><td>1.386294</td><td>1.098612</td><td>1.386294</td><td>2.079442</td><td>1.386294</td><td>2.226783</td><td>1.386294</td><td>6.69701</td><td>3.305503</td><td>3.903486</td><td>4.134049</td><td>5.830354</td></tr><tr><td>3.135494</td><td>9.858183</td><td>7.509249</td><td>1.098612</td><td>1.386294</td><td>1.098612</td><td>1.386294</td><td>1.098612</td><td>2.079442</td><td>2.422144</td><td>1.386294</td><td>6.69701</td><td>3.115185</td><td>3.903486</td><td>5.183715</td><td>5.499482</td></tr><tr><td>3.135494</td><td>9.858183</td><td>7.509249</td><td>1.098612</td><td>1.386294</td><td>1.098612</td><td>1.386294</td><td>1.098612</td><td>1.791759</td><td>2.422144</td><td>1.386294</td><td>6.69701</td><td>3.175291</td><td>3.903486</td><td>3.210247</td><td>5.88088</td></tr><tr><td>3.332205</td><td>10.458746</td><td>8.01895</td><td>0.693147</td><td>1.386294</td><td>1.791759</td><td>0.0</td><td>1.098612</td><td>1.386294</td><td>1.690096</td><td>0.693147</td><td>6.405278</td><td>3.197204</td><td>2.934719</td><td>4.647193</td><td>6.154201</td></tr><tr><td>3.332205</td><td>10.458746</td><td>8.01895</td><td>0.693147</td><td>1.386294</td><td>1.791759</td><td>0.0</td><td>1.94591</td><td>0.0</td><td>2.004179</td><td>0.693147</td><td>6.405278</td><td>3.651978</td><td>2.934719</td><td>3.698613</td><td>6.183306</td></tr><tr><td>3.332205</td><td>10.458746</td><td>8.01895</td><td>0.693147</td><td>7.233455</td><td>1.791759</td><td>0.0</td><td>1.098612</td><td>NaN</td><td>1.690096</td><td>0.693147</td><td>6.405278</td><td>3.503301</td><td>2.934719</td><td>4.0693</td><td>6.145186</td></tr><tr><td>3.332205</td><td>10.458746</td><td>null</td><td>0.693147</td><td>1.386294</td><td>1.791759</td><td>0.0</td><td>1.098612</td><td>1.098612</td><td>1.690096</td><td>0.693147</td><td>6.405278</td><td>3.668234</td><td>2.934719</td><td>4.598208</td><td>6.143491</td></tr><tr><td>&hellip;</td><td>&hellip;</td><td>&hellip;</td><td>&hellip;</td><td>&hellip;</td><td>&hellip;</td><td>&hellip;</td><td>&hellip;</td><td>&hellip;</td><td>&hellip;</td><td>&hellip;</td><td>&hellip;</td><td>&hellip;</td><td>&hellip;</td><td>&hellip;</td><td>&hellip;</td></tr><tr><td>3.332205</td><td>9.903632</td><td>7.565227</td><td>2.302585</td><td>2.079442</td><td>3.367296</td><td>1.609438</td><td>3.496508</td><td>3.218876</td><td>2.907447</td><td>2.197225</td><td>8.180797</td><td>3.350194</td><td>4.110296</td><td>5.365873</td><td>5.337768</td></tr><tr><td>3.332205</td><td>9.903632</td><td>7.565227</td><td>2.302585</td><td>2.079442</td><td>3.367296</td><td>1.609438</td><td>3.496508</td><td>3.218876</td><td>2.791778</td><td>2.197225</td><td>8.180797</td><td>3.507357</td><td>4.110296</td><td>4.309007</td><td>5.728993</td></tr><tr><td>3.332205</td><td>9.903632</td><td>7.565227</td><td>2.302585</td><td>2.079442</td><td>3.367296</td><td>1.609438</td><td>3.496508</td><td>3.258097</td><td>2.907447</td><td>2.197225</td><td>8.180797</td><td>3.223805</td><td>4.110296</td><td>5.154883</td><td>5.432631</td></tr><tr><td>3.367296</td><td>9.903632</td><td>7.565227</td><td>2.302585</td><td>2.079442</td><td>3.367296</td><td>1.609438</td><td>3.496508</td><td>3.218876</td><td>2.907447</td><td>2.197225</td><td>8.180797</td><td>3.614716</td><td>4.110296</td><td>3.54567</td><td>5.821159</td></tr><tr><td>3.178054</td><td>10.587316</td><td>8.119522</td><td>1.386294</td><td>1.791759</td><td>1.94591</td><td>0.693147</td><td>3.135494</td><td>null</td><td>2.251292</td><td>1.098612</td><td>6.219357</td><td>3.496245</td><td>3.558316</td><td>5.994451</td><td>5.245133</td></tr><tr><td>3.218876</td><td>10.587316</td><td>8.119522</td><td>1.386294</td><td>1.791759</td><td>1.94591</td><td>0.693147</td><td>3.135494</td><td>null</td><td>2.442347</td><td>1.098612</td><td>6.219357</td><td>3.371956</td><td>10.979138</td><td>5.197021</td><td>5.991726</td></tr><tr><td>3.218876</td><td>10.587316</td><td>8.119522</td><td>1.386294</td><td>1.791759</td><td>1.94591</td><td>0.693147</td><td>2.995732</td><td>1.791759</td><td>2.251292</td><td>1.098612</td><td>6.219357</td><td>3.671824</td><td>3.558316</td><td>4.945787</td><td>6.016782</td></tr><tr><td>3.218876</td><td>10.587316</td><td>8.119522</td><td>1.386294</td><td>1.791759</td><td>1.94591</td><td>0.693147</td><td>3.135494</td><td>1.94591</td><td>2.442347</td><td>1.098612</td><td>6.219357</td><td>3.545689</td><td>3.558316</td><td>4.110404</td><td>6.173507</td></tr><tr><td>3.218876</td><td>10.587316</td><td>8.119522</td><td>1.386294</td><td>1.791759</td><td>1.94591</td><td>0.693147</td><td>2.890372</td><td>1.94591</td><td>2.442347</td><td>1.098612</td><td>6.219357</td><td>3.702921</td><td>3.558316</td><td>3.992422</td><td>6.207889</td></tr><tr><td>3.218876</td><td>10.587316</td><td>8.119522</td><td>1.386294</td><td>1.791759</td><td>8.653296</td><td>0.693147</td><td>3.295837</td><td>1.791759</td><td>2.442347</td><td>1.098612</td><td>6.219357</td><td>3.719785</td><td>3.558316</td><td>3.17924</td><td>6.247674</td></tr><tr><td>3.218876</td><td>10.587316</td><td>8.119522</td><td>1.386294</td><td>1.791759</td><td>1.94591</td><td>0.693147</td><td>2.995732</td><td>null</td><td>2.442347</td><td>1.098612</td><td>6.219357</td><td>3.515663</td><td>3.558316</td><td>5.528129</td><td>5.765708</td></tr><tr><td>3.218876</td><td>10.587316</td><td>8.119522</td><td>1.386294</td><td>1.791759</td><td>1.94591</td><td>0.693147</td><td>2.890372</td><td>1.791759</td><td>2.442347</td><td>1.098612</td><td>6.219357</td><td>3.532005</td><td>3.558316</td><td>5.118975</td><td>5.975522</td></tr></tbody></table></div>"
      ],
      "text/plain": [
       "shape: (100_000, 16)\n",
       "┌──────────┬───────────┬───────────┬───────────┬───┬───────────┬───────────┬───────────┬───────────┐\n",
       "│ Age_log  ┆ Annual_In ┆ Monthly_I ┆ Num_Bank_ ┆ … ┆ Credit_Ut ┆ Total_EMI ┆ Amount_in ┆ Monthly_B │\n",
       "│ ---      ┆ come_log  ┆ nhand_Sal ┆ Accounts_ ┆   ┆ ilization ┆ _per_mont ┆ vested_mo ┆ alance_lo │\n",
       "│ f64      ┆ ---       ┆ ary_log   ┆ log       ┆   ┆ _Ratio_lo ┆ h_log     ┆ nthly_log ┆ g         │\n",
       "│          ┆ f64       ┆ ---       ┆ ---       ┆   ┆ g         ┆ ---       ┆ ---       ┆ ---       │\n",
       "│          ┆           ┆ f64       ┆ f64       ┆   ┆ ---       ┆ f64       ┆ f64       ┆ f64       │\n",
       "│          ┆           ┆           ┆           ┆   ┆ f64       ┆           ┆           ┆           │\n",
       "╞══════════╪═══════════╪═══════════╪═══════════╪═══╪═══════════╪═══════════╪═══════════╪═══════════╡\n",
       "│ 3.135494 ┆ 9.858183  ┆ 7.509249  ┆ 1.098612  ┆ … ┆ 3.289246  ┆ 3.903486  ┆ 4.387204  ┆ 5.744586  │\n",
       "│ 3.135494 ┆ 9.858183  ┆ null      ┆ 1.098612  ┆ … ┆ 3.464014  ┆ 3.903486  ┆ 4.773057  ┆ 5.651187  │\n",
       "│ NaN      ┆ 9.858183  ┆ null      ┆ 1.098612  ┆ … ┆ 3.353734  ┆ 3.903486  ┆ 4.403048  ┆ 5.802752  │\n",
       "│ 3.135494 ┆ 9.858183  ┆ null      ┆ 1.098612  ┆ … ┆ 3.446103  ┆ 3.903486  ┆ 5.295604  ┆ 5.409194  │\n",
       "│ …        ┆ …         ┆ …         ┆ …         ┆ … ┆ …         ┆ …         ┆ …         ┆ …         │\n",
       "│ 3.218876 ┆ 10.587316 ┆ 8.119522  ┆ 1.386294  ┆ … ┆ 3.702921  ┆ 3.558316  ┆ 3.992422  ┆ 6.207889  │\n",
       "│ 3.218876 ┆ 10.587316 ┆ 8.119522  ┆ 1.386294  ┆ … ┆ 3.719785  ┆ 3.558316  ┆ 3.17924   ┆ 6.247674  │\n",
       "│ 3.218876 ┆ 10.587316 ┆ 8.119522  ┆ 1.386294  ┆ … ┆ 3.515663  ┆ 3.558316  ┆ 5.528129  ┆ 5.765708  │\n",
       "│ 3.218876 ┆ 10.587316 ┆ 8.119522  ┆ 1.386294  ┆ … ┆ 3.532005  ┆ 3.558316  ┆ 5.118975  ┆ 5.975522  │\n",
       "└──────────┴───────────┴───────────┴───────────┴───┴───────────┴───────────┴───────────┴───────────┘"
      ]
     },
     "execution_count": 4,
     "metadata": {},
     "output_type": "execute_result"
    }
   ],
   "source": [
    "out = ( df\n",
    "       .select(\n",
    "        np.log(pl.all().exclude(string))\n",
    "        .suffix(\"_log\"))\n",
    "      )\n",
    "out    "
   ]
  },
  {
   "cell_type": "code",
   "execution_count": 5,
   "id": "6a4ae4bf",
   "metadata": {},
   "outputs": [
    {
     "data": {
      "text/html": [
       "<div><style>\n",
       ".dataframe > thead > tr > th,\n",
       ".dataframe > tbody > tr > td {\n",
       "  text-align: right;\n",
       "}\n",
       "</style>\n",
       "<small>shape: (100_000, 5)</small><table border=\"1\" class=\"dataframe\"><thead><tr><th>ID</th><th>Customer_ID</th><th>Annual_Income + Mean</th><th>Annual_Income - Mean</th><th>Lit 1</th></tr><tr><td>str</td><td>str</td><td>f64</td><td>f64</td><td>i32</td></tr></thead><tbody><tr><td>&quot;0x1602&quot;</td><td>&quot;CUS_0xd40&quot;</td><td>195529.821298</td><td>-157301.581298</td><td>1</td></tr><tr><td>&quot;0x1603&quot;</td><td>&quot;CUS_0xd40&quot;</td><td>195529.821298</td><td>-157301.581298</td><td>1</td></tr><tr><td>&quot;0x1604&quot;</td><td>&quot;CUS_0xd40&quot;</td><td>195529.821298</td><td>-157301.581298</td><td>1</td></tr><tr><td>&quot;0x1605&quot;</td><td>&quot;CUS_0xd40&quot;</td><td>195529.821298</td><td>-157301.581298</td><td>1</td></tr><tr><td>&quot;0x1606&quot;</td><td>&quot;CUS_0xd40&quot;</td><td>195529.821298</td><td>-157301.581298</td><td>1</td></tr><tr><td>&quot;0x1607&quot;</td><td>&quot;CUS_0xd40&quot;</td><td>195529.821298</td><td>-157301.581298</td><td>1</td></tr><tr><td>&quot;0x1608&quot;</td><td>&quot;CUS_0xd40&quot;</td><td>195529.821298</td><td>-157301.581298</td><td>1</td></tr><tr><td>&quot;0x1609&quot;</td><td>&quot;CUS_0xd40&quot;</td><td>195529.821298</td><td>-157301.581298</td><td>1</td></tr><tr><td>&quot;0x160e&quot;</td><td>&quot;CUS_0x21b1&quot;</td><td>211263.541298</td><td>-141567.861298</td><td>1</td></tr><tr><td>&quot;0x160f&quot;</td><td>&quot;CUS_0x21b1&quot;</td><td>211263.541298</td><td>-141567.861298</td><td>1</td></tr><tr><td>&quot;0x1610&quot;</td><td>&quot;CUS_0x21b1&quot;</td><td>211263.541298</td><td>-141567.861298</td><td>1</td></tr><tr><td>&quot;0x1611&quot;</td><td>&quot;CUS_0x21b1&quot;</td><td>211263.541298</td><td>-141567.861298</td><td>1</td></tr><tr><td>&hellip;</td><td>&hellip;</td><td>&hellip;</td><td>&hellip;</td><td>&hellip;</td></tr><tr><td>&quot;0x25fde&quot;</td><td>&quot;CUS_0x8600&quot;</td><td>196418.581298</td><td>-156412.821298</td><td>1</td></tr><tr><td>&quot;0x25fdf&quot;</td><td>&quot;CUS_0x8600&quot;</td><td>196418.581298</td><td>-156412.821298</td><td>1</td></tr><tr><td>&quot;0x25fe0&quot;</td><td>&quot;CUS_0x8600&quot;</td><td>196418.581298</td><td>-156412.821298</td><td>1</td></tr><tr><td>&quot;0x25fe1&quot;</td><td>&quot;CUS_0x8600&quot;</td><td>196418.581298</td><td>-156412.821298</td><td>1</td></tr><tr><td>&quot;0x25fe6&quot;</td><td>&quot;CUS_0x942c&quot;</td><td>216044.691298</td><td>-136786.711298</td><td>1</td></tr><tr><td>&quot;0x25fe7&quot;</td><td>&quot;CUS_0x942c&quot;</td><td>216044.691298</td><td>-136786.711298</td><td>1</td></tr><tr><td>&quot;0x25fe8&quot;</td><td>&quot;CUS_0x942c&quot;</td><td>216044.691298</td><td>-136786.711298</td><td>1</td></tr><tr><td>&quot;0x25fe9&quot;</td><td>&quot;CUS_0x942c&quot;</td><td>216044.691298</td><td>-136786.711298</td><td>1</td></tr><tr><td>&quot;0x25fea&quot;</td><td>&quot;CUS_0x942c&quot;</td><td>216044.691298</td><td>-136786.711298</td><td>1</td></tr><tr><td>&quot;0x25feb&quot;</td><td>&quot;CUS_0x942c&quot;</td><td>216044.691298</td><td>-136786.711298</td><td>1</td></tr><tr><td>&quot;0x25fec&quot;</td><td>&quot;CUS_0x942c&quot;</td><td>216044.691298</td><td>-136786.711298</td><td>1</td></tr><tr><td>&quot;0x25fed&quot;</td><td>&quot;CUS_0x942c&quot;</td><td>216044.691298</td><td>-136786.711298</td><td>1</td></tr></tbody></table></div>"
      ],
      "text/plain": [
       "shape: (100_000, 5)\n",
       "┌─────────┬─────────────┬──────────────────────┬──────────────────────┬───────┐\n",
       "│ ID      ┆ Customer_ID ┆ Annual_Income + Mean ┆ Annual_Income - Mean ┆ Lit 1 │\n",
       "│ ---     ┆ ---         ┆ ---                  ┆ ---                  ┆ ---   │\n",
       "│ str     ┆ str         ┆ f64                  ┆ f64                  ┆ i32   │\n",
       "╞═════════╪═════════════╪══════════════════════╪══════════════════════╪═══════╡\n",
       "│ 0x1602  ┆ CUS_0xd40   ┆ 195529.821298        ┆ -157301.581298       ┆ 1     │\n",
       "│ 0x1603  ┆ CUS_0xd40   ┆ 195529.821298        ┆ -157301.581298       ┆ 1     │\n",
       "│ 0x1604  ┆ CUS_0xd40   ┆ 195529.821298        ┆ -157301.581298       ┆ 1     │\n",
       "│ 0x1605  ┆ CUS_0xd40   ┆ 195529.821298        ┆ -157301.581298       ┆ 1     │\n",
       "│ …       ┆ …           ┆ …                    ┆ …                    ┆ …     │\n",
       "│ 0x25fea ┆ CUS_0x942c  ┆ 216044.691298        ┆ -136786.711298       ┆ 1     │\n",
       "│ 0x25feb ┆ CUS_0x942c  ┆ 216044.691298        ┆ -136786.711298       ┆ 1     │\n",
       "│ 0x25fec ┆ CUS_0x942c  ┆ 216044.691298        ┆ -136786.711298       ┆ 1     │\n",
       "│ 0x25fed ┆ CUS_0x942c  ┆ 216044.691298        ┆ -136786.711298       ┆ 1     │\n",
       "└─────────┴─────────────┴──────────────────────┴──────────────────────┴───────┘"
      ]
     },
     "execution_count": 5,
     "metadata": {},
     "output_type": "execute_result"
    }
   ],
   "source": [
    "out = (df\n",
    "       .select(\"ID\", \"Customer_ID\", \n",
    "        (pl.col(\"Annual_Income\") + pl.mean(\"Annual_Income\")).alias(\"Annual_Income + Mean\"),\n",
    "        (pl.col(\"Annual_Income\") - pl.mean(\"Annual_Income\")).alias(\"Annual_Income - Mean\")\n",
    "        )\n",
    "        .with_columns(pl.lit(1).alias(\"Lit 1\"))\n",
    "      )\n",
    "\n",
    "out"
   ]
  },
  {
   "cell_type": "code",
   "execution_count": 6,
   "id": "b1a868c4",
   "metadata": {},
   "outputs": [
    {
     "data": {
      "text/html": [
       "<div>\n",
       "<style scoped>\n",
       "    .dataframe tbody tr th:only-of-type {\n",
       "        vertical-align: middle;\n",
       "    }\n",
       "\n",
       "    .dataframe tbody tr th {\n",
       "        vertical-align: top;\n",
       "    }\n",
       "\n",
       "    .dataframe thead th {\n",
       "        text-align: right;\n",
       "    }\n",
       "</style>\n",
       "<table border=\"1\" class=\"dataframe\">\n",
       "  <thead>\n",
       "    <tr style=\"text-align: right;\">\n",
       "      <th></th>\n",
       "      <th>ID</th>\n",
       "      <th>Customer_ID</th>\n",
       "      <th>Annual_Income + Mean</th>\n",
       "      <th>Annual_Income - Mean</th>\n",
       "      <th>Lit 1</th>\n",
       "    </tr>\n",
       "  </thead>\n",
       "  <tbody>\n",
       "    <tr>\n",
       "      <th>0</th>\n",
       "      <td>0x1602</td>\n",
       "      <td>CUS_0xd40</td>\n",
       "      <td>195529.821298</td>\n",
       "      <td>-157301.581298</td>\n",
       "      <td>1</td>\n",
       "    </tr>\n",
       "    <tr>\n",
       "      <th>1</th>\n",
       "      <td>0x1603</td>\n",
       "      <td>CUS_0xd40</td>\n",
       "      <td>195529.821298</td>\n",
       "      <td>-157301.581298</td>\n",
       "      <td>1</td>\n",
       "    </tr>\n",
       "    <tr>\n",
       "      <th>2</th>\n",
       "      <td>0x1604</td>\n",
       "      <td>CUS_0xd40</td>\n",
       "      <td>195529.821298</td>\n",
       "      <td>-157301.581298</td>\n",
       "      <td>1</td>\n",
       "    </tr>\n",
       "    <tr>\n",
       "      <th>3</th>\n",
       "      <td>0x1605</td>\n",
       "      <td>CUS_0xd40</td>\n",
       "      <td>195529.821298</td>\n",
       "      <td>-157301.581298</td>\n",
       "      <td>1</td>\n",
       "    </tr>\n",
       "    <tr>\n",
       "      <th>4</th>\n",
       "      <td>0x1606</td>\n",
       "      <td>CUS_0xd40</td>\n",
       "      <td>195529.821298</td>\n",
       "      <td>-157301.581298</td>\n",
       "      <td>1</td>\n",
       "    </tr>\n",
       "    <tr>\n",
       "      <th>...</th>\n",
       "      <td>...</td>\n",
       "      <td>...</td>\n",
       "      <td>...</td>\n",
       "      <td>...</td>\n",
       "      <td>...</td>\n",
       "    </tr>\n",
       "    <tr>\n",
       "      <th>99995</th>\n",
       "      <td>0x25fe9</td>\n",
       "      <td>CUS_0x942c</td>\n",
       "      <td>216044.691298</td>\n",
       "      <td>-136786.711298</td>\n",
       "      <td>1</td>\n",
       "    </tr>\n",
       "    <tr>\n",
       "      <th>99996</th>\n",
       "      <td>0x25fea</td>\n",
       "      <td>CUS_0x942c</td>\n",
       "      <td>216044.691298</td>\n",
       "      <td>-136786.711298</td>\n",
       "      <td>1</td>\n",
       "    </tr>\n",
       "    <tr>\n",
       "      <th>99997</th>\n",
       "      <td>0x25feb</td>\n",
       "      <td>CUS_0x942c</td>\n",
       "      <td>216044.691298</td>\n",
       "      <td>-136786.711298</td>\n",
       "      <td>1</td>\n",
       "    </tr>\n",
       "    <tr>\n",
       "      <th>99998</th>\n",
       "      <td>0x25fec</td>\n",
       "      <td>CUS_0x942c</td>\n",
       "      <td>216044.691298</td>\n",
       "      <td>-136786.711298</td>\n",
       "      <td>1</td>\n",
       "    </tr>\n",
       "    <tr>\n",
       "      <th>99999</th>\n",
       "      <td>0x25fed</td>\n",
       "      <td>CUS_0x942c</td>\n",
       "      <td>216044.691298</td>\n",
       "      <td>-136786.711298</td>\n",
       "      <td>1</td>\n",
       "    </tr>\n",
       "  </tbody>\n",
       "</table>\n",
       "<p>100000 rows × 5 columns</p>\n",
       "</div>"
      ],
      "text/plain": [
       "            ID Customer_ID  Annual_Income + Mean  Annual_Income - Mean  Lit 1\n",
       "0       0x1602   CUS_0xd40         195529.821298        -157301.581298      1\n",
       "1       0x1603   CUS_0xd40         195529.821298        -157301.581298      1\n",
       "2       0x1604   CUS_0xd40         195529.821298        -157301.581298      1\n",
       "3       0x1605   CUS_0xd40         195529.821298        -157301.581298      1\n",
       "4       0x1606   CUS_0xd40         195529.821298        -157301.581298      1\n",
       "...        ...         ...                   ...                   ...    ...\n",
       "99995  0x25fe9  CUS_0x942c         216044.691298        -136786.711298      1\n",
       "99996  0x25fea  CUS_0x942c         216044.691298        -136786.711298      1\n",
       "99997  0x25feb  CUS_0x942c         216044.691298        -136786.711298      1\n",
       "99998  0x25fec  CUS_0x942c         216044.691298        -136786.711298      1\n",
       "99999  0x25fed  CUS_0x942c         216044.691298        -136786.711298      1\n",
       "\n",
       "[100000 rows x 5 columns]"
      ]
     },
     "metadata": {},
     "output_type": "display_data"
    },
    {
     "data": {
      "text/html": [
       "<div><style>\n",
       ".dataframe > thead > tr > th,\n",
       ".dataframe > tbody > tr > td {\n",
       "  text-align: right;\n",
       "}\n",
       "</style>\n",
       "<small>shape: (100_000, 5)</small><table border=\"1\" class=\"dataframe\"><thead><tr><th>ID</th><th>Customer_ID</th><th>Annual_Income + Mean</th><th>Annual_Income - Mean</th><th>Lit 1</th></tr><tr><td>str</td><td>str</td><td>f64</td><td>f64</td><td>i32</td></tr></thead><tbody><tr><td>&quot;0x1602&quot;</td><td>&quot;CUS_0xd40&quot;</td><td>195529.821298</td><td>-157301.581298</td><td>1</td></tr><tr><td>&quot;0x1603&quot;</td><td>&quot;CUS_0xd40&quot;</td><td>195529.821298</td><td>-157301.581298</td><td>1</td></tr><tr><td>&quot;0x1604&quot;</td><td>&quot;CUS_0xd40&quot;</td><td>195529.821298</td><td>-157301.581298</td><td>1</td></tr><tr><td>&quot;0x1605&quot;</td><td>&quot;CUS_0xd40&quot;</td><td>195529.821298</td><td>-157301.581298</td><td>1</td></tr><tr><td>&quot;0x1606&quot;</td><td>&quot;CUS_0xd40&quot;</td><td>195529.821298</td><td>-157301.581298</td><td>1</td></tr><tr><td>&quot;0x1607&quot;</td><td>&quot;CUS_0xd40&quot;</td><td>195529.821298</td><td>-157301.581298</td><td>1</td></tr><tr><td>&quot;0x1608&quot;</td><td>&quot;CUS_0xd40&quot;</td><td>195529.821298</td><td>-157301.581298</td><td>1</td></tr><tr><td>&quot;0x1609&quot;</td><td>&quot;CUS_0xd40&quot;</td><td>195529.821298</td><td>-157301.581298</td><td>1</td></tr><tr><td>&quot;0x160e&quot;</td><td>&quot;CUS_0x21b1&quot;</td><td>211263.541298</td><td>-141567.861298</td><td>1</td></tr><tr><td>&quot;0x160f&quot;</td><td>&quot;CUS_0x21b1&quot;</td><td>211263.541298</td><td>-141567.861298</td><td>1</td></tr><tr><td>&quot;0x1610&quot;</td><td>&quot;CUS_0x21b1&quot;</td><td>211263.541298</td><td>-141567.861298</td><td>1</td></tr><tr><td>&quot;0x1611&quot;</td><td>&quot;CUS_0x21b1&quot;</td><td>211263.541298</td><td>-141567.861298</td><td>1</td></tr><tr><td>&hellip;</td><td>&hellip;</td><td>&hellip;</td><td>&hellip;</td><td>&hellip;</td></tr><tr><td>&quot;0x25fde&quot;</td><td>&quot;CUS_0x8600&quot;</td><td>196418.581298</td><td>-156412.821298</td><td>1</td></tr><tr><td>&quot;0x25fdf&quot;</td><td>&quot;CUS_0x8600&quot;</td><td>196418.581298</td><td>-156412.821298</td><td>1</td></tr><tr><td>&quot;0x25fe0&quot;</td><td>&quot;CUS_0x8600&quot;</td><td>196418.581298</td><td>-156412.821298</td><td>1</td></tr><tr><td>&quot;0x25fe1&quot;</td><td>&quot;CUS_0x8600&quot;</td><td>196418.581298</td><td>-156412.821298</td><td>1</td></tr><tr><td>&quot;0x25fe6&quot;</td><td>&quot;CUS_0x942c&quot;</td><td>216044.691298</td><td>-136786.711298</td><td>1</td></tr><tr><td>&quot;0x25fe7&quot;</td><td>&quot;CUS_0x942c&quot;</td><td>216044.691298</td><td>-136786.711298</td><td>1</td></tr><tr><td>&quot;0x25fe8&quot;</td><td>&quot;CUS_0x942c&quot;</td><td>216044.691298</td><td>-136786.711298</td><td>1</td></tr><tr><td>&quot;0x25fe9&quot;</td><td>&quot;CUS_0x942c&quot;</td><td>216044.691298</td><td>-136786.711298</td><td>1</td></tr><tr><td>&quot;0x25fea&quot;</td><td>&quot;CUS_0x942c&quot;</td><td>216044.691298</td><td>-136786.711298</td><td>1</td></tr><tr><td>&quot;0x25feb&quot;</td><td>&quot;CUS_0x942c&quot;</td><td>216044.691298</td><td>-136786.711298</td><td>1</td></tr><tr><td>&quot;0x25fec&quot;</td><td>&quot;CUS_0x942c&quot;</td><td>216044.691298</td><td>-136786.711298</td><td>1</td></tr><tr><td>&quot;0x25fed&quot;</td><td>&quot;CUS_0x942c&quot;</td><td>216044.691298</td><td>-136786.711298</td><td>1</td></tr></tbody></table></div>"
      ],
      "text/plain": [
       "shape: (100_000, 5)\n",
       "┌─────────┬─────────────┬──────────────────────┬──────────────────────┬───────┐\n",
       "│ ID      ┆ Customer_ID ┆ Annual_Income + Mean ┆ Annual_Income - Mean ┆ Lit 1 │\n",
       "│ ---     ┆ ---         ┆ ---                  ┆ ---                  ┆ ---   │\n",
       "│ str     ┆ str         ┆ f64                  ┆ f64                  ┆ i32   │\n",
       "╞═════════╪═════════════╪══════════════════════╪══════════════════════╪═══════╡\n",
       "│ 0x1602  ┆ CUS_0xd40   ┆ 195529.821298        ┆ -157301.581298       ┆ 1     │\n",
       "│ 0x1603  ┆ CUS_0xd40   ┆ 195529.821298        ┆ -157301.581298       ┆ 1     │\n",
       "│ 0x1604  ┆ CUS_0xd40   ┆ 195529.821298        ┆ -157301.581298       ┆ 1     │\n",
       "│ 0x1605  ┆ CUS_0xd40   ┆ 195529.821298        ┆ -157301.581298       ┆ 1     │\n",
       "│ …       ┆ …           ┆ …                    ┆ …                    ┆ …     │\n",
       "│ 0x25fea ┆ CUS_0x942c  ┆ 216044.691298        ┆ -136786.711298       ┆ 1     │\n",
       "│ 0x25feb ┆ CUS_0x942c  ┆ 216044.691298        ┆ -136786.711298       ┆ 1     │\n",
       "│ 0x25fec ┆ CUS_0x942c  ┆ 216044.691298        ┆ -136786.711298       ┆ 1     │\n",
       "│ 0x25fed ┆ CUS_0x942c  ┆ 216044.691298        ┆ -136786.711298       ┆ 1     │\n",
       "└─────────┴─────────────┴──────────────────────┴──────────────────────┴───────┘"
      ]
     },
     "execution_count": 6,
     "metadata": {},
     "output_type": "execute_result"
    }
   ],
   "source": [
    "pandas_out = out.to_pandas()\n",
    "display(pandas_out)\n",
    "\n",
    "out = pl.from_pandas(pandas_out)\n",
    "out"
   ]
  },
  {
   "cell_type": "code",
   "execution_count": 7,
   "id": "6dc779bc",
   "metadata": {},
   "outputs": [
    {
     "data": {
      "text/html": [
       "<div><style>\n",
       ".dataframe > thead > tr > th,\n",
       ".dataframe > tbody > tr > td {\n",
       "  text-align: right;\n",
       "}\n",
       "</style>\n",
       "<small>shape: (1, 9)</small><table border=\"1\" class=\"dataframe\"><thead><tr><th>Count</th><th>Annual_Income</th><th>Monthly_Income</th><th>Not null Monthly_Inhand_Salary</th><th>Unique names</th><th>First name</th><th>Last name</th><th>Alphabetical first</th><th>Full name</th></tr><tr><td>u32</td><td>f64</td><td>f64</td><td>u32</td><td>u32</td><td>str</td><td>str</td><td>str</td><td>str</td></tr></thead><tbody><tr><td>100000</td><td>176415.701298</td><td>14701.308442</td><td>84998</td><td>10140</td><td>&quot;Aaron Maashoh&quot;</td><td>&quot;Nicks&quot;</td><td>&quot;April&quot;</td><td>&quot;AARON MAASHOH …</td></tr></tbody></table></div>"
      ],
      "text/plain": [
       "shape: (1, 9)\n",
       "┌────────┬────────────┬────────────┬───────────┬───┬───────────┬───────────┬───────────┬───────────┐\n",
       "│ Count  ┆ Annual_Inc ┆ Monthly_In ┆ Not null  ┆ … ┆ First     ┆ Last name ┆ Alphabeti ┆ Full name │\n",
       "│ ---    ┆ ome        ┆ come       ┆ Monthly_I ┆   ┆ name      ┆ ---       ┆ cal first ┆ ---       │\n",
       "│ u32    ┆ ---        ┆ ---        ┆ nhand_Sal ┆   ┆ ---       ┆ str       ┆ ---       ┆ str       │\n",
       "│        ┆ f64        ┆ f64        ┆ ary       ┆   ┆ str       ┆           ┆ str       ┆           │\n",
       "│        ┆            ┆            ┆ ---       ┆   ┆           ┆           ┆           ┆           │\n",
       "│        ┆            ┆            ┆ u32       ┆   ┆           ┆           ┆           ┆           │\n",
       "╞════════╪════════════╪════════════╪═══════════╪═══╪═══════════╪═══════════╪═══════════╪═══════════╡\n",
       "│ 100000 ┆ 176415.701 ┆ 14701.3084 ┆ 84998     ┆ … ┆ Aaron     ┆ Nicks     ┆ April     ┆ AARON     │\n",
       "│        ┆ 298        ┆ 42         ┆           ┆   ┆ Maashoh   ┆           ┆           ┆ MAASHOH   │\n",
       "│        ┆            ┆            ┆           ┆   ┆           ┆           ┆           ┆ NICKS     │\n",
       "└────────┴────────────┴────────────┴───────────┴───┴───────────┴───────────┴───────────┴───────────┘"
      ]
     },
     "execution_count": 7,
     "metadata": {},
     "output_type": "execute_result"
    }
   ],
   "source": [
    "out = ( df\n",
    "        .select(\n",
    "        pl.count().alias(\"Count\")\n",
    "        , (pl.sum(\"Annual_Income\")/pl.count()).alias(\"Annual_Income\")\n",
    "        , (pl.mean(\"Annual_Income\")/12).alias(\"Monthly_Income\")\n",
    "        , (pl.col(\"Monthly_Inhand_Salary\")\n",
    "           .filter(pl.col(\"Monthly_Inhand_Salary\").is_not_null())\n",
    "           .count()).alias(\"Not null Monthly_Inhand_Salary\")\n",
    "        , pl.col(\"Name\").n_unique().alias(\"Unique names\")\n",
    "        , pl.col(\"Name\").first().alias(\"First name\")\n",
    "        , pl.col(\"Name\").last().alias(\"Last name\")\n",
    "        , pl.col(\"Month\").sort().first().alias(\"Alphabetical first\")\n",
    "        )\n",
    "       .with_columns(\n",
    "               pl.concat_str(pl.col(\"First name\"), pl.lit(\" \"), pl.col(\"Last name\"))\n",
    "               .str.to_uppercase().alias(\"Full name\"))\n",
    "      )\n",
    "out"
   ]
  },
  {
   "cell_type": "code",
   "execution_count": 8,
   "id": "7a8f1dbc",
   "metadata": {},
   "outputs": [
    {
     "data": {
      "text/html": [
       "<div><style>\n",
       ".dataframe > thead > tr > th,\n",
       ".dataframe > tbody > tr > td {\n",
       "  text-align: right;\n",
       "}\n",
       "</style>\n",
       "<small>shape: (8, 2)</small><table border=\"1\" class=\"dataframe\"><thead><tr><th>Month</th><th>counts</th></tr><tr><td>str</td><td>u32</td></tr></thead><tbody><tr><td>&quot;January&quot;</td><td>12500</td></tr><tr><td>&quot;February&quot;</td><td>12500</td></tr><tr><td>&quot;March&quot;</td><td>12500</td></tr><tr><td>&quot;April&quot;</td><td>12500</td></tr><tr><td>&quot;May&quot;</td><td>12500</td></tr><tr><td>&quot;June&quot;</td><td>12500</td></tr><tr><td>&quot;July&quot;</td><td>12500</td></tr><tr><td>&quot;August&quot;</td><td>12500</td></tr></tbody></table></div>"
      ],
      "text/plain": [
       "shape: (8, 2)\n",
       "┌──────────┬────────┐\n",
       "│ Month    ┆ counts │\n",
       "│ ---      ┆ ---    │\n",
       "│ str      ┆ u32    │\n",
       "╞══════════╪════════╡\n",
       "│ January  ┆ 12500  │\n",
       "│ February ┆ 12500  │\n",
       "│ March    ┆ 12500  │\n",
       "│ April    ┆ 12500  │\n",
       "│ May      ┆ 12500  │\n",
       "│ June     ┆ 12500  │\n",
       "│ July     ┆ 12500  │\n",
       "│ August   ┆ 12500  │\n",
       "└──────────┴────────┘"
      ]
     },
     "execution_count": 8,
     "metadata": {},
     "output_type": "execute_result"
    }
   ],
   "source": [
    "out = ( df\n",
    "        .select(pl.col(\"Month\").value_counts(sort=True))\n",
    "        .unnest(\"Month\")\n",
    "      )\n",
    "out"
   ]
  },
  {
   "cell_type": "code",
   "execution_count": 9,
   "id": "ed34cfec",
   "metadata": {},
   "outputs": [
    {
     "data": {
      "text/html": [
       "<div><style>\n",
       ".dataframe > thead > tr > th,\n",
       ".dataframe > tbody > tr > td {\n",
       "  text-align: right;\n",
       "}\n",
       "</style>\n",
       "<small>shape: (16, 7)</small><table border=\"1\" class=\"dataframe\"><thead><tr><th>Occupation</th><th>Count</th><th>Annual_Income</th><th>Num_Bank_Accounts</th><th>Num_Credit_Card</th><th># Scientist</th><th># Developer</th></tr><tr><td>str</td><td>u32</td><td>f64</td><td>i64</td><td>i64</td><td>u32</td><td>u32</td></tr></thead><tbody><tr><td>&quot;&quot;</td><td>7062</td><td>175976.700304</td><td>126989</td><td>169585</td><td>0</td><td>0</td></tr><tr><td>&quot;Lawyer&quot;</td><td>6575</td><td>196039.874458</td><td>107512</td><td>155779</td><td>0</td><td>0</td></tr><tr><td>&quot;Architect&quot;</td><td>6355</td><td>168015.546481</td><td>119192</td><td>151758</td><td>0</td><td>0</td></tr><tr><td>&quot;Engineer&quot;</td><td>6350</td><td>173880.853179</td><td>118397</td><td>123562</td><td>0</td><td>0</td></tr><tr><td>&quot;Scientist&quot;</td><td>6299</td><td>174939.63472</td><td>98864</td><td>130327</td><td>6299</td><td>0</td></tr><tr><td>&quot;Mechanic&quot;</td><td>6291</td><td>172883.151648</td><td>103940</td><td>133095</td><td>0</td><td>0</td></tr><tr><td>&quot;Accountant&quot;</td><td>6271</td><td>198570.933803</td><td>117975</td><td>149239</td><td>0</td><td>0</td></tr><tr><td>&quot;Developer&quot;</td><td>6235</td><td>168694.593065</td><td>109517</td><td>138900</td><td>0</td><td>6235</td></tr><tr><td>&quot;MediaManager&quot;</td><td>6232</td><td>189396.435455</td><td>104211</td><td>142929</td><td>0</td><td>0</td></tr><tr><td>&quot;Teacher&quot;</td><td>6215</td><td>163079.628995</td><td>111303</td><td>132988</td><td>0</td><td>0</td></tr><tr><td>&quot;Entrepreneur&quot;</td><td>6174</td><td>183451.049345</td><td>96284</td><td>154102</td><td>0</td><td>0</td></tr><tr><td>&quot;Doctor&quot;</td><td>6087</td><td>191925.357637</td><td>106462</td><td>143140</td><td>0</td><td>0</td></tr><tr><td>&quot;Journalist&quot;</td><td>6085</td><td>157595.260546</td><td>104741</td><td>130648</td><td>0</td><td>0</td></tr><tr><td>&quot;Manager&quot;</td><td>5973</td><td>159213.68316</td><td>97575</td><td>134752</td><td>0</td><td>0</td></tr><tr><td>&quot;Musician&quot;</td><td>5911</td><td>189441.146763</td><td>96050</td><td>122092</td><td>0</td><td>0</td></tr><tr><td>&quot;Writer&quot;</td><td>5885</td><td>157502.885875</td><td>90116</td><td>134547</td><td>0</td><td>0</td></tr></tbody></table></div>"
      ],
      "text/plain": [
       "shape: (16, 7)\n",
       "┌────────────┬───────┬───────────────┬────────────────┬────────────────┬─────────────┬─────────────┐\n",
       "│ Occupation ┆ Count ┆ Annual_Income ┆ Num_Bank_Accou ┆ Num_Credit_Car ┆ # Scientist ┆ # Developer │\n",
       "│ ---        ┆ ---   ┆ ---           ┆ nts            ┆ d              ┆ ---         ┆ ---         │\n",
       "│ str        ┆ u32   ┆ f64           ┆ ---            ┆ ---            ┆ u32         ┆ u32         │\n",
       "│            ┆       ┆               ┆ i64            ┆ i64            ┆             ┆             │\n",
       "╞════════════╪═══════╪═══════════════╪════════════════╪════════════════╪═════════════╪═════════════╡\n",
       "│            ┆ 7062  ┆ 175976.700304 ┆ 126989         ┆ 169585         ┆ 0           ┆ 0           │\n",
       "│ Lawyer     ┆ 6575  ┆ 196039.874458 ┆ 107512         ┆ 155779         ┆ 0           ┆ 0           │\n",
       "│ Architect  ┆ 6355  ┆ 168015.546481 ┆ 119192         ┆ 151758         ┆ 0           ┆ 0           │\n",
       "│ Engineer   ┆ 6350  ┆ 173880.853179 ┆ 118397         ┆ 123562         ┆ 0           ┆ 0           │\n",
       "│ …          ┆ …     ┆ …             ┆ …              ┆ …              ┆ …           ┆ …           │\n",
       "│ Journalist ┆ 6085  ┆ 157595.260546 ┆ 104741         ┆ 130648         ┆ 0           ┆ 0           │\n",
       "│ Manager    ┆ 5973  ┆ 159213.68316  ┆ 97575          ┆ 134752         ┆ 0           ┆ 0           │\n",
       "│ Musician   ┆ 5911  ┆ 189441.146763 ┆ 96050          ┆ 122092         ┆ 0           ┆ 0           │\n",
       "│ Writer     ┆ 5885  ┆ 157502.885875 ┆ 90116          ┆ 134547         ┆ 0           ┆ 0           │\n",
       "└────────────┴───────┴───────────────┴────────────────┴────────────────┴─────────────┴─────────────┘"
      ]
     },
     "execution_count": 9,
     "metadata": {},
     "output_type": "execute_result"
    }
   ],
   "source": [
    "out = df.groupby(\"Occupation\").agg(\n",
    "        pl.count().alias(\"Count\")\n",
    "        , pl.col(\"Annual_Income\").mean()\n",
    "        , pl.col(\"Num_Bank_Accounts\").sum()\n",
    "        , pl.col(\"Num_Credit_Card\").sum()\n",
    "        , (pl.col(\"Occupation\") == \"Scientist\").sum().alias(\"# Scientist\")\n",
    "        , (pl.col(\"Occupation\") == \"Developer\").sum().alias(\"# Developer\")\n",
    "        ).sort([\"Count\", \"Occupation\"], descending=[True, False])\n",
    "out"
   ]
  },
  {
   "cell_type": "code",
   "execution_count": 10,
   "id": "a1b279bb",
   "metadata": {},
   "outputs": [
    {
     "data": {
      "text/html": [
       "<div><style>\n",
       ".dataframe > thead > tr > th,\n",
       ".dataframe > tbody > tr > td {\n",
       "  text-align: right;\n",
       "}\n",
       "</style>\n",
       "<small>shape: (3_292, 28)</small><table border=\"1\" class=\"dataframe\"><thead><tr><th>ID</th><th>Customer_ID</th><th>Month</th><th>Name</th><th>Age</th><th>SSN</th><th>Occupation</th><th>Annual_Income</th><th>Monthly_Inhand_Salary</th><th>Num_Bank_Accounts</th><th>Num_Credit_Card</th><th>Interest_Rate</th><th>Num_of_Loan</th><th>Type_of_Loan</th><th>Delay_from_due_date</th><th>Num_of_Delayed_Payment</th><th>Changed_Credit_Limit</th><th>Num_Credit_Inquiries</th><th>Credit_Mix</th><th>Outstanding_Debt</th><th>Credit_Utilization_Ratio</th><th>Credit_History_Age</th><th>Payment_of_Min_Amount</th><th>Total_EMI_per_month</th><th>Amount_invested_monthly</th><th>Payment_Behaviour</th><th>Monthly_Balance</th><th>Credit_Score</th></tr><tr><td>str</td><td>str</td><td>str</td><td>str</td><td>i64</td><td>str</td><td>str</td><td>f64</td><td>f64</td><td>i64</td><td>i64</td><td>i64</td><td>i64</td><td>str</td><td>i64</td><td>f64</td><td>f64</td><td>f64</td><td>str</td><td>f64</td><td>f64</td><td>str</td><td>str</td><td>f64</td><td>f64</td><td>str</td><td>f64</td><td>str</td></tr></thead><tbody><tr><td>&quot;0x161b&quot;</td><td>&quot;CUS_0x2dbc&quot;</td><td>&quot;February&quot;</td><td>&quot;X&quot;</td><td>34</td><td>&quot;486-85-3974&quot;</td><td>&quot;Engineer&quot;</td><td>143162.64</td><td>12187.22</td><td>1</td><td>5</td><td>8</td><td>3</td><td>&quot;Auto Loan, Aut…</td><td>13</td><td>6.0</td><td>7.1</td><td>3.0</td><td>&quot;Good&quot;</td><td>1303.01</td><td>41.702573</td><td>&quot;17 Years and 1…</td><td>&quot;No&quot;</td><td>246.992319</td><td>232.860384</td><td>&quot;High spent Sma…</td><td>998.869297</td><td>&quot;Good&quot;</td></tr><tr><td>&quot;0x1620&quot;</td><td>&quot;CUS_0x2dbc&quot;</td><td>&quot;July&quot;</td><td>&quot;X&quot;</td><td>34</td><td>&quot;486-85-3974&quot;</td><td>&quot;Engineer&quot;</td><td>143162.64</td><td>12187.22</td><td>1</td><td>5</td><td>8</td><td>3</td><td>&quot;Auto Loan, Aut…</td><td>8</td><td>6.0</td><td>7.1</td><td>3.0</td><td>&quot;Good&quot;</td><td>1303.01</td><td>38.068624</td><td>&quot;18 Years and 3…</td><td>&quot;No&quot;</td><td>246.992319</td><td>263.174163</td><td>&quot;High spent Sma…</td><td>968.555517</td><td>&quot;Standard&quot;</td></tr><tr><td>&quot;0x1662&quot;</td><td>&quot;CUS_0x4157&quot;</td><td>&quot;January&quot;</td><td>&quot;X&quot;</td><td>23</td><td>&quot;070-19-1622&quot;</td><td>&quot;Doctor&quot;</td><td>114838.41</td><td>9843.8675</td><td>2</td><td>5</td><td>7</td><td>-100</td><td>&quot;Personal Loan,…</td><td>13</td><td>11.0</td><td>8.24</td><td>3.0</td><td>&quot;Good&quot;</td><td>1377.74</td><td>33.664554</td><td>&quot;21 Years and 4…</td><td>&quot;No&quot;</td><td>226.892792</td><td>215.193516</td><td>&quot;High spent Sma…</td><td>802.300442</td><td>&quot;Good&quot;</td></tr><tr><td>&quot;0x16c3&quot;</td><td>&quot;CUS_0x6070&quot;</td><td>&quot;February&quot;</td><td>&quot;X&quot;</td><td>20</td><td>&quot;891-55-9364&quot;</td><td>&quot;Accountant&quot;</td><td>92047.08</td><td>7591.59</td><td>6</td><td>7</td><td>16</td><td>0</td><td>null</td><td>16</td><td>11.0</td><td>9.13</td><td>4.0</td><td>&quot;Standard&quot;</td><td>1296.64</td><td>39.467758</td><td>&quot;29 Years and 3…</td><td>&quot;Yes&quot;</td><td>0.0</td><td>710.495381</td><td>&quot;Low spent Medi…</td><td>328.663619</td><td>&quot;Standard&quot;</td></tr><tr><td>&quot;0x16c8&quot;</td><td>&quot;CUS_0x6070&quot;</td><td>&quot;July&quot;</td><td>&quot;X&quot;</td><td>20</td><td>&quot;891-55-9364&quot;</td><td>&quot;Accountant&quot;</td><td>92047.08</td><td>7591.59</td><td>6</td><td>7</td><td>16</td><td>0</td><td>null</td><td>16</td><td>10.0</td><td>9.13</td><td>4.0</td><td>&quot;&quot;</td><td>1296.64</td><td>40.758522</td><td>&quot;29 Years and 8…</td><td>&quot;Yes&quot;</td><td>0.0</td><td>59.28557</td><td>&quot;High spent Lar…</td><td>939.87343</td><td>&quot;Poor&quot;</td></tr><tr><td>&quot;0x170a&quot;</td><td>&quot;CUS_0xac86&quot;</td><td>&quot;January&quot;</td><td>&quot;X&quot;</td><td>19</td><td>&quot;028-16-4402&quot;</td><td>&quot;Entrepreneur&quot;</td><td>106733.13</td><td>8873.4275</td><td>4</td><td>4</td><td>1</td><td>0</td><td>null</td><td>10</td><td>8.0</td><td>0.86</td><td>0.0</td><td>&quot;&quot;</td><td>76.23</td><td>29.815896</td><td>&quot;32 Years and 9…</td><td>&quot;No&quot;</td><td>0.0</td><td>388.360354</td><td>&quot;Low spent Larg…</td><td>768.982396</td><td>&quot;Good&quot;</td></tr><tr><td>&quot;0x1711&quot;</td><td>&quot;CUS_0xac86&quot;</td><td>&quot;August&quot;</td><td>&quot;X&quot;</td><td>20</td><td>&quot;028-16-4402&quot;</td><td>&quot;Entrepreneur&quot;</td><td>106733.13</td><td>8873.4275</td><td>4</td><td>4</td><td>1</td><td>0</td><td>null</td><td>7</td><td>6.0</td><td>0.86</td><td>1.0</td><td>&quot;Good&quot;</td><td>76.23</td><td>39.24364</td><td>&quot;33 Years and 4…</td><td>&quot;No&quot;</td><td>0.0</td><td>384.763725</td><td>&quot;!@9#%8&quot;</td><td>792.579025</td><td>&quot;Standard&quot;</td></tr><tr><td>&quot;0x1792&quot;</td><td>&quot;CUS_0x4004&quot;</td><td>&quot;May&quot;</td><td>&quot;X&quot;</td><td>44</td><td>&quot;679-26-6464&quot;</td><td>&quot;Writer&quot;</td><td>58317.0</td><td>4664.75</td><td>8</td><td>5</td><td>9</td><td>6</td><td>&quot;Mortgage Loan,…</td><td>18</td><td>20.0</td><td>22.58</td><td>null</td><td>&quot;Standard&quot;</td><td>98.97</td><td>34.192304</td><td>&quot;13 Years and 5…</td><td>&quot;Yes&quot;</td><td>149.897199</td><td>180.830573</td><td>&quot;Low spent Medi…</td><td>415.747227</td><td>&quot;Standard&quot;</td></tr><tr><td>&quot;0x17ad&quot;</td><td>&quot;CUS_0x9b94&quot;</td><td>&quot;August&quot;</td><td>&quot;X&quot;</td><td>36</td><td>&quot;734-54-7098&quot;</td><td>&quot;Manager&quot;</td><td>71681.4</td><td>5799.45</td><td>3</td><td>6</td><td>15</td><td>1</td><td>&quot;Not Specified&quot;</td><td>8</td><td>8.0</td><td>10.44</td><td>0.0</td><td>&quot;Standard&quot;</td><td>1293.02</td><td>38.234514</td><td>&quot;26 Years and 2…</td><td>&quot;NM&quot;</td><td>53.923514</td><td>295.811896</td><td>&quot;Low spent Medi…</td><td>510.20959</td><td>&quot;Good&quot;</td></tr><tr><td>&quot;0x17d7&quot;</td><td>&quot;CUS_0x571f&quot;</td><td>&quot;February&quot;</td><td>&quot;X&quot;</td><td>18</td><td>&quot;397-28-9675&quot;</td><td>&quot;Developer&quot;</td><td>66567.32</td><td>5800.276667</td><td>5</td><td>7</td><td>5</td><td>2</td><td>&quot;Mortgage Loan,…</td><td>7</td><td>null</td><td>5.67</td><td>0.0</td><td>&quot;Standard&quot;</td><td>233.79</td><td>32.349822</td><td>&quot;24 Years and 4…</td><td>&quot;No&quot;</td><td>100.189361</td><td>542.04221</td><td>&quot;Low spent Medi…</td><td>217.796096</td><td>&quot;Standard&quot;</td></tr><tr><td>&quot;0x17dc&quot;</td><td>&quot;CUS_0x571f&quot;</td><td>&quot;July&quot;</td><td>&quot;X&quot;</td><td>19</td><td>&quot;397-28-9675&quot;</td><td>&quot;Developer&quot;</td><td>66567.32</td><td>5800.276667</td><td>5</td><td>7</td><td>5</td><td>2</td><td>&quot;Mortgage Loan,…</td><td>7</td><td>15.0</td><td>5.67</td><td>0.0</td><td>&quot;Standard&quot;</td><td>233.79</td><td>26.50761</td><td>&quot;24 Years and 9…</td><td>&quot;No&quot;</td><td>100.189361</td><td>66.688358</td><td>&quot;High spent Med…</td><td>663.149948</td><td>&quot;Standard&quot;</td></tr><tr><td>&quot;0x1807&quot;</td><td>&quot;CUS_0xc65&quot;</td><td>&quot;February&quot;</td><td>&quot;X&quot;</td><td>21</td><td>&quot;#F%$D@*&amp;8&quot;</td><td>&quot;&quot;</td><td>148699.32</td><td>12432.61</td><td>3</td><td>4</td><td>1138</td><td>-100</td><td>&quot;Personal Loan,…</td><td>13</td><td>4.0</td><td>9.2</td><td>1.0</td><td>&quot;Good&quot;</td><td>949.38</td><td>28.510775</td><td>&quot;30 Years and 8…</td><td>&quot;No&quot;</td><td>364.915177</td><td>237.918381</td><td>&quot;High spent Lar…</td><td>880.427442</td><td>&quot;Good&quot;</td></tr><tr><td>&hellip;</td><td>&hellip;</td><td>&hellip;</td><td>&hellip;</td><td>&hellip;</td><td>&hellip;</td><td>&hellip;</td><td>&hellip;</td><td>&hellip;</td><td>&hellip;</td><td>&hellip;</td><td>&hellip;</td><td>&hellip;</td><td>&hellip;</td><td>&hellip;</td><td>&hellip;</td><td>&hellip;</td><td>&hellip;</td><td>&hellip;</td><td>&hellip;</td><td>&hellip;</td><td>&hellip;</td><td>&hellip;</td><td>&hellip;</td><td>&hellip;</td><td>&hellip;</td><td>&hellip;</td><td>&hellip;</td></tr><tr><td>&quot;0x25d8e&quot;</td><td>&quot;CUS_0x94de&quot;</td><td>&quot;January&quot;</td><td>&quot;X&quot;</td><td>36</td><td>&quot;349-98-3586&quot;</td><td>&quot;Writer&quot;</td><td>61167.9</td><td>4912.325</td><td>3</td><td>1300</td><td>2</td><td>4</td><td>&quot;Home Equity Lo…</td><td>10</td><td>5.0</td><td>6.74</td><td>3.0</td><td>&quot;Good&quot;</td><td>1354.88</td><td>27.281315</td><td>&quot;15 Years and 4…</td><td>&quot;No&quot;</td><td>176.742422</td><td>191.324202</td><td>&quot;High spent Sma…</td><td>383.165876</td><td>&quot;Good&quot;</td></tr><tr><td>&quot;0x25dbf&quot;</td><td>&quot;CUS_0x738b&quot;</td><td>&quot;February&quot;</td><td>&quot;X&quot;</td><td>24</td><td>&quot;769-44-1950&quot;</td><td>&quot;Accountant&quot;</td><td>123828.52</td><td>9317.324054</td><td>4</td><td>6</td><td>17</td><td>0</td><td>null</td><td>22</td><td>9.0</td><td>4.33</td><td>2.0</td><td>&quot;Standard&quot;</td><td>1288.43</td><td>31.181775</td><td>null</td><td>&quot;Yes&quot;</td><td>999.719279</td><td>243.279333</td><td>&quot;High spent Lar…</td><td>1028.425</td><td>&quot;Standard&quot;</td></tr><tr><td>&quot;0x25ddd&quot;</td><td>&quot;CUS_0x1d9e&quot;</td><td>&quot;August&quot;</td><td>&quot;X&quot;</td><td>42</td><td>&quot;861-85-5004&quot;</td><td>&quot;Lawyer&quot;</td><td>75994.22</td><td>6301.851667</td><td>1</td><td>4</td><td>7</td><td>1</td><td>&quot;Student Loan&quot;</td><td>11</td><td>null</td><td>5.92</td><td>3.0</td><td>&quot;Good&quot;</td><td>111.75</td><td>26.021523</td><td>&quot;27 Years and 9…</td><td>&quot;No&quot;</td><td>51.702825</td><td>140.122955</td><td>&quot;High spent Lar…</td><td>678.359387</td><td>&quot;Good&quot;</td></tr><tr><td>&quot;0x25de5&quot;</td><td>&quot;CUS_0x2e91&quot;</td><td>&quot;April&quot;</td><td>&quot;X&quot;</td><td>31</td><td>&quot;797-70-3063&quot;</td><td>&quot;&quot;</td><td>70926.06</td><td>5741.505</td><td>7</td><td>7</td><td>10</td><td>2</td><td>&quot;Debt Consolida…</td><td>13</td><td>19.0</td><td>9.79</td><td>6.0</td><td>&quot;Standard&quot;</td><td>332.75</td><td>27.861908</td><td>&quot;29 Years and 6…</td><td>&quot;No&quot;</td><td>67.185777</td><td>103.406803</td><td>&quot;High spent Lar…</td><td>643.557921</td><td>&quot;Standard&quot;</td></tr><tr><td>&quot;0x25e01&quot;</td><td>&quot;CUS_0xb09&quot;</td><td>&quot;August&quot;</td><td>&quot;X&quot;</td><td>31</td><td>&quot;228-47-4867&quot;</td><td>&quot;Lawyer&quot;</td><td>146310.68</td><td>12124.556667</td><td>5</td><td>4</td><td>9</td><td>1</td><td>&quot;Debt Consolida…</td><td>3</td><td>5.0</td><td>11.48</td><td>6.0</td><td>&quot;Good&quot;</td><td>928.28</td><td>31.695064</td><td>&quot;22 Years and 8…</td><td>&quot;NM&quot;</td><td>72.250125</td><td>283.313995</td><td>&quot;High spent Lar…</td><td>1096.891547</td><td>&quot;Standard&quot;</td></tr><tr><td>&quot;0x25e09&quot;</td><td>&quot;CUS_0xbd8f&quot;</td><td>&quot;April&quot;</td><td>&quot;X&quot;</td><td>31</td><td>&quot;344-21-3701&quot;</td><td>&quot;Lawyer&quot;</td><td>107911.6</td><td>9168.633333</td><td>3</td><td>3</td><td>17</td><td>2</td><td>&quot;Home Equity Lo…</td><td>17</td><td>18.0</td><td>14.31</td><td>2.0</td><td>&quot;Standard&quot;</td><td>1086.96</td><td>36.782021</td><td>&quot;18 Years and 0…</td><td>&quot;NM&quot;</td><td>110.625989</td><td>142.612199</td><td>&quot;High spent Lar…</td><td>903.625146</td><td>&quot;Standard&quot;</td></tr><tr><td>&quot;0x25e3d&quot;</td><td>&quot;CUS_0xc394&quot;</td><td>&quot;August&quot;</td><td>&quot;X&quot;</td><td>34</td><td>&quot;747-43-9082&quot;</td><td>&quot;Architect&quot;</td><td>108484.38</td><td>8820.365</td><td>4</td><td>7</td><td>6</td><td>1</td><td>&quot;Payday Loan&quot;</td><td>29</td><td>15.0</td><td>10.07</td><td>7.0</td><td>&quot;Standard&quot;</td><td>1427.16</td><td>42.675664</td><td>&quot;31 Years and 3…</td><td>&quot;Yes&quot;</td><td>71.534221</td><td>154.312533</td><td>&quot;High spent Lar…</td><td>896.189746</td><td>&quot;Poor&quot;</td></tr><tr><td>&quot;0x25e99&quot;</td><td>&quot;CUS_0xc345&quot;</td><td>&quot;April&quot;</td><td>&quot;X&quot;</td><td>24</td><td>&quot;176-40-0757&quot;</td><td>&quot;Architect&quot;</td><td>60015.32</td><td>5121.276667</td><td>7</td><td>4</td><td>14</td><td>7</td><td>&quot;Mortgage Loan,…</td><td>8</td><td>8.0</td><td>10.47</td><td>6.0</td><td>&quot;Standard&quot;</td><td>1095.15</td><td>30.534535</td><td>&quot;15 Years and 5…</td><td>&quot;Yes&quot;</td><td>24498.0</td><td>74.258281</td><td>&quot;High spent Lar…</td><td>490.860703</td><td>&quot;Standard&quot;</td></tr><tr><td>&quot;0x25ee0&quot;</td><td>&quot;CUS_0x40ad&quot;</td><td>&quot;March&quot;</td><td>&quot;X&quot;</td><td>19</td><td>&quot;715-14-3312&quot;</td><td>&quot;Scientist&quot;</td><td>65858.48</td><td>5421.206667</td><td>7</td><td>7</td><td>30</td><td>5</td><td>&quot;Mortgage Loan,…</td><td>31</td><td>12.0</td><td>15.88</td><td>13.0</td><td>&quot;Standard&quot;</td><td>2344.57</td><td>22.783382</td><td>&quot;6 Years and 6 …</td><td>&quot;Yes&quot;</td><td>261.201218</td><td>415.58268</td><td>&quot;Low spent Larg…</td><td>135.336769</td><td>&quot;Poor&quot;</td></tr><tr><td>&quot;0x25ef8&quot;</td><td>&quot;CUS_0x8788&quot;</td><td>&quot;March&quot;</td><td>&quot;X&quot;</td><td>25</td><td>&quot;138-38-7150&quot;</td><td>&quot;Musician&quot;</td><td>71025.4</td><td>5766.783333</td><td>7</td><td>6</td><td>32</td><td>5</td><td>&quot;Payday Loan, C…</td><td>31</td><td>16.0</td><td>17.12</td><td>10.0</td><td>&quot;&quot;</td><td>2542.42</td><td>41.353378</td><td>&quot;14 Years and 3…</td><td>&quot;Yes&quot;</td><td>195.207484</td><td>156.316703</td><td>&quot;Low spent Larg…</td><td>495.154146</td><td>&quot;Poor&quot;</td></tr><tr><td>&quot;0x25f38&quot;</td><td>&quot;CUS_0x3855&quot;</td><td>&quot;July&quot;</td><td>&quot;X&quot;</td><td>27</td><td>&quot;963-55-7106&quot;</td><td>&quot;Scientist&quot;</td><td>118677.54</td><td>9963.795</td><td>4</td><td>4</td><td>6</td><td>4</td><td>&quot;Debt Consolida…</td><td>3</td><td>12.0</td><td>9.59</td><td>5.0</td><td>&quot;Good&quot;</td><td>995.47</td><td>36.246273</td><td>&quot;30 Years and 5…</td><td>&quot;No&quot;</td><td>237.106366</td><td>198.762526</td><td>&quot;!@9#%8&quot;</td><td>810.510608</td><td>&quot;Good&quot;</td></tr><tr><td>&quot;0x25fa1&quot;</td><td>&quot;CUS_0x51b3&quot;</td><td>&quot;April&quot;</td><td>&quot;X&quot;</td><td>33</td><td>&quot;837-85-9800&quot;</td><td>&quot;MediaManager&quot;</td><td>59146.36</td><td>4908.863333</td><td>2</td><td>5</td><td>6</td><td>1</td><td>&quot;Personal Loan&quot;</td><td>8</td><td>6.0</td><td>6.68</td><td>5.0</td><td>&quot;Good&quot;</td><td>418.03</td><td>28.091458</td><td>&quot;20 Years and 4…</td><td>&quot;No&quot;</td><td>26.778419</td><td>183.584149</td><td>&quot;!@9#%8&quot;</td><td>530.523765</td><td>&quot;Standard&quot;</td></tr></tbody></table></div>"
      ],
      "text/plain": [
       "shape: (3_292, 28)\n",
       "┌─────────┬─────────────┬──────────┬──────┬───┬─────────────┬────────────┬────────────┬────────────┐\n",
       "│ ID      ┆ Customer_ID ┆ Month    ┆ Name ┆ … ┆ Amount_inve ┆ Payment_Be ┆ Monthly_Ba ┆ Credit_Sco │\n",
       "│ ---     ┆ ---         ┆ ---      ┆ ---  ┆   ┆ sted_monthl ┆ haviour    ┆ lance      ┆ re         │\n",
       "│ str     ┆ str         ┆ str      ┆ str  ┆   ┆ y           ┆ ---        ┆ ---        ┆ ---        │\n",
       "│         ┆             ┆          ┆      ┆   ┆ ---         ┆ str        ┆ f64        ┆ str        │\n",
       "│         ┆             ┆          ┆      ┆   ┆ f64         ┆            ┆            ┆            │\n",
       "╞═════════╪═════════════╪══════════╪══════╪═══╪═════════════╪════════════╪════════════╪════════════╡\n",
       "│ 0x161b  ┆ CUS_0x2dbc  ┆ February ┆ X    ┆ … ┆ 232.860384  ┆ High spent ┆ 998.869297 ┆ Good       │\n",
       "│         ┆             ┆          ┆      ┆   ┆             ┆ Small      ┆            ┆            │\n",
       "│         ┆             ┆          ┆      ┆   ┆             ┆ value      ┆            ┆            │\n",
       "│         ┆             ┆          ┆      ┆   ┆             ┆ payments   ┆            ┆            │\n",
       "│ 0x1620  ┆ CUS_0x2dbc  ┆ July     ┆ X    ┆ … ┆ 263.174163  ┆ High spent ┆ 968.555517 ┆ Standard   │\n",
       "│         ┆             ┆          ┆      ┆   ┆             ┆ Small      ┆            ┆            │\n",
       "│         ┆             ┆          ┆      ┆   ┆             ┆ value      ┆            ┆            │\n",
       "│         ┆             ┆          ┆      ┆   ┆             ┆ payments   ┆            ┆            │\n",
       "│ 0x1662  ┆ CUS_0x4157  ┆ January  ┆ X    ┆ … ┆ 215.193516  ┆ High spent ┆ 802.300442 ┆ Good       │\n",
       "│         ┆             ┆          ┆      ┆   ┆             ┆ Small      ┆            ┆            │\n",
       "│         ┆             ┆          ┆      ┆   ┆             ┆ value      ┆            ┆            │\n",
       "│         ┆             ┆          ┆      ┆   ┆             ┆ payments   ┆            ┆            │\n",
       "│ 0x16c3  ┆ CUS_0x6070  ┆ February ┆ X    ┆ … ┆ 710.495381  ┆ Low spent  ┆ 328.663619 ┆ Standard   │\n",
       "│         ┆             ┆          ┆      ┆   ┆             ┆ Medium     ┆            ┆            │\n",
       "│         ┆             ┆          ┆      ┆   ┆             ┆ value      ┆            ┆            │\n",
       "│         ┆             ┆          ┆      ┆   ┆             ┆ payments   ┆            ┆            │\n",
       "│ …       ┆ …           ┆ …        ┆ …    ┆ … ┆ …           ┆ …          ┆ …          ┆ …          │\n",
       "│ 0x25ee0 ┆ CUS_0x40ad  ┆ March    ┆ X    ┆ … ┆ 415.58268   ┆ Low spent  ┆ 135.336769 ┆ Poor       │\n",
       "│         ┆             ┆          ┆      ┆   ┆             ┆ Large      ┆            ┆            │\n",
       "│         ┆             ┆          ┆      ┆   ┆             ┆ value      ┆            ┆            │\n",
       "│         ┆             ┆          ┆      ┆   ┆             ┆ payments   ┆            ┆            │\n",
       "│ 0x25ef8 ┆ CUS_0x8788  ┆ March    ┆ X    ┆ … ┆ 156.316703  ┆ Low spent  ┆ 495.154146 ┆ Poor       │\n",
       "│         ┆             ┆          ┆      ┆   ┆             ┆ Large      ┆            ┆            │\n",
       "│         ┆             ┆          ┆      ┆   ┆             ┆ value      ┆            ┆            │\n",
       "│         ┆             ┆          ┆      ┆   ┆             ┆ payments   ┆            ┆            │\n",
       "│ 0x25f38 ┆ CUS_0x3855  ┆ July     ┆ X    ┆ … ┆ 198.762526  ┆ !@9#%8     ┆ 810.510608 ┆ Good       │\n",
       "│ 0x25fa1 ┆ CUS_0x51b3  ┆ April    ┆ X    ┆ … ┆ 183.584149  ┆ !@9#%8     ┆ 530.523765 ┆ Standard   │\n",
       "└─────────┴─────────────┴──────────┴──────┴───┴─────────────┴────────────┴────────────┴────────────┘"
      ]
     },
     "execution_count": 10,
     "metadata": {},
     "output_type": "execute_result"
    }
   ],
   "source": [
    "out = (df\n",
    "        .filter(\n",
    "        (pl.col(\"Monthly_Inhand_Salary\") > pl.mean(\"Monthly_Inhand_Salary\"))\n",
    "        & pl.col(\"Name\").is_null()\n",
    "        )\n",
    "       .with_columns(\n",
    "            pl.col(\"Name\").fill_null(pl.lit(\"X\"))\n",
    "        )\n",
    "      )\n",
    "out"
   ]
  },
  {
   "cell_type": "code",
   "execution_count": 11,
   "id": "d16f01b9",
   "metadata": {},
   "outputs": [
    {
     "data": {
      "text/html": [
       "<div><style>\n",
       ".dataframe > thead > tr > th,\n",
       ".dataframe > tbody > tr > td {\n",
       "  text-align: right;\n",
       "}\n",
       "</style>\n",
       "<small>shape: (5_642, 28)</small><table border=\"1\" class=\"dataframe\"><thead><tr><th>ID</th><th>Customer_ID</th><th>Month</th><th>Name</th><th>Age</th><th>SSN</th><th>Occupation</th><th>Annual_Income</th><th>Monthly_Inhand_Salary</th><th>Num_Bank_Accounts</th><th>Num_Credit_Card</th><th>Interest_Rate</th><th>Num_of_Loan</th><th>Type_of_Loan</th><th>Delay_from_due_date</th><th>Num_of_Delayed_Payment</th><th>Changed_Credit_Limit</th><th>Num_Credit_Inquiries</th><th>Credit_Mix</th><th>Outstanding_Debt</th><th>Credit_Utilization_Ratio</th><th>Credit_History_Age</th><th>Payment_of_Min_Amount</th><th>Total_EMI_per_month</th><th>Amount_invested_monthly</th><th>Payment_Behaviour</th><th>Monthly_Balance</th><th>Credit_Score</th></tr><tr><td>str</td><td>str</td><td>str</td><td>str</td><td>i64</td><td>str</td><td>str</td><td>f64</td><td>f64</td><td>i64</td><td>i64</td><td>i64</td><td>i64</td><td>str</td><td>i64</td><td>f64</td><td>f64</td><td>f64</td><td>str</td><td>f64</td><td>f64</td><td>str</td><td>str</td><td>f64</td><td>f64</td><td>str</td><td>f64</td><td>str</td></tr></thead><tbody><tr><td>&quot;0x1602&quot;</td><td>&quot;CUS_0xd40&quot;</td><td>&quot;January&quot;</td><td>&quot;Aaron Maashoh&quot;</td><td>23</td><td>&quot;821-00-0265&quot;</td><td>&quot;Scientist&quot;</td><td>19114.12</td><td>1824.843333</td><td>3</td><td>4</td><td>3</td><td>4</td><td>&quot;Auto Loan, Cre…</td><td>3</td><td>7.0</td><td>11.27</td><td>4.0</td><td>&quot;&quot;</td><td>809.98</td><td>26.82262</td><td>&quot;22 Years and 1…</td><td>&quot;No&quot;</td><td>49.574949</td><td>80.415295</td><td>&quot;High spent Sma…</td><td>312.494089</td><td>&quot;Good&quot;</td></tr><tr><td>&quot;0x1606&quot;</td><td>&quot;CUS_0xd40&quot;</td><td>&quot;May&quot;</td><td>&quot;Aaron Maashoh&quot;</td><td>23</td><td>&quot;821-00-0265&quot;</td><td>&quot;Scientist&quot;</td><td>19114.12</td><td>1824.843333</td><td>3</td><td>4</td><td>3</td><td>4</td><td>&quot;Auto Loan, Cre…</td><td>6</td><td>null</td><td>11.27</td><td>4.0</td><td>&quot;Good&quot;</td><td>809.98</td><td>24.797347</td><td>&quot;22 Years and 5…</td><td>&quot;No&quot;</td><td>49.574949</td><td>41.420153</td><td>&quot;High spent Med…</td><td>341.489231</td><td>&quot;Good&quot;</td></tr><tr><td>&quot;0x1608&quot;</td><td>&quot;CUS_0xd40&quot;</td><td>&quot;July&quot;</td><td>&quot;Aaron Maashoh&quot;</td><td>23</td><td>&quot;821-00-0265&quot;</td><td>&quot;Scientist&quot;</td><td>19114.12</td><td>1824.843333</td><td>3</td><td>4</td><td>3</td><td>4</td><td>&quot;Auto Loan, Cre…</td><td>3</td><td>8.0</td><td>11.27</td><td>4.0</td><td>&quot;Good&quot;</td><td>809.98</td><td>22.537593</td><td>&quot;22 Years and 7…</td><td>&quot;No&quot;</td><td>49.574949</td><td>178.344067</td><td>&quot;Low spent Smal…</td><td>244.565317</td><td>&quot;Good&quot;</td></tr><tr><td>&quot;0x1609&quot;</td><td>&quot;CUS_0xd40&quot;</td><td>&quot;August&quot;</td><td>null</td><td>23</td><td>&quot;#F%$D@*&amp;8&quot;</td><td>&quot;Scientist&quot;</td><td>19114.12</td><td>1824.843333</td><td>3</td><td>4</td><td>3</td><td>4</td><td>&quot;Auto Loan, Cre…</td><td>3</td><td>6.0</td><td>11.27</td><td>4.0</td><td>&quot;Good&quot;</td><td>809.98</td><td>23.933795</td><td>null</td><td>&quot;No&quot;</td><td>49.574949</td><td>24.785217</td><td>&quot;High spent Med…</td><td>358.124168</td><td>&quot;Standard&quot;</td></tr><tr><td>&quot;0x1632&quot;</td><td>&quot;CUS_0x1cdb&quot;</td><td>&quot;January&quot;</td><td>&quot;Deepaa&quot;</td><td>21</td><td>&quot;615-06-7821&quot;</td><td>&quot;Developer&quot;</td><td>35547.71</td><td>2853.309167</td><td>7</td><td>5</td><td>5</td><td>0</td><td>null</td><td>5</td><td>null</td><td>2.58</td><td>4.0</td><td>&quot;Standard&quot;</td><td>943.86</td><td>39.797764</td><td>&quot;30 Years and 8…</td><td>&quot;Yes&quot;</td><td>0.0</td><td>276.725394</td><td>&quot;!@9#%8&quot;</td><td>288.605522</td><td>&quot;Standard&quot;</td></tr><tr><td>&quot;0x1634&quot;</td><td>&quot;CUS_0x1cdb&quot;</td><td>&quot;March&quot;</td><td>&quot;Deepaa&quot;</td><td>21</td><td>&quot;615-06-7821&quot;</td><td>&quot;Developer&quot;</td><td>35547.71</td><td>2853.309167</td><td>7</td><td>5</td><td>5</td><td>-100</td><td>null</td><td>5</td><td>12.0</td><td>2.58</td><td>4.0</td><td>&quot;Standard&quot;</td><td>943.86</td><td>23.462303</td><td>&quot;30 Years and 1…</td><td>&quot;Yes&quot;</td><td>0.0</td><td>173.138651</td><td>&quot;Low spent Medi…</td><td>392.192266</td><td>&quot;Standard&quot;</td></tr><tr><td>&quot;0x1635&quot;</td><td>&quot;CUS_0x1cdb&quot;</td><td>&quot;April&quot;</td><td>&quot;Deepaa&quot;</td><td>21</td><td>&quot;615-06-7821&quot;</td><td>&quot;Developer&quot;</td><td>35547.71</td><td>2853.309167</td><td>7</td><td>5</td><td>5</td><td>0</td><td>null</td><td>1</td><td>15.0</td><td>2.58</td><td>4.0</td><td>&quot;&quot;</td><td>943.86</td><td>28.924954</td><td>&quot;30 Years and 1…</td><td>&quot;Yes&quot;</td><td>0.0</td><td>96.785485</td><td>&quot;High spent Med…</td><td>438.545432</td><td>&quot;Standard&quot;</td></tr><tr><td>&quot;0x1636&quot;</td><td>&quot;CUS_0x1cdb&quot;</td><td>&quot;May&quot;</td><td>&quot;Deepaa&quot;</td><td>21</td><td>&quot;615-06-7821&quot;</td><td>&quot;Developer&quot;</td><td>35547.71</td><td>2853.309167</td><td>7</td><td>5</td><td>5</td><td>0</td><td>null</td><td>9</td><td>17.0</td><td>2.58</td><td>4.0</td><td>&quot;&quot;</td><td>943.86</td><td>41.776187</td><td>&quot;31 Years and 0…</td><td>&quot;Yes&quot;</td><td>0.0</td><td>62.723278</td><td>&quot;High spent Sma…</td><td>482.607638</td><td>&quot;Standard&quot;</td></tr><tr><td>&quot;0x1638&quot;</td><td>&quot;CUS_0x1cdb&quot;</td><td>&quot;July&quot;</td><td>&quot;Deepaa&quot;</td><td>21</td><td>&quot;615-06-7821&quot;</td><td>&quot;Developer&quot;</td><td>35547.71</td><td>2853.309167</td><td>7</td><td>5</td><td>5</td><td>0</td><td>null</td><td>10</td><td>15.0</td><td>2.58</td><td>4.0</td><td>&quot;Standard&quot;</td><td>943.86</td><td>26.263823</td><td>&quot;31 Years and 2…</td><td>&quot;Yes&quot;</td><td>0.0</td><td>181.011983</td><td>&quot;Low spent Smal…</td><td>394.318934</td><td>&quot;Standard&quot;</td></tr><tr><td>&quot;0x1639&quot;</td><td>&quot;CUS_0x1cdb&quot;</td><td>&quot;August&quot;</td><td>&quot;Deepaa&quot;</td><td>21</td><td>&quot;615-06-7821&quot;</td><td>&quot;Developer&quot;</td><td>35547.71</td><td>2853.309167</td><td>7</td><td>5</td><td>5</td><td>-100</td><td>null</td><td>1</td><td>15.0</td><td>2.58</td><td>4.0</td><td>&quot;Standard&quot;</td><td>943.86</td><td>25.862922</td><td>&quot;31 Years and 3…</td><td>&quot;Yes&quot;</td><td>0.0</td><td>181.330901</td><td>&quot;High spent Sma…</td><td>364.000016</td><td>&quot;Standard&quot;</td></tr><tr><td>&quot;0x16b6&quot;</td><td>&quot;CUS_0x33d2&quot;</td><td>&quot;January&quot;</td><td>&quot;Chalmersa&quot;</td><td>30</td><td>&quot;965-46-2491&quot;</td><td>&quot;Scientist&quot;</td><td>31993.78</td><td>2942.148333</td><td>6</td><td>6</td><td>7</td><td>2</td><td>&quot;Payday Loan, a…</td><td>8</td><td>14.0</td><td>6.28</td><td>0.0</td><td>&quot;Standard&quot;</td><td>818.22</td><td>25.369597</td><td>&quot;16 Years and 1…</td><td>&quot;Yes&quot;</td><td>45.141298</td><td>81.998835</td><td>&quot;Low spent Medi…</td><td>447.0747</td><td>&quot;Standard&quot;</td></tr><tr><td>&quot;0x16b7&quot;</td><td>&quot;CUS_0x33d2&quot;</td><td>&quot;February&quot;</td><td>&quot;Chalmersa&quot;</td><td>30</td><td>&quot;965-46-2491&quot;</td><td>&quot;Scientist&quot;</td><td>31993.78</td><td>2942.148333</td><td>6</td><td>6</td><td>7</td><td>2</td><td>&quot;Payday Loan, a…</td><td>12</td><td>14.0</td><td>6.28</td><td>0.0</td><td>&quot;Standard&quot;</td><td>818.22</td><td>37.958569</td><td>&quot;16 Years and 1…</td><td>&quot;Yes&quot;</td><td>45.141298</td><td>10000.0</td><td>&quot;Low spent Smal…</td><td>157.869804</td><td>&quot;Standard&quot;</td></tr><tr><td>&hellip;</td><td>&hellip;</td><td>&hellip;</td><td>&hellip;</td><td>&hellip;</td><td>&hellip;</td><td>&hellip;</td><td>&hellip;</td><td>&hellip;</td><td>&hellip;</td><td>&hellip;</td><td>&hellip;</td><td>&hellip;</td><td>&hellip;</td><td>&hellip;</td><td>&hellip;</td><td>&hellip;</td><td>&hellip;</td><td>&hellip;</td><td>&hellip;</td><td>&hellip;</td><td>&hellip;</td><td>&hellip;</td><td>&hellip;</td><td>&hellip;</td><td>&hellip;</td><td>&hellip;</td><td>&hellip;</td></tr><tr><td>&quot;0x25ecd&quot;</td><td>&quot;CUS_0x1232&quot;</td><td>&quot;August&quot;</td><td>null</td><td>17</td><td>&quot;441-26-1297&quot;</td><td>&quot;Developer&quot;</td><td>14937.49</td><td>1142.790833</td><td>8</td><td>8</td><td>22</td><td>7</td><td>&quot;Student Loan, …</td><td>43</td><td>15.0</td><td>24.17</td><td>9.0</td><td>&quot;Bad&quot;</td><td>3699.44</td><td>23.120963</td><td>&quot;13 Years and 9…</td><td>&quot;NM&quot;</td><td>50.960878</td><td>104.145024</td><td>&quot;Low spent Medi…</td><td>239.173181</td><td>&quot;Standard&quot;</td></tr><tr><td>&quot;0x25ee0&quot;</td><td>&quot;CUS_0x40ad&quot;</td><td>&quot;March&quot;</td><td>null</td><td>19</td><td>&quot;715-14-3312&quot;</td><td>&quot;Scientist&quot;</td><td>65858.48</td><td>5421.206667</td><td>7</td><td>7</td><td>30</td><td>5</td><td>&quot;Mortgage Loan,…</td><td>31</td><td>12.0</td><td>15.88</td><td>13.0</td><td>&quot;Standard&quot;</td><td>2344.57</td><td>22.783382</td><td>&quot;6 Years and 6 …</td><td>&quot;Yes&quot;</td><td>261.201218</td><td>415.58268</td><td>&quot;Low spent Larg…</td><td>135.336769</td><td>&quot;Poor&quot;</td></tr><tr><td>&quot;0x25ee1&quot;</td><td>&quot;CUS_0x40ad&quot;</td><td>&quot;April&quot;</td><td>&quot;Dorisw&quot;</td><td>20</td><td>&quot;715-14-3312&quot;</td><td>&quot;Scientist&quot;</td><td>65858.48</td><td>5421.206667</td><td>7</td><td>7</td><td>30</td><td>5</td><td>&quot;Mortgage Loan,…</td><td>33</td><td>12.0</td><td>15.88</td><td>13.0</td><td>&quot;Standard&quot;</td><td>2344.57</td><td>30.887833</td><td>&quot;6 Years and 7 …</td><td>&quot;Yes&quot;</td><td>261.201218</td><td>495.177432</td><td>&quot;Low spent Smal…</td><td>75.742017</td><td>&quot;Poor&quot;</td></tr><tr><td>&quot;0x25ee2&quot;</td><td>&quot;CUS_0x40ad&quot;</td><td>&quot;May&quot;</td><td>&quot;Dorisw&quot;</td><td>20</td><td>&quot;#F%$D@*&amp;8&quot;</td><td>&quot;Scientist&quot;</td><td>65858.48</td><td>5421.206667</td><td>7</td><td>7</td><td>30</td><td>5</td><td>&quot;Mortgage Loan,…</td><td>32</td><td>12.0</td><td>15.88</td><td>13.0</td><td>&quot;Standard&quot;</td><td>2344.57</td><td>39.268583</td><td>&quot;6 Years and 8 …</td><td>&quot;Yes&quot;</td><td>261.201218</td><td>623.003843</td><td>&quot;!@9#%8&quot;</td><td>null</td><td>&quot;Standard&quot;</td></tr><tr><td>&quot;0x25ee4&quot;</td><td>&quot;CUS_0x40ad&quot;</td><td>&quot;July&quot;</td><td>&quot;Dorisw&quot;</td><td>20</td><td>&quot;715-14-3312&quot;</td><td>&quot;Scientist&quot;</td><td>65858.48</td><td>5421.206667</td><td>7</td><td>7</td><td>30</td><td>5</td><td>&quot;Mortgage Loan,…</td><td>33</td><td>14.0</td><td>15.88</td><td>13.0</td><td>&quot;Standard&quot;</td><td>2344.57</td><td>28.076984</td><td>&quot;6 Years and 10…</td><td>&quot;NM&quot;</td><td>261.201218</td><td>208.007756</td><td>&quot;Low spent Smal…</td><td>362.911693</td><td>&quot;Standard&quot;</td></tr><tr><td>&quot;0x25ee5&quot;</td><td>&quot;CUS_0x40ad&quot;</td><td>&quot;August&quot;</td><td>&quot;Dorisw&quot;</td><td>20</td><td>&quot;715-14-3312&quot;</td><td>&quot;Scientist&quot;</td><td>65858.48</td><td>5421.206667</td><td>7</td><td>7</td><td>30</td><td>5</td><td>&quot;Mortgage Loan,…</td><td>33</td><td>null</td><td>15.88</td><td>13.0</td><td>&quot;Standard&quot;</td><td>2344.57</td><td>30.698125</td><td>&quot;6 Years and 11…</td><td>&quot;Yes&quot;</td><td>261.201218</td><td>198.513522</td><td>&quot;High spent Med…</td><td>332.405927</td><td>&quot;Poor&quot;</td></tr><tr><td>&quot;0x25f32&quot;</td><td>&quot;CUS_0x3855&quot;</td><td>&quot;January&quot;</td><td>&quot;Xolai&quot;</td><td>27</td><td>&quot;963-55-7106&quot;</td><td>&quot;Scientist&quot;</td><td>118677.54</td><td>9963.795</td><td>4</td><td>4</td><td>6</td><td>4</td><td>&quot;Debt Consolida…</td><td>4</td><td>13.0</td><td>9.59</td><td>74.0</td><td>&quot;Good&quot;</td><td>995.47</td><td>36.238303</td><td>&quot;29 Years and 1…</td><td>&quot;No&quot;</td><td>38424.0</td><td>null</td><td>&quot;High spent Lar…</td><td>842.58674</td><td>&quot;Good&quot;</td></tr><tr><td>&quot;0x25f34&quot;</td><td>&quot;CUS_0x3855&quot;</td><td>&quot;March&quot;</td><td>&quot;Xolai&quot;</td><td>27</td><td>&quot;963-55-7106&quot;</td><td>&quot;Scientist&quot;</td><td>118677.54</td><td>9963.795</td><td>4</td><td>4</td><td>6</td><td>4</td><td>&quot;Debt Consolida…</td><td>3</td><td>11.0</td><td>9.59</td><td>null</td><td>&quot;&quot;</td><td>995.47</td><td>32.808662</td><td>null</td><td>&quot;No&quot;</td><td>237.106366</td><td>10000.0</td><td>&quot;High spent Med…</td><td>751.613048</td><td>&quot;Good&quot;</td></tr><tr><td>&quot;0x25f35&quot;</td><td>&quot;CUS_0x3855&quot;</td><td>&quot;April&quot;</td><td>&quot;Xolai&quot;</td><td>27</td><td>&quot;963-55-7106&quot;</td><td>&quot;Scientist&quot;</td><td>118677.54</td><td>9963.795</td><td>4</td><td>4</td><td>6</td><td>4</td><td>&quot;Debt Consolida…</td><td>3</td><td>null</td><td>9.59</td><td>5.0</td><td>&quot;&quot;</td><td>995.47</td><td>31.108037</td><td>&quot;30 Years and 2…</td><td>&quot;NM&quot;</td><td>237.106366</td><td>287.234631</td><td>&quot;Low spent Medi…</td><td>752.038503</td><td>&quot;Good&quot;</td></tr><tr><td>&quot;0x25f36&quot;</td><td>&quot;CUS_0x3855&quot;</td><td>&quot;May&quot;</td><td>&quot;Xolai&quot;</td><td>27</td><td>&quot;#F%$D@*&amp;8&quot;</td><td>&quot;Scientist&quot;</td><td>118677.54</td><td>9963.795</td><td>4</td><td>4</td><td>6</td><td>-100</td><td>&quot;Debt Consolida…</td><td>1</td><td>11.0</td><td>9.59</td><td>5.0</td><td>&quot;&quot;</td><td>995.47</td><td>42.272114</td><td>&quot;30 Years and 3…</td><td>&quot;No&quot;</td><td>237.106366</td><td>94.757926</td><td>&quot;High spent Lar…</td><td>904.515208</td><td>&quot;Good&quot;</td></tr><tr><td>&quot;0x25f38&quot;</td><td>&quot;CUS_0x3855&quot;</td><td>&quot;July&quot;</td><td>null</td><td>27</td><td>&quot;963-55-7106&quot;</td><td>&quot;Scientist&quot;</td><td>118677.54</td><td>9963.795</td><td>4</td><td>4</td><td>6</td><td>4</td><td>&quot;Debt Consolida…</td><td>3</td><td>12.0</td><td>9.59</td><td>5.0</td><td>&quot;Good&quot;</td><td>995.47</td><td>36.246273</td><td>&quot;30 Years and 5…</td><td>&quot;No&quot;</td><td>237.106366</td><td>198.762526</td><td>&quot;!@9#%8&quot;</td><td>810.510608</td><td>&quot;Good&quot;</td></tr><tr><td>&quot;0x25f39&quot;</td><td>&quot;CUS_0x3855&quot;</td><td>&quot;August&quot;</td><td>&quot;Xolai&quot;</td><td>27</td><td>&quot;#F%$D@*&amp;8&quot;</td><td>&quot;Scientist&quot;</td><td>118677.54</td><td>9963.795</td><td>4</td><td>4</td><td>6</td><td>4</td><td>&quot;Debt Consolida…</td><td>3</td><td>11.0</td><td>9.59</td><td>5.0</td><td>&quot;Good&quot;</td><td>995.47</td><td>39.747228</td><td>&quot;30 Years and 6…</td><td>&quot;No&quot;</td><td>237.106366</td><td>10000.0</td><td>&quot;High spent Med…</td><td>801.752296</td><td>&quot;Good&quot;</td></tr></tbody></table></div>"
      ],
      "text/plain": [
       "shape: (5_642, 28)\n",
       "┌─────────┬────────────┬─────────┬────────────┬───┬────────────┬───────────┬───────────┬───────────┐\n",
       "│ ID      ┆ Customer_I ┆ Month   ┆ Name       ┆ … ┆ Amount_inv ┆ Payment_B ┆ Monthly_B ┆ Credit_Sc │\n",
       "│ ---     ┆ D          ┆ ---     ┆ ---        ┆   ┆ ested_mont ┆ ehaviour  ┆ alance    ┆ ore       │\n",
       "│ str     ┆ ---        ┆ str     ┆ str        ┆   ┆ hly        ┆ ---       ┆ ---       ┆ ---       │\n",
       "│         ┆ str        ┆         ┆            ┆   ┆ ---        ┆ str       ┆ f64       ┆ str       │\n",
       "│         ┆            ┆         ┆            ┆   ┆ f64        ┆           ┆           ┆           │\n",
       "╞═════════╪════════════╪═════════╪════════════╪═══╪════════════╪═══════════╪═══════════╪═══════════╡\n",
       "│ 0x1602  ┆ CUS_0xd40  ┆ January ┆ Aaron      ┆ … ┆ 80.415295  ┆ High      ┆ 312.49408 ┆ Good      │\n",
       "│         ┆            ┆         ┆ Maashoh    ┆   ┆            ┆ spent     ┆ 9         ┆           │\n",
       "│         ┆            ┆         ┆            ┆   ┆            ┆ Small     ┆           ┆           │\n",
       "│         ┆            ┆         ┆            ┆   ┆            ┆ value     ┆           ┆           │\n",
       "│         ┆            ┆         ┆            ┆   ┆            ┆ payments  ┆           ┆           │\n",
       "│ 0x1606  ┆ CUS_0xd40  ┆ May     ┆ Aaron      ┆ … ┆ 41.420153  ┆ High      ┆ 341.48923 ┆ Good      │\n",
       "│         ┆            ┆         ┆ Maashoh    ┆   ┆            ┆ spent     ┆ 1         ┆           │\n",
       "│         ┆            ┆         ┆            ┆   ┆            ┆ Medium    ┆           ┆           │\n",
       "│         ┆            ┆         ┆            ┆   ┆            ┆ value     ┆           ┆           │\n",
       "│         ┆            ┆         ┆            ┆   ┆            ┆ payments  ┆           ┆           │\n",
       "│ 0x1608  ┆ CUS_0xd40  ┆ July    ┆ Aaron      ┆ … ┆ 178.344067 ┆ Low spent ┆ 244.56531 ┆ Good      │\n",
       "│         ┆            ┆         ┆ Maashoh    ┆   ┆            ┆ Small     ┆ 7         ┆           │\n",
       "│         ┆            ┆         ┆            ┆   ┆            ┆ value     ┆           ┆           │\n",
       "│         ┆            ┆         ┆            ┆   ┆            ┆ payments  ┆           ┆           │\n",
       "│ 0x1609  ┆ CUS_0xd40  ┆ August  ┆ null       ┆ … ┆ 24.785217  ┆ High      ┆ 358.12416 ┆ Standard  │\n",
       "│         ┆            ┆         ┆            ┆   ┆            ┆ spent     ┆ 8         ┆           │\n",
       "│         ┆            ┆         ┆            ┆   ┆            ┆ Medium    ┆           ┆           │\n",
       "│         ┆            ┆         ┆            ┆   ┆            ┆ value     ┆           ┆           │\n",
       "│         ┆            ┆         ┆            ┆   ┆            ┆ payments  ┆           ┆           │\n",
       "│ …       ┆ …          ┆ …       ┆ …          ┆ … ┆ …          ┆ …         ┆ …         ┆ …         │\n",
       "│ 0x25f35 ┆ CUS_0x3855 ┆ April   ┆ Xolai      ┆ … ┆ 287.234631 ┆ Low spent ┆ 752.03850 ┆ Good      │\n",
       "│         ┆            ┆         ┆            ┆   ┆            ┆ Medium    ┆ 3         ┆           │\n",
       "│         ┆            ┆         ┆            ┆   ┆            ┆ value     ┆           ┆           │\n",
       "│         ┆            ┆         ┆            ┆   ┆            ┆ payments  ┆           ┆           │\n",
       "│ 0x25f36 ┆ CUS_0x3855 ┆ May     ┆ Xolai      ┆ … ┆ 94.757926  ┆ High      ┆ 904.51520 ┆ Good      │\n",
       "│         ┆            ┆         ┆            ┆   ┆            ┆ spent     ┆ 8         ┆           │\n",
       "│         ┆            ┆         ┆            ┆   ┆            ┆ Large     ┆           ┆           │\n",
       "│         ┆            ┆         ┆            ┆   ┆            ┆ value     ┆           ┆           │\n",
       "│         ┆            ┆         ┆            ┆   ┆            ┆ payments  ┆           ┆           │\n",
       "│ 0x25f38 ┆ CUS_0x3855 ┆ July    ┆ null       ┆ … ┆ 198.762526 ┆ !@9#%8    ┆ 810.51060 ┆ Good      │\n",
       "│         ┆            ┆         ┆            ┆   ┆            ┆           ┆ 8         ┆           │\n",
       "│ 0x25f39 ┆ CUS_0x3855 ┆ August  ┆ Xolai      ┆ … ┆ 10000.0    ┆ High      ┆ 801.75229 ┆ Good      │\n",
       "│         ┆            ┆         ┆            ┆   ┆            ┆ spent     ┆ 6         ┆           │\n",
       "│         ┆            ┆         ┆            ┆   ┆            ┆ Medium    ┆           ┆           │\n",
       "│         ┆            ┆         ┆            ┆   ┆            ┆ value     ┆           ┆           │\n",
       "│         ┆            ┆         ┆            ┆   ┆            ┆ payments  ┆           ┆           │\n",
       "└─────────┴────────────┴─────────┴────────────┴───┴────────────┴───────────┴───────────┴───────────┘"
      ]
     },
     "execution_count": 11,
     "metadata": {},
     "output_type": "execute_result"
    }
   ],
   "source": [
    "out = ( df\n",
    "        .filter(\n",
    "            (pl.col(\"Occupation\") == \"Scientist\")\n",
    "            | (pl.col(\"Occupation\") == \"Developer\")\n",
    "          )\n",
    "          .filter(\n",
    "            (pl.col(\"Annual_Income\") > 0)\n",
    "            & (pl.col(\"Monthly_Inhand_Salary\") > 0)\n",
    "          ) \n",
    "          .filter(pl.col(\"Age\") < 35)\n",
    "      )\n",
    "\n",
    "out"
   ]
  },
  {
   "cell_type": "code",
   "execution_count": 12,
   "id": "f964b8c6",
   "metadata": {},
   "outputs": [
    {
     "data": {
      "text/html": [
       "<div><style>\n",
       ".dataframe > thead > tr > th,\n",
       ".dataframe > tbody > tr > td {\n",
       "  text-align: right;\n",
       "}\n",
       "</style>\n",
       "<small>shape: (5_179, 2)</small><table border=\"1\" class=\"dataframe\"><thead><tr><th>Monthly_Inhand_Salary</th><th>conditional</th></tr><tr><td>f64</td><td>bool</td></tr></thead><tbody><tr><td>15204.633333</td><td>true</td></tr><tr><td>15167.18</td><td>true</td></tr><tr><td>15136.696667</td><td>true</td></tr><tr><td>15115.19</td><td>true</td></tr><tr><td>15101.94</td><td>true</td></tr><tr><td>15091.086667</td><td>true</td></tr><tr><td>15090.076667</td><td>true</td></tr><tr><td>15066.783333</td><td>true</td></tr><tr><td>15038.316667</td><td>true</td></tr><tr><td>14978.336667</td><td>true</td></tr><tr><td>14960.25</td><td>true</td></tr><tr><td>14958.336667</td><td>true</td></tr><tr><td>&hellip;</td><td>&hellip;</td></tr><tr><td>4201.778333</td><td>true</td></tr><tr><td>4201.221667</td><td>true</td></tr><tr><td>4200.76</td><td>true</td></tr><tr><td>4197.953333</td><td>true</td></tr><tr><td>4197.8725</td><td>true</td></tr><tr><td>4197.745</td><td>true</td></tr><tr><td>4197.695</td><td>true</td></tr><tr><td>4197.655</td><td>true</td></tr><tr><td>4195.975</td><td>true</td></tr><tr><td>4194.1275</td><td>true</td></tr><tr><td>4193.713333</td><td>true</td></tr><tr><td>4193.16</td><td>true</td></tr></tbody></table></div>"
      ],
      "text/plain": [
       "shape: (5_179, 2)\n",
       "┌───────────────────────┬─────────────┐\n",
       "│ Monthly_Inhand_Salary ┆ conditional │\n",
       "│ ---                   ┆ ---         │\n",
       "│ f64                   ┆ bool        │\n",
       "╞═══════════════════════╪═════════════╡\n",
       "│ 15204.633333          ┆ true        │\n",
       "│ 15167.18              ┆ true        │\n",
       "│ 15136.696667          ┆ true        │\n",
       "│ 15115.19              ┆ true        │\n",
       "│ …                     ┆ …           │\n",
       "│ 4195.975              ┆ true        │\n",
       "│ 4194.1275             ┆ true        │\n",
       "│ 4193.713333           ┆ true        │\n",
       "│ 4193.16               ┆ true        │\n",
       "└───────────────────────┴─────────────┘"
      ]
     },
     "execution_count": 12,
     "metadata": {},
     "output_type": "execute_result"
    }
   ],
   "source": [
    "out = (\n",
    "    df\n",
    "    .unique(\"Monthly_Inhand_Salary\", maintain_order=True)\n",
    "    .select(\n",
    "        pl.col(\"Monthly_Inhand_Salary\")\n",
    "        , pl.when(pl.col(\"Monthly_Inhand_Salary\") > pl.mean(\"Monthly_Inhand_Salary\"))\n",
    "            .then(pl.lit(True))\n",
    "            .otherwise(pl.lit(False))\n",
    "            .alias(\"conditional\"))\n",
    "    .filter(pl.col(\"conditional\") == True)\n",
    "    .sort(\"Monthly_Inhand_Salary\", descending = True)\n",
    ")\n",
    "\n",
    "out"
   ]
  },
  {
   "cell_type": "code",
   "execution_count": 13,
   "id": "a00081f2",
   "metadata": {},
   "outputs": [
    {
     "data": {
      "text/html": [
       "<div><style>\n",
       ".dataframe > thead > tr > th,\n",
       ".dataframe > tbody > tr > td {\n",
       "  text-align: right;\n",
       "}\n",
       "</style>\n",
       "<small>shape: (10_129, 3)</small><table border=\"1\" class=\"dataframe\"><thead><tr><th>Name</th><th>byte_count</th><th>letter_count</th></tr><tr><td>str</td><td>u32</td><td>u32</td></tr></thead><tbody><tr><td>null</td><td>null</td><td>null</td></tr><tr><td>&quot;A. Ananthalaks…</td><td>18</td><td>18</td></tr><tr><td>&quot;A. Ananthalaks…</td><td>18</td><td>18</td></tr><tr><td>&quot;A. Ananthalaks…</td><td>18</td><td>18</td></tr><tr><td>&quot;A. Anathalaksh…</td><td>17</td><td>17</td></tr><tr><td>&quot;A.b&quot;</td><td>3</td><td>3</td></tr><tr><td>&quot;A.g&quot;</td><td>3</td><td>3</td></tr><tr><td>&quot;A.i&quot;</td><td>3</td><td>3</td></tr><tr><td>&quot;A.j&quot;</td><td>3</td><td>3</td></tr><tr><td>&quot;A.k&quot;</td><td>3</td><td>3</td></tr><tr><td>&quot;A.o&quot;</td><td>3</td><td>3</td></tr><tr><td>&quot;A.u&quot;</td><td>3</td><td>3</td></tr><tr><td>&hellip;</td><td>&hellip;</td><td>&hellip;</td></tr><tr><td>&quot;ro Manuelaj&quot;</td><td>11</td><td>11</td></tr><tr><td>&quot;rob&quot;</td><td>3</td><td>3</td></tr><tr><td>&quot;roo&quot;</td><td>3</td><td>3</td></tr><tr><td>&quot;rucek&quot;</td><td>5</td><td>5</td></tr><tr><td>&quot;t Astridn&quot;</td><td>9</td><td>9</td></tr><tr><td>&quot;t Pascalei&quot;</td><td>10</td><td>10</td></tr><tr><td>&quot;t Pascales&quot;</td><td>10</td><td>10</td></tr><tr><td>&quot;tg&quot;</td><td>2</td><td>2</td></tr><tr><td>&quot;ty&quot;</td><td>2</td><td>2</td></tr><tr><td>&quot;yi&quot;</td><td>2</td><td>2</td></tr><tr><td>&quot;yk&quot;</td><td>2</td><td>2</td></tr><tr><td>&quot;yv&quot;</td><td>2</td><td>2</td></tr></tbody></table></div>"
      ],
      "text/plain": [
       "shape: (10_129, 3)\n",
       "┌────────────────────┬────────────┬──────────────┐\n",
       "│ Name               ┆ byte_count ┆ letter_count │\n",
       "│ ---                ┆ ---        ┆ ---          │\n",
       "│ str                ┆ u32        ┆ u32          │\n",
       "╞════════════════════╪════════════╪══════════════╡\n",
       "│ null               ┆ null       ┆ null         │\n",
       "│ A. Ananthalakshmih ┆ 18         ┆ 18           │\n",
       "│ A. Ananthalakshmiq ┆ 18         ┆ 18           │\n",
       "│ A. Ananthalakshmix ┆ 18         ┆ 18           │\n",
       "│ …                  ┆ …          ┆ …            │\n",
       "│ ty                 ┆ 2          ┆ 2            │\n",
       "│ yi                 ┆ 2          ┆ 2            │\n",
       "│ yk                 ┆ 2          ┆ 2            │\n",
       "│ yv                 ┆ 2          ┆ 2            │\n",
       "└────────────────────┴────────────┴──────────────┘"
      ]
     },
     "execution_count": 13,
     "metadata": {},
     "output_type": "execute_result"
    }
   ],
   "source": [
    "out = ( df\n",
    "        .select(pl.col(\"Name\").str.replace(r'\"|,', \"\"))\n",
    "        .select(pl.col(\"Name\").str.strip())\n",
    "        .unique(\"Name\", maintain_order=True)\n",
    "       .select(\n",
    "            pl.col(\"Name\")\n",
    "            , pl.col(\"Name\").str.lengths().alias(\"byte_count\")\n",
    "            , pl.col(\"Name\").str.n_chars().alias(\"letter_count\")\n",
    "        )\n",
    "       .sort(\"Name\")\n",
    "      )\n",
    "\n",
    "out"
   ]
  },
  {
   "cell_type": "code",
   "execution_count": 14,
   "id": "87fa5896",
   "metadata": {},
   "outputs": [
    {
     "data": {
      "text/html": [
       "<div><style>\n",
       ".dataframe > thead > tr > th,\n",
       ".dataframe > tbody > tr > td {\n",
       "  text-align: right;\n",
       "}\n",
       "</style>\n",
       "<small>shape: (10_129, 5)</small><table border=\"1\" class=\"dataframe\"><thead><tr><th>Name</th><th>regex</th><th>literal</th><th>starts_with</th><th>ends_with</th></tr><tr><td>str</td><td>bool</td><td>bool</td><td>bool</td><td>bool</td></tr></thead><tbody><tr><td>null</td><td>null</td><td>null</td><td>null</td><td>null</td></tr><tr><td>&quot;A. Ananthalaks…</td><td>true</td><td>false</td><td>false</td><td>false</td></tr><tr><td>&quot;A. Ananthalaks…</td><td>true</td><td>false</td><td>false</td><td>false</td></tr><tr><td>&quot;A. Ananthalaks…</td><td>true</td><td>false</td><td>false</td><td>false</td></tr><tr><td>&quot;A. Anathalaksh…</td><td>false</td><td>false</td><td>false</td><td>false</td></tr><tr><td>&quot;A.b&quot;</td><td>false</td><td>false</td><td>false</td><td>false</td></tr><tr><td>&quot;A.g&quot;</td><td>false</td><td>false</td><td>false</td><td>false</td></tr><tr><td>&quot;A.i&quot;</td><td>false</td><td>false</td><td>false</td><td>false</td></tr><tr><td>&quot;A.j&quot;</td><td>false</td><td>false</td><td>false</td><td>false</td></tr><tr><td>&quot;A.k&quot;</td><td>false</td><td>false</td><td>false</td><td>false</td></tr><tr><td>&quot;A.o&quot;</td><td>false</td><td>false</td><td>false</td><td>false</td></tr><tr><td>&quot;A.u&quot;</td><td>false</td><td>false</td><td>false</td><td>false</td></tr><tr><td>&hellip;</td><td>&hellip;</td><td>&hellip;</td><td>&hellip;</td><td>&hellip;</td></tr><tr><td>&quot;ro Manuelaj&quot;</td><td>false</td><td>false</td><td>true</td><td>false</td></tr><tr><td>&quot;rob&quot;</td><td>false</td><td>true</td><td>true</td><td>false</td></tr><tr><td>&quot;roo&quot;</td><td>false</td><td>false</td><td>true</td><td>false</td></tr><tr><td>&quot;rucek&quot;</td><td>false</td><td>false</td><td>false</td><td>false</td></tr><tr><td>&quot;t Astridn&quot;</td><td>false</td><td>false</td><td>false</td><td>false</td></tr><tr><td>&quot;t Pascalei&quot;</td><td>true</td><td>false</td><td>false</td><td>false</td></tr><tr><td>&quot;t Pascales&quot;</td><td>true</td><td>false</td><td>false</td><td>true</td></tr><tr><td>&quot;tg&quot;</td><td>false</td><td>false</td><td>false</td><td>false</td></tr><tr><td>&quot;ty&quot;</td><td>false</td><td>false</td><td>false</td><td>false</td></tr><tr><td>&quot;yi&quot;</td><td>false</td><td>false</td><td>false</td><td>false</td></tr><tr><td>&quot;yk&quot;</td><td>false</td><td>false</td><td>false</td><td>false</td></tr><tr><td>&quot;yv&quot;</td><td>false</td><td>false</td><td>false</td><td>false</td></tr></tbody></table></div>"
      ],
      "text/plain": [
       "shape: (10_129, 5)\n",
       "┌────────────────────┬───────┬─────────┬─────────────┬───────────┐\n",
       "│ Name               ┆ regex ┆ literal ┆ starts_with ┆ ends_with │\n",
       "│ ---                ┆ ---   ┆ ---     ┆ ---         ┆ ---       │\n",
       "│ str                ┆ bool  ┆ bool    ┆ bool        ┆ bool      │\n",
       "╞════════════════════╪═══════╪═════════╪═════════════╪═══════════╡\n",
       "│ null               ┆ null  ┆ null    ┆ null        ┆ null      │\n",
       "│ A. Ananthalakshmih ┆ true  ┆ false   ┆ false       ┆ false     │\n",
       "│ A. Ananthalakshmiq ┆ true  ┆ false   ┆ false       ┆ false     │\n",
       "│ A. Ananthalakshmix ┆ true  ┆ false   ┆ false       ┆ false     │\n",
       "│ …                  ┆ …     ┆ …       ┆ …           ┆ …         │\n",
       "│ ty                 ┆ false ┆ false   ┆ false       ┆ false     │\n",
       "│ yi                 ┆ false ┆ false   ┆ false       ┆ false     │\n",
       "│ yk                 ┆ false ┆ false   ┆ false       ┆ false     │\n",
       "│ yv                 ┆ false ┆ false   ┆ false       ┆ false     │\n",
       "└────────────────────┴───────┴─────────┴─────────────┴───────────┘"
      ]
     },
     "execution_count": 14,
     "metadata": {},
     "output_type": "execute_result"
    }
   ],
   "source": [
    "out = (\n",
    "    df\n",
    "    .select(pl.col(\"Name\").str.replace(r'\"|,', \"\"))\n",
    "    .select(pl.col(\"Name\").str.strip())\n",
    "    .unique(\"Name\", maintain_order=True)\n",
    "    .select(\n",
    "        pl.col(\"Name\"),\n",
    "        pl.col(\"Name\").str.contains(\"Ananthalaks|Pasca\").alias(\"regex\"),\n",
    "        pl.col(\"Name\").str.contains(\"rob\", literal=True).alias(\"literal\"),\n",
    "        pl.col(\"Name\").str.starts_with(\"ro\").alias(\"starts_with\"),\n",
    "        pl.col(\"Name\").str.ends_with(\"Pascales\").alias(\"ends_with\"),\n",
    "    )\n",
    "    .sort(\"Name\")\n",
    ")\n",
    "\n",
    "out"
   ]
  }
 ],
 "metadata": {
  "kernelspec": {
   "display_name": "Python 3 (ipykernel)",
   "language": "python",
   "name": "python3"
  },
  "language_info": {
   "codemirror_mode": {
    "name": "ipython",
    "version": 3
   },
   "file_extension": ".py",
   "mimetype": "text/x-python",
   "name": "python",
   "nbconvert_exporter": "python",
   "pygments_lexer": "ipython3",
   "version": "3.11.3"
  }
 },
 "nbformat": 4,
 "nbformat_minor": 5
}
