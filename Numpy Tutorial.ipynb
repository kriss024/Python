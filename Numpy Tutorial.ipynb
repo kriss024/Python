{
 "cells": [
  {
   "cell_type": "markdown",
   "metadata": {
    "colab_type": "text",
    "id": "cOImY1ar6SLY"
   },
   "source": [
    "### Python Numpy Array Tutorial"
   ]
  },
  {
   "cell_type": "code",
   "execution_count": 1,
   "metadata": {
    "colab": {
     "base_uri": "https://localhost:8080/",
     "height": 173
    },
    "colab_type": "code",
    "executionInfo": {
     "elapsed": 973,
     "status": "ok",
     "timestamp": 1563658222929,
     "user": {
      "displayName": "Krzysztof Bruszewski",
      "photoUrl": "https://lh4.googleusercontent.com/-uV0-wDJ-R2g/AAAAAAAAAAI/AAAAAAAALRA/TW0TOh0OXuo/s64/photo.jpg",
      "userId": "11139975063881261812"
     },
     "user_tz": -120
    },
    "id": "gcwl8xzqy5Q1",
    "outputId": "7d4f6811-f719-4910-9e51-8628a5205911"
   },
   "outputs": [
    {
     "name": "stdout",
     "output_type": "stream",
     "text": [
      "[23.34925219 27.88755755 28.75558507 25.48723993 23.87257618 25.84368152]\n",
      "<class 'numpy.ndarray'>\n",
      "[23.349252194801107, 27.887557550973714, 28.755585074266392, 25.48723993311587, 23.87257617728532, 25.843681519357194]\n",
      "<class 'list'>\n",
      "[False  True  True False False  True]\n",
      "[27.88755755 28.75558507 25.84368152]\n",
      "[ 91.65 107.52 105.25 102.98  96.18  98.45]\n",
      "(6,)\n",
      "float64\n"
     ]
    }
   ],
   "source": [
    "height = [1.87,  1.87, 1.82, 1.91, 1.90, 1.85]\n",
    "weight = [81.65, 97.52, 95.25, 92.98, 86.18, 88.45]\n",
    "\n",
    "import numpy as np\n",
    "\n",
    "np_height = np.array(height)\n",
    "np_weight = np.array(weight)\n",
    "\n",
    "bmi = np_weight / np_height ** 2\n",
    "print(bmi)\n",
    "print(type(bmi))\n",
    "\n",
    "lista = bmi.tolist()\n",
    "print(lista)\n",
    "print(type(lista))\n",
    "\n",
    "bmi_logiczne = bmi > 25.5\n",
    "bmi_wybrane = bmi[bmi > 25.5]\n",
    "print(bmi_logiczne)\n",
    "print(bmi_wybrane)\n",
    "\n",
    "weight_kg = [81.65, 97.52, 95.25, 92.98, 86.18, 88.45]\n",
    "np_weight_kg = np.array(weight_kg)\n",
    "np_weight_kg_plus = np_weight_kg + 10\n",
    "print(np_weight_kg_plus)\n",
    "print(np_weight_kg_plus.shape)\n",
    "print(np_weight_kg_plus.dtype)"
   ]
  },
  {
   "cell_type": "code",
   "execution_count": 2,
   "metadata": {
    "colab": {
     "base_uri": "https://localhost:8080/",
     "height": 277
    },
    "colab_type": "code",
    "executionInfo": {
     "elapsed": 1178,
     "status": "ok",
     "timestamp": 1563658231567,
     "user": {
      "displayName": "Krzysztof Bruszewski",
      "photoUrl": "https://lh4.googleusercontent.com/-uV0-wDJ-R2g/AAAAAAAAAAI/AAAAAAAALRA/TW0TOh0OXuo/s64/photo.jpg",
      "userId": "11139975063881261812"
     },
     "user_tz": -120
    },
    "id": "Kch9SV1Z-Xfy",
    "outputId": "fe44c390-b3a2-4fec-921c-97ee16365c57"
   },
   "outputs": [
    {
     "name": "stdout",
     "output_type": "stream",
     "text": [
      "[[ 91.65 107.52 105.25]\n",
      " [102.98  96.18  98.45]]\n",
      "[ 1  2  3  4  5  6  7  8  9 10]\n",
      "[1.         1.55555556 2.11111111 2.66666667 3.22222222 3.77777778\n",
      " 4.33333333 4.88888889 5.44444444 6.        ]\n",
      "[[0. 0.]\n",
      " [0. 0.]]\n",
      "[[1. 1.]\n",
      " [1. 1.]\n",
      " [1. 1.]]\n",
      "5\n",
      "A subset of array a =  [3 4 5]\n",
      "Horizontal Append: [1 2 3 4 5 6]\n",
      "Vertical Append: [[1 2 3]\n",
      " [4 5 6]]\n"
     ]
    }
   ],
   "source": [
    "print(np.empty((2,3)))\n",
    "print(np.arange(1, 11))\n",
    "print(np.linspace(1.0, 6.0, num=10))\n",
    "print(np.zeros((2,2)))\n",
    "print(np.ones((3,2)))\n",
    "\n",
    "a = np.arange(10) \n",
    "b = a[5] \n",
    "print(b)\n",
    "\n",
    "a = np.array([1, 2, 3, 4, 5, 6, 7, 8])\n",
    "print(\"A subset of array a = \", a[2:5])\n",
    "\n",
    "f = np.array([1,2,3])\n",
    "g = np.array([4,5,6])\n",
    "print('Horizontal Append:', np.hstack((f, g)))\n",
    "print('Vertical Append:', np.vstack((f, g)))"
   ]
  },
  {
   "cell_type": "code",
   "execution_count": 3,
   "metadata": {
    "colab": {
     "base_uri": "https://localhost:8080/",
     "height": 260
    },
    "colab_type": "code",
    "executionInfo": {
     "elapsed": 1011,
     "status": "ok",
     "timestamp": 1563610514002,
     "user": {
      "displayName": "Krzysztof Bruszewski",
      "photoUrl": "https://lh4.googleusercontent.com/-uV0-wDJ-R2g/AAAAAAAAAAI/AAAAAAAALRA/TW0TOh0OXuo/s64/photo.jpg",
      "userId": "11139975063881261812"
     },
     "user_tz": -120
    },
    "id": "cdixNEK5CU-q",
    "outputId": "51754971-9d7d-40a3-ad95-c72ac84a13e6"
   },
   "outputs": [
    {
     "name": "stdout",
     "output_type": "stream",
     "text": [
      "[[1 2]\n",
      " [3 4]\n",
      " [5 6]]\n",
      "[[1. 1. 1. 1.]\n",
      " [1. 1. 1. 1.]\n",
      " [1. 1. 1. 1.]\n",
      " [1. 1. 1. 1.]]\n",
      "[[1. 1. 1. 1.]\n",
      " [1. 1. 1. 1.]\n",
      " [2. 2. 2. 2.]\n",
      " [1. 1. 1. 1.]]\n",
      "(4, 4)\n",
      "16\n",
      "float64\n"
     ]
    }
   ],
   "source": [
    "A = np.array([[1,2,3],[4,5,6]]) \n",
    "A.shape = (3,2) \n",
    "print(A)\n",
    "\n",
    "A = np.matrix(np.ones((4,4)))\n",
    "np.array(A)[2]=2\n",
    "print(A)\n",
    "\n",
    "np.asarray(A)[2]=2\n",
    "print(A)\n",
    "\n",
    "print(A.shape)\n",
    "print(A.size)\n",
    "print(A.dtype)"
   ]
  },
  {
   "cell_type": "code",
   "execution_count": 4,
   "metadata": {
    "colab": {
     "base_uri": "https://localhost:8080/",
     "height": 104
    },
    "colab_type": "code",
    "executionInfo": {
     "elapsed": 1193,
     "status": "ok",
     "timestamp": 1563571067238,
     "user": {
      "displayName": "Krzysztof Bruszewski",
      "photoUrl": "https://lh4.googleusercontent.com/-uV0-wDJ-R2g/AAAAAAAAAAI/AAAAAAAALRA/TW0TOh0OXuo/s64/photo.jpg",
      "userId": "11139975063881261812"
     },
     "user_tz": -120
    },
    "id": "XPi-DmieFLEB",
    "outputId": "8928e1e1-fa42-4230-cece-1b968b6cb9c0"
   },
   "outputs": [
    {
     "name": "stdout",
     "output_type": "stream",
     "text": [
      "-4.056175218781591\n",
      "4.164713588802556\n",
      "-0.0019146647693954399\n",
      "-0.003651493413019067\n",
      "1.0023362774115459\n"
     ]
    }
   ],
   "source": [
    "mu, sigma = 0, 1\n",
    "normal_array = np.random.normal(mu, sigma, 100000)\n",
    "\n",
    "print(np.min(normal_array))\n",
    "print(np.max(normal_array))\n",
    "print(np.mean(normal_array))\n",
    "print(np.median(normal_array))\n",
    "print(np.std(normal_array))"
   ]
  },
  {
   "cell_type": "code",
   "execution_count": 5,
   "metadata": {
    "colab": {
     "base_uri": "https://localhost:8080/",
     "height": 35
    },
    "colab_type": "code",
    "executionInfo": {
     "elapsed": 1414,
     "status": "ok",
     "timestamp": 1563609675465,
     "user": {
      "displayName": "Krzysztof Bruszewski",
      "photoUrl": "https://lh4.googleusercontent.com/-uV0-wDJ-R2g/AAAAAAAAAAI/AAAAAAAALRA/TW0TOh0OXuo/s64/photo.jpg",
      "userId": "11139975063881261812"
     },
     "user_tz": -120
    },
    "id": "InywNZOhZSDl",
    "outputId": "d5ce6bf7-6001-4d20-8f38-7cba87ac2cf4"
   },
   "outputs": [
    {
     "name": "stdout",
     "output_type": "stream",
     "text": [
      "[1 2 3 4 5]\n"
     ]
    }
   ],
   "source": [
    "a = np.array([1,2,3,4,5]) \n",
    "np.save('plik',a)\n",
    "\n",
    "b = np.load('plik.npy') \n",
    "print(b)"
   ]
  },
  {
   "cell_type": "code",
   "execution_count": 6,
   "metadata": {
    "colab": {
     "base_uri": "https://localhost:8080/",
     "height": 269
    },
    "colab_type": "code",
    "executionInfo": {
     "elapsed": 1634,
     "status": "ok",
     "timestamp": 1563610686029,
     "user": {
      "displayName": "Krzysztof Bruszewski",
      "photoUrl": "https://lh4.googleusercontent.com/-uV0-wDJ-R2g/AAAAAAAAAAI/AAAAAAAALRA/TW0TOh0OXuo/s64/photo.jpg",
      "userId": "11139975063881261812"
     },
     "user_tz": -120
    },
    "id": "NGfAPYXYdUww",
    "outputId": "9d9bfa85-b94b-4576-daed-40091faeb523"
   },
   "outputs": [
    {
     "data": {
      "image/png": "[encoded data removed]",
      "text/plain": [
       "<Figure size 432x288 with 2 Axes>"
      ]
     },
     "metadata": {
      "needs_background": "light"
     },
     "output_type": "display_data"
    }
   ],
   "source": [
    "import matplotlib.pyplot as plt\n",
    "\n",
    "points = np.arange(-5, 5, 0.01)\n",
    "xs, ys = np.meshgrid(points, points)\n",
    "z = np.sqrt(xs ** 2 + ys ** 2)\n",
    "plt.imshow(z, cmap=plt.cm.gray)\n",
    "plt.colorbar()\n",
    "plt.show()"
   ]
  },
  {
   "cell_type": "code",
   "execution_count": 7,
   "metadata": {},
   "outputs": [
    {
     "data": {
      "text/html": [
       "<div>\n",
       "<style scoped>\n",
       "    .dataframe tbody tr th:only-of-type {\n",
       "        vertical-align: middle;\n",
       "    }\n",
       "\n",
       "    .dataframe tbody tr th {\n",
       "        vertical-align: top;\n",
       "    }\n",
       "\n",
       "    .dataframe thead th {\n",
       "        text-align: right;\n",
       "    }\n",
       "</style>\n",
       "<table border=\"1\" class=\"dataframe\">\n",
       "  <thead>\n",
       "    <tr style=\"text-align: right;\">\n",
       "      <th></th>\n",
       "      <th>x</th>\n",
       "      <th>y</th>\n",
       "    </tr>\n",
       "  </thead>\n",
       "  <tbody>\n",
       "    <tr>\n",
       "      <th>0</th>\n",
       "      <td>0.001</td>\n",
       "      <td>-3.000000</td>\n",
       "    </tr>\n",
       "    <tr>\n",
       "      <th>1</th>\n",
       "      <td>0.002</td>\n",
       "      <td>-2.698970</td>\n",
       "    </tr>\n",
       "    <tr>\n",
       "      <th>2</th>\n",
       "      <td>0.003</td>\n",
       "      <td>-2.522879</td>\n",
       "    </tr>\n",
       "    <tr>\n",
       "      <th>3</th>\n",
       "      <td>0.004</td>\n",
       "      <td>-2.397940</td>\n",
       "    </tr>\n",
       "    <tr>\n",
       "      <th>4</th>\n",
       "      <td>0.005</td>\n",
       "      <td>-2.301030</td>\n",
       "    </tr>\n",
       "    <tr>\n",
       "      <th>...</th>\n",
       "      <td>...</td>\n",
       "      <td>...</td>\n",
       "    </tr>\n",
       "    <tr>\n",
       "      <th>994</th>\n",
       "      <td>0.995</td>\n",
       "      <td>-0.002177</td>\n",
       "    </tr>\n",
       "    <tr>\n",
       "      <th>995</th>\n",
       "      <td>0.996</td>\n",
       "      <td>-0.001741</td>\n",
       "    </tr>\n",
       "    <tr>\n",
       "      <th>996</th>\n",
       "      <td>0.997</td>\n",
       "      <td>-0.001305</td>\n",
       "    </tr>\n",
       "    <tr>\n",
       "      <th>997</th>\n",
       "      <td>0.998</td>\n",
       "      <td>-0.000869</td>\n",
       "    </tr>\n",
       "    <tr>\n",
       "      <th>998</th>\n",
       "      <td>0.999</td>\n",
       "      <td>-0.000435</td>\n",
       "    </tr>\n",
       "  </tbody>\n",
       "</table>\n",
       "<p>999 rows × 2 columns</p>\n",
       "</div>"
      ],
      "text/plain": [
       "         x         y\n",
       "0    0.001 -3.000000\n",
       "1    0.002 -2.698970\n",
       "2    0.003 -2.522879\n",
       "3    0.004 -2.397940\n",
       "4    0.005 -2.301030\n",
       "..     ...       ...\n",
       "994  0.995 -0.002177\n",
       "995  0.996 -0.001741\n",
       "996  0.997 -0.001305\n",
       "997  0.998 -0.000869\n",
       "998  0.999 -0.000435\n",
       "\n",
       "[999 rows x 2 columns]"
      ]
     },
     "metadata": {},
     "output_type": "display_data"
    }
   ],
   "source": [
    "import pandas as pd\n",
    "l = 1000\n",
    "x = np.arange(1,l)/l\n",
    "y = np.log10(x)\n",
    "data = pd.DataFrame([x, y])\n",
    "data = data.T\n",
    "data.columns = ['x', 'y']\n",
    "display(data)"
   ]
  },
  {
   "cell_type": "code",
   "execution_count": 8,
   "metadata": {},
   "outputs": [],
   "source": [
    "import seaborn as sns\n",
    "sns.set_style(\"whitegrid\")"
   ]
  },
  {
   "cell_type": "code",
   "execution_count": 9,
   "metadata": {},
   "outputs": [
    {
     "data": {
      "text/plain": [
       "<AxesSubplot:xlabel='x', ylabel='y'>"
      ]
     },
     "execution_count": 9,
     "metadata": {},
     "output_type": "execute_result"
    },
    {
     "data": {
      "image/png": "[encoded data removed]",
      "text/plain": [
       "<Figure size 432x288 with 1 Axes>"
      ]
     },
     "metadata": {},
     "output_type": "display_data"
    }
   ],
   "source": [
    "sns.scatterplot(x=\"x\", y=\"y\", data=data)"
   ]
  },
  {
   "cell_type": "code",
   "execution_count": 10,
   "metadata": {},
   "outputs": [
    {
     "data": {
      "text/plain": [
       "<AxesSubplot:xlabel='y'>"
      ]
     },
     "execution_count": 10,
     "metadata": {},
     "output_type": "execute_result"
    },
    {
     "data": {
      "image/png": "[encoded data removed]",
      "text/plain": [
       "<Figure size 432x288 with 1 Axes>"
      ]
     },
     "metadata": {},
     "output_type": "display_data"
    }
   ],
   "source": [
    "sns.distplot(data['y'])"
   ]
  },
  {
   "cell_type": "code",
   "execution_count": 11,
   "metadata": {},
   "outputs": [
    {
     "data": {
      "text/html": [
       "<div>\n",
       "<style scoped>\n",
       "    .dataframe tbody tr th:only-of-type {\n",
       "        vertical-align: middle;\n",
       "    }\n",
       "\n",
       "    .dataframe tbody tr th {\n",
       "        vertical-align: top;\n",
       "    }\n",
       "\n",
       "    .dataframe thead th {\n",
       "        text-align: right;\n",
       "    }\n",
       "</style>\n",
       "<table border=\"1\" class=\"dataframe\">\n",
       "  <thead>\n",
       "    <tr style=\"text-align: right;\">\n",
       "      <th></th>\n",
       "      <th>x</th>\n",
       "      <th>y</th>\n",
       "      <th>x2</th>\n",
       "      <th>x3</th>\n",
       "    </tr>\n",
       "  </thead>\n",
       "  <tbody>\n",
       "    <tr>\n",
       "      <th>0</th>\n",
       "      <td>0.001</td>\n",
       "      <td>-3.000000</td>\n",
       "      <td>0.000001</td>\n",
       "      <td>1.000000e-09</td>\n",
       "    </tr>\n",
       "    <tr>\n",
       "      <th>1</th>\n",
       "      <td>0.002</td>\n",
       "      <td>-2.698970</td>\n",
       "      <td>0.000004</td>\n",
       "      <td>8.000000e-09</td>\n",
       "    </tr>\n",
       "    <tr>\n",
       "      <th>2</th>\n",
       "      <td>0.003</td>\n",
       "      <td>-2.522879</td>\n",
       "      <td>0.000009</td>\n",
       "      <td>2.700000e-08</td>\n",
       "    </tr>\n",
       "    <tr>\n",
       "      <th>3</th>\n",
       "      <td>0.004</td>\n",
       "      <td>-2.397940</td>\n",
       "      <td>0.000016</td>\n",
       "      <td>6.400000e-08</td>\n",
       "    </tr>\n",
       "    <tr>\n",
       "      <th>4</th>\n",
       "      <td>0.005</td>\n",
       "      <td>-2.301030</td>\n",
       "      <td>0.000025</td>\n",
       "      <td>1.250000e-07</td>\n",
       "    </tr>\n",
       "    <tr>\n",
       "      <th>...</th>\n",
       "      <td>...</td>\n",
       "      <td>...</td>\n",
       "      <td>...</td>\n",
       "      <td>...</td>\n",
       "    </tr>\n",
       "    <tr>\n",
       "      <th>994</th>\n",
       "      <td>0.995</td>\n",
       "      <td>-0.002177</td>\n",
       "      <td>0.990025</td>\n",
       "      <td>9.850749e-01</td>\n",
       "    </tr>\n",
       "    <tr>\n",
       "      <th>995</th>\n",
       "      <td>0.996</td>\n",
       "      <td>-0.001741</td>\n",
       "      <td>0.992016</td>\n",
       "      <td>9.880479e-01</td>\n",
       "    </tr>\n",
       "    <tr>\n",
       "      <th>996</th>\n",
       "      <td>0.997</td>\n",
       "      <td>-0.001305</td>\n",
       "      <td>0.994009</td>\n",
       "      <td>9.910270e-01</td>\n",
       "    </tr>\n",
       "    <tr>\n",
       "      <th>997</th>\n",
       "      <td>0.998</td>\n",
       "      <td>-0.000869</td>\n",
       "      <td>0.996004</td>\n",
       "      <td>9.940120e-01</td>\n",
       "    </tr>\n",
       "    <tr>\n",
       "      <th>998</th>\n",
       "      <td>0.999</td>\n",
       "      <td>-0.000435</td>\n",
       "      <td>0.998001</td>\n",
       "      <td>9.970030e-01</td>\n",
       "    </tr>\n",
       "  </tbody>\n",
       "</table>\n",
       "<p>999 rows × 4 columns</p>\n",
       "</div>"
      ],
      "text/plain": [
       "         x         y        x2            x3\n",
       "0    0.001 -3.000000  0.000001  1.000000e-09\n",
       "1    0.002 -2.698970  0.000004  8.000000e-09\n",
       "2    0.003 -2.522879  0.000009  2.700000e-08\n",
       "3    0.004 -2.397940  0.000016  6.400000e-08\n",
       "4    0.005 -2.301030  0.000025  1.250000e-07\n",
       "..     ...       ...       ...           ...\n",
       "994  0.995 -0.002177  0.990025  9.850749e-01\n",
       "995  0.996 -0.001741  0.992016  9.880479e-01\n",
       "996  0.997 -0.001305  0.994009  9.910270e-01\n",
       "997  0.998 -0.000869  0.996004  9.940120e-01\n",
       "998  0.999 -0.000435  0.998001  9.970030e-01\n",
       "\n",
       "[999 rows x 4 columns]"
      ]
     },
     "metadata": {},
     "output_type": "display_data"
    }
   ],
   "source": [
    "data['x2'] = np.power(data['x'], 2)\n",
    "data['x3'] = np.power(data['x'], 3)\n",
    "display(data)"
   ]
  },
  {
   "cell_type": "code",
   "execution_count": 12,
   "metadata": {},
   "outputs": [],
   "source": [
    "from sklearn.linear_model import LinearRegression"
   ]
  },
  {
   "cell_type": "code",
   "execution_count": 13,
   "metadata": {},
   "outputs": [],
   "source": [
    "model = LinearRegression().fit(data[['x3', 'x2', 'x']], data['y'])"
   ]
  },
  {
   "cell_type": "code",
   "execution_count": 14,
   "metadata": {},
   "outputs": [
    {
     "name": "stdout",
     "output_type": "stream",
     "text": [
      "intercept: -1.6842982209963515\n",
      "slope: [ 4.92635669 -9.52774379  6.39087819]\n"
     ]
    }
   ],
   "source": [
    "print('intercept:', model.intercept_)\n",
    "print('slope:', model.coef_)"
   ]
  },
  {
   "cell_type": "code",
   "execution_count": 15,
   "metadata": {},
   "outputs": [
    {
     "data": {
      "text/html": [
       "<div>\n",
       "<style scoped>\n",
       "    .dataframe tbody tr th:only-of-type {\n",
       "        vertical-align: middle;\n",
       "    }\n",
       "\n",
       "    .dataframe tbody tr th {\n",
       "        vertical-align: top;\n",
       "    }\n",
       "\n",
       "    .dataframe thead th {\n",
       "        text-align: right;\n",
       "    }\n",
       "</style>\n",
       "<table border=\"1\" class=\"dataframe\">\n",
       "  <thead>\n",
       "    <tr style=\"text-align: right;\">\n",
       "      <th></th>\n",
       "      <th>x</th>\n",
       "      <th>y</th>\n",
       "      <th>x2</th>\n",
       "      <th>x3</th>\n",
       "      <th>y_pred</th>\n",
       "    </tr>\n",
       "  </thead>\n",
       "  <tbody>\n",
       "    <tr>\n",
       "      <th>0</th>\n",
       "      <td>0.001</td>\n",
       "      <td>-3.000000</td>\n",
       "      <td>0.000001</td>\n",
       "      <td>1.000000e-09</td>\n",
       "      <td>-1.677917</td>\n",
       "    </tr>\n",
       "    <tr>\n",
       "      <th>1</th>\n",
       "      <td>0.002</td>\n",
       "      <td>-2.698970</td>\n",
       "      <td>0.000004</td>\n",
       "      <td>8.000000e-09</td>\n",
       "      <td>-1.671555</td>\n",
       "    </tr>\n",
       "    <tr>\n",
       "      <th>2</th>\n",
       "      <td>0.003</td>\n",
       "      <td>-2.522879</td>\n",
       "      <td>0.000009</td>\n",
       "      <td>2.700000e-08</td>\n",
       "      <td>-1.665211</td>\n",
       "    </tr>\n",
       "    <tr>\n",
       "      <th>3</th>\n",
       "      <td>0.004</td>\n",
       "      <td>-2.397940</td>\n",
       "      <td>0.000016</td>\n",
       "      <td>6.400000e-08</td>\n",
       "      <td>-1.658887</td>\n",
       "    </tr>\n",
       "    <tr>\n",
       "      <th>4</th>\n",
       "      <td>0.005</td>\n",
       "      <td>-2.301030</td>\n",
       "      <td>0.000025</td>\n",
       "      <td>1.250000e-07</td>\n",
       "      <td>-1.652581</td>\n",
       "    </tr>\n",
       "    <tr>\n",
       "      <th>...</th>\n",
       "      <td>...</td>\n",
       "      <td>...</td>\n",
       "      <td>...</td>\n",
       "      <td>...</td>\n",
       "      <td>...</td>\n",
       "    </tr>\n",
       "    <tr>\n",
       "      <th>994</th>\n",
       "      <td>0.995</td>\n",
       "      <td>-0.002177</td>\n",
       "      <td>0.990025</td>\n",
       "      <td>9.850749e-01</td>\n",
       "      <td>0.094751</td>\n",
       "    </tr>\n",
       "    <tr>\n",
       "      <th>995</th>\n",
       "      <td>0.996</td>\n",
       "      <td>-0.001741</td>\n",
       "      <td>0.992016</td>\n",
       "      <td>9.880479e-01</td>\n",
       "      <td>0.096819</td>\n",
       "    </tr>\n",
       "    <tr>\n",
       "      <th>996</th>\n",
       "      <td>0.997</td>\n",
       "      <td>-0.001305</td>\n",
       "      <td>0.994009</td>\n",
       "      <td>9.910270e-01</td>\n",
       "      <td>0.098897</td>\n",
       "    </tr>\n",
       "    <tr>\n",
       "      <th>997</th>\n",
       "      <td>0.998</td>\n",
       "      <td>-0.000869</td>\n",
       "      <td>0.996004</td>\n",
       "      <td>9.940120e-01</td>\n",
       "      <td>0.100985</td>\n",
       "    </tr>\n",
       "    <tr>\n",
       "      <th>998</th>\n",
       "      <td>0.999</td>\n",
       "      <td>-0.000435</td>\n",
       "      <td>0.998001</td>\n",
       "      <td>9.970030e-01</td>\n",
       "      <td>0.103084</td>\n",
       "    </tr>\n",
       "  </tbody>\n",
       "</table>\n",
       "<p>999 rows × 5 columns</p>\n",
       "</div>"
      ],
      "text/plain": [
       "         x         y        x2            x3    y_pred\n",
       "0    0.001 -3.000000  0.000001  1.000000e-09 -1.677917\n",
       "1    0.002 -2.698970  0.000004  8.000000e-09 -1.671555\n",
       "2    0.003 -2.522879  0.000009  2.700000e-08 -1.665211\n",
       "3    0.004 -2.397940  0.000016  6.400000e-08 -1.658887\n",
       "4    0.005 -2.301030  0.000025  1.250000e-07 -1.652581\n",
       "..     ...       ...       ...           ...       ...\n",
       "994  0.995 -0.002177  0.990025  9.850749e-01  0.094751\n",
       "995  0.996 -0.001741  0.992016  9.880479e-01  0.096819\n",
       "996  0.997 -0.001305  0.994009  9.910270e-01  0.098897\n",
       "997  0.998 -0.000869  0.996004  9.940120e-01  0.100985\n",
       "998  0.999 -0.000435  0.998001  9.970030e-01  0.103084\n",
       "\n",
       "[999 rows x 5 columns]"
      ]
     },
     "metadata": {},
     "output_type": "display_data"
    }
   ],
   "source": [
    "y_pred = model.predict(data[['x3', 'x2', 'x']])\n",
    "data['y_pred'] = y_pred\n",
    "display(data)"
   ]
  },
  {
   "cell_type": "code",
   "execution_count": 16,
   "metadata": {},
   "outputs": [
    {
     "data": {
      "text/plain": [
       "<AxesSubplot:xlabel='x', ylabel='y_pred'>"
      ]
     },
     "execution_count": 16,
     "metadata": {},
     "output_type": "execute_result"
    },
    {
     "data": {
      "image/png": "[encoded data removed]",
      "text/plain": [
       "<Figure size 432x288 with 1 Axes>"
      ]
     },
     "metadata": {},
     "output_type": "display_data"
    }
   ],
   "source": [
    "sns.scatterplot(x=\"x\", y=\"y\", data=data)\n",
    "sns.scatterplot(x=\"x\", y=\"y_pred\", data=data)"
   ]
  }
 ],
 "metadata": {
  "colab": {
   "collapsed_sections": [],
   "name": "Python Numpy Tutorial.ipynb",
   "provenance": [
    {
     "file_id": "1gjN6iBct6inh8dXN4NPSff2UCh_lnXX0",
     "timestamp": 1563566237109
    }
   ],
   "version": "0.3.2"
  },
  "kernelspec": {
   "display_name": "Python 3",
   "language": "python",
   "name": "python3"
  },
  "language_info": {
   "codemirror_mode": {
    "name": "ipython",
    "version": 3
   },
   "file_extension": ".py",
   "mimetype": "text/x-python",
   "name": "python",
   "nbconvert_exporter": "python",
   "pygments_lexer": "ipython3",
   "version": "3.8.5"
  }
 },
 "nbformat": 4,
 "nbformat_minor": 1
}
