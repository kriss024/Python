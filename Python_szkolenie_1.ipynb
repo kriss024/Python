{
 "cells": [
  {
   "cell_type": "markdown",
   "metadata": {
    "colab_type": "text",
    "id": "J5IC8CecmuSb",
    "slideshow": {
     "slide_type": "slide"
    }
   },
   "source": [
    "<table>\n",
    "    <tr>\n",
    "        <td bgcolor=\"#FFFFFF\"><img src=\"https://www.python.org/static/community_logos/python-logo.png\"/></td>\n",
    "        <td bgcolor=\"#FFFFFF\"><img src=\"https://www.bgzbnpparibas.pl/_cms-img/time20190226213800/bnp/bgzbnpparibas-logo.png\" width=\"50%\" length=\"50%\"/></td>\n",
    "    </tr>\n",
    "</table>\n",
    "<br><br><br><br><br><br>\n",
    "<h1 align=\"center\">Szkolenie z podstaw języka Python - marzec 2019</h1>\n",
    "<br><br><br><br><br><br>\n",
    "<h5 align=\"right\">Kuba Siekierzyński</h5>\n",
    "<br><br><br><br><br><br>\n",
    "<hr>\n",
    "<br><br><br><br><br><br>"
   ]
  },
  {
   "cell_type": "markdown",
   "metadata": {
    "colab_type": "text",
    "id": "UeR-tNbzmuSf",
    "slideshow": {
     "slide_type": "slide"
    }
   },
   "source": [
    "<br><br><br><br><br><br>\n",
    "<font color=\"#0088CC\">\n",
    "<b>OSTRZEŻENIE!</b><br><br>\n",
    "Poniższe treści mogą stanowić zagrożenie dla przytomności umysłu. Wysokie stężenie substancji uzależniających i powodujących bezsenność. Może nastąpić ból palców i nadgarstków. Obserwowane zwiększone spożycie kawy i innych napojów pobudzających. Zaleca się stosowanie w umiarkowanych dawkach, acz regularnie.\n",
    "    <h5 align=\"right\">-- zostaliście ostrzeżeni --</h5>\n",
    "</font>"
   ]
  },
  {
   "cell_type": "markdown",
   "metadata": {
    "colab_type": "text",
    "id": "VD5bML7GmuSh"
   },
   "source": [
    "<hr>\n",
    "<br><br><br><br><br><br>\n",
    "### Podstawowe informacje o Pythonie:\n",
    "<ul>\n",
    "    <li>stworzony przez Guido Van Rossum'a w latach 90. XX w. - rozwijany w <i>open source</i></li>\n",
    "    <li><b>skryptowy</b> język programowania <b>wysokiego poziomu</b></li>\n",
    "    <li>wymaga <b>interpretera</b> lub <b>IDE</b></li>\n",
    "    <li>wspiera różne paradygmaty programowania: obiektowe, imperatywne, funkcyjne</li>\n",
    "    <li>wszystko jest <b>obiektem</b></li>\n",
    "    <li>typowanie <b>dynamiczne</b> - zmienne nie mają stałych typów!</li>\n",
    "    <li><b>składnia</b> ma znaczenie, wielkość liter <b>ma znaczenie</b></li>\n",
    "    <li>bogata <b>biblioteka podstawowa</b>, ale siłą Pythona są moduły dodatkowe</li>\n",
    "</ul>\n",
    "<br><br><br><br><br><br>\n",
    "<hr>"
   ]
  },
  {
   "cell_type": "markdown",
   "metadata": {
    "colab_type": "text",
    "id": "Cqj74S0GmuSh"
   },
   "source": [
    "<br><br><br><br><br><br>\n",
    "### Praca z notebook'iem vs IDE\n",
    "\n",
    "<b>Notebook</b><br>\n",
    "Każda komórka może zawierać kod w Pythonie lub tzw. markdown. Komórki z kodem mogą być wywoływane w dowolnej kolejności, a wtedy kod w nich zawarty jest wykonywany <b>na obecnym stanie programu</b>. Oznacza to, że wszelkie zmienne, funkcje oraz importowane moduły, do których odwołuje się kod w wywoływanej komórce muszą być wcześniej zadeklarowane, a kod po wywołaniu wpływa na ich wartości. Do kodu napisanego w ten sposób odnosimy się per <b>notatnik</b> - rozszerzenie pliku: .ipynb\n",
    "\n",
    "<b>IDE</b><br>\n",
    "Kod pisany jest \"ciągiem\" jako całość, ew. podzielony na bloki lub pliki z klasami. Z reguły nie ma wywoływania fragmentów kodu, cały program uruchamia się na raz. Zwykle programy napisane w ten sposób nazywa się <b>skryptami</b>. Rozszerzenie pliku: .py\n",
    "<br><br><br><br><br><br>\n",
    "<hr>"
   ]
  },
  {
   "cell_type": "markdown",
   "metadata": {
    "colab_type": "text",
    "id": "Kn9rnJqamuSj"
   },
   "source": [
    "### Podstawy składni"
   ]
  },
  {
   "cell_type": "code",
   "execution_count": 0,
   "metadata": {
    "colab": {
     "base_uri": "https://localhost:8080/",
     "height": 34
    },
    "colab_type": "code",
    "executionInfo": {
     "elapsed": 847,
     "status": "ok",
     "timestamp": 1553245362673,
     "user": {
      "displayName": "",
      "photoUrl": "",
      "userId": ""
     },
     "user_tz": -60
    },
    "id": "JJ-jRLldmuSj",
    "outputId": "4b53e764-daf5-4f97-9885-c4b207a4af35"
   },
   "outputs": [
    {
     "name": "stdout",
     "output_type": "stream",
     "text": [
      "Hello world!\n"
     ]
    }
   ],
   "source": [
    "print(\"Hello world!\") # podstawowa instrukcja w każdym języku :)"
   ]
  },
  {
   "cell_type": "code",
   "execution_count": 0,
   "metadata": {
    "colab": {},
    "colab_type": "code",
    "id": "GLAVYtRWmuSt"
   },
   "outputs": [],
   "source": [
    "# komentarz w jednej linijce"
   ]
  },
  {
   "cell_type": "code",
   "execution_count": 0,
   "metadata": {
    "colab": {
     "base_uri": "https://localhost:8080/",
     "height": 34
    },
    "colab_type": "code",
    "executionInfo": {
     "elapsed": 936,
     "status": "ok",
     "timestamp": 1553246045736,
     "user": {
      "displayName": "",
      "photoUrl": "",
      "userId": ""
     },
     "user_tz": -60
    },
    "id": "AhhU0xIGmuSx",
    "outputId": "6c7ad674-8021-4a3b-abed-392db3ee4302"
   },
   "outputs": [
    {
     "data": {
      "text/plain": [
       "'Komentarz\\nw wielu\\nlinijkach\\ndziała trochę\\ninaczej w notebooku\\nniż normalnie.'"
      ]
     },
     "execution_count": 3,
     "metadata": {
      "tags": []
     },
     "output_type": "execute_result"
    }
   ],
   "source": [
    "'''Komentarz\n",
    "w wielu\n",
    "linijkach\n",
    "działa trochę\n",
    "inaczej w notebooku\n",
    "niż normalnie.''' # to jest tzw. string literal, czyli \"dosłowny\", tak, jak jest zapisany"
   ]
  },
  {
   "cell_type": "code",
   "execution_count": 0,
   "metadata": {
    "colab": {
     "base_uri": "https://localhost:8080/",
     "height": 34
    },
    "colab_type": "code",
    "executionInfo": {
     "elapsed": 960,
     "status": "ok",
     "timestamp": 1553246076844,
     "user": {
      "displayName": "",
      "photoUrl": "",
      "userId": ""
     },
     "user_tz": -60
    },
    "id": "0U3XjK1dmuS0",
    "outputId": "35b2caa3-2afa-495f-c3ff-b7d2c3af8597"
   },
   "outputs": [
    {
     "name": "stdout",
     "output_type": "stream",
     "text": [
      "Tak\n"
     ]
    }
   ],
   "source": [
    "if 2 > 1: # logiczny fragment kodu jest ułożony w blok, który jest WCIĘTY względem bloku wyższego rzędu\n",
    "    print('Tak')"
   ]
  },
  {
   "cell_type": "code",
   "execution_count": 0,
   "metadata": {
    "colab": {
     "base_uri": "https://localhost:8080/",
     "height": 34
    },
    "colab_type": "code",
    "executionInfo": {
     "elapsed": 878,
     "status": "ok",
     "timestamp": 1553246465245,
     "user": {
      "displayName": "",
      "photoUrl": "",
      "userId": ""
     },
     "user_tz": -60
    },
    "id": "K25YBGLZsvj3",
    "outputId": "e3bcea2a-e6b5-420b-a5db-81985376b528"
   },
   "outputs": [
    {
     "name": "stdout",
     "output_type": "stream",
     "text": [
      "Nie\n"
     ]
    }
   ],
   "source": [
    "if 3>2:\n",
    "  print('Nie')"
   ]
  },
  {
   "cell_type": "code",
   "execution_count": 0,
   "metadata": {
    "colab": {
     "base_uri": "https://localhost:8080/",
     "height": 221
    },
    "colab_type": "code",
    "executionInfo": {
     "elapsed": 643,
     "status": "ok",
     "timestamp": 1553246739246,
     "user": {
      "displayName": "",
      "photoUrl": "",
      "userId": ""
     },
     "user_tz": -60
    },
    "id": "BoqEikrTuB3c",
    "outputId": "45592469-c70a-4c0c-a2b5-9e1f5217f84e"
   },
   "outputs": [
    {
     "name": "stdout",
     "output_type": "stream",
     "text": [
      "Help on built-in function print in module builtins:\n",
      "\n",
      "print(...)\n",
      "    print(value, ..., sep=' ', end='\\n', file=sys.stdout, flush=False)\n",
      "    \n",
      "    Prints the values to a stream, or to sys.stdout by default.\n",
      "    Optional keyword arguments:\n",
      "    file:  a file-like object (stream); defaults to the current sys.stdout.\n",
      "    sep:   string inserted between values, default a space.\n",
      "    end:   string appended after the last value, default a newline.\n",
      "    flush: whether to forcibly flush the stream.\n",
      "\n"
     ]
    }
   ],
   "source": [
    "help(print)"
   ]
  },
  {
   "cell_type": "code",
   "execution_count": 0,
   "metadata": {
    "colab": {},
    "colab_type": "code",
    "id": "DArXlunTmuS6",
    "outputId": "10052ebe-1781-42d5-9cb2-b067cad4d0d8"
   },
   "outputs": [
    {
     "ename": "NameError",
     "evalue": "name 'PRINT' is not defined",
     "output_type": "error",
     "traceback": [
      "\u001b[1;31m---------------------------------------------------------------------------\u001b[0m",
      "\u001b[1;31mNameError\u001b[0m                                 Traceback (most recent call last)",
      "\u001b[1;32m<ipython-input-7-1c619180471d>\u001b[0m in \u001b[0;36m<module>\u001b[1;34m()\u001b[0m\n\u001b[1;32m----> 1\u001b[1;33m \u001b[0mPRINT\u001b[0m\u001b[1;33m(\u001b[0m\u001b[1;34m'Hello World!'\u001b[0m\u001b[1;33m)\u001b[0m \u001b[1;31m# wielkość liter MA znaczenie\u001b[0m\u001b[1;33m\u001b[0m\u001b[0m\n\u001b[0m",
      "\u001b[1;31mNameError\u001b[0m: name 'PRINT' is not defined"
     ]
    }
   ],
   "source": [
    "PRINT('Hello World!') # wielkość liter MA znaczenie"
   ]
  },
  {
   "cell_type": "code",
   "execution_count": 0,
   "metadata": {
    "colab": {},
    "colab_type": "code",
    "id": "ko0i4pRsmuS-",
    "outputId": "7d56d66b-5f11-4ce8-96f0-c18d38f87125"
   },
   "outputs": [
    {
     "name": "stdout",
     "output_type": "stream",
     "text": [
      "Help on built-in function print in module builtins:\n",
      "\n",
      "print(...)\n",
      "    print(value, ..., sep=' ', end='\\n', file=sys.stdout, flush=False)\n",
      "    \n",
      "    Prints the values to a stream, or to sys.stdout by default.\n",
      "    Optional keyword arguments:\n",
      "    file:  a file-like object (stream); defaults to the current sys.stdout.\n",
      "    sep:   string inserted between values, default a space.\n",
      "    end:   string appended after the last value, default a newline.\n",
      "    flush: whether to forcibly flush the stream.\n",
      "\n"
     ]
    }
   ],
   "source": [
    "help(print) # bardzo przydatna funkcja \"help\""
   ]
  },
  {
   "cell_type": "markdown",
   "metadata": {
    "colab_type": "text",
    "id": "WGKoES6CmuTD"
   },
   "source": [
    "<hr>\n",
    "### Działania na liczbach"
   ]
  },
  {
   "cell_type": "code",
   "execution_count": 0,
   "metadata": {
    "colab": {},
    "colab_type": "code",
    "id": "Ol7l8MRcmuTF"
   },
   "outputs": [],
   "source": [
    "a = (3 + 49 / 7 ** 2) * 4 # PEMDAS - parentheses, exponent, multiplication, division, addition, subtraction"
   ]
  },
  {
   "cell_type": "code",
   "execution_count": 0,
   "metadata": {
    "colab": {
     "base_uri": "https://localhost:8080/",
     "height": 51
    },
    "colab_type": "code",
    "executionInfo": {
     "elapsed": 863,
     "status": "ok",
     "timestamp": 1553247193842,
     "user": {
      "displayName": "",
      "photoUrl": "",
      "userId": ""
     },
     "user_tz": -60
    },
    "id": "9EE9uOV9muTL",
    "outputId": "d4a93ce2-b25b-46ae-9f7d-63c83a6a0c0b"
   },
   "outputs": [
    {
     "name": "stdout",
     "output_type": "stream",
     "text": [
      "11\n",
      "16.0\n"
     ]
    }
   ],
   "source": [
    "print(5 + 6) # w notatniku print zwraca output z wcięciem\n",
    "\n",
    "print(a) # w notatniku print zwraca output z wcięciem\n"
   ]
  },
  {
   "cell_type": "code",
   "execution_count": 0,
   "metadata": {
    "colab": {
     "base_uri": "https://localhost:8080/",
     "height": 51
    },
    "colab_type": "code",
    "executionInfo": {
     "elapsed": 851,
     "status": "ok",
     "timestamp": 1553247423772,
     "user": {
      "displayName": "",
      "photoUrl": "",
      "userId": ""
     },
     "user_tz": -60
    },
    "id": "WE6Ya2s-muTX",
    "outputId": "53bea7dd-9c79-4616-d387-22abe8382afa"
   },
   "outputs": [
    {
     "name": "stdout",
     "output_type": "stream",
     "text": [
      "3\n"
     ]
    },
    {
     "data": {
      "text/plain": [
       "-1"
      ]
     },
     "execution_count": 11,
     "metadata": {
      "tags": []
     },
     "output_type": "execute_result"
    }
   ],
   "source": [
    "print(15 % 4) # modulo - reszta z dzielenia...\n",
    "-5 % -2"
   ]
  },
  {
   "cell_type": "code",
   "execution_count": 0,
   "metadata": {
    "colab": {
     "base_uri": "https://localhost:8080/",
     "height": 34
    },
    "colab_type": "code",
    "executionInfo": {
     "elapsed": 824,
     "status": "ok",
     "timestamp": 1553247236860,
     "user": {
      "displayName": "",
      "photoUrl": "",
      "userId": ""
     },
     "user_tz": -60
    },
    "id": "71vVcq6gmuTb",
    "outputId": "6309efef-b9a0-4e8b-cdbd-6ae344b0943e"
   },
   "outputs": [
    {
     "name": "stdout",
     "output_type": "stream",
     "text": [
      "1\n"
     ]
    }
   ],
   "source": [
    "print(-15 % 4) # ...prawie"
   ]
  },
  {
   "cell_type": "code",
   "execution_count": 0,
   "metadata": {
    "colab": {
     "base_uri": "https://localhost:8080/",
     "height": 163
    },
    "colab_type": "code",
    "executionInfo": {
     "elapsed": 993,
     "status": "error",
     "timestamp": 1553247466984,
     "user": {
      "displayName": "",
      "photoUrl": "",
      "userId": ""
     },
     "user_tz": -60
    },
    "id": "5BUxOTzimuTe",
    "outputId": "4c09700d-e46c-4a4b-d006-69b961399387"
   },
   "outputs": [
    {
     "ename": "ZeroDivisionError",
     "evalue": "division by zero",
     "output_type": "error",
     "traceback": [
      "\u001b[1;31m---------------------------------------------------------------------------\u001b[0m",
      "\u001b[1;31mZeroDivisionError\u001b[0m                         Traceback (most recent call last)",
      "\u001b[1;32m<ipython-input-13-802e42f3000d>\u001b[0m in \u001b[0;36m<module>\u001b[1;34m()\u001b[0m\n\u001b[1;32m----> 1\u001b[1;33m \u001b[0mprint\u001b[0m\u001b[1;33m(\u001b[0m\u001b[1;36m123\u001b[0m \u001b[1;33m/\u001b[0m \u001b[1;33m(\u001b[0m\u001b[1;36m3\u001b[0m \u001b[1;33m%\u001b[0m \u001b[1;36m1\u001b[0m\u001b[1;33m)\u001b[0m\u001b[1;33m)\u001b[0m \u001b[1;31m# ZeroDivisionError - błędy KOŃCZĄ działanie programu!!!\u001b[0m\u001b[1;33m\u001b[0m\u001b[0m\n\u001b[0m",
      "\u001b[1;31mZeroDivisionError\u001b[0m: division by zero"
     ]
    }
   ],
   "source": [
    "print(123 / (3 % 1)) # ZeroDivisionError - błędy KOŃCZĄ działanie programu!!!"
   ]
  },
  {
   "cell_type": "code",
   "execution_count": 0,
   "metadata": {
    "colab": {
     "base_uri": "https://localhost:8080/",
     "height": 34
    },
    "colab_type": "code",
    "executionInfo": {
     "elapsed": 1141,
     "status": "ok",
     "timestamp": 1553247514093,
     "user": {
      "displayName": "",
      "photoUrl": "",
      "userId": ""
     },
     "user_tz": -60
    },
    "id": "VTe5RupVmuTh",
    "outputId": "991a2127-1e67-4ca2-8720-ec36385900f6"
   },
   "outputs": [
    {
     "data": {
      "text/plain": [
       "(2.142857142857143, 2)"
      ]
     },
     "execution_count": 14,
     "metadata": {
      "tags": []
     },
     "output_type": "execute_result"
    }
   ],
   "source": [
    "15 / 7, 15 // 7 # float vs floor division - floats vs integers"
   ]
  },
  {
   "cell_type": "code",
   "execution_count": 0,
   "metadata": {
    "colab": {},
    "colab_type": "code",
    "id": "8jTJXD8fmuTm",
    "outputId": "619d0769-8c90-4624-c0de-0a48e63a3829"
   },
   "outputs": [
    {
     "name": "stdout",
     "output_type": "stream",
     "text": [
      "1 -2\n"
     ]
    }
   ],
   "source": [
    "print(3 // 2, -3 // 2) # floor division działa \"dziwnie\""
   ]
  },
  {
   "cell_type": "code",
   "execution_count": 0,
   "metadata": {
    "colab": {},
    "colab_type": "code",
    "id": "PXe3zMwzmuTp",
    "outputId": "1df32202-00c1-4663-f44b-bbf53fe96874"
   },
   "outputs": [
    {
     "name": "stdout",
     "output_type": "stream",
     "text": [
      "4.0\n"
     ]
    }
   ],
   "source": [
    "print(2 * 8 / 4) # mimo, iż działanie jest na integerach, float division ZAWSZE zwraca float (albo błąd)"
   ]
  },
  {
   "cell_type": "code",
   "execution_count": 0,
   "metadata": {
    "colab": {},
    "colab_type": "code",
    "id": "FaMej6UNmuTs",
    "outputId": "bafd653d-9b26-4e54-960b-b915d249ed85"
   },
   "outputs": [
    {
     "name": "stdout",
     "output_type": "stream",
     "text": [
      "3.7142857142857144\n",
      "-6.333333333333333\n"
     ]
    }
   ],
   "source": [
    "print(max(47/13, 52/14))     # zwraca maksymalną wartość z podanych\n",
    "print(min(-5, -6.2, -38/6))  # zwraca minimalną"
   ]
  },
  {
   "cell_type": "code",
   "execution_count": 0,
   "metadata": {
    "colab": {},
    "colab_type": "code",
    "id": "Pc2rWu_jmuTx",
    "outputId": "ea09500b-b4be-4592-e44b-356d40052ad1"
   },
   "outputs": [
    {
     "name": "stdout",
     "output_type": "stream",
     "text": [
      "16.5\n"
     ]
    }
   ],
   "source": [
    "# print(sum(3/2, 5//2, 7%3, 4 * 3)) # taki zabieg nie zadziała...\n",
    "print(sum((3/2, 5//2, 7%3, 4 * 3))) # ale taki owszem - później dowiemy się dlaczego"
   ]
  },
  {
   "cell_type": "code",
   "execution_count": 0,
   "metadata": {
    "colab": {},
    "colab_type": "code",
    "id": "5S42IdE6muT2",
    "outputId": "4a8fc9de-da2b-4cc5-a5dd-02b85c8bfdc0"
   },
   "outputs": [
    {
     "name": "stdout",
     "output_type": "stream",
     "text": [
      "5.24\n"
     ]
    }
   ],
   "source": [
    "print(abs(-5.24))  # zwraca wartość absolutną"
   ]
  },
  {
   "cell_type": "code",
   "execution_count": 0,
   "metadata": {
    "colab": {},
    "colab_type": "code",
    "id": "S5SC67dfmuVq"
   },
   "outputs": [],
   "source": [
    "# print(sqrt(2)) # nie ma działania na pierwiastek..."
   ]
  },
  {
   "cell_type": "code",
   "execution_count": 0,
   "metadata": {
    "colab": {},
    "colab_type": "code",
    "id": "B_gkUPIvmuVu",
    "outputId": "806f853b-0b52-4102-83cc-6b88958dad5f"
   },
   "outputs": [
    {
     "name": "stdout",
     "output_type": "stream",
     "text": [
      "1.4142135623730951\n"
     ]
    }
   ],
   "source": [
    "print(2**0.5) #... ale można sobie poradzić :)"
   ]
  },
  {
   "cell_type": "code",
   "execution_count": 0,
   "metadata": {
    "colab": {},
    "colab_type": "code",
    "id": "ggmOJTWXmuVw",
    "outputId": "408da6f9-71b8-473f-bea4-93bc5fdb1098"
   },
   "outputs": [
    {
     "name": "stdout",
     "output_type": "stream",
     "text": [
      "False\n"
     ]
    }
   ],
   "source": [
    "print(7 < 7.0000000000000001) # problem liczb zmiennoprzecinkowych"
   ]
  },
  {
   "cell_type": "markdown",
   "metadata": {
    "colab_type": "text",
    "id": "HMgoUzUCmuVy"
   },
   "source": [
    "<hr>\n",
    "## ZADANIE #1\n",
    "<font color=\"#0088CC\">\n",
    "Napisz i rozwiąż poniższe działanie w Pythonie:\n",
    "$$\\sqrt{3^2 + 4^2} - (5\\%7) =\\ ?$$</font>"
   ]
  },
  {
   "cell_type": "code",
   "execution_count": 0,
   "metadata": {
    "colab": {
     "base_uri": "https://localhost:8080/",
     "height": 34
    },
    "colab_type": "code",
    "executionInfo": {
     "elapsed": 1072,
     "status": "ok",
     "timestamp": 1553249910787,
     "user": {
      "displayName": "",
      "photoUrl": "",
      "userId": ""
     },
     "user_tz": -60
    },
    "id": "6MaiogF0muVz",
    "outputId": "7f108898-9885-4094-abf5-d38e83c18571"
   },
   "outputs": [
    {
     "name": "stdout",
     "output_type": "stream",
     "text": [
      "0.0\n"
     ]
    }
   ],
   "source": [
    "a=((3**2+4**2)**0.5)-(5%7)\n",
    "print(a)\n"
   ]
  },
  {
   "cell_type": "markdown",
   "metadata": {
    "colab_type": "text",
    "id": "p3MTLsJ2muV1"
   },
   "source": [
    "<br><br><br><br><br><br>\n",
    "<hr>\n",
    "### Strings - napisy"
   ]
  },
  {
   "cell_type": "code",
   "execution_count": 0,
   "metadata": {
    "colab": {
     "base_uri": "https://localhost:8080/",
     "height": 34
    },
    "colab_type": "code",
    "executionInfo": {
     "elapsed": 900,
     "status": "ok",
     "timestamp": 1553250109162,
     "user": {
      "displayName": "",
      "photoUrl": "",
      "userId": ""
     },
     "user_tz": -60
    },
    "id": "ZQel_BH2muV3",
    "outputId": "63f8f5ea-6652-4753-ae34-bd2c1ffde700"
   },
   "outputs": [
    {
     "name": "stdout",
     "output_type": "stream",
     "text": [
      "True\n"
     ]
    }
   ],
   "source": [
    "'Ala Ma Kota' # strings - możemy deklarować z użyciem pojedynczych lub podwójnych cudzysłowów\n",
    "\"Ala Ma Kota\"\n",
    "\n",
    "print(\"Ala Ma Kota\" == 'Ala Ma Kota') # znak == oznacza \"(czy) jest równe\""
   ]
  },
  {
   "cell_type": "code",
   "execution_count": 0,
   "metadata": {
    "colab": {},
    "colab_type": "code",
    "id": "nwGzzL-TmuV4"
   },
   "outputs": [],
   "source": [
    "'I powiedział: \"Idź sobie\", więc poszłam' # możemy użyć pojedynczych, kiedy podwójne mają być elementem tekstu"
   ]
  },
  {
   "cell_type": "code",
   "execution_count": 0,
   "metadata": {
    "colab": {},
    "colab_type": "code",
    "id": "c9DkttMOmuV6"
   },
   "outputs": [],
   "source": [
    "\"I powiedział: \\\"Idź sobie\\\", więc poszłam\" # jeśli nie da się uniknąć, stosujemy tzw. escaping z backslashem"
   ]
  },
  {
   "cell_type": "code",
   "execution_count": 0,
   "metadata": {
    "colab": {
     "base_uri": "https://localhost:8080/",
     "height": 68
    },
    "colab_type": "code",
    "executionInfo": {
     "elapsed": 1051,
     "status": "ok",
     "timestamp": 1553250573221,
     "user": {
      "displayName": "",
      "photoUrl": "",
      "userId": ""
     },
     "user_tz": -60
    },
    "id": "JnmsFYpm8gne",
    "outputId": "a549e657-3b02-482d-b254-7b60ed306221"
   },
   "outputs": [
    {
     "name": "stdout",
     "output_type": "stream",
     "text": [
      "Linia pierwsza\n",
      "Linia druga\n",
      "Linia pierwsza\\nLinia druga\n"
     ]
    }
   ],
   "source": [
    "print('Linia pierwsza\\nLinia druga')\n",
    "print(r'Linia pierwsza\\nLinia druga')"
   ]
  },
  {
   "cell_type": "code",
   "execution_count": 0,
   "metadata": {
    "colab": {
     "base_uri": "https://localhost:8080/",
     "height": 54
    },
    "colab_type": "code",
    "executionInfo": {
     "elapsed": 998,
     "status": "ok",
     "timestamp": 1553250667928,
     "user": {
      "displayName": "",
      "photoUrl": "",
      "userId": ""
     },
     "user_tz": -60
    },
    "id": "p9mK1I0VmuV8",
    "outputId": "68dd5bb4-7ea6-4ba1-c4a4-0668f72a5d46"
   },
   "outputs": [
    {
     "data": {
      "text/plain": [
       "'Ala Ma Kota Ala Ma Kota Ala Ma Kota Ala Ma Kota Ala Ma Kota Ala Ma Kota Ala Ma Kota Ala Ma Kota Ala Ma Kota Ala Ma Kota Ala Ma Kota Ala Ma Kota Ala Ma Kota Ala Ma Kota Ala Ma Kota Ala Ma Kota Ala Ma Kota Ala Ma Kota Ala Ma Kota Ala Ma Kota '"
      ]
     },
     "execution_count": 28,
     "metadata": {
      "tags": []
     },
     "output_type": "execute_result"
    }
   ],
   "source": [
    "\"Ala Ma Kota \" * 20 # operacja mnożenia stringa przez integer"
   ]
  },
  {
   "cell_type": "code",
   "execution_count": 0,
   "metadata": {
    "colab": {
     "base_uri": "https://localhost:8080/",
     "height": 34
    },
    "colab_type": "code",
    "executionInfo": {
     "elapsed": 1711,
     "status": "ok",
     "timestamp": 1553250631600,
     "user": {
      "displayName": "",
      "photoUrl": "",
      "userId": ""
     },
     "user_tz": -60
    },
    "id": "ZHWw5A2JmuV_",
    "outputId": "c279e36f-139e-4736-d320-0e238b6b7ed0"
   },
   "outputs": [
    {
     "data": {
      "text/plain": [
       "'Ma Kota'"
      ]
     },
     "execution_count": 26,
     "metadata": {
      "tags": []
     },
     "output_type": "execute_result"
    }
   ],
   "source": [
    "\"Ala Ma Kota\"[4:] # slicing od"
   ]
  },
  {
   "cell_type": "code",
   "execution_count": 0,
   "metadata": {
    "colab": {
     "base_uri": "https://localhost:8080/",
     "height": 34
    },
    "colab_type": "code",
    "executionInfo": {
     "elapsed": 1562,
     "status": "ok",
     "timestamp": 1553250634280,
     "user": {
      "displayName": "",
      "photoUrl": "",
      "userId": ""
     },
     "user_tz": -60
    },
    "id": "7yr11zXZmuWB",
    "outputId": "97fd99a0-7ac1-44cd-e637-c06a44c895d5"
   },
   "outputs": [
    {
     "data": {
      "text/plain": [
       "'Ala '"
      ]
     },
     "execution_count": 27,
     "metadata": {
      "tags": []
     },
     "output_type": "execute_result"
    }
   ],
   "source": [
    "\"Ala Ma Kota\"[:4] # slicing do"
   ]
  },
  {
   "cell_type": "code",
   "execution_count": 0,
   "metadata": {
    "colab": {
     "base_uri": "https://localhost:8080/",
     "height": 34
    },
    "colab_type": "code",
    "executionInfo": {
     "elapsed": 922,
     "status": "ok",
     "timestamp": 1553250769858,
     "user": {
      "displayName": "",
      "photoUrl": "",
      "userId": ""
     },
     "user_tz": -60
    },
    "id": "eBtH2FPMmuWF",
    "outputId": "1b794f71-55b5-470b-ecf5-3dfcdd853e68"
   },
   "outputs": [
    {
     "data": {
      "text/plain": [
       "'AaM oa'"
      ]
     },
     "execution_count": 29,
     "metadata": {
      "tags": []
     },
     "output_type": "execute_result"
    }
   ],
   "source": [
    "\"Ala Ma Kota\"[::2] # slicing co"
   ]
  },
  {
   "cell_type": "code",
   "execution_count": 0,
   "metadata": {
    "colab": {},
    "colab_type": "code",
    "id": "r3RAytiNmuWI"
   },
   "outputs": [],
   "source": [
    "'Ala Ma Kota'[::-1] # slicing co ujemne"
   ]
  },
  {
   "cell_type": "code",
   "execution_count": 0,
   "metadata": {
    "colab": {
     "base_uri": "https://localhost:8080/",
     "height": 34
    },
    "colab_type": "code",
    "executionInfo": {
     "elapsed": 846,
     "status": "ok",
     "timestamp": 1553250792621,
     "user": {
      "displayName": "",
      "photoUrl": "",
      "userId": ""
     },
     "user_tz": -60
    },
    "id": "YzWn-54LmuWK",
    "outputId": "cf623612-5ba8-4fcc-91c3-5b9ec2151f37"
   },
   "outputs": [
    {
     "data": {
      "text/plain": [
       "'tKa'"
      ]
     },
     "execution_count": 30,
     "metadata": {
      "tags": []
     },
     "output_type": "execute_result"
    }
   ],
   "source": [
    "'Ala Ma Kota'[-2:3:-2] # slicing od drugiego od końca do trzeciego od początku co dwie w tył"
   ]
  },
  {
   "cell_type": "code",
   "execution_count": 0,
   "metadata": {
    "colab": {},
    "colab_type": "code",
    "id": "B2Zcla-rmuWL"
   },
   "outputs": [],
   "source": [
    "'' # pusty string"
   ]
  },
  {
   "cell_type": "markdown",
   "metadata": {
    "colab_type": "text",
    "id": "mke_fVWxmuWM"
   },
   "source": [
    "<hr>\n",
    "### ZADANIE #2\n",
    "<font color=\"#0088CC\">\n",
    "Wstaw odpowiednie liczby, żeby uzyskać słowo 'IRA'</font>"
   ]
  },
  {
   "cell_type": "code",
   "execution_count": 0,
   "metadata": {
    "colab": {},
    "colab_type": "code",
    "id": "KjMp6B0xmuWN"
   },
   "outputs": [],
   "source": [
    "'BGZ BNP PARIBAS'[::]"
   ]
  },
  {
   "cell_type": "code",
   "execution_count": 0,
   "metadata": {
    "colab": {
     "base_uri": "https://localhost:8080/",
     "height": 34
    },
    "colab_type": "code",
    "executionInfo": {
     "elapsed": 1039,
     "status": "ok",
     "timestamp": 1553251816878,
     "user": {
      "displayName": "",
      "photoUrl": "",
      "userId": ""
     },
     "user_tz": -60
    },
    "id": "jYYurfaqAI60",
    "outputId": "944ceb6b-901b-4283-9ac7-a2106bc80112"
   },
   "outputs": [
    {
     "data": {
      "text/plain": [
       "'IRA'"
      ]
     },
     "execution_count": 40,
     "metadata": {
      "tags": []
     },
     "output_type": "execute_result"
    }
   ],
   "source": [
    "'BGZ BNP PARIBAS'[-4:-7:-1]\n",
    "'BGZ BNP PARIBAS'[11:8:-1]"
   ]
  },
  {
   "cell_type": "markdown",
   "metadata": {
    "colab_type": "text",
    "id": "milK5JW6muWP"
   },
   "source": [
    "<br><br><br><br><br><br>\n",
    "<hr>\n",
    "### Zmienne - zasady i reguły nazewnictwa"
   ]
  },
  {
   "cell_type": "markdown",
   "metadata": {
    "colab_type": "text",
    "id": "Ne5ackpJmuWQ"
   },
   "source": [
    "W odróżnieniu od wielu innych języków programowania, zmienne w Pythonie nie mają z góry deklarowanego typu. Zmienna, której przyporządkowano typ liczbowy może w następnej linijce (albo nawet w tej samej) zostać skonwertowana do innego typu (o czym szerzej później).<br>\n",
    "Ponieważ <b>kod częściej się czyta, niż go pisze</b>, nazwy powinny oczywiście odzwierciedlać przeznaczenie zmiennych i być w intuicyjny sposób zrozumiałe.<br><br>Mimo dość dużej dowolności, istnieją jednak pewne konwencje dotyczące samego nazewnictwa:\n",
    "<ul>\n",
    "    <li>nazwy zmiennych mogą zawierać litery, cyfry lub znak \"_\"</li>\n",
    "    <li>nazwy nie mogą <b>zaczynać się</b> od cyfry</li>\n",
    "    <li>nazwy zmiennych nie powinny być takie same jak:</li>\n",
    "    <ul>\n",
    "        <li><b>słowa kluczowe</b> w Pythonie - np. print, pass, and, or, if, etc.</li>\n",
    "        <li>nazwy funkcji, klas, modułów, plików lub zmiennych importowanych z innych modułów</li>\n",
    "    </ul>\n",
    "</ul>\n",
    "<br>\n",
    "Wyróżniamy też kilka konwencji samej pisowni zmiennych:\n",
    "<ul>\n",
    "    <li>camelCase - budowane z członów, z których pierwszy zaczyna się małą literą, a reszta wielkimi - np. netWeight, isPaymentValid</li>\n",
    "    <li>PascalCase - wszystkie człony od wielkiej litery - np. ClientId, DealValue</li>\n",
    "    <li>snake_case - człony pisane małymi literami oddzielone _ - np. debt_to_income, transaction_status</li>\n",
    "</ul>\n",
    "<br>\n",
    "Ważne są też konwencje dotyczące pisowni nazw określonego przeznaczenia, np:\n",
    "<ul>\n",
    "    <li>stałe - pisane wielkimi literami rozdzielonymi podkreślnikiem, np. BANK\\_ACCOUNT\\_NUMBER</li>\n",
    "    <li>nazwy klas - pisane PascalCase'm - np. NewClients</li>\n",
    "    <li>zmienne prywatne - nazwy zaczynające się od _ - np. _errorNum</li>\n",
    "</ul>"
   ]
  },
  {
   "cell_type": "code",
   "execution_count": 0,
   "metadata": {
    "colab": {},
    "colab_type": "code",
    "id": "7jDUyucKmuWQ"
   },
   "outputs": [],
   "source": [
    "_ = 'zmienna' # klasyczny przykład w szkoleniach - tzw. placeholder\n",
    "print(_)"
   ]
  },
  {
   "cell_type": "markdown",
   "metadata": {
    "colab_type": "text",
    "id": "eDfOrqA3muWT"
   },
   "source": [
    "<hr>\n",
    "### ZADANIE #3\n",
    "<font color=\"#0088CC\">Które z poniższych nazw zmiennych są prawidłowe?</font><br>\n",
    "<ul>\n",
    "    <li>A1234A</li>\n",
    "    <li>abc-def</li>\n",
    "    <li>12days</li>\n",
    "    <li>_arg3</li>\n",
    "    <li>Deal ID</li>\n",
    "    <li>logotype$</li>\n",
    "    <li>print</li>\n",
    "</ul>"
   ]
  },
  {
   "cell_type": "markdown",
   "metadata": {
    "colab_type": "text",
    "id": "omh9Vr5ImuWX"
   },
   "source": [
    "<br>\n",
    "### Operatory zmiennych"
   ]
  },
  {
   "cell_type": "code",
   "execution_count": 0,
   "metadata": {
    "colab": {},
    "colab_type": "code",
    "id": "7A9Fr9QJmuWX"
   },
   "outputs": [],
   "source": [
    "p = 1.2  # pojedynczy znak = oznacza przypisanie wartości zmiennej\n",
    "q = 2.5\n",
    "print(p, q)"
   ]
  },
  {
   "cell_type": "code",
   "execution_count": 0,
   "metadata": {
    "colab": {},
    "colab_type": "code",
    "id": "dxMg8H3UmuWZ"
   },
   "outputs": [],
   "source": [
    "print(p == q) # porównanie - czy p równa się q?\n",
    "print(p < q)  # porównania - czy p jest mniejsze od q?\n",
    "print(p <= q) # porównanie - czy p jest mniejsze lub równe q?\n",
    "print(p >= q) # porównanie - czy p jest większe lub równe q?\n",
    "print(p > q)  # porównanie - czy p jest większe od q?\n",
    "print(p != q) # porównanie - czy p nie jest równe q?"
   ]
  },
  {
   "cell_type": "code",
   "execution_count": 0,
   "metadata": {
    "colab": {},
    "colab_type": "code",
    "id": "omgx0mMRmuWg"
   },
   "outputs": [],
   "source": [
    "p, q = 2.5, 1.2  # takie przypisanie jest też możliwe\n",
    "print(p, q)"
   ]
  },
  {
   "cell_type": "code",
   "execution_count": 0,
   "metadata": {
    "colab": {},
    "colab_type": "code",
    "id": "-TY7VQb_muWj"
   },
   "outputs": [],
   "source": [
    "p, q = q, p  # Python wspiera tego typu możliwość zamiany wartości dwóch (lub więcej) zmiennych bez zmiennej pośredniczącej\n",
    "print(p, q)"
   ]
  },
  {
   "cell_type": "code",
   "execution_count": 0,
   "metadata": {
    "colab": {},
    "colab_type": "code",
    "id": "HH3AGxZkmuWn"
   },
   "outputs": [],
   "source": [
    "p = p + 1  # to nie jest równanie matematyczne :) To przypisanie p wartości bieżącej powiększonej o 1\n",
    "print(p)"
   ]
  },
  {
   "cell_type": "code",
   "execution_count": 0,
   "metadata": {
    "colab": {},
    "colab_type": "code",
    "id": "kLMf9NiomuWq"
   },
   "outputs": [],
   "source": [
    "p += 1 # to samo, co wyżej - zapis skrócony\n",
    "print(p)"
   ]
  },
  {
   "cell_type": "code",
   "execution_count": 0,
   "metadata": {
    "colab": {},
    "colab_type": "code",
    "id": "jGNGhRLZmuWu"
   },
   "outputs": [],
   "source": [
    "p -= 1 # pomniejsz p o 1\n",
    "p *= 2 # pomnóż p przez 2\n",
    "p /= 3 # podziel p na 3\n",
    "p **= 4 # podnieś p do potęgi 4\n",
    "print(p)"
   ]
  },
  {
   "cell_type": "code",
   "execution_count": 0,
   "metadata": {
    "colab": {},
    "colab_type": "code",
    "id": "OtuEwZ2KmuWy"
   },
   "outputs": [],
   "source": [
    "p %= q # przypisz p wartość reszty z dzielenia p przez q\n",
    "print(p)"
   ]
  },
  {
   "cell_type": "code",
   "execution_count": 0,
   "metadata": {
    "colab": {},
    "colab_type": "code",
    "id": "ECxi2uPZmuW1"
   },
   "outputs": [],
   "source": [
    "p = 2 \n",
    "q = 2.0\n",
    "print(p == q) # wynik porównania zmiennych różnych typów zależy od ich implementacji\n",
    "print(p is q) # operator is sprawdza, czy obie zmienne wskazują na ten sam adres pamięci"
   ]
  },
  {
   "cell_type": "code",
   "execution_count": 0,
   "metadata": {
    "colab": {},
    "colab_type": "code",
    "id": "5Zxf1pPSmuW2"
   },
   "outputs": [],
   "source": [
    "s = 'ABCDEFGHIJ'\n",
    "print('ABC' in s) # czy 'ABC' znajduje się w s"
   ]
  },
  {
   "cell_type": "code",
   "execution_count": 0,
   "metadata": {
    "colab": {},
    "colab_type": "code",
    "id": "jI4o1CnwmuW6"
   },
   "outputs": [],
   "source": [
    "r = 0 # jedyna wartość liczbowa, która zwraca False\n",
    "\n",
    "print(all((p, q, r))) # zwraca True tylko, jeśli wszystkie elementy są True - uwaga na nawiasy!\n",
    "print(any((p, q, r))) # zwraca True jeśli choć jeden element jest True"
   ]
  },
  {
   "cell_type": "markdown",
   "metadata": {
    "colab_type": "text",
    "id": "WE8_TnBAmuW9"
   },
   "source": [
    "<br>\n",
    "### Wartość 'None'"
   ]
  },
  {
   "cell_type": "markdown",
   "metadata": {
    "colab_type": "text",
    "id": "Y-_XwrDNmuW-"
   },
   "source": [
    "None jest specyficznym obiektem typu NoneType. W odróżnieniu od np. SQL, niekoniecznie oznacza \"brak wartości\". Zmienne lub funkcje mogą mieć wartość None, co automatycznie oznacza przyporządkowanie im typu NoneType (nawet, jeśli wcześniej miały np. int lub str). Wartość ta może zostać normalnie przypisana, ręcznie lub w wyniku zwrócenia przez funkcję."
   ]
  },
  {
   "cell_type": "code",
   "execution_count": 0,
   "metadata": {
    "colab": {},
    "colab_type": "code",
    "id": "zb7I0l1-muW-"
   },
   "outputs": [],
   "source": [
    "p, q = None, None\n",
    "print(type(p), type(q))\n",
    "print(p == q)\n",
    "print(p is q)"
   ]
  },
  {
   "cell_type": "markdown",
   "metadata": {
    "colab_type": "text",
    "id": "EkAd2vkfmuXA"
   },
   "source": [
    "<br><br><br><br><br><br>\n",
    "<hr>\n",
    "### Typ string, metody i wprowadzenie do funkcji"
   ]
  },
  {
   "cell_type": "markdown",
   "metadata": {
    "colab_type": "text",
    "id": "uLt2IPzvmuXB"
   },
   "source": [
    "<b>string</b> to typ danych, a w Pythonie to klasa obiektów str (wszystko jest obiektem). Jak każda klasa, zawiera właściwe sobie <b>metody</b> (funkcje), które odpowiadają za określone operacje na zmiennych. Metody są wywoływane po kropce, a wartość funkcji jest zwracana przy użyciu nawiasów ().\n",
    "<br>\n",
    "W nawiasach podajemy argumenty funkcji (w zależności od sposobu jej zdefiniowania), ale mogą być też takie metody, które wywołuje się bez argumentów."
   ]
  },
  {
   "cell_type": "code",
   "execution_count": 0,
   "metadata": {
    "colab": {
     "base_uri": "https://localhost:8080/",
     "height": 34
    },
    "colab_type": "code",
    "executionInfo": {
     "elapsed": 980,
     "status": "ok",
     "timestamp": 1553257066045,
     "user": {
      "displayName": "",
      "photoUrl": "",
      "userId": ""
     },
     "user_tz": -60
    },
    "id": "3_6Gm8fLmuXC",
    "outputId": "d790c12d-4ead-4b3a-dc9a-4099ec66150f"
   },
   "outputs": [
    {
     "name": "stdout",
     "output_type": "stream",
     "text": [
      "Ala Ma Kota\n"
     ]
    }
   ],
   "source": [
    "s = 'Ala Ma Kota' # wprowadzamy zmienną s, która będzie stringiem\n",
    "print(s)"
   ]
  },
  {
   "cell_type": "code",
   "execution_count": 0,
   "metadata": {
    "colab": {},
    "colab_type": "code",
    "id": "oJOzff2WmuXG"
   },
   "outputs": [],
   "source": [
    "print(s.casefold()) # małe litery"
   ]
  },
  {
   "cell_type": "code",
   "execution_count": 0,
   "metadata": {
    "colab": {},
    "colab_type": "code",
    "id": "23JPi89OmuXI"
   },
   "outputs": [],
   "source": [
    "print(s.lower()) # małe litery"
   ]
  },
  {
   "cell_type": "code",
   "execution_count": 0,
   "metadata": {
    "colab": {},
    "colab_type": "code",
    "id": "1hyXwq8KmuXL"
   },
   "outputs": [],
   "source": [
    "print(s.upper()) # wielkie litery"
   ]
  },
  {
   "cell_type": "code",
   "execution_count": 0,
   "metadata": {
    "colab": {},
    "colab_type": "code",
    "id": "NuLa5rzFmuXO"
   },
   "outputs": [],
   "source": [
    "print(s + s[3:].lower()) # konkatenacja"
   ]
  },
  {
   "cell_type": "code",
   "execution_count": 0,
   "metadata": {
    "colab": {
     "base_uri": "https://localhost:8080/",
     "height": 34
    },
    "colab_type": "code",
    "executionInfo": {
     "elapsed": 863,
     "status": "ok",
     "timestamp": 1553257070919,
     "user": {
      "displayName": "",
      "photoUrl": "",
      "userId": ""
     },
     "user_tz": -60
    },
    "id": "DTp_bjCLmuXQ",
    "outputId": "0101f117-3873-42eb-d6bb-ca007434e97d"
   },
   "outputs": [
    {
     "data": {
      "text/plain": [
       "'Ala ma kota'"
      ]
     },
     "execution_count": 43,
     "metadata": {
      "tags": []
     },
     "output_type": "execute_result"
    }
   ],
   "source": [
    "s.capitalize() # tylko pierwsza litera wielka"
   ]
  },
  {
   "cell_type": "code",
   "execution_count": 0,
   "metadata": {
    "colab": {
     "base_uri": "https://localhost:8080/",
     "height": 34
    },
    "colab_type": "code",
    "executionInfo": {
     "elapsed": 905,
     "status": "ok",
     "timestamp": 1553257183944,
     "user": {
      "displayName": "",
      "photoUrl": "",
      "userId": ""
     },
     "user_tz": -60
    },
    "id": "PrvngEFPmuXT",
    "outputId": "a8267682-5796-438d-ed1d-6b95936b7576"
   },
   "outputs": [
    {
     "data": {
      "text/plain": [
       "'    Ala Ma Kota     '"
      ]
     },
     "execution_count": 44,
     "metadata": {
      "tags": []
     },
     "output_type": "execute_result"
    }
   ],
   "source": [
    "s.center(20) # utwórz string 20-znakowy i wyśrodkuj (ta metoda przyjmuje argument)"
   ]
  },
  {
   "cell_type": "code",
   "execution_count": 0,
   "metadata": {
    "colab": {},
    "colab_type": "code",
    "id": "L2KPJ7CZmuXV"
   },
   "outputs": [],
   "source": [
    "s.ljust(30) # wyrównaj do lewej\n",
    "s.rjust(20) # lub do prawej"
   ]
  },
  {
   "cell_type": "markdown",
   "metadata": {
    "colab_type": "text",
    "id": "XjrGZd5TmuXX"
   },
   "source": [
    "Kilka powyższych przykładów jest zapisanych bez użycia \"print\". Mimo to, rezultat funkcji zostaje wyświetlony. Jest to możliwe dzięki koncepcji <b>zwracania</b> wartości przez funkcje. Wszystkie powyższe metody stringów zwracają wartość po przetworzeniu, którą można np. przypisać kolejnej zmiennej albo (w paradygmacie funkcyjnym) wywołać na niej kolejną funkcję."
   ]
  },
  {
   "cell_type": "code",
   "execution_count": 0,
   "metadata": {
    "colab": {},
    "colab_type": "code",
    "id": "RizjkPVEmuXX"
   },
   "outputs": [],
   "source": [
    "print(s) # ponieważ powyższe funkcje NIE ZMIENIAJĄ zmiennej, a tylko ZWRACAJĄ rezultat - s nadal przechowuje początkową wartość"
   ]
  },
  {
   "cell_type": "code",
   "execution_count": 0,
   "metadata": {
    "colab": {},
    "colab_type": "code",
    "id": "EompWG0wmuXb"
   },
   "outputs": [],
   "source": [
    "s = s + ' A Kot Ma Ale'\n",
    "print(s)"
   ]
  },
  {
   "cell_type": "code",
   "execution_count": 0,
   "metadata": {
    "colab": {},
    "colab_type": "code",
    "id": "fFY9KhZ3muXc"
   },
   "outputs": [],
   "source": [
    "ss = s\n",
    "ss += ' I Nie Kocha Jej Wcale' # skrócone operatory przypisania +=, -=, /=, //=, *=, %=, etc.\n",
    "print(ss)"
   ]
  },
  {
   "cell_type": "code",
   "execution_count": 0,
   "metadata": {
    "colab": {},
    "colab_type": "code",
    "id": "zqaZXEHOmuXf"
   },
   "outputs": [],
   "source": [
    "print(ss.replace('Kot', 'Byk')) # zamień WSZYSTKIE wystąpienia łańcucha 'Kot' na 'Byk'"
   ]
  },
  {
   "cell_type": "code",
   "execution_count": 0,
   "metadata": {
    "colab": {},
    "colab_type": "code",
    "id": "DTuThGQimuXj"
   },
   "outputs": [],
   "source": [
    "print(ss.find('Kot'))  # na którym miejscu (indeks) znajduje się fraza 'Kot' w ss\n",
    "print(ss.rfind('Kot')) # na którym miejscu NAJDALEJ znajduje się fraza 'Kot' w ss\n",
    "print(ss.find('Pies')) # zwraca -1 jeśli nie odnaleziono"
   ]
  },
  {
   "cell_type": "code",
   "execution_count": 0,
   "metadata": {
    "colab": {},
    "colab_type": "code",
    "id": "wWBcwQyQmuXl"
   },
   "outputs": [],
   "source": [
    "t = s.lower() # rezultat operacji na s został przypisany do nowej zmiennej t\n",
    "print(s, t)"
   ]
  },
  {
   "cell_type": "code",
   "execution_count": 0,
   "metadata": {
    "colab": {},
    "colab_type": "code",
    "id": "taLt3sbPmuXo",
    "scrolled": true
   },
   "outputs": [],
   "source": [
    "print(t > s) # zwraca wartość porównania argumentów - Python rozróżnia małe i wielkie litery!"
   ]
  },
  {
   "cell_type": "code",
   "execution_count": 0,
   "metadata": {
    "colab": {},
    "colab_type": "code",
    "id": "uDMOTHVTmuXp"
   },
   "outputs": [],
   "source": [
    "print(t.lower() == s.lower()) # a tu już wszystko w porządku"
   ]
  },
  {
   "cell_type": "code",
   "execution_count": 0,
   "metadata": {
    "colab": {},
    "colab_type": "code",
    "id": "Afl9JKj0muXq"
   },
   "outputs": [],
   "source": [
    "print(t.upper() != s.lower()) # != oznacza NIE RÓWNA SIĘ"
   ]
  },
  {
   "cell_type": "code",
   "execution_count": 0,
   "metadata": {
    "colab": {},
    "colab_type": "code",
    "id": "FllQLtvXmuXr"
   },
   "outputs": [],
   "source": [
    "'BGZ BNP PARIBAS'.index('B') # na którym miejscu występuje znak 'B' (zwraca pierwsze wystąpienie)"
   ]
  },
  {
   "cell_type": "code",
   "execution_count": 0,
   "metadata": {
    "colab": {},
    "colab_type": "code",
    "id": "ExdkeesImuXt"
   },
   "outputs": [],
   "source": [
    "'BGZ BNP PARIBAS'.count('B') # ile razy w stringu występuje substring"
   ]
  },
  {
   "cell_type": "code",
   "execution_count": 0,
   "metadata": {
    "colab": {},
    "colab_type": "code",
    "id": "xUvtBeYjmuXu"
   },
   "outputs": [],
   "source": [
    "print(len('BGZ BNP PARIBAS')) # podaj długość łańcucha znaków"
   ]
  },
  {
   "cell_type": "code",
   "execution_count": 0,
   "metadata": {
    "colab": {},
    "colab_type": "code",
    "id": "Rk7e5lEimuXv"
   },
   "outputs": [],
   "source": [
    "print(ss.split()) # rozbija string na kawałki wg podanego argumentu (lub spacji jeśli nie podano)"
   ]
  },
  {
   "cell_type": "code",
   "execution_count": 0,
   "metadata": {
    "colab": {},
    "colab_type": "code",
    "id": "PtSJpWj8muXw"
   },
   "outputs": [],
   "source": [
    "print(ss.split('Ma', maxsplit=1))   # można użyć z parametrem maxsplit\n",
    "print(ss.rsplit('Ma', maxsplit=1))  # split wykonany \"od prawej\""
   ]
  },
  {
   "cell_type": "code",
   "execution_count": 0,
   "metadata": {
    "colab": {},
    "colab_type": "code",
    "id": "zeDu5QHNmuX2"
   },
   "outputs": [],
   "source": [
    "tt = ss.center(60, '#') # tt ma długość 60 znaków z wyśrodkowanym ss oraz hashami po obu stronach\n",
    "print(tt)"
   ]
  },
  {
   "cell_type": "code",
   "execution_count": 0,
   "metadata": {
    "colab": {},
    "colab_type": "code",
    "id": "6UnjiBpGmuX5"
   },
   "outputs": [],
   "source": [
    "print(tt.lstrip('#')) # usuń hashe z lewej strony (lub spacje, jeśli argument jest pusty)\n",
    "print(tt.rstrip('#')) # usuń hashe z prawej strony\n",
    "print(tt.strip('#')) # usuń hashe z obu stron"
   ]
  },
  {
   "cell_type": "code",
   "execution_count": 0,
   "metadata": {
    "colab": {},
    "colab_type": "code",
    "id": "FzFHeY9zmuX7"
   },
   "outputs": [],
   "source": [
    "agent = '7'.zfill(3) # funkcja zfill dostawia zera z lewej strony stringa do długości podanej w argumencie\n",
    "print(agent)         # bardzo przydatne przy pracy z danymi typu numery PESEL, numery IP, etc."
   ]
  },
  {
   "cell_type": "code",
   "execution_count": 0,
   "metadata": {
    "colab": {},
    "colab_type": "code",
    "id": "neuMFlvTmuX9"
   },
   "outputs": [],
   "source": [
    "s. # Jupyter Notebook podpowiada dostępne metody - ustaw kursor na kropce i wciśnij TAB"
   ]
  },
  {
   "cell_type": "code",
   "execution_count": 0,
   "metadata": {
    "colab": {},
    "colab_type": "code",
    "id": "n1SYEqxwmuX-"
   },
   "outputs": [],
   "source": [
    "print # Jupyter podpowiada też dostępną składnię metod - wciśnij Shift+TAB"
   ]
  },
  {
   "cell_type": "code",
   "execution_count": 0,
   "metadata": {
    "colab": {},
    "colab_type": "code",
    "id": "IC05j05-muYA"
   },
   "outputs": [],
   "source": [
    "print('ABCD', 'EFGH', 'IJKL', sep='! ', end='?') # argumenty funkcji print - w tym argumenty nazwane (named)"
   ]
  },
  {
   "cell_type": "code",
   "execution_count": 0,
   "metadata": {
    "colab": {},
    "colab_type": "code",
    "id": "xB8sZKOpmuYB"
   },
   "outputs": [],
   "source": [
    "print('|'.join('Ala Ma Kota A Kot Ma Ale'))  # .join wykorzystuje string  go jako łącznik z elementami zmiennej iterowalnej"
   ]
  },
  {
   "cell_type": "code",
   "execution_count": 0,
   "metadata": {
    "colab": {},
    "colab_type": "code",
    "id": "LBozgdJKmuYC"
   },
   "outputs": [],
   "source": []
  },
  {
   "cell_type": "markdown",
   "metadata": {
    "colab_type": "text",
    "id": "wkOhRGTRmuYE"
   },
   "source": [
    "<br>\n",
    "### Funkcja input()"
   ]
  },
  {
   "cell_type": "code",
   "execution_count": 0,
   "metadata": {
    "colab": {
     "base_uri": "https://localhost:8080/",
     "height": 103
    },
    "colab_type": "code",
    "executionInfo": {
     "elapsed": 5079,
     "status": "ok",
     "timestamp": 1553259496711,
     "user": {
      "displayName": "",
      "photoUrl": "",
      "userId": ""
     },
     "user_tz": -60
    },
    "id": "cJfPK-jTmuYG",
    "outputId": "cbbd51de-8fac-4ce2-b208-da9fdd14d944"
   },
   "outputs": [
    {
     "name": "stdout",
     "output_type": "stream",
     "text": [
      "Jak masz na imię?sdfsdfssdf\n",
      "Witaj sdfsdfssdf\n",
      "Witaj sdfsdfssdf\n",
      "Witaj sdfsdfssdf\n",
      "Witaj sdfsdfssdf\n"
     ]
    }
   ],
   "source": [
    "name = input('Jak masz na imię?') # input ZAWSZE zwraca string\n",
    "print('Witaj', name) # funkcja print() wypisze zmienne różnego typu po przecinku\n",
    "\n",
    "print('Witaj %s' %name)           # formatowanie z procentem\n",
    "print('Witaj {}'.format(name))    # formatowanie z klamrami\n",
    "print(f'Witaj {name}')            # f-strings (od Pythona 3.5)"
   ]
  },
  {
   "cell_type": "markdown",
   "metadata": {
    "colab_type": "text",
    "id": "4bcpbiP5muYJ"
   },
   "source": [
    "<hr>\n",
    "### ZADANIE #4\n",
    "<font color=\"#0088CC\">\n",
    "Zapytaj użytkownika o wyraz, a następnie o znak i wypisz ile razy dany znak występuje w podanym słowie. Następnie wypisz fragmenty łańcucha rozdzielone przez ten znak.</font>"
   ]
  },
  {
   "cell_type": "code",
   "execution_count": 0,
   "metadata": {
    "colab": {
     "base_uri": "https://localhost:8080/",
     "height": 86
    },
    "colab_type": "code",
    "executionInfo": {
     "elapsed": 11384,
     "status": "ok",
     "timestamp": 1553260716240,
     "user": {
      "displayName": "",
      "photoUrl": "",
      "userId": ""
     },
     "user_tz": -60
    },
    "id": "Pysec12rmuYK",
    "outputId": "b534fe6b-547b-4217-e127-41194edb6d7f"
   },
   "outputs": [
    {
     "name": "stdout",
     "output_type": "stream",
     "text": [
      "Podaj tekstBGZ BNP PARIBAS\n",
      "Podaj znaktB\n",
      " GZ  NP PARI AS\n",
      "3\n"
     ]
    }
   ],
   "source": [
    "tekst = input('Podaj tekst') \n",
    "znak = input('Podaj znakt') \n",
    "print(*tekst.split(znak))\n",
    "print(tekst.count(znak))"
   ]
  },
  {
   "cell_type": "markdown",
   "metadata": {
    "colab_type": "text",
    "id": "kbvdsNY7muYL"
   },
   "source": [
    "<br><br><br><br><br><br>\n",
    "<hr>\n",
    "### Typy danych, konwersja typów"
   ]
  },
  {
   "cell_type": "code",
   "execution_count": 0,
   "metadata": {
    "colab": {},
    "colab_type": "code",
    "id": "nVyGcWdsmuYM"
   },
   "outputs": [],
   "source": [
    "s = '6'\n",
    "t = 6\n",
    "print(s, t) # na wyjściu może nie być widać różnicy"
   ]
  },
  {
   "cell_type": "code",
   "execution_count": 0,
   "metadata": {
    "colab": {},
    "colab_type": "code",
    "id": "gHzc4o0emuYO"
   },
   "outputs": [],
   "source": [
    "s, t # tu widzimy, że s jest stringiem, a t liczbą"
   ]
  },
  {
   "cell_type": "code",
   "execution_count": 0,
   "metadata": {
    "colab": {},
    "colab_type": "code",
    "id": "6GamBr06muYP"
   },
   "outputs": [],
   "source": [
    "print(s * t)"
   ]
  },
  {
   "cell_type": "code",
   "execution_count": 0,
   "metadata": {
    "colab": {},
    "colab_type": "code",
    "id": "qHauNwiQmuYU"
   },
   "outputs": [],
   "source": [
    "s == t"
   ]
  },
  {
   "cell_type": "code",
   "execution_count": 0,
   "metadata": {
    "colab": {
     "base_uri": "https://localhost:8080/",
     "height": 51
    },
    "colab_type": "code",
    "executionInfo": {
     "elapsed": 5069,
     "status": "ok",
     "timestamp": 1554195547197,
     "user": {
      "displayName": "Krzysztof Bruszewski",
      "photoUrl": "https://lh4.googleusercontent.com/-uV0-wDJ-R2g/AAAAAAAAAAI/AAAAAAAALRA/TW0TOh0OXuo/s64/photo.jpg",
      "userId": "11139975063881261812"
     },
     "user_tz": -120
    },
    "id": "ZqpPbQphRFRX",
    "outputId": "7acd80a8-1abc-4736-800e-d460c0c9e357"
   },
   "outputs": [
    {
     "name": "stdout",
     "output_type": "stream",
     "text": [
      "True\n",
      "False\n"
     ]
    }
   ],
   "source": [
    "a = 2\n",
    "b = 2.0\n",
    "print(a == b)\n",
    "print(a is b)"
   ]
  },
  {
   "cell_type": "code",
   "execution_count": 0,
   "metadata": {
    "colab": {},
    "colab_type": "code",
    "id": "74WOVlOXmuYX"
   },
   "outputs": [],
   "source": [
    "s > t # nie zawsze można porównywać wielkości różnych typów"
   ]
  },
  {
   "cell_type": "code",
   "execution_count": 0,
   "metadata": {
    "colab": {},
    "colab_type": "code",
    "id": "A7v6kjkgmuYX"
   },
   "outputs": [],
   "source": [
    "s.isnumeric() # sprawdza, czy string jest numeryczny (czyli czy da się skonwertować na liczbę)"
   ]
  },
  {
   "cell_type": "code",
   "execution_count": 0,
   "metadata": {
    "colab": {},
    "colab_type": "code",
    "id": "vP1XOLPymuYa"
   },
   "outputs": [],
   "source": [
    "s2 = int(s) # funkcja int() zamienia string na integer\n",
    "print(s2)"
   ]
  },
  {
   "cell_type": "code",
   "execution_count": 0,
   "metadata": {
    "colab": {},
    "colab_type": "code",
    "id": "d-kzEwitmuYb"
   },
   "outputs": [],
   "source": [
    "s2 == t"
   ]
  },
  {
   "cell_type": "code",
   "execution_count": 0,
   "metadata": {
    "colab": {},
    "colab_type": "code",
    "id": "o7R1SWRJmuYb"
   },
   "outputs": [],
   "source": [
    "# Chcemy uzyskać wynik razy 2\n",
    "n = input('Ile masz lat?')\n",
    "print(n * 2)  # to nie daje spodziewanych efektów"
   ]
  },
  {
   "cell_type": "code",
   "execution_count": 0,
   "metadata": {
    "colab": {},
    "colab_type": "code",
    "id": "EuLkB33UmuYd"
   },
   "outputs": [],
   "source": [
    "n = int(input('Ile masz lat?')) # musimy zmienić typ danych\n",
    "print(n * 2)"
   ]
  },
  {
   "cell_type": "code",
   "execution_count": 0,
   "metadata": {
    "colab": {},
    "colab_type": "code",
    "id": "0BpxyP_gmuYe"
   },
   "outputs": [],
   "source": [
    "s3 = float(s) # funkcja float() zamienia string na float\n",
    "s3"
   ]
  },
  {
   "cell_type": "code",
   "execution_count": 0,
   "metadata": {
    "colab": {},
    "colab_type": "code",
    "id": "7mVhFax8muYf"
   },
   "outputs": [],
   "source": [
    "print(s, s2, s3)"
   ]
  },
  {
   "cell_type": "code",
   "execution_count": 0,
   "metadata": {
    "colab": {},
    "colab_type": "code",
    "id": "Jsm0A3QNmuYi"
   },
   "outputs": [],
   "source": [
    "s2 == s3, s2 is s3 # różnica między '==' i 'is' - ta druga sprawdza, czy zmienne wskazują na to samo miejsce w pamięci"
   ]
  },
  {
   "cell_type": "code",
   "execution_count": 0,
   "metadata": {
    "colab": {},
    "colab_type": "code",
    "id": "cK29vaQRmuYj"
   },
   "outputs": [],
   "source": [
    "isinstance(s, str) # czy s jest zmienną typu string?"
   ]
  },
  {
   "cell_type": "markdown",
   "metadata": {
    "colab_type": "text",
    "id": "Phz-wy2OmuYk"
   },
   "source": [
    "<hr>\n",
    "### ZADANIE #5\n",
    "<font color=\"#0088CC\">\n",
    "Sprawdź i wypisz, jaka będzie długość łańcucha znaków powstałego z zamiany na string wyniku działania: 1/7</font>"
   ]
  },
  {
   "cell_type": "code",
   "execution_count": 0,
   "metadata": {
    "colab": {
     "base_uri": "https://localhost:8080/",
     "height": 34
    },
    "colab_type": "code",
    "executionInfo": {
     "elapsed": 898,
     "status": "ok",
     "timestamp": 1553261271950,
     "user": {
      "displayName": "",
      "photoUrl": "",
      "userId": ""
     },
     "user_tz": -60
    },
    "id": "ZD9XXEUfmuYk",
    "outputId": "edd66b12-33a5-4a5e-9f48-37c17d062067"
   },
   "outputs": [
    {
     "data": {
      "text/plain": [
       "19"
      ]
     },
     "execution_count": 52,
     "metadata": {
      "tags": []
     },
     "output_type": "execute_result"
    }
   ],
   "source": [
    "a=1/7\n",
    "len(str(a))"
   ]
  },
  {
   "cell_type": "markdown",
   "metadata": {
    "colab_type": "text",
    "id": "PqhHyxMhmuYp"
   },
   "source": [
    "<br><br><br><br><br><br>\n",
    "### Typ boolean - operatory i warunki"
   ]
  },
  {
   "cell_type": "code",
   "execution_count": 0,
   "metadata": {
    "colab": {
     "base_uri": "https://localhost:8080/",
     "height": 34
    },
    "colab_type": "code",
    "executionInfo": {
     "elapsed": 1512,
     "status": "ok",
     "timestamp": 1553262837113,
     "user": {
      "displayName": "",
      "photoUrl": "",
      "userId": ""
     },
     "user_tz": -60
    },
    "id": "NDL65lzbmuYp",
    "outputId": "ee0512e4-0a46-4c78-ccae-1fcaf6486010"
   },
   "outputs": [
    {
     "name": "stdout",
     "output_type": "stream",
     "text": [
      "False\n"
     ]
    }
   ],
   "source": [
    "print(bool(1 - 1)) # zmienna typu boolean - True (1) lub False (0)"
   ]
  },
  {
   "cell_type": "markdown",
   "metadata": {
    "colab_type": "text",
    "id": "k3S6s8BEmuYr"
   },
   "source": [
    "#### AND"
   ]
  },
  {
   "cell_type": "code",
   "execution_count": 0,
   "metadata": {
    "colab": {
     "base_uri": "https://localhost:8080/",
     "height": 103
    },
    "colab_type": "code",
    "executionInfo": {
     "elapsed": 935,
     "status": "ok",
     "timestamp": 1553262868344,
     "user": {
      "displayName": "",
      "photoUrl": "",
      "userId": ""
     },
     "user_tz": -60
    },
    "id": "dtIsoFYUmuYs",
    "outputId": "811f1712-df6f-4c98-9025-b86f57f1dab0"
   },
   "outputs": [
    {
     "name": "stdout",
     "output_type": "stream",
     "text": [
      "Operator \"and\"\n",
      "False and False: False\n",
      "False and True: False\n",
      "True and False: False\n",
      "True and True: True\n"
     ]
    }
   ],
   "source": [
    "print('Operator \"and\"')\n",
    "print('False and False:', False and False)\n",
    "print('False and True:', False and True)\n",
    "print('True and False:', True and False)\n",
    "print('True and True:', True and True)"
   ]
  },
  {
   "cell_type": "markdown",
   "metadata": {
    "colab_type": "text",
    "id": "Li0CaeAXmuYt"
   },
   "source": [
    "#### OR"
   ]
  },
  {
   "cell_type": "code",
   "execution_count": 0,
   "metadata": {
    "colab": {
     "base_uri": "https://localhost:8080/",
     "height": 103
    },
    "colab_type": "code",
    "executionInfo": {
     "elapsed": 962,
     "status": "ok",
     "timestamp": 1553262878889,
     "user": {
      "displayName": "",
      "photoUrl": "",
      "userId": ""
     },
     "user_tz": -60
    },
    "id": "G47AvNx7muYt",
    "outputId": "e8a35a92-382d-48e4-e59c-ddc285c4af43"
   },
   "outputs": [
    {
     "name": "stdout",
     "output_type": "stream",
     "text": [
      "Operator \"or\"\n",
      "False or False: False\n",
      "False or True: True\n",
      "True or False: True\n",
      "True or True: True\n"
     ]
    }
   ],
   "source": [
    "print('Operator \"or\"')\n",
    "print('False or False:', False or False)\n",
    "print('False or True:', False or True)\n",
    "print('True or False:', True or False)\n",
    "print('True or True:', True or True)"
   ]
  },
  {
   "cell_type": "markdown",
   "metadata": {
    "colab_type": "text",
    "id": "no0qNEnvmuYu"
   },
   "source": [
    "#### NOT"
   ]
  },
  {
   "cell_type": "code",
   "execution_count": 0,
   "metadata": {
    "colab": {
     "base_uri": "https://localhost:8080/",
     "height": 68
    },
    "colab_type": "code",
    "executionInfo": {
     "elapsed": 1031,
     "status": "ok",
     "timestamp": 1553262886294,
     "user": {
      "displayName": "",
      "photoUrl": "",
      "userId": ""
     },
     "user_tz": -60
    },
    "id": "b86W5xwCmuYv",
    "outputId": "e56be034-b86a-439e-9aa3-4ff7a5f1b395"
   },
   "outputs": [
    {
     "name": "stdout",
     "output_type": "stream",
     "text": [
      "Operator \"not\"\n",
      "not False: True\n",
      "not True: False\n"
     ]
    }
   ],
   "source": [
    "print('Operator \"not\"')\n",
    "print('not False:', not False)\n",
    "print('not True:', not True)"
   ]
  },
  {
   "cell_type": "code",
   "execution_count": 0,
   "metadata": {
    "colab": {
     "base_uri": "https://localhost:8080/",
     "height": 34
    },
    "colab_type": "code",
    "executionInfo": {
     "elapsed": 1005,
     "status": "ok",
     "timestamp": 1553262937658,
     "user": {
      "displayName": "",
      "photoUrl": "",
      "userId": ""
     },
     "user_tz": -60
    },
    "id": "yR0Az0m3muYv",
    "outputId": "43686080-6056-45d1-8f9e-60c56d4a0644"
   },
   "outputs": [
    {
     "name": "stdout",
     "output_type": "stream",
     "text": [
      "False\n"
     ]
    }
   ],
   "source": [
    "print(True and False or not True) # kolejność - not, or, and"
   ]
  },
  {
   "cell_type": "markdown",
   "metadata": {
    "colab_type": "text",
    "id": "qC69R8dDmuYx"
   },
   "source": [
    "<br>\n",
    "### Instrukcje warunkowe - if, elif, else"
   ]
  },
  {
   "cell_type": "markdown",
   "metadata": {
    "colab_type": "text",
    "id": "ZhXPgkMemuYx"
   },
   "source": [
    "Składnia języka Python jest specyficzna i dość wymagająca. Logiczne całości kodu, bloki, wyodrębniane są przez wcięcie tekstu w stosunku do bloku wyższego rzędu. Początek podbloku syngalizuje się umieszczając dwukropek w poprzedzającej go linijce blkou wyższego rzędu."
   ]
  },
  {
   "cell_type": "code",
   "execution_count": 0,
   "metadata": {
    "colab": {},
    "colab_type": "code",
    "id": "R-S6W5uEmuYx"
   },
   "outputs": [],
   "source": [
    "if 5 < 4:               # instrukcja warunkowa - jeśli warunek (lub wyrażenie) jest True, wykonaj blok we wcięciu\n",
    "    print('prawda')     # wcięcie - zwykle 4 spacje - jest BARDZO WAŻNE w sensie składni\n",
    "else:                   # w przeciwnym razie (jeśli warunek z if nie jest prawdziwy)\n",
    "    print('fałsz')"
   ]
  },
  {
   "cell_type": "code",
   "execution_count": 0,
   "metadata": {
    "colab": {},
    "colab_type": "code",
    "id": "mJHoAMDYmuYz"
   },
   "outputs": [],
   "source": [
    "if (5 + 5 > 10) and (1 == 1):  # w if może być też całe wyrażenie\n",
    "    print('większe')\n",
    "elif 5 + 5 < 10:               # else if --> elif - może ich być dowolna liczba - zadziała PIERWSZY prawdziwy\n",
    "    print('mniejsze')\n",
    "else:                          # else oznacza - jeśli ŻADEN z powyższych warunków nie został spełniony\n",
    "    print('równe')"
   ]
  },
  {
   "cell_type": "code",
   "execution_count": 0,
   "metadata": {
    "colab": {},
    "colab_type": "code",
    "id": "uxXZ7pc_muY0"
   },
   "outputs": [],
   "source": [
    "if 1 == 0:\n",
    "    print('A')\n",
    "elif 1 == 1:\n",
    "    if 1 == 0:\n",
    "        print('B') # podwójne wcięcie, zagnieżdżone instrukcje if\n",
    "    else:\n",
    "        print('C')\n",
    "else:\n",
    "    print('D')"
   ]
  },
  {
   "cell_type": "code",
   "execution_count": 0,
   "metadata": {
    "colab": {
     "base_uri": "https://localhost:8080/",
     "height": 54
    },
    "colab_type": "code",
    "executionInfo": {
     "elapsed": 831,
     "status": "ok",
     "timestamp": 1554634347853,
     "user": {
      "displayName": "Krzysztof Bruszewski",
      "photoUrl": "https://lh4.googleusercontent.com/-uV0-wDJ-R2g/AAAAAAAAAAI/AAAAAAAALRA/TW0TOh0OXuo/s64/photo.jpg",
      "userId": "11139975063881261812"
     },
     "user_tz": -120
    },
    "id": "wGzOnGb5a_9i",
    "outputId": "37f22ba3-55f2-45d9-9de6-8b4c181e04f4"
   },
   "outputs": [
    {
     "name": "stdout",
     "output_type": "stream",
     "text": [
      "A\n",
      "B\n"
     ]
    }
   ],
   "source": [
    "a = 1;\n",
    "if a:\n",
    "  print(\"A\")\n",
    "else:\n",
    "  print(\"B\")\n",
    "  \n",
    "a = 0;\n",
    "if a:\n",
    "  print(\"A\")\n",
    "else:\n",
    "  print(\"B\")\n"
   ]
  },
  {
   "cell_type": "markdown",
   "metadata": {
    "colab_type": "text",
    "id": "BA7whj9kmuY0"
   },
   "source": [
    "<hr>\n",
    "### ZADANIE #6\n",
    "<font color=\"0088CC\">\n",
    "Napisz kod, który pyta użytkownika o wiek. Jeśli wiek jest poniżej 13 roku życia, wypisz \"X to za mało\", np. \"11 to za mało\". Jeśli od 13 do 18, spytaj, czy rodzic się zgadza (T/N). Jeśli zgadza, wypisz \"Siema\", jeśli nie - \"Niestety, poczekaj jeszcze X lat\". Jeśli wiek powyżej 18 roku życia, sprawdź, czy poniżej 72. Jeśli tak, wypisz \"Serdecznie witamy\", jeśli nie np. - \"73 to za dużo\".</font>"
   ]
  },
  {
   "cell_type": "code",
   "execution_count": 0,
   "metadata": {
    "colab": {
     "base_uri": "https://localhost:8080/",
     "height": 68
    },
    "colab_type": "code",
    "executionInfo": {
     "elapsed": 9315,
     "status": "ok",
     "timestamp": 1553264641501,
     "user": {
      "displayName": "",
      "photoUrl": "",
      "userId": ""
     },
     "user_tz": -60
    },
    "id": "YakUd1cwmuY1",
    "outputId": "c938724d-2f5c-4c70-b1ee-5fe7a7b089fb"
   },
   "outputs": [
    {
     "name": "stdout",
     "output_type": "stream",
     "text": [
      "Wiek:14\n",
      "Spytaj, czy rodzic się zgadza (T/N)n\n",
      "Niestety, poczekaj jeszcze  4  lat.\n"
     ]
    }
   ],
   "source": [
    "s = input('Wiek:') \n",
    "wiek = int(s)\n",
    "pass\n",
    "\n",
    "if 0 < wiek < 13:\n",
    "    print(wiek, 'to za mało')\n",
    "elif wiek >= 13 and wiek < 18: \n",
    "    zgoda = input('Spytaj, czy rodzic się zgadza (T/N)')\n",
    "    zgoda = zgoda.upper()\n",
    "    if zgoda == 'T':\n",
    "      print('Siema')\n",
    "    elif (zgoda == 'N'):\n",
    "      print('Niestety, poczekaj jeszcze ',18-wiek,' lat.')\n",
    "    else:  \n",
    "      pass\n",
    "else:                         \n",
    "    if wiek < 72:\n",
    "      print('Serdecznie witamy')\n",
    "    else:\n",
    "      print(wiek, 'to za dużo')"
   ]
  },
  {
   "cell_type": "markdown",
   "metadata": {
    "colab_type": "text",
    "id": "wAN8XXNzmuY2"
   },
   "source": [
    "<br><br><br><br><br><br>\n",
    "<hr>"
   ]
  },
  {
   "cell_type": "markdown",
   "metadata": {
    "colab_type": "text",
    "id": "6a0EH6bpmuY2"
   },
   "source": [
    "### Typy złożone - list, tuple, set i dict"
   ]
  },
  {
   "cell_type": "markdown",
   "metadata": {
    "colab_type": "text",
    "id": "6a1QWUs4muY3"
   },
   "source": [
    "#### list()"
   ]
  },
  {
   "cell_type": "code",
   "execution_count": 0,
   "metadata": {
    "colab": {
     "base_uri": "https://localhost:8080/",
     "height": 34
    },
    "colab_type": "code",
    "executionInfo": {
     "elapsed": 7528,
     "status": "ok",
     "timestamp": 1554195099872,
     "user": {
      "displayName": "Krzysztof Bruszewski",
      "photoUrl": "https://lh4.googleusercontent.com/-uV0-wDJ-R2g/AAAAAAAAAAI/AAAAAAAALRA/TW0TOh0OXuo/s64/photo.jpg",
      "userId": "11139975063881261812"
     },
     "user_tz": -120
    },
    "id": "kfl0MaKRmuY3",
    "outputId": "ea7decf8-51d7-4366-a59f-8909a74fb82b"
   },
   "outputs": [
    {
     "data": {
      "text/plain": [
       "8"
      ]
     },
     "execution_count": 15,
     "metadata": {
      "tags": []
     },
     "output_type": "execute_result"
    }
   ],
   "source": [
    "a = [1, 2, 3, 4, 5, 6, 7, 8] # to jest lista\n",
    "len(a)"
   ]
  },
  {
   "cell_type": "code",
   "execution_count": 0,
   "metadata": {
    "colab": {},
    "colab_type": "code",
    "id": "Kkh0Dy2ymuY5",
    "outputId": "31a74235-4d18-47d6-a16f-b34b2ef084a9"
   },
   "outputs": [
    {
     "name": "stdout",
     "output_type": "stream",
     "text": [
      "[3, 4, 5, 6]\n"
     ]
    }
   ],
   "source": [
    "print(a[2:6]) # lista, podobnie, jak string jest indeksowana i uporządkowana"
   ]
  },
  {
   "cell_type": "code",
   "execution_count": 0,
   "metadata": {
    "colab": {},
    "colab_type": "code",
    "id": "Y2PBUk4GmuY7"
   },
   "outputs": [],
   "source": [
    "print(len(a)) # podaj długość listy"
   ]
  },
  {
   "cell_type": "code",
   "execution_count": 0,
   "metadata": {
    "colab": {},
    "colab_type": "code",
    "id": "KBM7cDUxmuY-",
    "outputId": "ff09e223-ad9f-4001-b6f8-d6f58bb00694"
   },
   "outputs": [
    {
     "data": {
      "text/plain": [
       "4"
      ]
     },
     "execution_count": 13,
     "metadata": {
      "tags": []
     },
     "output_type": "execute_result"
    }
   ],
   "source": [
    "a.index(5) # na którym miejscu jest 5? - zwraca pierwsze wystąpienie"
   ]
  },
  {
   "cell_type": "code",
   "execution_count": 0,
   "metadata": {
    "colab": {
     "base_uri": "https://localhost:8080/",
     "height": 34
    },
    "colab_type": "code",
    "executionInfo": {
     "elapsed": 2769,
     "status": "ok",
     "timestamp": 1554194856938,
     "user": {
      "displayName": "Krzysztof Bruszewski",
      "photoUrl": "https://lh4.googleusercontent.com/-uV0-wDJ-R2g/AAAAAAAAAAI/AAAAAAAALRA/TW0TOh0OXuo/s64/photo.jpg",
      "userId": "11139975063881261812"
     },
     "user_tz": -120
    },
    "id": "XAWap5CSmuY_",
    "outputId": "2f4a392e-f508-4aac-a0b4-d7d9a65e01bb"
   },
   "outputs": [
    {
     "name": "stdout",
     "output_type": "stream",
     "text": [
      "[1, 2, 9, 4, 5, 6, 7, 8]\n"
     ]
    }
   ],
   "source": [
    "a[2] = 9 # lista jest modyfikowalna - wrtość jej elementów można zmieniać - lista jest mutable\n",
    "print(a)"
   ]
  },
  {
   "cell_type": "code",
   "execution_count": 0,
   "metadata": {
    "colab": {
     "base_uri": "https://localhost:8080/",
     "height": 34
    },
    "colab_type": "code",
    "executionInfo": {
     "elapsed": 9698,
     "status": "ok",
     "timestamp": 1554195111427,
     "user": {
      "displayName": "Krzysztof Bruszewski",
      "photoUrl": "https://lh4.googleusercontent.com/-uV0-wDJ-R2g/AAAAAAAAAAI/AAAAAAAALRA/TW0TOh0OXuo/s64/photo.jpg",
      "userId": "11139975063881261812"
     },
     "user_tz": -120
    },
    "id": "9bB5inh1PrP_",
    "outputId": "b2c053eb-31f2-45e0-8838-d7f46e55454f"
   },
   "outputs": [
    {
     "name": "stdout",
     "output_type": "stream",
     "text": [
      "[1, 2, 3, 4, 5, 6, 7, 8, 1, 2, 3, 4, 5, 6, 7, 8]\n"
     ]
    }
   ],
   "source": [
    "a = a*2\n",
    "print(a)"
   ]
  },
  {
   "cell_type": "code",
   "execution_count": 0,
   "metadata": {
    "colab": {},
    "colab_type": "code",
    "id": "rJ80u-LhmuY_"
   },
   "outputs": [],
   "source": [
    "del a[2] # lub nawet usuwać (np. funkcją del)\n",
    "print(a)"
   ]
  },
  {
   "cell_type": "code",
   "execution_count": 0,
   "metadata": {
    "colab": {},
    "colab_type": "code",
    "id": "YWGDPHklmuZA"
   },
   "outputs": [],
   "source": [
    "a[2] = 3\n",
    "print(a) # z tym, że teraz nie da się wrócić do stanu poprzedniego w ten sposób"
   ]
  },
  {
   "cell_type": "code",
   "execution_count": 0,
   "metadata": {
    "colab": {},
    "colab_type": "code",
    "id": "Yxc1Zd0FmuZD"
   },
   "outputs": [],
   "source": [
    "a.insert(3, 4) # funkcja insert \"wsuwa\" nowy element pomiędzy istniejące\n",
    "print(a)"
   ]
  },
  {
   "cell_type": "markdown",
   "metadata": {
    "colab_type": "text",
    "id": "4NKt7uwXmuZD"
   },
   "source": [
    "Funkcje działające na listach z reguły nie zwracają wartości (zwracają wartość None). Zamiast tego, zmieniają listę, na której są wywoływane."
   ]
  },
  {
   "cell_type": "code",
   "execution_count": 0,
   "metadata": {
    "colab": {},
    "colab_type": "code",
    "id": "f495f1KSmuZE",
    "outputId": "75f5529f-b5b2-401e-ec04-55436a73388a"
   },
   "outputs": [
    {
     "name": "stdout",
     "output_type": "stream",
     "text": [
      "[8, 7, 6, 5, 4, 9, 2, 1]\n"
     ]
    }
   ],
   "source": [
    "a.reverse() # odwróć kolejność\n",
    "print(a)"
   ]
  },
  {
   "cell_type": "code",
   "execution_count": 0,
   "metadata": {
    "colab": {
     "base_uri": "https://localhost:8080/",
     "height": 68
    },
    "colab_type": "code",
    "executionInfo": {
     "elapsed": 978,
     "status": "ok",
     "timestamp": 1554192397019,
     "user": {
      "displayName": "Krzysztof Bruszewski",
      "photoUrl": "https://lh4.googleusercontent.com/-uV0-wDJ-R2g/AAAAAAAAAAI/AAAAAAAALRA/TW0TOh0OXuo/s64/photo.jpg",
      "userId": "11139975063881261812"
     },
     "user_tz": -120
    },
    "id": "-Ik2ptgMmuZF",
    "outputId": "9e0ef08f-8345-4897-9df2-a23301ed9975"
   },
   "outputs": [
    {
     "name": "stdout",
     "output_type": "stream",
     "text": [
      "[1, 2, 3, 4, 5, 6, 7, 8, 'ABC']\n",
      "ABC\n",
      "B\n"
     ]
    }
   ],
   "source": [
    "a.append('ABC') # dopisz do listy - uwaga, lista może zawierać elementy różnych typów!\n",
    "print(a)\n",
    "print(a[8])\n",
    "print(a[8][1])"
   ]
  },
  {
   "cell_type": "code",
   "execution_count": 0,
   "metadata": {
    "colab": {},
    "colab_type": "code",
    "id": "ZPLT0C2ImuZG"
   },
   "outputs": [],
   "source": [
    "b = a.pop() # usuń ostatni element i zwróć go\n",
    "print(a, b, sep='\\n')"
   ]
  },
  {
   "cell_type": "code",
   "execution_count": 0,
   "metadata": {
    "colab": {},
    "colab_type": "code",
    "id": "cASSm6p8muZI"
   },
   "outputs": [],
   "source": [
    "a.extend(b) # dołącza listę b do a, zmieniając a\n",
    "print(a)"
   ]
  },
  {
   "cell_type": "code",
   "execution_count": 0,
   "metadata": {
    "colab": {},
    "colab_type": "code",
    "id": "XpUQ6PYwmuZL"
   },
   "outputs": [],
   "source": [
    "a.clear() # czyści wszystkie elementy - od tej pory lista jest pusta\n",
    "print(a)"
   ]
  },
  {
   "cell_type": "code",
   "execution_count": 0,
   "metadata": {
    "colab": {},
    "colab_type": "code",
    "id": "2XR6ayTemuZN"
   },
   "outputs": [],
   "source": [
    "a = [1, 2, 3, 4, 5, 6, 7, 8]\n",
    "b = a # uwaga na specyfikę list - takie przypisanie powoduje, że a i b są w istocie tą samą zmienną\n",
    "print(a, b)"
   ]
  },
  {
   "cell_type": "code",
   "execution_count": 0,
   "metadata": {
    "colab": {},
    "colab_type": "code",
    "id": "7-_sMoL9muZO"
   },
   "outputs": [],
   "source": [
    "del a[2] # usunięcie elementu listy a spowodowało usunięcie wartości w tym samym miejscu pamięci, do którego wskazuje b\n",
    "print(b)"
   ]
  },
  {
   "cell_type": "code",
   "execution_count": 0,
   "metadata": {
    "colab": {},
    "colab_type": "code",
    "id": "jP3nZxGZmuZP"
   },
   "outputs": [],
   "source": [
    "b = a[:] # taka komenda kopiuje elementy listy a do b - tworzy więc nowe miejsce w pamięci\n",
    "print(b)"
   ]
  },
  {
   "cell_type": "code",
   "execution_count": 0,
   "metadata": {
    "colab": {},
    "colab_type": "code",
    "id": "0Ivsox6TmuZR"
   },
   "outputs": [],
   "source": [
    "del a[2]\n",
    "print(a, b) # tym razem tylko element listy a został usunięty, bez wpływu na listę b"
   ]
  },
  {
   "cell_type": "code",
   "execution_count": 0,
   "metadata": {
    "colab": {},
    "colab_type": "code",
    "id": "PyF7FtF0muZS"
   },
   "outputs": [],
   "source": [
    "c = [[1, 2], [3, 4], [5, 6]] # lista dwuwymiarowa\n",
    "print(c[2][1]) # zwróć element 1 elementu 2"
   ]
  },
  {
   "cell_type": "markdown",
   "metadata": {
    "colab_type": "text",
    "id": "rb00Z1xQmuZU"
   },
   "source": [
    "<br>\n",
    "<hr>\n",
    "#### tuple() - krotki"
   ]
  },
  {
   "cell_type": "code",
   "execution_count": 0,
   "metadata": {
    "colab": {
     "base_uri": "https://localhost:8080/",
     "height": 34
    },
    "colab_type": "code",
    "executionInfo": {
     "elapsed": 7993,
     "status": "ok",
     "timestamp": 1554197941699,
     "user": {
      "displayName": "Krzysztof Bruszewski",
      "photoUrl": "https://lh4.googleusercontent.com/-uV0-wDJ-R2g/AAAAAAAAAAI/AAAAAAAALRA/TW0TOh0OXuo/s64/photo.jpg",
      "userId": "11139975063881261812"
     },
     "user_tz": -120
    },
    "id": "DlSn35vjmuZV",
    "outputId": "723adfae-26fe-4b3c-f2c7-02a1d113b29e"
   },
   "outputs": [
    {
     "name": "stdout",
     "output_type": "stream",
     "text": [
      "(1, 2, 3, 4, 5, 6, 7, 7)\n"
     ]
    }
   ],
   "source": [
    "t = (1, 2, 3, 4, 5, 6, 7, 7) # to jest tuple, albo \"krotka\"\n",
    "print(t)"
   ]
  },
  {
   "cell_type": "code",
   "execution_count": 0,
   "metadata": {
    "colab": {
     "base_uri": "https://localhost:8080/",
     "height": 51
    },
    "colab_type": "code",
    "executionInfo": {
     "elapsed": 7227,
     "status": "ok",
     "timestamp": 1554198001421,
     "user": {
      "displayName": "Krzysztof Bruszewski",
      "photoUrl": "https://lh4.googleusercontent.com/-uV0-wDJ-R2g/AAAAAAAAAAI/AAAAAAAALRA/TW0TOh0OXuo/s64/photo.jpg",
      "userId": "11139975063881261812"
     },
     "user_tz": -120
    },
    "id": "oJtQa0drahnl",
    "outputId": "57f1349d-0a27-4bdc-cdb1-aff1d7f29e84"
   },
   "outputs": [
    {
     "name": "stdout",
     "output_type": "stream",
     "text": [
      "[1, 2, 3, 4, 5, 6, 7, 7]\n",
      "(1, 2, 3, 4, 5, 6, 7, 7)\n"
     ]
    }
   ],
   "source": [
    "lista = list(t)\n",
    "tup = tuple(lista)\n",
    "print(lista)\n",
    "print(tup)"
   ]
  },
  {
   "cell_type": "code",
   "execution_count": 0,
   "metadata": {
    "colab": {},
    "colab_type": "code",
    "id": "P6WZHZ1emuZW",
    "outputId": "f00d0029-776d-4664-d780-3dcd6a6b5eb4"
   },
   "outputs": [
    {
     "name": "stdout",
     "output_type": "stream",
     "text": [
      "(3, 4, 5, 6)\n"
     ]
    }
   ],
   "source": [
    "print(t[2:6]) # podobnie, jak lista, tuple jest indeksowalny i uporządkowany"
   ]
  },
  {
   "cell_type": "code",
   "execution_count": 0,
   "metadata": {
    "colab": {},
    "colab_type": "code",
    "id": "9U5yUKA1muZX"
   },
   "outputs": [],
   "source": [
    "print(len(t))"
   ]
  },
  {
   "cell_type": "code",
   "execution_count": 0,
   "metadata": {
    "colab": {},
    "colab_type": "code",
    "id": "nP4fvA8_muZc",
    "outputId": "0391b41d-d364-4b87-a727-5b58adba3006"
   },
   "outputs": [
    {
     "ename": "TypeError",
     "evalue": "'tuple' object does not support item assignment",
     "output_type": "error",
     "traceback": [
      "\u001b[1;31m---------------------------------------------------------------------------\u001b[0m",
      "\u001b[1;31mTypeError\u001b[0m                                 Traceback (most recent call last)",
      "\u001b[1;32m<ipython-input-18-cfcc3142fabc>\u001b[0m in \u001b[0;36m<module>\u001b[1;34m()\u001b[0m\n\u001b[1;32m----> 1\u001b[1;33m \u001b[0mt\u001b[0m\u001b[1;33m[\u001b[0m\u001b[1;36m0\u001b[0m\u001b[1;33m]\u001b[0m \u001b[1;33m=\u001b[0m \u001b[1;36m10\u001b[0m \u001b[1;31m# odróżnieniu jednak od listy, tuple NIE JEST modyfikowalny (immutable)\u001b[0m\u001b[1;33m\u001b[0m\u001b[0m\n\u001b[0m",
      "\u001b[1;31mTypeError\u001b[0m: 'tuple' object does not support item assignment"
     ]
    }
   ],
   "source": [
    "t[0] = 10 # odróżnieniu jednak od listy, tuple NIE JEST modyfikowalny (immutable)"
   ]
  },
  {
   "cell_type": "code",
   "execution_count": 0,
   "metadata": {
    "colab": {},
    "colab_type": "code",
    "id": "1CAvRkl-muZd"
   },
   "outputs": [],
   "source": [
    "del t[0] # jak niezmienny, to niezmienny"
   ]
  },
  {
   "cell_type": "code",
   "execution_count": 0,
   "metadata": {
    "colab": {},
    "colab_type": "code",
    "id": "RsyF93qGmuZe",
    "outputId": "bdd93173-06fe-4bbe-ca39-8e60f2ceda23"
   },
   "outputs": [
    {
     "data": {
      "text/plain": [
       "6"
      ]
     },
     "execution_count": 19,
     "metadata": {
      "tags": []
     },
     "output_type": "execute_result"
    }
   ],
   "source": [
    "t.index(7) # na którym miejscu jest liczba 7"
   ]
  },
  {
   "cell_type": "code",
   "execution_count": 0,
   "metadata": {
    "colab": {},
    "colab_type": "code",
    "id": "nswPksWbmuZi"
   },
   "outputs": [],
   "source": [
    "t.count(7) # a ile razy w ogóle występuje?"
   ]
  },
  {
   "cell_type": "code",
   "execution_count": 0,
   "metadata": {
    "colab": {},
    "colab_type": "code",
    "id": "b1eLAm3DmuZj"
   },
   "outputs": [],
   "source": [
    "t += t * 2 # a dlaczego takie coś zadziała? tuple jest niezmienny, ale do zmiennej t możemy na nowo przypisać nową wartość\n",
    "print(t)"
   ]
  },
  {
   "cell_type": "code",
   "execution_count": 0,
   "metadata": {
    "colab": {},
    "colab_type": "code",
    "id": "BPewm4-SmuZl"
   },
   "outputs": [],
   "source": [
    "u = list(t) # możemy zmienić tuple na listę\n",
    "print(u)"
   ]
  },
  {
   "cell_type": "code",
   "execution_count": 0,
   "metadata": {
    "colab": {},
    "colab_type": "code",
    "id": "Dtux16P9muZm"
   },
   "outputs": [],
   "source": [
    "u = tuple(u) # i odwrotnie\n",
    "print(u)"
   ]
  },
  {
   "cell_type": "code",
   "execution_count": 0,
   "metadata": {
    "colab": {},
    "colab_type": "code",
    "id": "utlNr7uYmuZo"
   },
   "outputs": [],
   "source": [
    "print(tuple(reversed(u))) # funkcja reversed, w odróżnieniu od metody list .reverse - jest w stanie odwrócić dowolny iterator"
   ]
  },
  {
   "cell_type": "code",
   "execution_count": 0,
   "metadata": {
    "colab": {
     "base_uri": "https://localhost:8080/",
     "height": 51
    },
    "colab_type": "code",
    "executionInfo": {
     "elapsed": 6803,
     "status": "ok",
     "timestamp": 1554198219741,
     "user": {
      "displayName": "Krzysztof Bruszewski",
      "photoUrl": "https://lh4.googleusercontent.com/-uV0-wDJ-R2g/AAAAAAAAAAI/AAAAAAAALRA/TW0TOh0OXuo/s64/photo.jpg",
      "userId": "11139975063881261812"
     },
     "user_tz": -120
    },
    "id": "BbunKBfkmuZp",
    "outputId": "84b275d7-3f29-49e1-f3a5-7e31474c0a23"
   },
   "outputs": [
    {
     "name": "stdout",
     "output_type": "stream",
     "text": [
      "([1, 2], 3, 4, [[5, 6], ('7', 8)])\n",
      "4\n"
     ]
    }
   ],
   "source": [
    "d = ([1, 2], 3, 4, [[5, 6], ('7', 8)]) # listy i tuple to bardz \"pojemne\" typy danych\n",
    "print(d)\n",
    "print(len(d))"
   ]
  },
  {
   "cell_type": "code",
   "execution_count": 0,
   "metadata": {
    "colab": {
     "base_uri": "https://localhost:8080/",
     "height": 51
    },
    "colab_type": "code",
    "executionInfo": {
     "elapsed": 6170,
     "status": "ok",
     "timestamp": 1554198439456,
     "user": {
      "displayName": "Krzysztof Bruszewski",
      "photoUrl": "https://lh4.googleusercontent.com/-uV0-wDJ-R2g/AAAAAAAAAAI/AAAAAAAALRA/TW0TOh0OXuo/s64/photo.jpg",
      "userId": "11139975063881261812"
     },
     "user_tz": -120
    },
    "id": "bWfAIOBvmuZr",
    "outputId": "93f4efcc-b3fc-4f44-b1d4-fb5a04febdb6"
   },
   "outputs": [
    {
     "name": "stdout",
     "output_type": "stream",
     "text": [
      "[1, 2] 3 4 [[5, 6], ('7', 8)]\n",
      "1 2 3 4 5 6 7 7\n"
     ]
    }
   ],
   "source": [
    "print(*d) # tzw. unpacking - wypisuje elementy listy lub tupla iterując po kolei\n",
    "print(*t)"
   ]
  },
  {
   "cell_type": "markdown",
   "metadata": {
    "colab_type": "text",
    "id": "hudeJpkamuZr"
   },
   "source": [
    "<br>\n",
    "<hr>\n",
    "#### set() - zbiory unikalnych elementów"
   ]
  },
  {
   "cell_type": "code",
   "execution_count": 0,
   "metadata": {
    "colab": {
     "base_uri": "https://localhost:8080/",
     "height": 34
    },
    "colab_type": "code",
    "executionInfo": {
     "elapsed": 3020,
     "status": "ok",
     "timestamp": 1554195026037,
     "user": {
      "displayName": "Krzysztof Bruszewski",
      "photoUrl": "https://lh4.googleusercontent.com/-uV0-wDJ-R2g/AAAAAAAAAAI/AAAAAAAALRA/TW0TOh0OXuo/s64/photo.jpg",
      "userId": "11139975063881261812"
     },
     "user_tz": -120
    },
    "id": "hojMAM22muZs",
    "outputId": "f959c0cc-e2a2-452a-ce2b-713d707cfbfc"
   },
   "outputs": [
    {
     "name": "stdout",
     "output_type": "stream",
     "text": [
      "{1, 2, 3, 4, 5, 6, 7, 8}\n"
     ]
    }
   ],
   "source": [
    "k = {1, 2, 3, 4, 5, 6, 7, 8} # set jest zbiorem unikalnych elementów\n",
    "print(k)"
   ]
  },
  {
   "cell_type": "code",
   "execution_count": 0,
   "metadata": {
    "colab": {},
    "colab_type": "code",
    "id": "o6a56LZPArd0",
    "outputId": "1baa6ffc-a02e-4689-a327-9c55159bd98f"
   },
   "outputs": [
    {
     "name": "stdout",
     "output_type": "stream",
     "text": [
      "{1, 2, 3, 4, 5, 6, 7, 8, 9}\n"
     ]
    }
   ],
   "source": [
    "k = {1, 2, 3, 4, 5, 6, 7, 8, 9, 9, 9, 1, 2} # set jest zbiorem unikalnych elementów\n",
    "print(k)"
   ]
  },
  {
   "cell_type": "code",
   "execution_count": 0,
   "metadata": {
    "colab": {},
    "colab_type": "code",
    "id": "cYttQ7dRmuZt",
    "outputId": "651fead4-c9e9-4207-a16f-71e351ad11c0"
   },
   "outputs": [
    {
     "name": "stdout",
     "output_type": "stream",
     "text": [
      "{1, 2, 3, 4, 5, 6, 7, 8}\n"
     ]
    }
   ],
   "source": [
    "k = set([1, 2, 3, 4, 5, 6, 7, 8]) # set można też utworzyć z listy, albo z tuple\n",
    "print(k)"
   ]
  },
  {
   "cell_type": "code",
   "execution_count": 0,
   "metadata": {
    "colab": {},
    "colab_type": "code",
    "id": "8gv105yhmuZu",
    "outputId": "a57fabcd-cb54-499e-a88f-b1d0fdf56780"
   },
   "outputs": [
    {
     "name": "stdout",
     "output_type": "stream",
     "text": [
      "{1, 2, 3, 4, 5, 6, 7, 8, '9'}\n"
     ]
    }
   ],
   "source": [
    "k.add('9') # set jest mutowalny, można do niego dodawać lub odejmować nowe elementy\n",
    "print(k)"
   ]
  },
  {
   "cell_type": "code",
   "execution_count": 0,
   "metadata": {
    "colab": {},
    "colab_type": "code",
    "id": "57yFKglnmuZx",
    "outputId": "8e7cd489-5575-47ce-a201-d75da824a2f9"
   },
   "outputs": [
    {
     "name": "stdout",
     "output_type": "stream",
     "text": [
      "{1, 2, 3, 4, 5, 6, 7, 8, '9'}\n"
     ]
    }
   ],
   "source": [
    "k.add('9') # ale może zawierać tylko elementy unikalne - próba dodania już istniejącego elementu\n",
    "print(k)"
   ]
  },
  {
   "cell_type": "code",
   "execution_count": 0,
   "metadata": {
    "colab": {},
    "colab_type": "code",
    "id": "lGXKsPMZmuZz",
    "outputId": "b9cd6eb0-91cb-42d8-dd3e-5302ba0c443c"
   },
   "outputs": [
    {
     "name": "stdout",
     "output_type": "stream",
     "text": [
      "9\n"
     ]
    }
   ],
   "source": [
    "print(len(k)) # długość (wielkość) zbioru"
   ]
  },
  {
   "cell_type": "code",
   "execution_count": 0,
   "metadata": {
    "colab": {},
    "colab_type": "code",
    "id": "DU9nCuhRmuZ1"
   },
   "outputs": [],
   "source": [
    "print(k[2:5]) # set nie jest indeksowalny, nie jest uporządkowany"
   ]
  },
  {
   "cell_type": "code",
   "execution_count": 0,
   "metadata": {
    "colab": {},
    "colab_type": "code",
    "id": "HMDvTwDcmuZ2",
    "outputId": "33580f37-ed43-464c-ca25-f6dabef18c85"
   },
   "outputs": [
    {
     "name": "stdout",
     "output_type": "stream",
     "text": [
      "{1, 2, 3, 4, 5, 6, 7, 8, 9}\n"
     ]
    }
   ],
   "source": [
    "k.discard('9') # usuwa, jeśli istnieje dany element\n",
    "print(k)"
   ]
  },
  {
   "cell_type": "code",
   "execution_count": 0,
   "metadata": {
    "colab": {},
    "colab_type": "code",
    "id": "4pI3GpOOmuZ3"
   },
   "outputs": [],
   "source": [
    "k.remove('9') # próbuje usunąć podany element; jeśli nie ma - występuje błąd\n",
    "print(k)"
   ]
  },
  {
   "cell_type": "code",
   "execution_count": 0,
   "metadata": {
    "colab": {},
    "colab_type": "code",
    "id": "QdI16zkOmuZ4",
    "outputId": "eed46464-8a76-41a9-9e77-093f3fbf8659"
   },
   "outputs": [
    {
     "name": "stdout",
     "output_type": "stream",
     "text": [
      "{1, 2, 3, 7, 8}\n",
      "{1, 2, 3, 7, 8}\n"
     ]
    }
   ],
   "source": [
    "l = {4, 5, 6, 9}\n",
    "print(k.difference(l)) # różnica dwóch zbiorów\n",
    "print(k - l) # to samo można osiągnąć operatorem na zbiorach"
   ]
  },
  {
   "cell_type": "code",
   "execution_count": 0,
   "metadata": {
    "colab": {},
    "colab_type": "code",
    "id": "Ium_zRN_muZ5",
    "outputId": "1907c748-c0a0-4015-c957-83ab9ed9c6ac"
   },
   "outputs": [
    {
     "name": "stdout",
     "output_type": "stream",
     "text": [
      "{9, 4, 5, 6}\n",
      "{9, 4, 5, 6}\n"
     ]
    }
   ],
   "source": [
    "print(k.intersection(l)) # część wspólna zbiorów\n",
    "print(k & l)"
   ]
  },
  {
   "cell_type": "code",
   "execution_count": 0,
   "metadata": {
    "colab": {},
    "colab_type": "code",
    "id": "q_bTayGumuZ5"
   },
   "outputs": [],
   "source": [
    "print(k.symmetric_difference(l)) # różnica symetryczna\n",
    "print(k ^ l)"
   ]
  },
  {
   "cell_type": "code",
   "execution_count": 0,
   "metadata": {
    "colab": {},
    "colab_type": "code",
    "id": "yWRGdWt7muZ6"
   },
   "outputs": [],
   "source": [
    "print(k.union(l)) # suma zbiorów\n",
    "print(k | l)"
   ]
  },
  {
   "cell_type": "code",
   "execution_count": 0,
   "metadata": {
    "colab": {},
    "colab_type": "code",
    "id": "f_bt-5xImuZ6"
   },
   "outputs": [],
   "source": [
    "print(k.isdisjoint(l)) # czy są rozłączne?"
   ]
  },
  {
   "cell_type": "code",
   "execution_count": 0,
   "metadata": {
    "colab": {},
    "colab_type": "code",
    "id": "kqCr-EDTmuZ8"
   },
   "outputs": [],
   "source": [
    "print(k.issubset(l)) # czy k jest podzbiorem l\n",
    "print(k <= l)"
   ]
  },
  {
   "cell_type": "code",
   "execution_count": 0,
   "metadata": {
    "colab": {},
    "colab_type": "code",
    "id": "0ui6wg0gmuZ9"
   },
   "outputs": [],
   "source": [
    "print(k.issuperset(l)) # czy l jest podzbiorem k\n",
    "print(k >= l)"
   ]
  },
  {
   "cell_type": "markdown",
   "metadata": {
    "colab_type": "text",
    "id": "i9XHYgQymuZ-"
   },
   "source": [
    "<hr>\n",
    "### ZADANIE #7\n",
    "<font color=\"0088CC\">\n",
    "Napisz polecenie, które wypisze listę złożoną tylko z unikalnych elementów danej listy (czyli usunie powtórzenia elementów).</font>"
   ]
  },
  {
   "cell_type": "code",
   "execution_count": 0,
   "metadata": {
    "colab": {},
    "colab_type": "code",
    "id": "qyUmchN9muZ-"
   },
   "outputs": [],
   "source": [
    "h = [4, 1, 2, 2, 7, 5, 2, 3, 7, 4, 4, 8, 9, 9, 3, 5]"
   ]
  },
  {
   "cell_type": "code",
   "execution_count": 0,
   "metadata": {
    "colab": {
     "base_uri": "https://localhost:8080/",
     "height": 34
    },
    "colab_type": "code",
    "executionInfo": {
     "elapsed": 5639,
     "status": "ok",
     "timestamp": 1554199507119,
     "user": {
      "displayName": "Krzysztof Bruszewski",
      "photoUrl": "https://lh4.googleusercontent.com/-uV0-wDJ-R2g/AAAAAAAAAAI/AAAAAAAALRA/TW0TOh0OXuo/s64/photo.jpg",
      "userId": "11139975063881261812"
     },
     "user_tz": -120
    },
    "id": "knbeJ-j7AreH",
    "outputId": "cabb3e82-0f3e-4c1d-edc1-ef9abdeb2324"
   },
   "outputs": [
    {
     "name": "stdout",
     "output_type": "stream",
     "text": [
      "[1, 2, 3, 4, 5, 7, 8, 9]\n"
     ]
    }
   ],
   "source": [
    "a = list(set(h))\n",
    "print(a)"
   ]
  },
  {
   "cell_type": "markdown",
   "metadata": {
    "colab_type": "text",
    "id": "unGohjvzmuaA"
   },
   "source": [
    "<br>\n",
    "<hr>\n",
    "#### dict() - słowniki"
   ]
  },
  {
   "cell_type": "markdown",
   "metadata": {
    "colab_type": "text",
    "id": "bBtG9JnEmuaA"
   },
   "source": [
    "Słownik to kolekcja par klucz: wartość. Jest to typ indeksowany, ale nieuporządkowany.<br>\n",
    "Kluczami mogą być tylko zmienne NIEMUTOWALNE - liczby, znaki oraz tuple.<br>\n",
    "Za to wartościami mogą być zmienne dowolnego typu - nawet duże obiekty."
   ]
  },
  {
   "cell_type": "code",
   "execution_count": 0,
   "metadata": {
    "colab": {},
    "colab_type": "code",
    "id": "wMGMXGVumuaA",
    "outputId": "b4b0cdf5-7985-47f6-f70c-414a4cc90a2f"
   },
   "outputs": [
    {
     "name": "stdout",
     "output_type": "stream",
     "text": [
      "{1: 'A', 2: 'b', 'c': 3.0, (0, 0): [5, 5, 4]}\n"
     ]
    }
   ],
   "source": [
    "d = {1: 'A', 2: 'b', 'c': 3.0, (0, 0): [5, 5, 4]}\n",
    "print(d)"
   ]
  },
  {
   "cell_type": "code",
   "execution_count": 0,
   "metadata": {
    "colab": {},
    "colab_type": "code",
    "id": "lk64HjylmRMS"
   },
   "outputs": [],
   "source": [
    "e = {}\n",
    "e = dict()"
   ]
  },
  {
   "cell_type": "markdown",
   "metadata": {
    "colab_type": "text",
    "id": "jagno1ERnpBV"
   },
   "source": []
  },
  {
   "cell_type": "code",
   "execution_count": 0,
   "metadata": {
    "colab": {},
    "colab_type": "code",
    "id": "rfZp-R_emuaC",
    "outputId": "7684d13e-f5ef-4170-8fea-83901df81c3f"
   },
   "outputs": [
    {
     "name": "stdout",
     "output_type": "stream",
     "text": [
      "3.0\n"
     ]
    }
   ],
   "source": [
    "print(d['c']) # tak odwołujemy się do konkretnego elementu wg klucza"
   ]
  },
  {
   "cell_type": "code",
   "execution_count": 0,
   "metadata": {
    "colab": {},
    "colab_type": "code",
    "id": "MRHN3STNmuaD"
   },
   "outputs": [],
   "source": [
    "print(d[0,0]) # albo tak, jeśli jest nim tuple"
   ]
  },
  {
   "cell_type": "code",
   "execution_count": 0,
   "metadata": {
    "colab": {
     "base_uri": "https://localhost:8080/",
     "height": 34
    },
    "colab_type": "code",
    "executionInfo": {
     "elapsed": 1578,
     "status": "ok",
     "timestamp": 1554201234142,
     "user": {
      "displayName": "Krzysztof Bruszewski",
      "photoUrl": "https://lh4.googleusercontent.com/-uV0-wDJ-R2g/AAAAAAAAAAI/AAAAAAAALRA/TW0TOh0OXuo/s64/photo.jpg",
      "userId": "11139975063881261812"
     },
     "user_tz": -120
    },
    "id": "wpqxHWbWmuaE",
    "outputId": "3ca88854-17ec-4670-acbf-3dc368fa6a46"
   },
   "outputs": [
    {
     "name": "stdout",
     "output_type": "stream",
     "text": [
      "{1: 'abc', 2: 'abc', 3: 'abc', 4: 'abc', 5: 'abc', 6: 'abc', 7: 'abc', 8: 'abc'}\n"
     ]
    }
   ],
   "source": [
    "e = dict.fromkeys(k, 'abc') # utwórz słownik z kluczy będących elementami listy (z domyślną wartością None lub zadaną)\n",
    "print(e)"
   ]
  },
  {
   "cell_type": "code",
   "execution_count": 0,
   "metadata": {
    "colab": {
     "base_uri": "https://localhost:8080/",
     "height": 34
    },
    "colab_type": "code",
    "executionInfo": {
     "elapsed": 1640,
     "status": "ok",
     "timestamp": 1554201585549,
     "user": {
      "displayName": "Krzysztof Bruszewski",
      "photoUrl": "https://lh4.googleusercontent.com/-uV0-wDJ-R2g/AAAAAAAAAAI/AAAAAAAALRA/TW0TOh0OXuo/s64/photo.jpg",
      "userId": "11139975063881261812"
     },
     "user_tz": -120
    },
    "id": "BbfwCjMQn1sq",
    "outputId": "bdef50c9-9bd9-499a-ccfb-97ff32f2dacc"
   },
   "outputs": [
    {
     "name": "stdout",
     "output_type": "stream",
     "text": [
      "{'abc': 'abc'}\n"
     ]
    }
   ],
   "source": [
    "e = dict.fromkeys({'abc'}, 'abc') # utwórz słownik z kluczy będących elementami listy (z domyślną wartością None lub zadaną)\n",
    "print(e)"
   ]
  },
  {
   "cell_type": "code",
   "execution_count": 0,
   "metadata": {
    "colab": {},
    "colab_type": "code",
    "id": "QnGQtyj9muaG"
   },
   "outputs": [],
   "source": [
    "print(d[0]) # nieprawidłowe odwołanie do elementu, którego nie ma w słowniku powoduje błąd"
   ]
  },
  {
   "cell_type": "code",
   "execution_count": 0,
   "metadata": {
    "colab": {},
    "colab_type": "code",
    "id": "8yJzmLWPmuaG",
    "outputId": "dddf956d-9380-41f2-c850-1db74852d038"
   },
   "outputs": [
    {
     "name": "stdout",
     "output_type": "stream",
     "text": [
      "None A\n"
     ]
    }
   ],
   "source": [
    "print(d.get(0), d.get(1)) # dlatego lepiej użyć get - zwraca wartość elementu lub None, jeśli brak"
   ]
  },
  {
   "cell_type": "code",
   "execution_count": 0,
   "metadata": {
    "colab": {},
    "colab_type": "code",
    "id": "xn2Im7CumuaH"
   },
   "outputs": [],
   "source": [
    "print(d.get(0, 'Nie ma')) # ewentualnie można wprowadzić drugi argument, który jest zwracany, jeśli nie ma klucza"
   ]
  },
  {
   "cell_type": "code",
   "execution_count": 0,
   "metadata": {
    "colab": {},
    "colab_type": "code",
    "id": "skv4Ev1JmuaI",
    "outputId": "4481b3dd-98dd-4a3d-fa25-d948aeca88cb"
   },
   "outputs": [
    {
     "data": {
      "text/plain": [
       "'Nie ma'"
      ]
     },
     "execution_count": 38,
     "metadata": {
      "tags": []
     },
     "output_type": "execute_result"
    }
   ],
   "source": [
    "d.setdefault(0, 'Nie ma') # setdefault mówi, co zwrócić, jeśli nastąpi do elementu, którego nie ma w słowniku"
   ]
  },
  {
   "cell_type": "code",
   "execution_count": 0,
   "metadata": {
    "colab": {},
    "colab_type": "code",
    "id": "TtkheNfHmuaN",
    "outputId": "750a69d8-2a1a-481e-f5ee-056162ef837d"
   },
   "outputs": [
    {
     "name": "stdout",
     "output_type": "stream",
     "text": [
      "dict_keys([1, 2, 'c', (0, 0), 0])\n",
      "dict_values(['A', 'b', 3.0, [5, 5, 4], 'Nie ma'])\n",
      "dict_items([(1, 'A'), (2, 'b'), ('c', 3.0), ((0, 0), [5, 5, 4]), (0, 'Nie ma')])\n"
     ]
    }
   ],
   "source": [
    "print(d.keys())   # zwraca wszystkie klucze słownika\n",
    "print(d.values()) # zwraca wszystkie wartości słownika\n",
    "print(d.items())  # zwraca pary klucz:wartość"
   ]
  },
  {
   "cell_type": "code",
   "execution_count": 0,
   "metadata": {
    "colab": {},
    "colab_type": "code",
    "id": "8g-VIkp6muaO"
   },
   "outputs": [],
   "source": [
    "d.update({17: 'xyz'}) # zaktualizuj słownik o nową wartość (lub nadpisz, jeśli dany klucz już był w słowniku)\n",
    "print(d)"
   ]
  },
  {
   "cell_type": "code",
   "execution_count": 0,
   "metadata": {
    "colab": {
     "base_uri": "https://localhost:8080/",
     "height": 34
    },
    "colab_type": "code",
    "executionInfo": {
     "elapsed": 1743,
     "status": "ok",
     "timestamp": 1554203200361,
     "user": {
      "displayName": "Krzysztof Bruszewski",
      "photoUrl": "https://lh4.googleusercontent.com/-uV0-wDJ-R2g/AAAAAAAAAAI/AAAAAAAALRA/TW0TOh0OXuo/s64/photo.jpg",
      "userId": "11139975063881261812"
     },
     "user_tz": -120
    },
    "id": "IEjtdCyymuaQ",
    "outputId": "454dfb84-0500-4ba8-f4e4-e223dc08ce63"
   },
   "outputs": [
    {
     "name": "stdout",
     "output_type": "stream",
     "text": [
      "{'abc': 'abc'}\n"
     ]
    }
   ],
   "source": [
    "a = {'abc'}\n",
    "b = {'abc'}\n",
    "e = dict(zip(a, b)) # zip skleja dwie listy do postaci, z której dict robi słownik\n",
    "print(e)            # kluczami tego słownika są wartości pierwszej listy, a wartościami elementy drugiej listy"
   ]
  },
  {
   "cell_type": "markdown",
   "metadata": {
    "colab_type": "text",
    "id": "ptWBeK54muaR"
   },
   "source": [
    "<hr>\n",
    "#### Funkcja range()"
   ]
  },
  {
   "cell_type": "code",
   "execution_count": 0,
   "metadata": {
    "colab": {
     "base_uri": "https://localhost:8080/",
     "height": 34
    },
    "colab_type": "code",
    "executionInfo": {
     "elapsed": 3171,
     "status": "ok",
     "timestamp": 1554205837382,
     "user": {
      "displayName": "Krzysztof Bruszewski",
      "photoUrl": "https://lh4.googleusercontent.com/-uV0-wDJ-R2g/AAAAAAAAAAI/AAAAAAAALRA/TW0TOh0OXuo/s64/photo.jpg",
      "userId": "11139975063881261812"
     },
     "user_tz": -120
    },
    "id": "9qRZ37ktmuaR",
    "outputId": "93bc982d-472f-4a18-e0a2-f1611db5b4cf"
   },
   "outputs": [
    {
     "name": "stdout",
     "output_type": "stream",
     "text": [
      "range(0, 100)\n"
     ]
    }
   ],
   "source": [
    "r = range(100) # zwraca ciąg liczb całkowitych <X, Y) - wraz z X, ale BEZ Y\n",
    "print(r)"
   ]
  },
  {
   "cell_type": "code",
   "execution_count": 0,
   "metadata": {
    "colab": {
     "base_uri": "https://localhost:8080/",
     "height": 34
    },
    "colab_type": "code",
    "executionInfo": {
     "elapsed": 3225,
     "status": "ok",
     "timestamp": 1554205861185,
     "user": {
      "displayName": "Krzysztof Bruszewski",
      "photoUrl": "https://lh4.googleusercontent.com/-uV0-wDJ-R2g/AAAAAAAAAAI/AAAAAAAALRA/TW0TOh0OXuo/s64/photo.jpg",
      "userId": "11139975063881261812"
     },
     "user_tz": -120
    },
    "id": "AlQOZPkpmuaS",
    "outputId": "ab1adde4-db5b-4c41-c872-9ea0fa00d8bf"
   },
   "outputs": [
    {
     "name": "stdout",
     "output_type": "stream",
     "text": [
      "range(24, 7, -2)\n"
     ]
    }
   ],
   "source": [
    "r = range(24, 7, -2) # wynik przechowywany jest w \"leniwym\" typie range\n",
    "print(r)"
   ]
  },
  {
   "cell_type": "code",
   "execution_count": 0,
   "metadata": {
    "colab": {
     "base_uri": "https://localhost:8080/",
     "height": 51
    },
    "colab_type": "code",
    "executionInfo": {
     "elapsed": 2939,
     "status": "ok",
     "timestamp": 1554205869083,
     "user": {
      "displayName": "Krzysztof Bruszewski",
      "photoUrl": "https://lh4.googleusercontent.com/-uV0-wDJ-R2g/AAAAAAAAAAI/AAAAAAAALRA/TW0TOh0OXuo/s64/photo.jpg",
      "userId": "11139975063881261812"
     },
     "user_tz": -120
    },
    "id": "Tq98HtoumuaS",
    "outputId": "ab7cc36c-91cf-42f2-8bf8-df9ffc00d711"
   },
   "outputs": [
    {
     "name": "stdout",
     "output_type": "stream",
     "text": [
      "True\n",
      "16\n"
     ]
    }
   ],
   "source": [
    "print(20 in r) # wyrażenie jest ewaluowane na bieżąco\n",
    "print(r[4])  # range jest indeksowalny"
   ]
  },
  {
   "cell_type": "code",
   "execution_count": 0,
   "metadata": {
    "colab": {},
    "colab_type": "code",
    "id": "ZPMamwXNmuaU",
    "outputId": "1c540d26-8c5f-4e69-9d16-b997e46d344b"
   },
   "outputs": [
    {
     "ename": "TypeError",
     "evalue": "'range' object does not support item assignment",
     "output_type": "error",
     "traceback": [
      "\u001b[1;31m---------------------------------------------------------------------------\u001b[0m",
      "\u001b[1;31mTypeError\u001b[0m                                 Traceback (most recent call last)",
      "\u001b[1;32m<ipython-input-48-93c4f8acd5f2>\u001b[0m in \u001b[0;36m<module>\u001b[1;34m()\u001b[0m\n\u001b[1;32m----> 1\u001b[1;33m \u001b[0mr\u001b[0m\u001b[1;33m[\u001b[0m\u001b[1;36m4\u001b[0m\u001b[1;33m]\u001b[0m \u001b[1;33m=\u001b[0m \u001b[1;36m12\u001b[0m \u001b[1;31m# ale, podobnie jak tuple, nie można zmienić elementów range\u001b[0m\u001b[1;33m\u001b[0m\u001b[0m\n\u001b[0m",
      "\u001b[1;31mTypeError\u001b[0m: 'range' object does not support item assignment"
     ]
    }
   ],
   "source": [
    "r[4] = 12 # ale, podobnie jak tuple, nie można zmienić elementów range"
   ]
  },
  {
   "cell_type": "code",
   "execution_count": 0,
   "metadata": {
    "colab": {
     "base_uri": "https://localhost:8080/",
     "height": 102
    },
    "colab_type": "code",
    "executionInfo": {
     "elapsed": 4451,
     "status": "ok",
     "timestamp": 1554206414248,
     "user": {
      "displayName": "Krzysztof Bruszewski",
      "photoUrl": "https://lh4.googleusercontent.com/-uV0-wDJ-R2g/AAAAAAAAAAI/AAAAAAAALRA/TW0TOh0OXuo/s64/photo.jpg",
      "userId": "11139975063881261812"
     },
     "user_tz": -120
    },
    "id": "gb7Qc8L9muaV",
    "outputId": "143e3986-e0e8-4d7f-cada-8dccb221daf2"
   },
   "outputs": [
    {
     "name": "stdout",
     "output_type": "stream",
     "text": [
      "(24, 22, 20, 18, 16, 14, 12, 10, 8)\n",
      "[24, 22, 20, 18, 16, 14, 12, 10, 8]\n",
      "[8, 10, 12, 14, 16, 18, 20, 22, 24]\n",
      "[24, 22, 20, 18, 16, 14, 12, 10, 8]\n",
      "{8, 10, 12, 14, 16, 18, 20, 22, 24}\n"
     ]
    }
   ],
   "source": [
    "print(tuple(r)) # range może być wykorzystywany do tworzenia tupli,\n",
    "print(list(r))  # list\n",
    "lista = list(r)\n",
    "lista.sort()\n",
    "print(lista)\n",
    "lista.sort(reverse = True)\n",
    "print(lista)\n",
    "print(set(r))   # oraz zbiorów (ale zbiory nie zachowują kolejności)"
   ]
  },
  {
   "cell_type": "code",
   "execution_count": 0,
   "metadata": {
    "colab": {},
    "colab_type": "code",
    "id": "UtAqGSAGmuaV",
    "outputId": "91aa4799-8e7a-47cb-ecd7-7b882013715d"
   },
   "outputs": [
    {
     "name": "stdout",
     "output_type": "stream",
     "text": [
      "{24: 24, 22: 22, 20: 20, 18: 18, 16: 16, 14: 14, 12: 12, 10: 10, 8: 8}\n"
     ]
    }
   ],
   "source": [
    "print(dict(zip(r, r))) # range może być też wykorzystany do budowy słowników"
   ]
  },
  {
   "cell_type": "markdown",
   "metadata": {
    "colab_type": "text",
    "id": "WrckZdOjmuaW"
   },
   "source": [
    "<br>\n",
    "<hr>\n",
    "### ZADANIE #8a\n",
    "<font color=\"0088CC\">\n",
    "Zapytaj użytkownika o liczbę początku przedziału, następnie o liczbę końca przedziału oraz o krok. Wypisz listę elementów przedziału w oparciu o kryteria użytkownika.</font>"
   ]
  },
  {
   "cell_type": "code",
   "execution_count": 0,
   "metadata": {
    "colab": {
     "base_uri": "https://localhost:8080/",
     "height": 85
    },
    "colab_type": "code",
    "executionInfo": {
     "elapsed": 10093,
     "status": "ok",
     "timestamp": 1554206689675,
     "user": {
      "displayName": "Krzysztof Bruszewski",
      "photoUrl": "https://lh4.googleusercontent.com/-uV0-wDJ-R2g/AAAAAAAAAAI/AAAAAAAALRA/TW0TOh0OXuo/s64/photo.jpg",
      "userId": "11139975063881261812"
     },
     "user_tz": -120
    },
    "id": "-yMJgSZHmuaW",
    "outputId": "9fb71d29-32d1-4191-f581-6d24aefa00de"
   },
   "outputs": [
    {
     "name": "stdout",
     "output_type": "stream",
     "text": [
      "Początek zakresu:9\n",
      "Koniec zakresu:24\n",
      "Krok:2\n",
      "[9, 11, 13, 15, 17, 19, 21, 23]\n"
     ]
    }
   ],
   "source": [
    "b = input('Początek zakresu:')\n",
    "e = input('Koniec zakresu:')\n",
    "s = input('Krok:')\n",
    "b = int(b)\n",
    "e = int(e)\n",
    "s = int(s)\n",
    "r = range(b, e, s)\n",
    "lista = list(set(r))\n",
    "print(lista)"
   ]
  },
  {
   "cell_type": "markdown",
   "metadata": {
    "colab_type": "text",
    "id": "7RPNQ5ExmuaY"
   },
   "source": [
    "<br>\n",
    "<hr>\n",
    "### ZADANIE #8b\n",
    "<font color=\"0088CC\">\n",
    "Podobnie, jak w zadaniu powyżej zapytaj użytkownika o limity przedziału oraz o krok, a następnie o liczbę końca przedziału oraz o krok. Następnie w zależności od znaku kroku (+/-) weź pod uwagę odpowiednie z limitów tak, aby wypisać za każdym razem niepustą listę.</font>"
   ]
  },
  {
   "cell_type": "code",
   "execution_count": 0,
   "metadata": {
    "colab": {
     "base_uri": "https://localhost:8080/",
     "height": 85
    },
    "colab_type": "code",
    "executionInfo": {
     "elapsed": 11964,
     "status": "ok",
     "timestamp": 1554208301957,
     "user": {
      "displayName": "Krzysztof Bruszewski",
      "photoUrl": "https://lh4.googleusercontent.com/-uV0-wDJ-R2g/AAAAAAAAAAI/AAAAAAAALRA/TW0TOh0OXuo/s64/photo.jpg",
      "userId": "11139975063881261812"
     },
     "user_tz": -120
    },
    "id": "gwL0FhgwmuaY",
    "outputId": "926dd0c9-44d9-4fcb-852b-18ce63a7afa0"
   },
   "outputs": [
    {
     "name": "stdout",
     "output_type": "stream",
     "text": [
      "Początek zakresu:-9\n",
      "Koniec zakresu:20\n",
      "Krok:-3\n",
      "[-9, -6, -3, 0, 3, 6, 9, 12, 15, 18]\n"
     ]
    }
   ],
   "source": [
    "pocz = input('Początek zakresu:')\n",
    "kon = input('Koniec zakresu:')\n",
    "krok = input('Krok:')\n",
    "p = int(pocz)\n",
    "k = int(kon)\n",
    "kr = int(krok)\n",
    "m_pocz = min(p, k)\n",
    "m_kon = max(p, k)\n",
    "a_krok = abs(kr)\n",
    "ra = range(m_pocz, m_kon, a_krok)\n",
    "lista = list(set(ra))\n",
    "lista.sort()\n",
    "print(lista)"
   ]
  },
  {
   "cell_type": "markdown",
   "metadata": {
    "colab_type": "text",
    "id": "jG-xgLaDmuaZ"
   },
   "source": [
    "<hr>\n",
    "### Zmienne iterowalne i pętle"
   ]
  },
  {
   "cell_type": "markdown",
   "metadata": {
    "colab_type": "text",
    "id": "EMWk9NHcmuaa"
   },
   "source": [
    "<b>Iterowalnymi</b> (ang. iterable) nazywamy zmienne posiadające tę właściwość, że można przechodzić przez konkretne elementy ich kolekcji PO KOLEI. <b>Iteratorami</b> zaś są takie obiekty, które iterują, czyli zwracają konkretną wartość przy każdym odwołaniu i wspierają metodę <i>next()</i>. Mają one stan, czyli w danym momencie zwracają konkretną wartość, a po wyczerpaniu (ang. exhaust) przestają istnieć - odwołanie do nich powoduje błąd. Na razie nie będziemy się nimi zajmować.<br>\n",
    "<br>\n",
    "Przez elementy zmiennych iterowalnych przechodzimy za pomocą <b>pętli</b>. W Pythonie zaimplementowane są dwa typy pętli: for i while."
   ]
  },
  {
   "cell_type": "markdown",
   "metadata": {
    "colab_type": "text",
    "id": "62PDAUiBmuaa"
   },
   "source": [
    "#### Pętla for ... in ... - wykonuj określoną liczbę razy"
   ]
  },
  {
   "cell_type": "code",
   "execution_count": 0,
   "metadata": {
    "colab": {},
    "colab_type": "code",
    "id": "xCvVKNj-muaa",
    "outputId": "cad45776-8520-4aad-eb95-904932e63064"
   },
   "outputs": [
    {
     "name": "stdout",
     "output_type": "stream",
     "text": [
      "1\n",
      "1\n",
      "4\n",
      "27\n"
     ]
    }
   ],
   "source": [
    "for i in [0, 1, 2, 3]: # \"dla każdego i będącego elementem zmiennej iterowalnej wykonaj podblok\"\n",
    "    print(i ** i)"
   ]
  },
  {
   "cell_type": "code",
   "execution_count": 0,
   "metadata": {
    "colab": {
     "base_uri": "https://localhost:8080/",
     "height": 34
    },
    "colab_type": "code",
    "executionInfo": {
     "elapsed": 2120,
     "status": "ok",
     "timestamp": 1554210103390,
     "user": {
      "displayName": "Krzysztof Bruszewski",
      "photoUrl": "https://lh4.googleusercontent.com/-uV0-wDJ-R2g/AAAAAAAAAAI/AAAAAAAALRA/TW0TOh0OXuo/s64/photo.jpg",
      "userId": "11139975063881261812"
     },
     "user_tz": -120
    },
    "id": "NKG7iFHDJAtt",
    "outputId": "dbc42753-8972-4237-b6bb-6d1b0ebece72"
   },
   "outputs": [
    {
     "name": "stdout",
     "output_type": "stream",
     "text": [
      "apple\n"
     ]
    }
   ],
   "source": [
    "fruits = [\"apple\", \"banana\", \"cherry\"]\n",
    "for x in fruits:\n",
    "  if x == \"banana\":\n",
    "    break\n",
    "  print(x)"
   ]
  },
  {
   "cell_type": "code",
   "execution_count": 0,
   "metadata": {
    "colab": {
     "base_uri": "https://localhost:8080/",
     "height": 136
    },
    "colab_type": "code",
    "executionInfo": {
     "elapsed": 3730,
     "status": "ok",
     "timestamp": 1554208633366,
     "user": {
      "displayName": "Krzysztof Bruszewski",
      "photoUrl": "https://lh4.googleusercontent.com/-uV0-wDJ-R2g/AAAAAAAAAAI/AAAAAAAALRA/TW0TOh0OXuo/s64/photo.jpg",
      "userId": "11139975063881261812"
     },
     "user_tz": -120
    },
    "id": "zynAuTccmuaj",
    "outputId": "2747342b-78d4-4d27-f20f-8f945c9524ed"
   },
   "outputs": [
    {
     "name": "stdout",
     "output_type": "stream",
     "text": [
      "range(20, 9, -1)\n",
      "20\n",
      "18\n",
      "16\n",
      "14\n",
      "12\n",
      "10\n"
     ]
    }
   ],
   "source": [
    "r = range(20, 9, -1)\n",
    "print(r) # możemy również iterować po zmiennych \"leniwych\", np. range\n",
    "for i in r:\n",
    "    if i % 2 == 0:\n",
    "        print(i)"
   ]
  },
  {
   "cell_type": "code",
   "execution_count": 0,
   "metadata": {
    "colab": {
     "base_uri": "https://localhost:8080/",
     "height": 85
    },
    "colab_type": "code",
    "executionInfo": {
     "elapsed": 2880,
     "status": "ok",
     "timestamp": 1554208783619,
     "user": {
      "displayName": "Krzysztof Bruszewski",
      "photoUrl": "https://lh4.googleusercontent.com/-uV0-wDJ-R2g/AAAAAAAAAAI/AAAAAAAALRA/TW0TOh0OXuo/s64/photo.jpg",
      "userId": "11139975063881261812"
     },
     "user_tz": -120
    },
    "id": "63LbhuZBmuam",
    "outputId": "84776220-95aa-456d-8fa8-b9f71590c1f3"
   },
   "outputs": [
    {
     "name": "stdout",
     "output_type": "stream",
     "text": [
      "B\n",
      "B\n",
      "P\n",
      "I\n"
     ]
    }
   ],
   "source": [
    "for i in 'BGZ BNP PARBIAS'[::4]: # string, a nawet jego dynamicznie zrobiony slice, też jest iterowalny\n",
    "    print(i)"
   ]
  },
  {
   "cell_type": "code",
   "execution_count": 0,
   "metadata": {
    "colab": {
     "base_uri": "https://localhost:8080/",
     "height": 272
    },
    "colab_type": "code",
    "executionInfo": {
     "elapsed": 2356,
     "status": "ok",
     "timestamp": 1554209212125,
     "user": {
      "displayName": "Krzysztof Bruszewski",
      "photoUrl": "https://lh4.googleusercontent.com/-uV0-wDJ-R2g/AAAAAAAAAAI/AAAAAAAALRA/TW0TOh0OXuo/s64/photo.jpg",
      "userId": "11139975063881261812"
     },
     "user_tz": -120
    },
    "id": "eCbNKrBcmuan",
    "outputId": "0169062a-0f12-49d3-af41-8fbf414608cc"
   },
   "outputs": [
    {
     "name": "stdout",
     "output_type": "stream",
     "text": [
      "000 B\n",
      "001 G\n",
      "002 Z\n",
      "003  \n",
      "004 B\n",
      "005 N\n",
      "006 P\n",
      "007  \n",
      "008 P\n",
      "009 A\n",
      "010 R\n",
      "011 I\n",
      "012 B\n",
      "013 A\n",
      "014 S\n"
     ]
    }
   ],
   "source": [
    "b = 'BGZ BNP PARIBAS'\n",
    "for i in range(len(b)): # taki sposób iteracji powoduje, że i przyjmuje wartości indeksów kolejnych elementów b\n",
    "    print(str(i).zfill(3), b[i])"
   ]
  },
  {
   "cell_type": "code",
   "execution_count": 0,
   "metadata": {
    "colab": {
     "base_uri": "https://localhost:8080/",
     "height": 187
    },
    "colab_type": "code",
    "executionInfo": {
     "elapsed": 7002,
     "status": "ok",
     "timestamp": 1554209322243,
     "user": {
      "displayName": "Krzysztof Bruszewski",
      "photoUrl": "https://lh4.googleusercontent.com/-uV0-wDJ-R2g/AAAAAAAAAAI/AAAAAAAALRA/TW0TOh0OXuo/s64/photo.jpg",
      "userId": "11139975063881261812"
     },
     "user_tz": -120
    },
    "id": "_dYvdiUwmuao",
    "outputId": "ac8c8ef8-1306-4826-ae86-7046c598e633"
   },
   "outputs": [
    {
     "name": "stdout",
     "output_type": "stream",
     "text": [
      "  1   2   3   4   5   6   7   8   9  10 \n",
      "  2   4   6   8  10  12  14  16  18  20 \n",
      "  3   6   9  12  15  18  21  24  27  30 \n",
      "  4   8  12  16  20  24  28  32  36  40 \n",
      "  5  10  15  20  25  30  35  40  45  50 \n",
      "  6  12  18  24  30  36  42  48  54  60 \n",
      "  7  14  21  28  35  42  49  56  63  70 \n",
      "  8  16  24  32  40  48  56  64  72  80 \n",
      "  9  18  27  36  45  54  63  72  81  90 \n",
      " 10  20  30  40  50  60  70  80  90 100 \n"
     ]
    }
   ],
   "source": [
    "# pętle mogą też być zagnieżdżone\n",
    "for i in range(1, 11):\n",
    "    for j in range(1, 11):\n",
    "        print('{0:3d}'.format(i*j), end=' ')\n",
    "    print()"
   ]
  },
  {
   "cell_type": "code",
   "execution_count": 0,
   "metadata": {
    "colab": {
     "base_uri": "https://localhost:8080/",
     "height": 289
    },
    "colab_type": "code",
    "executionInfo": {
     "elapsed": 2125,
     "status": "ok",
     "timestamp": 1554208900563,
     "user": {
      "displayName": "Krzysztof Bruszewski",
      "photoUrl": "https://lh4.googleusercontent.com/-uV0-wDJ-R2g/AAAAAAAAAAI/AAAAAAAALRA/TW0TOh0OXuo/s64/photo.jpg",
      "userId": "11139975063881261812"
     },
     "user_tz": -120
    },
    "id": "t6TUtJOEmuaq",
    "outputId": "c2d70487-af5c-4da2-9f31-ef4f33e6efff"
   },
   "outputs": [
    {
     "name": "stdout",
     "output_type": "stream",
     "text": [
      "🐍🐍🐍🐍🐍🐍🐍🐍🐍🐍🐍🐍🐍🐍🐍🐍\n",
      "🐍👥👦🐍👨👩🐍👫👬🐍👮👯🐍👱👲🐍\n",
      "🐍👦👨🐍👬👮🐍👲👴🐍👸👺🐍👾💀🐍\n",
      "🐍🐍🐍🐍🐍🐍🐍🐍🐍🐍🐍🐍🐍🐍🐍🐍\n",
      "🐍👨👬🐍👴👸🐍💀💄🐍💌💐🐍💘💜🐍\n",
      "🐍👩👮🐍👸👽🐍💇💌🐍💖💛🐍💥💪🐍\n",
      "🐍🐍🐍🐍🐍🐍🐍🐍🐍🐍🐍🐍🐍🐍🐍🐍\n",
      "🐍👫👲🐍💀💇🐍💕💜🐍💪💱🐍💿📆🐍\n",
      "🐍👬👴🐍💄💌🐍💜💤🐍💴💼🐍📌📔🐍\n",
      "🐍🐍🐍🐍🐍🐍🐍🐍🐍🐍🐍🐍🐍🐍🐍🐍\n",
      "🐍👮👸🐍💌💖🐍💪💴🐍📈📒🐍📦📰🐍\n",
      "🐍👯👺🐍💐💛🐍💱💼🐍📒📝🐍📳📾🐍\n",
      "🐍🐍🐍🐍🐍🐍🐍🐍🐍🐍🐍🐍🐍🐍🐍🐍\n",
      "🐍👱👾🐍💘💥🐍💿📌🐍📦📳🐍🔍🔚🐍\n",
      "🐍👲💀🐍💜💪🐍📆📔🐍📰📾🐍🔚🔨🐍\n",
      "🐍🐍🐍🐍🐍🐍🐍🐍🐍🐍🐍🐍🐍🐍🐍🐍\n"
     ]
    }
   ],
   "source": [
    "# a to już całkiem przypomina kawałek prawdziwego kodu\n",
    "for i in range(16):\n",
    "    for j in range(16):\n",
    "        if (i * j) % 3 == 0:\n",
    "            print(chr(128013), end='')\n",
    "        else:\n",
    "            print(chr(128100+i*j), end='')\n",
    "    print()"
   ]
  },
  {
   "cell_type": "markdown",
   "metadata": {
    "colab_type": "text",
    "id": "Rs_We5o0muar"
   },
   "source": [
    "<hr>\n",
    "#### Ręczne sterowanie pętlą - break, continue, pass"
   ]
  },
  {
   "cell_type": "code",
   "execution_count": 0,
   "metadata": {
    "colab": {
     "base_uri": "https://localhost:8080/",
     "height": 153
    },
    "colab_type": "code",
    "executionInfo": {
     "elapsed": 2532,
     "status": "ok",
     "timestamp": 1554209760155,
     "user": {
      "displayName": "Krzysztof Bruszewski",
      "photoUrl": "https://lh4.googleusercontent.com/-uV0-wDJ-R2g/AAAAAAAAAAI/AAAAAAAALRA/TW0TOh0OXuo/s64/photo.jpg",
      "userId": "11139975063881261812"
     },
     "user_tz": -120
    },
    "id": "-fY_ycy5muas",
    "outputId": "afe6c97c-7213-4496-bc83-e731f551a4a0"
   },
   "outputs": [
    {
     "name": "stdout",
     "output_type": "stream",
     "text": [
      "0\n",
      "2\n",
      "4\n",
      "6\n",
      "8\n",
      "10\n",
      "12\n",
      "Koniec\n"
     ]
    }
   ],
   "source": [
    "for i in range(20):\n",
    "    if i == 14:\n",
    "        break      # kończy blok pętli i wychodzi z niej natychmiast\n",
    "    if i % 2 == 0:\n",
    "        print(i)\n",
    "print('Koniec')"
   ]
  },
  {
   "cell_type": "code",
   "execution_count": 0,
   "metadata": {
    "colab": {},
    "colab_type": "code",
    "id": "HcJOqSU6muau"
   },
   "outputs": [],
   "source": [
    "for i in range(20):\n",
    "    if i == 14:\n",
    "        continue      # kończy wykonywanie danego cyklu pętli i rozpoczyna kolejny\n",
    "    if i % 2 == 0:\n",
    "        print(i)\n",
    "print('Koniec')"
   ]
  },
  {
   "cell_type": "code",
   "execution_count": 0,
   "metadata": {
    "colab": {},
    "colab_type": "code",
    "id": "ghJAL3VYmuau"
   },
   "outputs": [],
   "source": [
    "for i in range(20):\n",
    "    if i == 14:\n",
    "        pass      # nie robi nic - zwykle używamy jako placeholder lub dla zwiększenia czytelności kodu\n",
    "    if i % 2 == 0:\n",
    "        print(i)\n",
    "print('Koniec')"
   ]
  },
  {
   "cell_type": "markdown",
   "metadata": {
    "colab_type": "text",
    "id": "wdbJo5qumuav"
   },
   "source": [
    "<hr>\n",
    "### ZADANIE #9\n",
    "<font color=\"0088CC\">\n",
    "Napisz kod, który pyta użytkownika o liczbę naturalną, a następnie sprawdza, czy ta liczba jest liczbą pierwszą (podzielną tylko przez siebie samą oraz 1). Podpowiedź: jeśli jest jakiś (inny niż 1 i dzielna) dzielnik całkowity tej liczby - chociaż jeden - dalsze sprawdzanie nie ma sensu - liczba nie jest liczbą pierwszą.\n",
    "</font>"
   ]
  },
  {
   "cell_type": "code",
   "execution_count": 0,
   "metadata": {
    "colab": {
     "base_uri": "https://localhost:8080/",
     "height": 51
    },
    "colab_type": "code",
    "executionInfo": {
     "elapsed": 11085,
     "status": "ok",
     "timestamp": 1554211540164,
     "user": {
      "displayName": "Krzysztof Bruszewski",
      "photoUrl": "https://lh4.googleusercontent.com/-uV0-wDJ-R2g/AAAAAAAAAAI/AAAAAAAALRA/TW0TOh0OXuo/s64/photo.jpg",
      "userId": "11139975063881261812"
     },
     "user_tz": -120
    },
    "id": "xmXKlwyHmuaz",
    "outputId": "6767412f-264f-407d-ae2d-d4878da6de8e"
   },
   "outputs": [
    {
     "name": "stdout",
     "output_type": "stream",
     "text": [
      "Podaj liczbę naturalną:17\n",
      "17  jest liczbą pierwszą!\n"
     ]
    }
   ],
   "source": [
    "liczba = int(input('Podaj liczbę naturalną:'))\n",
    "prime = True\n",
    "koniec = int(liczba**.5)+1\n",
    "for i in range(2, koniec):\n",
    "  if liczba % i == 0:\n",
    "    prime = False\n",
    "    break\n",
    "print(liczba, 'nie' * (not prime), 'jest liczbą pierwszą!')"
   ]
  },
  {
   "cell_type": "markdown",
   "metadata": {
    "colab_type": "text",
    "id": "Ghwj9nVBmuaz"
   },
   "source": [
    "<hr>\n",
    "### ZADANIE #10\n",
    "<font color=\"0088CC\">\n",
    "Napisz kod, który będzie BANKOMATEM wypłacającym kwotę największymi dostępnymi nominałami z puli: 200, 100, 50, 20, i 10. Kod powinien zapytać użytkownika o liczbę naturalną podzielną przez 10, reprezentującą sumę pieniędzy do wydania. Następnie powinien \"wydać\" tę kwotę za pomocą jak najmniejszej liczby \"banknotów\", czyli za każdym razem maksymalnym dostępnym nominałem.<br>\n",
    "Przykład:<br>\n",
    "Dla kwoty 520 zł bankomat powinien wydać: 2 \\* 200 zł, 1 \\* 100 zł i 1 \\* 20 zł\n",
    "</font>"
   ]
  },
  {
   "cell_type": "code",
   "execution_count": 0,
   "metadata": {
    "colab": {
     "base_uri": "https://localhost:8080/",
     "height": 51
    },
    "colab_type": "code",
    "executionInfo": {
     "elapsed": 21218,
     "status": "ok",
     "timestamp": 1554212983807,
     "user": {
      "displayName": "Krzysztof Bruszewski",
      "photoUrl": "https://lh4.googleusercontent.com/-uV0-wDJ-R2g/AAAAAAAAAAI/AAAAAAAALRA/TW0TOh0OXuo/s64/photo.jpg",
      "userId": "11139975063881261812"
     },
     "user_tz": -120
    },
    "id": "xqyUYRPwmua0",
    "outputId": "9b4cd59e-0a63-42a4-c12c-343fa213af49"
   },
   "outputs": [
    {
     "name": "stdout",
     "output_type": "stream",
     "text": [
      "Podaj kwotę do wypłaty podzielną przez 10:1200\n",
      "200 zł x 6 , 100 zł x 0   50 zł x 0  20 zł x 0  10 zł x 0\n"
     ]
    }
   ],
   "source": [
    "liczba = int(input('Podaj kwotę do wypłaty podzielną przez 10:'))\n",
    "banknot_200 = 0\n",
    "banknot_100 = 0\n",
    "banknot_50 = 0\n",
    "banknot_20 = 0\n",
    "banknot_10 = 0\n",
    "\n",
    "if liczba >= 200:\n",
    "  m = liczba // 200\n",
    "  banknot_200 = m\n",
    "  liczba = liczba - m * 200\n",
    "  \n",
    "if liczba >= 100:\n",
    "  m = liczba // 100\n",
    "  banknot_100 = m\n",
    "  liczba = liczba - m * 100\n",
    "  \n",
    "if liczba >= 50:\n",
    "  m = liczba // 50\n",
    "  banknot_50 = m\n",
    "  liczba = liczba - m * 50\n",
    "  \n",
    "if liczba >= 20:\n",
    "  m = liczba // 20\n",
    "  banknot_20 = m\n",
    "  liczba = liczba - m * 20\n",
    "  \n",
    "if liczba >= 10:\n",
    "  m = liczba // 10\n",
    "  banknot_10 = m\n",
    "  liczba = liczba - m * 10\n",
    "  \n",
    "  \n",
    "print('200 zł x',banknot_200, ' 100 zł x', banknot_100, '  50 zł x', banknot_50, ' 20 zł x',banknot_20,' 10 zł x',banknot_10)\n",
    "\n"
   ]
  },
  {
   "cell_type": "code",
   "execution_count": 0,
   "metadata": {
    "colab": {
     "base_uri": "https://localhost:8080/",
     "height": 51
    },
    "colab_type": "code",
    "executionInfo": {
     "elapsed": 8650,
     "status": "ok",
     "timestamp": 1554213255250,
     "user": {
      "displayName": "Krzysztof Bruszewski",
      "photoUrl": "https://lh4.googleusercontent.com/-uV0-wDJ-R2g/AAAAAAAAAAI/AAAAAAAALRA/TW0TOh0OXuo/s64/photo.jpg",
      "userId": "11139975063881261812"
     },
     "user_tz": -120
    },
    "id": "VWvhSckiUSaU",
    "outputId": "3e617d06-1179-4e51-dfc1-a33bfe393814"
   },
   "outputs": [
    {
     "name": "stdout",
     "output_type": "stream",
     "text": [
      "Podaj kwotę do wypłaty podzielną przez 10:530\n",
      "{200: 2, 100: 1, 50: 0, 20: 1, 10: 1}\n"
     ]
    }
   ],
   "source": [
    "kwota = int(input('Podaj kwotę do wypłaty podzielną przez 10:'))\n",
    "d = dict()\n",
    "for i in [200, 100, 50, 20, 10]:\n",
    "  d[i] = 0\n",
    "  if kwota >= i:\n",
    "    d[i] +=kwota // i\n",
    "    kwota -=d[i] * i\n",
    "        \n",
    "print(d)"
   ]
  },
  {
   "cell_type": "code",
   "execution_count": 0,
   "metadata": {
    "colab": {
     "base_uri": "https://localhost:8080/",
     "height": 102
    },
    "colab_type": "code",
    "executionInfo": {
     "elapsed": 2958,
     "status": "ok",
     "timestamp": 1554214022239,
     "user": {
      "displayName": "Krzysztof Bruszewski",
      "photoUrl": "https://lh4.googleusercontent.com/-uV0-wDJ-R2g/AAAAAAAAAAI/AAAAAAAALRA/TW0TOh0OXuo/s64/photo.jpg",
      "userId": "11139975063881261812"
     },
     "user_tz": -120
    },
    "id": "Xhl69ea1X0K4",
    "outputId": "24febbeb-af65-4356-adb7-6c25badfeabe"
   },
   "outputs": [
    {
     "name": "stdout",
     "output_type": "stream",
     "text": [
      "200 2\n",
      "100 1\n",
      "50 0\n",
      "20 1\n",
      "10 1\n"
     ]
    }
   ],
   "source": [
    "for i,j in d.items():\n",
    "  print(i,j)"
   ]
  },
  {
   "cell_type": "markdown",
   "metadata": {
    "colab_type": "text",
    "id": "B8dV-3Trmua1"
   },
   "source": [
    "<br>\n",
    "<hr>\n",
    "#### List expressions - wyrażenia listotwórcze"
   ]
  },
  {
   "cell_type": "code",
   "execution_count": 0,
   "metadata": {
    "colab": {
     "base_uri": "https://localhost:8080/",
     "height": 34
    },
    "colab_type": "code",
    "executionInfo": {
     "elapsed": 2993,
     "status": "ok",
     "timestamp": 1554213574761,
     "user": {
      "displayName": "Krzysztof Bruszewski",
      "photoUrl": "https://lh4.googleusercontent.com/-uV0-wDJ-R2g/AAAAAAAAAAI/AAAAAAAALRA/TW0TOh0OXuo/s64/photo.jpg",
      "userId": "11139975063881261812"
     },
     "user_tz": -120
    },
    "id": "YsTnVWUhmua2",
    "outputId": "922a7b24-d776-4bd6-821a-033c63a3ae46"
   },
   "outputs": [
    {
     "name": "stdout",
     "output_type": "stream",
     "text": [
      "[0, 1, 2, 3, 4, 5, 6, 7, 8, 9, 10, 11, 12, 13, 14, 15, 16, 17, 18, 19]\n"
     ]
    }
   ],
   "source": [
    "l1 = [i for i in range(20)] # list expressions pozwalają na szybkie tworzenie list z iterowalnych zmiennych\n",
    "print(l1)"
   ]
  },
  {
   "cell_type": "code",
   "execution_count": 0,
   "metadata": {
    "colab": {
     "base_uri": "https://localhost:8080/",
     "height": 34
    },
    "colab_type": "code",
    "executionInfo": {
     "elapsed": 2667,
     "status": "ok",
     "timestamp": 1554213605233,
     "user": {
      "displayName": "Krzysztof Bruszewski",
      "photoUrl": "https://lh4.googleusercontent.com/-uV0-wDJ-R2g/AAAAAAAAAAI/AAAAAAAALRA/TW0TOh0OXuo/s64/photo.jpg",
      "userId": "11139975063881261812"
     },
     "user_tz": -120
    },
    "id": "PkrdLirJmua2",
    "outputId": "5f709078-0e00-42d5-bfca-c199f4136f36"
   },
   "outputs": [
    {
     "name": "stdout",
     "output_type": "stream",
     "text": [
      "[0, 3, 6, 9, 12, 15, 18]\n"
     ]
    }
   ],
   "source": [
    "l2 = [i for i in range(20) if not i % 3] # list expressions wspierają taką składnię\n",
    "print(l2)"
   ]
  },
  {
   "cell_type": "code",
   "execution_count": 0,
   "metadata": {
    "colab": {
     "base_uri": "https://localhost:8080/",
     "height": 34
    },
    "colab_type": "code",
    "executionInfo": {
     "elapsed": 3052,
     "status": "ok",
     "timestamp": 1554213681975,
     "user": {
      "displayName": "Krzysztof Bruszewski",
      "photoUrl": "https://lh4.googleusercontent.com/-uV0-wDJ-R2g/AAAAAAAAAAI/AAAAAAAALRA/TW0TOh0OXuo/s64/photo.jpg",
      "userId": "11139975063881261812"
     },
     "user_tz": -120
    },
    "id": "XrABaDF7mua3",
    "outputId": "1e8b0670-8391-4bcf-b33f-9d494ed88146"
   },
   "outputs": [
    {
     "name": "stdout",
     "output_type": "stream",
     "text": [
      "{0: 0, 1: 2, 2: 4, 3: 6, 4: 8, 5: 10, 6: 12, 7: 14, 8: 16, 9: 18, 10: 20, 11: 22, 12: 24, 13: 26, 14: 28, 15: 30, 16: 32, 17: 34, 18: 36, 19: 38}\n"
     ]
    }
   ],
   "source": [
    "# oczywiście, można ich używać do tworzenia innych zmiennych\n",
    "e1 = dict(zip([i for i in range(20)], [i*2 for i in range(20)]))\n",
    "print(e1)"
   ]
  },
  {
   "cell_type": "code",
   "execution_count": 0,
   "metadata": {
    "colab": {},
    "colab_type": "code",
    "id": "mkOIL_5umua5"
   },
   "outputs": [],
   "source": [
    "# albo tak:\n",
    "e2 = dict(enumerate([i*2 for i in range(20) if i % 3 == 1]))\n",
    "print(e2)"
   ]
  },
  {
   "cell_type": "code",
   "execution_count": 0,
   "metadata": {
    "colab": {
     "base_uri": "https://localhost:8080/",
     "height": 34
    },
    "colab_type": "code",
    "executionInfo": {
     "elapsed": 2938,
     "status": "ok",
     "timestamp": 1554213858608,
     "user": {
      "displayName": "Krzysztof Bruszewski",
      "photoUrl": "https://lh4.googleusercontent.com/-uV0-wDJ-R2g/AAAAAAAAAAI/AAAAAAAALRA/TW0TOh0OXuo/s64/photo.jpg",
      "userId": "11139975063881261812"
     },
     "user_tz": -120
    },
    "id": "wAkPa-viXOMC",
    "outputId": "f973022c-6f15-4e0d-f532-17d7cc616768"
   },
   "outputs": [
    {
     "data": {
      "text/plain": [
       "[(0, 0), (1, 4), (2, 'g')]"
      ]
     },
     "execution_count": 97,
     "metadata": {
      "tags": []
     },
     "output_type": "execute_result"
    }
   ],
   "source": [
    "list(enumerate([0,4,'g']))"
   ]
  },
  {
   "cell_type": "markdown",
   "metadata": {
    "colab_type": "text",
    "id": "DttLLFXdmua6"
   },
   "source": [
    "<hr>\n",
    "### Pętla while - wykonuj, dopóki..."
   ]
  },
  {
   "cell_type": "markdown",
   "metadata": {
    "colab_type": "text",
    "id": "rTZFxUGzmua7"
   },
   "source": [
    "Pętla <b>while</b> wykonuje kod wewnątrz niej dotąd, dopóki warunek określony na wstępie ma wartość True."
   ]
  },
  {
   "cell_type": "code",
   "execution_count": 0,
   "metadata": {
    "colab": {
     "base_uri": "https://localhost:8080/",
     "height": 187
    },
    "colab_type": "code",
    "executionInfo": {
     "elapsed": 3732,
     "status": "ok",
     "timestamp": 1554214207339,
     "user": {
      "displayName": "Krzysztof Bruszewski",
      "photoUrl": "https://lh4.googleusercontent.com/-uV0-wDJ-R2g/AAAAAAAAAAI/AAAAAAAALRA/TW0TOh0OXuo/s64/photo.jpg",
      "userId": "11139975063881261812"
     },
     "user_tz": -120
    },
    "id": "iqJNCVAKmua7",
    "outputId": "c24af226-8a99-441d-b6b1-6c3963ce0c82"
   },
   "outputs": [
    {
     "name": "stdout",
     "output_type": "stream",
     "text": [
      "10\n",
      "9\n",
      "8\n",
      "7\n",
      "6\n",
      "5\n",
      "4\n",
      "3\n",
      "2\n",
      "1\n"
     ]
    }
   ],
   "source": [
    "x = 10\n",
    "while x > 0: # wykonuj dopóki x > 0\n",
    "    print(x)\n",
    "    x -= 1"
   ]
  },
  {
   "cell_type": "markdown",
   "metadata": {
    "colab_type": "text",
    "id": "X80yirXHmua-"
   },
   "source": [
    "Oczywiście, nią również można sterować ręcznie za pomocą <b>continue</b> i <b>break</b>."
   ]
  },
  {
   "cell_type": "code",
   "execution_count": 0,
   "metadata": {
    "colab": {
     "base_uri": "https://localhost:8080/",
     "height": 85
    },
    "colab_type": "code",
    "executionInfo": {
     "elapsed": 3173,
     "status": "ok",
     "timestamp": 1554214234552,
     "user": {
      "displayName": "Krzysztof Bruszewski",
      "photoUrl": "https://lh4.googleusercontent.com/-uV0-wDJ-R2g/AAAAAAAAAAI/AAAAAAAALRA/TW0TOh0OXuo/s64/photo.jpg",
      "userId": "11139975063881261812"
     },
     "user_tz": -120
    },
    "id": "ZvvWm64Xmua_",
    "outputId": "301b8b3d-5f28-4bc0-b679-9a5bfd682e2c"
   },
   "outputs": [
    {
     "name": "stdout",
     "output_type": "stream",
     "text": [
      "10\n",
      "9\n",
      "8\n",
      "7\n"
     ]
    }
   ],
   "source": [
    "x = 10\n",
    "while x > 0: # wykonuj dopóki x > 0\n",
    "    print(x)\n",
    "    x -= 1\n",
    "    if x == 6:\n",
    "        break"
   ]
  },
  {
   "cell_type": "markdown",
   "metadata": {
    "colab_type": "text",
    "id": "JLU7pr41mubE"
   },
   "source": [
    "Uwaga przy definicji - ustawienie warunku, który ZAWSZE jest prawdziwy, bez ręcznego \"wyjścia\" spowoduje pętlę nieskończoną (do wyczerpania pamięci)."
   ]
  },
  {
   "cell_type": "code",
   "execution_count": 0,
   "metadata": {
    "colab": {},
    "colab_type": "code",
    "id": "Duh7qWbgmubE"
   },
   "outputs": [],
   "source": [
    "while 1:\n",
    "    pass"
   ]
  },
  {
   "cell_type": "markdown",
   "metadata": {
    "colab_type": "text",
    "id": "GnkAaSPcmubE"
   },
   "source": [
    "<hr>\n",
    "### ZADANIE #11\n",
    "<font color=\"0088CC\">\n",
    "Napisz kod, który pyta użytkownika o liczbę naturalną, a następnie sprawdza, czy ta liczba jest liczbą pierwszą (podzielną tylko przez siebie samą oraz 1). Tym razem użyj pętli 'while' do tej procedury.\n",
    "</font>"
   ]
  },
  {
   "cell_type": "code",
   "execution_count": 0,
   "metadata": {
    "colab": {
     "base_uri": "https://localhost:8080/",
     "height": 51
    },
    "colab_type": "code",
    "executionInfo": {
     "elapsed": 6695,
     "status": "ok",
     "timestamp": 1554214722547,
     "user": {
      "displayName": "Krzysztof Bruszewski",
      "photoUrl": "https://lh4.googleusercontent.com/-uV0-wDJ-R2g/AAAAAAAAAAI/AAAAAAAALRA/TW0TOh0OXuo/s64/photo.jpg",
      "userId": "11139975063881261812"
     },
     "user_tz": -120
    },
    "id": "f5CaQWY-mubE",
    "outputId": "7518074c-1ba3-459c-e1cf-ea9e9475a352"
   },
   "outputs": [
    {
     "name": "stdout",
     "output_type": "stream",
     "text": [
      "Podaj liczbę naturalną:16\n",
      "16 nie jest liczbą pierwszą!\n"
     ]
    }
   ],
   "source": [
    "liczba = int(input('Podaj liczbę naturalną:'))\n",
    "prime = True\n",
    "koniec = int(liczba**.5)+1\n",
    "i = 2\n",
    "while i < koniec:\n",
    "  if liczba % i == 0:\n",
    "    prime = False\n",
    "    break\n",
    "  i+=1\n",
    "\n",
    "print(liczba, 'nie' * (not prime), 'jest liczbą pierwszą!')"
   ]
  },
  {
   "cell_type": "markdown",
   "metadata": {
    "colab_type": "text",
    "id": "DLcoUq1-mubF"
   },
   "source": [
    "<br><br><br><br><br><br><br>\n",
    "<hr>\n",
    "### Funkcje - definicje i działanie"
   ]
  },
  {
   "cell_type": "markdown",
   "metadata": {
    "colab_type": "text",
    "id": "KRyYrLj1mubF"
   },
   "source": [
    "Funkcje w Pythonie mają bardzo szerokie i wszechstronne zastosowanie. Ponieważ wszystko jest obiektem, każda klasa obiektów (\"typ danych\") może mieć swój zestaw funkcji. Niekiedy funkcje obiektów różnych typów mają te same nazwy - mamy wtedy do czynienia ze zjawiskiem przeładowania - ang. <b>overloading</b> funkcji.<br>\n",
    "Przykładem jest funkcja odpowiadająca za działanie dodawania, wywoływana w Pythonie przez operator \"+\"."
   ]
  },
  {
   "cell_type": "code",
   "execution_count": 0,
   "metadata": {
    "colab": {
     "base_uri": "https://localhost:8080/",
     "height": 51
    },
    "colab_type": "code",
    "executionInfo": {
     "elapsed": 1752,
     "status": "ok",
     "timestamp": 1554215485791,
     "user": {
      "displayName": "Krzysztof Bruszewski",
      "photoUrl": "https://lh4.googleusercontent.com/-uV0-wDJ-R2g/AAAAAAAAAAI/AAAAAAAALRA/TW0TOh0OXuo/s64/photo.jpg",
      "userId": "11139975063881261812"
     },
     "user_tz": -120
    },
    "id": "GzSkSXxAmubF",
    "outputId": "1e2069a6-ef3f-4a4e-bda6-338e7bfc957a"
   },
   "outputs": [
    {
     "name": "stdout",
     "output_type": "stream",
     "text": [
      "4\n",
      "22\n"
     ]
    }
   ],
   "source": [
    "print(2 + 2)        # użycie operatora + powoduje wywołanie funkcji __add__()\n",
    "print(\"2\" + '2')    # dla int ma zupełnie inną implementację, niż dla str"
   ]
  },
  {
   "cell_type": "code",
   "execution_count": 0,
   "metadata": {
    "colab": {
     "base_uri": "https://localhost:8080/",
     "height": 51
    },
    "colab_type": "code",
    "executionInfo": {
     "elapsed": 1926,
     "status": "ok",
     "timestamp": 1554215491136,
     "user": {
      "displayName": "Krzysztof Bruszewski",
      "photoUrl": "https://lh4.googleusercontent.com/-uV0-wDJ-R2g/AAAAAAAAAAI/AAAAAAAALRA/TW0TOh0OXuo/s64/photo.jpg",
      "userId": "11139975063881261812"
     },
     "user_tz": -120
    },
    "id": "FPl522WpmubF",
    "outputId": "96e4b6ef-bc59-42c6-bac6-06147572a9bd"
   },
   "outputs": [
    {
     "name": "stdout",
     "output_type": "stream",
     "text": [
      "9\n",
      "333\n"
     ]
    }
   ],
   "source": [
    "print(3 * 3)        # innym przykładem jest funkcja __mult__ wywoływana operatorem *\n",
    "print(3 * '3')"
   ]
  },
  {
   "cell_type": "markdown",
   "metadata": {
    "colab_type": "text",
    "id": "3GYBvPR_mubH"
   },
   "source": [
    "Nic nie stoi na przeszkodzie, żeby definiować własne funkcje. Służy do tego instrukcja <b>def</b>:"
   ]
  },
  {
   "cell_type": "code",
   "execution_count": 0,
   "metadata": {
    "colab": {},
    "colab_type": "code",
    "id": "3ZgeNa80mubH"
   },
   "outputs": [],
   "source": [
    "def funkcja():\n",
    "    print('Ale super szkolenie!')"
   ]
  },
  {
   "cell_type": "code",
   "execution_count": 0,
   "metadata": {
    "colab": {
     "base_uri": "https://localhost:8080/",
     "height": 34
    },
    "colab_type": "code",
    "executionInfo": {
     "elapsed": 2296,
     "status": "ok",
     "timestamp": 1554215503510,
     "user": {
      "displayName": "Krzysztof Bruszewski",
      "photoUrl": "https://lh4.googleusercontent.com/-uV0-wDJ-R2g/AAAAAAAAAAI/AAAAAAAALRA/TW0TOh0OXuo/s64/photo.jpg",
      "userId": "11139975063881261812"
     },
     "user_tz": -120
    },
    "id": "Av4hkl9LmubH",
    "outputId": "77c2ac82-4254-489f-9a30-ea0a7b81bb81"
   },
   "outputs": [
    {
     "name": "stdout",
     "output_type": "stream",
     "text": [
      "Ale super szkolenie!\n"
     ]
    }
   ],
   "source": [
    "funkcja()"
   ]
  },
  {
   "cell_type": "markdown",
   "metadata": {
    "colab_type": "text",
    "id": "8SStMS3KmubJ"
   },
   "source": [
    "#### Definicja funkcji z (obowiązkowym) parametrem"
   ]
  },
  {
   "cell_type": "code",
   "execution_count": 0,
   "metadata": {
    "colab": {
     "base_uri": "https://localhost:8080/",
     "height": 34
    },
    "colab_type": "code",
    "executionInfo": {
     "elapsed": 1946,
     "status": "ok",
     "timestamp": 1554215537446,
     "user": {
      "displayName": "Krzysztof Bruszewski",
      "photoUrl": "https://lh4.googleusercontent.com/-uV0-wDJ-R2g/AAAAAAAAAAI/AAAAAAAALRA/TW0TOh0OXuo/s64/photo.jpg",
      "userId": "11139975063881261812"
     },
     "user_tz": -120
    },
    "id": "9UuvCCq5mubJ",
    "outputId": "1b928a13-8a65-4042-f7e0-3b2b9dfc90ab"
   },
   "outputs": [
    {
     "name": "stdout",
     "output_type": "stream",
     "text": [
      "Raz\n"
     ]
    }
   ],
   "source": [
    "def funkcja(x):                  # x jest parametrem funkcji - nazwa może być oczywiście dowolna\n",
    "    if x == 1:\n",
    "        print('Raz')\n",
    "    elif x == 2:\n",
    "        print('Dwa')\n",
    "    elif x == 3:\n",
    "        print('Trzy')\n",
    "    else:\n",
    "        print('Początek gry')\n",
    "\n",
    "funkcja(1)"
   ]
  },
  {
   "cell_type": "code",
   "execution_count": 0,
   "metadata": {
    "colab": {},
    "colab_type": "code",
    "id": "hR2nuoB7mubJ"
   },
   "outputs": [],
   "source": [
    "funkcja()  # wywoła błąd - funkcja spodziewa się argumentu"
   ]
  },
  {
   "cell_type": "markdown",
   "metadata": {
    "colab_type": "text",
    "id": "rjt28zW4mubK"
   },
   "source": [
    "### ZADANIE #12\n",
    "<font color=\"0088CC\">\n",
    "Napisz funkcję, która jako argument bierze string i sprawdza, czy podany łańcuch znaków jest palindromem. Wynik jest sprawdzany tylko dla stringów o długości 3 lub większej, przy czym zarówno parzystej, jak i nieparzystej. Dla pozostałych funkcja powinna wypisać komunikat, że słowo jest za krótkie.\n",
    "</font>"
   ]
  },
  {
   "cell_type": "code",
   "execution_count": 0,
   "metadata": {
    "colab": {
     "base_uri": "https://localhost:8080/",
     "height": 72
    },
    "colab_type": "code",
    "executionInfo": {
     "elapsed": 686,
     "status": "ok",
     "timestamp": 1554492890167,
     "user": {
      "displayName": "Krzysztof Bruszewski",
      "photoUrl": "https://lh4.googleusercontent.com/-uV0-wDJ-R2g/AAAAAAAAAAI/AAAAAAAALRA/TW0TOh0OXuo/s64/photo.jpg",
      "userId": "11139975063881261812"
     },
     "user_tz": -120
    },
    "id": "Vmk40imRmubK",
    "outputId": "d0c503ba-c2a4-4e7e-a5a3-17ddc7f967bd"
   },
   "outputs": [
    {
     "name": "stdout",
     "output_type": "stream",
     "text": [
      "Słowo Kajak jest palindromem\n",
      "Słowo Jedynka nie jest palindromem\n",
      "Słowo Ul jest za krótkie\n"
     ]
    }
   ],
   "source": [
    "def palindrom(str): \n",
    "  if len(str) >= 3:\n",
    "    s1 = str.lower().strip()\n",
    "    s2 = s1[::-1]\n",
    "    if s1 == s2:\n",
    "      print('Słowo',str,'jest palindromem')\n",
    "    else:\n",
    "      print('Słowo',str,'nie jest palindromem')\n",
    "  else:\n",
    "    print('Słowo',str,'jest za krótkie')\n",
    " \n",
    "        \n",
    "palindrom('Kajak')\n",
    "palindrom('Jedynka')\n",
    "palindrom('Ul')"
   ]
  },
  {
   "cell_type": "markdown",
   "metadata": {
    "colab_type": "text",
    "id": "XJjZiaLhmubL"
   },
   "source": [
    "#### Definicja funkcji z parametrem o wartości domyślnej"
   ]
  },
  {
   "cell_type": "code",
   "execution_count": 0,
   "metadata": {
    "colab": {},
    "colab_type": "code",
    "id": "0feXTFS1mubL"
   },
   "outputs": [],
   "source": [
    "def funkcja(x=3):                  # jeśli nie określimy wartości przyw wywołaniu funkcji, domyślnie przyjmie wartość 3\n",
    "    if x == 1:\n",
    "        print('Raz')\n",
    "    elif x == 2:\n",
    "        print('Dwa')\n",
    "    elif x == 3:\n",
    "        print('Trzy')\n",
    "    else:\n",
    "        print('Początek gry')\n",
    "\n",
    "funkcja()"
   ]
  },
  {
   "cell_type": "markdown",
   "metadata": {
    "colab_type": "text",
    "id": "W47dDc7BmubM"
   },
   "source": [
    "#### Definicja funkcji z dwoma argumentami"
   ]
  },
  {
   "cell_type": "code",
   "execution_count": 0,
   "metadata": {
    "colab": {},
    "colab_type": "code",
    "id": "QH8B5GXEmubM"
   },
   "outputs": [],
   "source": [
    "def funkcja(x, y):                  # kolejne argumenty po przecinkach\n",
    "    if x == 1:\n",
    "        print('Raz')\n",
    "    elif x == 2:\n",
    "        print('Dwa')\n",
    "    elif x == 3:\n",
    "        print('Trzy')\n",
    "    else:\n",
    "        print(x*y)\n",
    "\n",
    "funkcja(x=4, y=['Igrek'])"
   ]
  },
  {
   "cell_type": "markdown",
   "metadata": {
    "colab_type": "text",
    "id": "Noy4VrflmubM"
   },
   "source": [
    "#### Definicja funkcji z nieokreśloną liczbą argumentów"
   ]
  },
  {
   "cell_type": "code",
   "execution_count": 0,
   "metadata": {
    "colab": {},
    "colab_type": "code",
    "id": "qbLAFkFqmubM"
   },
   "outputs": [],
   "source": [
    "def funkcja(*args):                 # * poprzedza zbiorczą nazwę argumentów (dowolna nazwa, zwyczajowo args)\n",
    "    print(args)\n",
    "    if 1 in args:\n",
    "        print('Jest jedynka!')\n",
    "\n",
    "funkcja('44', 34, 'fdsv', [542, (552, {3: 4})])"
   ]
  },
  {
   "cell_type": "code",
   "execution_count": 0,
   "metadata": {
    "colab": {},
    "colab_type": "code",
    "id": "5wHSkxs4mubO"
   },
   "outputs": [],
   "source": [
    "funkcja('4235', {1, 2, 3}, ['o', {1: 'ara'}], 1)"
   ]
  },
  {
   "cell_type": "markdown",
   "metadata": {
    "colab_type": "text",
    "id": "zOk-aUX9mubP"
   },
   "source": [
    "#### Definicja funkcji z parametrami określonymi i nieokreślonymi naraz"
   ]
  },
  {
   "cell_type": "code",
   "execution_count": 0,
   "metadata": {
    "colab": {
     "base_uri": "https://localhost:8080/",
     "height": 51
    },
    "colab_type": "code",
    "executionInfo": {
     "elapsed": 3041,
     "status": "ok",
     "timestamp": 1554216460226,
     "user": {
      "displayName": "Krzysztof Bruszewski",
      "photoUrl": "https://lh4.googleusercontent.com/-uV0-wDJ-R2g/AAAAAAAAAAI/AAAAAAAALRA/TW0TOh0OXuo/s64/photo.jpg",
      "userId": "11139975063881261812"
     },
     "user_tz": -120
    },
    "id": "D5Nd_aTbmubP",
    "outputId": "a39aa874-a921-47f6-b578-8c665c7c966f"
   },
   "outputs": [
    {
     "name": "stdout",
     "output_type": "stream",
     "text": [
      "44444444444444444444\n",
      "fdsv [542, (552, {3: 4})]\n"
     ]
    }
   ],
   "source": [
    "def funkcja(x, verbose=False, *args):\n",
    "    print(x * 10)\n",
    "    if verbose:\n",
    "        print(*args) # wypisuje odpakowane elementy tuple'a z argumentami funkcji\n",
    "\n",
    "funkcja('44', True, 'fdsv', [542, (552, {3: 4})]) # x='44', y=True, a reszta to args"
   ]
  },
  {
   "cell_type": "markdown",
   "metadata": {
    "colab_type": "text",
    "id": "kn4zJYs3mubR"
   },
   "source": [
    "<hr>\n",
    "### ZADANIE #13a\n",
    "<font color=\"0088CC\">\n",
    "Zdefiniuj funkcję <b>avg()</b>, która przyjmuje nieokreśloną liczbę argumentów liczbowych, a także nazwany parametr 'type' - domyślnie ustawiony na 'arithmetic'. Zadaniem funkcji jest policzenie i wypisanie średniej wszystkich argumentów liczbowych. W zależności od wartości argumentu 'type' funkcja powinna policzyć średnią: 'a' - arytmetyczną, 'g' - geometryczną, 'h' - harmoniczną. Jeśli parametr przyjmie inną wartość, funkcja powinna wypisać błąd. Funkcja powinna też zakomunikować jaką średnią policzono.</font>"
   ]
  },
  {
   "cell_type": "code",
   "execution_count": 4,
   "metadata": {
    "colab": {
     "base_uri": "https://localhost:8080/",
     "height": 380
    },
    "colab_type": "code",
    "executionInfo": {
     "elapsed": 1847,
     "status": "error",
     "timestamp": 1556094405842,
     "user": {
      "displayName": "Krzysztof Bruszewski",
      "photoUrl": "https://lh4.googleusercontent.com/-uV0-wDJ-R2g/AAAAAAAAAAI/AAAAAAAALRA/TW0TOh0OXuo/s64/photo.jpg",
      "userId": "11139975063881261812"
     },
     "user_tz": -120
    },
    "id": "9u2T7QKmmubS",
    "outputId": "25eccef1-5eda-4224-e405-e3ff089cace6"
   },
   "outputs": [
    {
     "name": "stdout",
     "output_type": "stream",
     "text": [
      "4.0\n",
      "4.0\n",
      "3.439790628250393\n",
      "2.9787234042553195\n"
     ]
    },
    {
     "ename": "ValueError",
     "evalue": "ignored",
     "output_type": "error",
     "traceback": [
      "\u001b[0;31m---------------------------------------------------------------------------\u001b[0m",
      "\u001b[0;31mValueError\u001b[0m                                Traceback (most recent call last)",
      "\u001b[0;32m<ipython-input-4-09902acab1dc>\u001b[0m in \u001b[0;36m<module>\u001b[0;34m()\u001b[0m\n\u001b[1;32m     26\u001b[0m \u001b[0mprint\u001b[0m\u001b[0;34m(\u001b[0m\u001b[0mavg\u001b[0m\u001b[0;34m(\u001b[0m\u001b[0mnums\u001b[0m\u001b[0;34m,\u001b[0m \u001b[0mtyp\u001b[0m\u001b[0;34m=\u001b[0m\u001b[0;34m'g'\u001b[0m\u001b[0;34m)\u001b[0m\u001b[0;34m)\u001b[0m\u001b[0;34m\u001b[0m\u001b[0;34m\u001b[0m\u001b[0m\n\u001b[1;32m     27\u001b[0m \u001b[0mprint\u001b[0m\u001b[0;34m(\u001b[0m\u001b[0mavg\u001b[0m\u001b[0;34m(\u001b[0m\u001b[0mnums\u001b[0m\u001b[0;34m,\u001b[0m \u001b[0mtyp\u001b[0m\u001b[0;34m=\u001b[0m\u001b[0;34m'h'\u001b[0m\u001b[0;34m)\u001b[0m\u001b[0;34m)\u001b[0m\u001b[0;34m\u001b[0m\u001b[0;34m\u001b[0m\u001b[0m\n\u001b[0;32m---> 28\u001b[0;31m \u001b[0mprint\u001b[0m\u001b[0;34m(\u001b[0m\u001b[0mavg\u001b[0m\u001b[0;34m(\u001b[0m\u001b[0mnums\u001b[0m\u001b[0;34m,\u001b[0m \u001b[0mtyp\u001b[0m\u001b[0;34m=\u001b[0m\u001b[0;34m'x'\u001b[0m\u001b[0;34m)\u001b[0m\u001b[0;34m)\u001b[0m\u001b[0;34m\u001b[0m\u001b[0;34m\u001b[0m\u001b[0m\n\u001b[0m",
      "\u001b[0;32m<ipython-input-4-09902acab1dc>\u001b[0m in \u001b[0;36mavg\u001b[0;34m(nums, typ)\u001b[0m\n\u001b[1;32m     19\u001b[0m     \u001b[0;32mreturn\u001b[0m \u001b[0mn\u001b[0m\u001b[0;34m/\u001b[0m\u001b[0mnumbers\u001b[0m\u001b[0;34m\u001b[0m\u001b[0;34m\u001b[0m\u001b[0m\n\u001b[1;32m     20\u001b[0m   \u001b[0;32melse\u001b[0m\u001b[0;34m:\u001b[0m\u001b[0;34m\u001b[0m\u001b[0;34m\u001b[0m\u001b[0m\n\u001b[0;32m---> 21\u001b[0;31m     \u001b[0;32mraise\u001b[0m \u001b[0mValueError\u001b[0m\u001b[0;34m(\u001b[0m\u001b[0;34m'Błędny parametr funkcji'\u001b[0m\u001b[0;34m)\u001b[0m\u001b[0;34m\u001b[0m\u001b[0;34m\u001b[0m\u001b[0m\n\u001b[0m\u001b[1;32m     22\u001b[0m \u001b[0;34m\u001b[0m\u001b[0m\n\u001b[1;32m     23\u001b[0m \u001b[0mnums\u001b[0m \u001b[0;34m=\u001b[0m \u001b[0;34m(\u001b[0m\u001b[0;36m2\u001b[0m\u001b[0;34m,\u001b[0m \u001b[0;36m2\u001b[0m\u001b[0;34m,\u001b[0m \u001b[0;36m5\u001b[0m\u001b[0;34m,\u001b[0m \u001b[0;36m7\u001b[0m\u001b[0;34m)\u001b[0m\u001b[0;34m\u001b[0m\u001b[0;34m\u001b[0m\u001b[0m\n",
      "\u001b[0;31mValueError\u001b[0m: Błędny parametr funkcji"
     ]
    }
   ],
   "source": [
    "# nums = (2, 2, 5, 7)\n",
    "# print(avg(nums)) # 4.0\n",
    "# print(avg(nums, type='a')) # 4.0\n",
    "# print(avg(nums, type='g')) # 3.44\n",
    "# print(avg(nums, type='h')) # 2.98\n",
    "\n",
    "def avg(nums, typ='a'):\n",
    "  typ = typ.lower()\n",
    "  if typ=='a':\n",
    "    numbersSum = sum(nums)\n",
    "    numbersElem = len(nums)\n",
    "    return numbersSum/numbersElem\n",
    "  elif typ=='g':\n",
    "    numbers = 1\n",
    "    n = len(nums)\n",
    "    for i in range(0, n):\n",
    "      numbers = numbers * nums[i]\n",
    "    return numbers**(1/n)\n",
    "  elif typ=='h':\n",
    "    numbers = 0\n",
    "    n = len(nums)\n",
    "    for i in range(0, n):\n",
    "      numbers = numbers + 1/nums[i]\n",
    "    return n/numbers\n",
    "  else:\n",
    "    raise ValueError('Błędny parametr funkcji')\n",
    "\n",
    "nums = (2, 2, 5, 7)\n",
    "print(avg(nums))\n",
    "print(avg(nums, typ='a'))\n",
    "print(avg(nums, typ='g'))\n",
    "print(avg(nums, typ='h'))\n",
    "print(avg(nums, typ='x'))"
   ]
  },
  {
   "cell_type": "markdown",
   "metadata": {
    "colab_type": "text",
    "id": "FVn_pG8ymubT"
   },
   "source": [
    "<br><br>\n",
    "### Funkcje zwracające wartość - instrukcja return"
   ]
  },
  {
   "cell_type": "markdown",
   "metadata": {
    "colab_type": "text",
    "id": "nNW-rccnmubT"
   },
   "source": [
    "Poza tym, że funkcje mogą wykonywać instrukcje, ich bardzo ważną... funkcją jest zwracanie wartości (return). Oznacza to, że funkcja przybiera jakąś wartość, którą można \"przenieść\" do głównego kodu i np. przypisać zmiennej."
   ]
  },
  {
   "cell_type": "code",
   "execution_count": 0,
   "metadata": {
    "colab": {},
    "colab_type": "code",
    "id": "wAe5OzCjmubT"
   },
   "outputs": [],
   "source": [
    "def min_max_diff(*args):\n",
    "    return max(*args) - min(*args) # zwróć wartość różnicy między maksymalnym i minimalnym"
   ]
  },
  {
   "cell_type": "code",
   "execution_count": 0,
   "metadata": {
    "colab": {
     "base_uri": "https://localhost:8080/",
     "height": 34
    },
    "colab_type": "code",
    "executionInfo": {
     "elapsed": 2282,
     "status": "ok",
     "timestamp": 1554216760655,
     "user": {
      "displayName": "Krzysztof Bruszewski",
      "photoUrl": "https://lh4.googleusercontent.com/-uV0-wDJ-R2g/AAAAAAAAAAI/AAAAAAAALRA/TW0TOh0OXuo/s64/photo.jpg",
      "userId": "11139975063881261812"
     },
     "user_tz": -120
    },
    "id": "lR-k6x8FmubV",
    "outputId": "989181d4-7e37-4185-c531-49bb14ea3c63",
    "scrolled": true
   },
   "outputs": [
    {
     "name": "stdout",
     "output_type": "stream",
     "text": [
      "86\n"
     ]
    }
   ],
   "source": [
    "numbers = 12,14,17,19,14,23,26,92,11,47,28,33,46,47,64,82,92,47,9,20,30,6,41,34,21,23,53,63,53,23,24,69,53,52,8,87\n",
    "min_max = min_max_diff(numbers)\n",
    "print(min_max)"
   ]
  },
  {
   "cell_type": "code",
   "execution_count": 0,
   "metadata": {
    "colab": {},
    "colab_type": "code",
    "id": "uekbnXM-mubW"
   },
   "outputs": [],
   "source": [
    "def isPrime(x):\n",
    "    for i in range(2, int(x**.5 + 1)):\n",
    "        if x % i == 0:\n",
    "            return False\n",
    "    return True"
   ]
  },
  {
   "cell_type": "code",
   "execution_count": 0,
   "metadata": {
    "colab": {},
    "colab_type": "code",
    "id": "4ATZLerHmubX",
    "outputId": "147b7e47-466b-43d3-8881-e542fc3a7b42",
    "scrolled": true
   },
   "outputs": [
    {
     "name": "stdout",
     "output_type": "stream",
     "text": [
      "Podaj liczbę do sprawdzenia: 8\n",
      "8 nie jest liczbą pierwszą\n"
     ]
    }
   ],
   "source": [
    "num = int(input('Podaj liczbę do sprawdzenia: '))\n",
    "print('{}{} jest liczbą pierwszą'.format(num, (not isPrime(num))*' nie'))"
   ]
  },
  {
   "cell_type": "markdown",
   "metadata": {
    "colab_type": "text",
    "id": "HMrLGqUXmubX"
   },
   "source": [
    "<hr>\n",
    "### ZADANIE #13b\n",
    "<font color=\"0088CC\">\n",
    "Poprzednie zadanie przepisz na funkcję zwracającą wartość. Dla danego zestawu liczb oblicz wszystkie średnie i przyporządkuj je do zmiennych avg_a, avg_g i avg_h. Następnie wypisz te zmienne.</font>"
   ]
  },
  {
   "cell_type": "code",
   "execution_count": 9,
   "metadata": {
    "colab": {
     "base_uri": "https://localhost:8080/",
     "height": 118
    },
    "colab_type": "code",
    "executionInfo": {
     "elapsed": 1343,
     "status": "ok",
     "timestamp": 1556094838405,
     "user": {
      "displayName": "Krzysztof Bruszewski",
      "photoUrl": "https://lh4.googleusercontent.com/-uV0-wDJ-R2g/AAAAAAAAAAI/AAAAAAAALRA/TW0TOh0OXuo/s64/photo.jpg",
      "userId": "11139975063881261812"
     },
     "user_tz": -120
    },
    "id": "FejvZsaDmubX",
    "outputId": "a072c97e-0256-4609-980a-bd9b8c4187a3"
   },
   "outputs": [
    {
     "name": "stdout",
     "output_type": "stream",
     "text": [
      "2.00\n",
      "2.00\n",
      "2.00\n",
      "4.00\n",
      "3.44\n",
      "2.98\n"
     ]
    }
   ],
   "source": [
    "def avg(nums, typ='a'):\n",
    "  typ = typ.lower()\n",
    "  if typ=='a':\n",
    "    numbersSum = sum(nums)\n",
    "    numbersElem = len(nums)\n",
    "    return numbersSum/numbersElem\n",
    "  elif typ=='g':\n",
    "    numbers = 1\n",
    "    n = len(nums)\n",
    "    for i in range(0, n):\n",
    "      numbers = numbers * nums[i]\n",
    "    return numbers**(1/n)\n",
    "  elif typ=='h':\n",
    "    numbers = 0\n",
    "    n = len(nums)\n",
    "    for i in range(0, n):\n",
    "      numbers = numbers + 1/nums[i]\n",
    "    return n/numbers\n",
    "  else:\n",
    "    raise ValueError('Błędny parametr funkcji')\n",
    "\n",
    "nums = (2,)\n",
    "avg_a = avg(nums, typ='a')\n",
    "avg_g = avg(nums, typ='g')\n",
    "avg_h = avg(nums, typ='h')\n",
    "\n",
    "print(\"{0:.2f}\".format(avg_a))\n",
    "print(\"{0:.2f}\".format(avg_g))\n",
    "print(\"{0:.2f}\".format(avg_h))    \n",
    "     \n",
    "    \n",
    "nums = (2, 2, 5, 7)\n",
    "avg_a = avg(nums, typ='a')\n",
    "avg_g = avg(nums, typ='g')\n",
    "avg_h = avg(nums, typ='h')\n",
    "\n",
    "print(\"{0:.2f}\".format(avg_a))\n",
    "print(\"{0:.2f}\".format(avg_g))\n",
    "print(\"{0:.2f}\".format(avg_h))"
   ]
  },
  {
   "cell_type": "markdown",
   "metadata": {
    "colab_type": "text",
    "id": "KdwfVt9BmubZ"
   },
   "source": [
    "<br><br><br><br><br><br>\n",
    "<hr>\n",
    "### Obsługa błędów - try/except/finally"
   ]
  },
  {
   "cell_type": "markdown",
   "metadata": {
    "colab_type": "text",
    "id": "0yPXmvmmmubZ"
   },
   "source": [
    "Błąd może pojawić się w Pythonie przy każdej okazji - jest to o tyle uciążliwe, że wystąpienie dowolnego błędu, nawet najmniejszego, kończy działanie programu. Chyba, że problematyczny fragment kodu zostanie opatrzony klazulą <b>try/except</b>:"
   ]
  },
  {
   "cell_type": "code",
   "execution_count": 11,
   "metadata": {
    "colab": {
     "base_uri": "https://localhost:8080/",
     "height": 84
    },
    "colab_type": "code",
    "executionInfo": {
     "elapsed": 11280,
     "status": "ok",
     "timestamp": 1556095010542,
     "user": {
      "displayName": "Krzysztof Bruszewski",
      "photoUrl": "https://lh4.googleusercontent.com/-uV0-wDJ-R2g/AAAAAAAAAAI/AAAAAAAALRA/TW0TOh0OXuo/s64/photo.jpg",
      "userId": "11139975063881261812"
     },
     "user_tz": -120
    },
    "id": "I56AO-8OmubZ",
    "outputId": "fb25d590-7cb9-4fd6-c129-55a0e865146b"
   },
   "outputs": [
    {
     "name": "stdout",
     "output_type": "stream",
     "text": [
      "Podaj swój wiek: aaa\n",
      "Niewłaściwa liczba: aaa\n",
      "Podaj swój wiek: 35\n",
      "Bardzo dobrze!\n"
     ]
    }
   ],
   "source": [
    "while True:\n",
    "    try: # spróbuj wykonać ten kod w środku\n",
    "        n = input('Podaj swój wiek: ')\n",
    "        n = int(n)\n",
    "        break\n",
    "    except ValueError: # a gdyby MIAŁBY pojawić się błąd, wypisz ostrzeżenie\n",
    "        print('Niewłaściwa liczba:', n)\n",
    "print('Bardzo dobrze!')"
   ]
  },
  {
   "cell_type": "markdown",
   "metadata": {
    "colab_type": "text",
    "id": "lfDtzaVymuba"
   },
   "source": [
    "Opcjonalnie możemy też dodać instrukcję <b>finally</b>. Kod w niej zawarty zostanie wykonany niezależnie od tego, czy wystąpił błąd czy nie."
   ]
  },
  {
   "cell_type": "code",
   "execution_count": 0,
   "metadata": {
    "colab": {},
    "colab_type": "code",
    "id": "gdPbo5Nhmuba"
   },
   "outputs": [],
   "source": [
    "while True:\n",
    "    try: # spróbuj wykonać ten kod w środku\n",
    "        n = input('Podaj swój wiek: ')\n",
    "        n = int(n)\n",
    "        break\n",
    "    except ValueError: # a gdyby MIAŁBY pojawić się błąd, wypisz ostrzeżenie\n",
    "        print('Niewłaściwa liczba:', n)\n",
    "        print('Spróbuj jeszcze raz')\n",
    "    finally:\n",
    "        print('<to się wytnie>')\n",
    "print('Bardzo dobrze!')"
   ]
  },
  {
   "cell_type": "markdown",
   "metadata": {
    "colab_type": "text",
    "id": "lECybtWAmuba"
   },
   "source": [
    "<br>\n",
    "### Obsługa błędów - raise/assert"
   ]
  },
  {
   "cell_type": "markdown",
   "metadata": {
    "colab_type": "text",
    "id": "NXdUVgHSmubb"
   },
   "source": [
    "Chociaż trudno to zrozumieć, czasem wystąpienie błędu może być pożądane. Jeżeli np. kod jest wykonywany w warunkach opatrzenia całego bloku klauzulą try/except, a błąd wystąpi - zostanie zignorowany i kod \"pójdzie\" dalej. Nie wiadomo będzie jednak, gdzie ten błąd wystąpił, albo że w ogóle wystąpił. To z kolei może być potencjalnie niebezpieczne dla efektu końcowego - brak jakiejś danej lub zignorowanie np. złego wczytania danych i puszczenie procesu dalej może mieć opłakane skutki \"na produkcji\".<br>\n",
    "Żeby sztucznie wywołać błąd używana jest komenda <b>raise</b>"
   ]
  },
  {
   "cell_type": "code",
   "execution_count": 13,
   "metadata": {
    "colab": {
     "base_uri": "https://localhost:8080/",
     "height": 212
    },
    "colab_type": "code",
    "executionInfo": {
     "elapsed": 5453,
     "status": "error",
     "timestamp": 1556095163106,
     "user": {
      "displayName": "Krzysztof Bruszewski",
      "photoUrl": "https://lh4.googleusercontent.com/-uV0-wDJ-R2g/AAAAAAAAAAI/AAAAAAAALRA/TW0TOh0OXuo/s64/photo.jpg",
      "userId": "11139975063881261812"
     },
     "user_tz": -120
    },
    "id": "kYQCliI3mubb",
    "outputId": "ac7ff101-268b-457f-9c52-9c08982d47bb"
   },
   "outputs": [
    {
     "name": "stdout",
     "output_type": "stream",
     "text": [
      "Podaj liczbę różną od zera:0\n"
     ]
    },
    {
     "ename": "ValueError",
     "evalue": "ignored",
     "output_type": "error",
     "traceback": [
      "\u001b[0;31m---------------------------------------------------------------------------\u001b[0m",
      "\u001b[0;31mValueError\u001b[0m                                Traceback (most recent call last)",
      "\u001b[0;32m<ipython-input-13-f912bedaaf25>\u001b[0m in \u001b[0;36m<module>\u001b[0;34m()\u001b[0m\n\u001b[1;32m      1\u001b[0m \u001b[0mi\u001b[0m \u001b[0;34m=\u001b[0m \u001b[0minput\u001b[0m\u001b[0;34m(\u001b[0m\u001b[0;34m'Podaj liczbę różną od zera:'\u001b[0m\u001b[0;34m)\u001b[0m\u001b[0;34m\u001b[0m\u001b[0;34m\u001b[0m\u001b[0m\n\u001b[1;32m      2\u001b[0m \u001b[0;32mif\u001b[0m \u001b[0mint\u001b[0m\u001b[0;34m(\u001b[0m\u001b[0mi\u001b[0m\u001b[0;34m)\u001b[0m \u001b[0;34m==\u001b[0m \u001b[0;36m0\u001b[0m\u001b[0;34m:\u001b[0m\u001b[0;34m\u001b[0m\u001b[0;34m\u001b[0m\u001b[0m\n\u001b[0;32m----> 3\u001b[0;31m     \u001b[0;32mraise\u001b[0m \u001b[0mValueError\u001b[0m\u001b[0;34m(\u001b[0m\u001b[0;34m'Miało nie być zera!'\u001b[0m\u001b[0;34m)\u001b[0m\u001b[0;34m\u001b[0m\u001b[0;34m\u001b[0m\u001b[0m\n\u001b[0m",
      "\u001b[0;31mValueError\u001b[0m: Miało nie być zera!"
     ]
    }
   ],
   "source": [
    "i = input('Podaj liczbę różną od zera:')\n",
    "if int(i) == 0:\n",
    "    raise ValueError('Miało nie być zera!')"
   ]
  },
  {
   "cell_type": "markdown",
   "metadata": {
    "colab_type": "text",
    "id": "PbAwdCQOmubb"
   },
   "source": [
    "Z kolei polecenie <b>assert</b> oznacza \"upewnij się, że\""
   ]
  },
  {
   "cell_type": "code",
   "execution_count": 14,
   "metadata": {
    "colab": {
     "base_uri": "https://localhost:8080/",
     "height": 195
    },
    "colab_type": "code",
    "executionInfo": {
     "elapsed": 4742,
     "status": "error",
     "timestamp": 1556095246792,
     "user": {
      "displayName": "Krzysztof Bruszewski",
      "photoUrl": "https://lh4.googleusercontent.com/-uV0-wDJ-R2g/AAAAAAAAAAI/AAAAAAAALRA/TW0TOh0OXuo/s64/photo.jpg",
      "userId": "11139975063881261812"
     },
     "user_tz": -120
    },
    "id": "KoPdsrKqmubb",
    "outputId": "762ddbd6-5938-4302-bc70-cb03145a1c21"
   },
   "outputs": [
    {
     "name": "stdout",
     "output_type": "stream",
     "text": [
      "Podaj liczbę różną od zera: 0\n"
     ]
    },
    {
     "ename": "AssertionError",
     "evalue": "ignored",
     "output_type": "error",
     "traceback": [
      "\u001b[0;31m---------------------------------------------------------------------------\u001b[0m",
      "\u001b[0;31mAssertionError\u001b[0m                            Traceback (most recent call last)",
      "\u001b[0;32m<ipython-input-14-1a79ae2bc2fd>\u001b[0m in \u001b[0;36m<module>\u001b[0;34m()\u001b[0m\n\u001b[1;32m      1\u001b[0m \u001b[0mi\u001b[0m \u001b[0;34m=\u001b[0m \u001b[0minput\u001b[0m\u001b[0;34m(\u001b[0m\u001b[0;34m'Podaj liczbę różną od zera: '\u001b[0m\u001b[0;34m)\u001b[0m\u001b[0;34m\u001b[0m\u001b[0;34m\u001b[0m\u001b[0m\n\u001b[0;32m----> 2\u001b[0;31m \u001b[0;32massert\u001b[0m \u001b[0mint\u001b[0m\u001b[0;34m(\u001b[0m\u001b[0mi\u001b[0m\u001b[0;34m)\u001b[0m \u001b[0;34m!=\u001b[0m \u001b[0;36m0\u001b[0m\u001b[0;34m\u001b[0m\u001b[0;34m\u001b[0m\u001b[0m\n\u001b[0m",
      "\u001b[0;31mAssertionError\u001b[0m: "
     ]
    }
   ],
   "source": [
    "i = input('Podaj liczbę różną od zera: ')\n",
    "assert int(i) != 0"
   ]
  },
  {
   "cell_type": "markdown",
   "metadata": {
    "colab_type": "text",
    "id": "Be2OTifSmubd"
   },
   "source": [
    "<br><br><br><br><br><br>\n",
    "<hr>\n",
    "### ZADANIE #14\n",
    "<font color=\"0088CC\">\n",
    "Dany jest algorytm opisany w taki sposób:\n",
    "<ol>\n",
    "    <li>Bierzemy dowolną liczbę naturalną. Jeżeli jest:\n",
    "        <ul>\n",
    "            <li>parzysta - dzielimy przez 2</li>\n",
    "            <li>nieparzysta - mnożymy przez 3 i dodajemy 1</li>\n",
    "        </ul></li>\n",
    "    <li>Wynik przenosimy do punktu 1</li>\n",
    "    <li>Algorytm powtarzamy, aż do osiągnięcia wyniku: 1</li>\n",
    "</ol>\n",
    "Napisz kod, który pyta użytkownika o liczbę naturalną, a następnie wykonuje powyższy algorytm wypisując po kolei wszystkie wyniki (w kolejnych liniach).\n",
    "</font>"
   ]
  },
  {
   "cell_type": "code",
   "execution_count": 15,
   "metadata": {
    "colab": {
     "base_uri": "https://localhost:8080/",
     "height": 347
    },
    "colab_type": "code",
    "executionInfo": {
     "elapsed": 4252,
     "status": "ok",
     "timestamp": 1556096236748,
     "user": {
      "displayName": "Krzysztof Bruszewski",
      "photoUrl": "https://lh4.googleusercontent.com/-uV0-wDJ-R2g/AAAAAAAAAAI/AAAAAAAALRA/TW0TOh0OXuo/s64/photo.jpg",
      "userId": "11139975063881261812"
     },
     "user_tz": -120
    },
    "id": "I6ZdqFFomube",
    "outputId": "59504851-31b6-4a35-cd75-371d7fdece67"
   },
   "outputs": [
    {
     "name": "stdout",
     "output_type": "stream",
     "text": [
      "Podaj liczbę naturalną: 30\n",
      "15.0\n",
      "46.0\n",
      "23.0\n",
      "70.0\n",
      "35.0\n",
      "106.0\n",
      "53.0\n",
      "160.0\n",
      "80.0\n",
      "40.0\n",
      "20.0\n",
      "10.0\n",
      "5.0\n",
      "16.0\n",
      "8.0\n",
      "4.0\n",
      "2.0\n",
      "1.0\n"
     ]
    }
   ],
   "source": [
    "def algorytm1(liczba):\n",
    "  while liczba != 1:\n",
    "    if liczba % 2 == 0:\n",
    "      liczba = liczba /2\n",
    "    else:\n",
    "      liczba = 3*liczba + 1\n",
    "    print(liczba)\n",
    "\n",
    "      \n",
    "liczba = int(input('Podaj liczbę naturalną: '))\n",
    "algorytm1(liczba)"
   ]
  },
  {
   "cell_type": "markdown",
   "metadata": {
    "colab_type": "text",
    "id": "_lt62vZTmubi"
   },
   "source": [
    "<br>\n",
    "<hr>\n",
    "### ZADANIE #15a\n",
    "<font color=\"0088CC\">\n",
    "Dany jest algorytm, który jest opisany w ten sposób:\n",
    "<ol>\n",
    "    <li>Dana jest czterocyfrowa liczba taka, że co najmniej jedna jej cyfra jest inna niż pozostałe (czyli nie 1111, 2222, 3333... 9999)</li>\n",
    "    <li>Porządkujemy jej cyfry w kolejności od największej do najmniejszej - tak powstaje liczba A</li>\n",
    "    <li>Następnie porządkujemy cyfry w kolejności od najmniejszej do największej - tak powstaje liczba B</li>\n",
    "    <li>Wykonujemy działanie A - B</li>\n",
    "    <li>Z wynikiem działania wracamy do punktu 1.</li>\n",
    "</ol>\n",
    "Napisz kod, który pyta użytkownika o taką liczbę, sprawdza, czy pasuje do algorytmu, a następnie wypisuje kolejne kroki algorytmu, np:<br>\n",
    "6237: 7632 - 2367 = 5265<br>\n",
    "5265: 6552 - 2556 = 3996<br>\n",
    "...<br>\n",
    "</font>"
   ]
  },
  {
   "cell_type": "code",
   "execution_count": 5,
   "metadata": {
    "colab": {
     "base_uri": "https://localhost:8080/",
     "height": 173
    },
    "colab_type": "code",
    "executionInfo": {
     "elapsed": 6110,
     "status": "ok",
     "timestamp": 1556099886856,
     "user": {
      "displayName": "Krzysztof Bruszewski",
      "photoUrl": "https://lh4.googleusercontent.com/-uV0-wDJ-R2g/AAAAAAAAAAI/AAAAAAAALRA/TW0TOh0OXuo/s64/photo.jpg",
      "userId": "11139975063881261812"
     },
     "user_tz": -120
    },
    "id": "a1yIL52gmubi",
    "outputId": "576c6e92-6aea-4c5f-8607-c6884440791c"
   },
   "outputs": [
    {
     "name": "stdout",
     "output_type": "stream",
     "text": [
      "Podaj liczbę natruralną: 1235\n",
      "1235 :  5321  -  1235  =  4086\n",
      "4086 :  8640  -  0468  =  8172\n",
      "8172 :  8721  -  1278  =  7443\n",
      "7443 :  7443  -  3447  =  3996\n",
      "3996 :  9963  -  3699  =  6264\n",
      "6264 :  6642  -  2466  =  4176\n",
      "4176 :  7641  -  1467  =  6174\n",
      "6174 :  7641  -  1467  =  6174\n"
     ]
    }
   ],
   "source": [
    "liczba = int(input('Podaj liczbę natruralną: '))\n",
    "\n",
    "\n",
    "def algorytm2(number):\n",
    "  liczba = str(number)\n",
    "  dl = len(liczba)\n",
    "  unique = len(''.join(set(liczba)))\n",
    "  if (dl==4) and (unique>=2):\n",
    "    while True:\n",
    "      A = ''.join(sorted(liczba))[::-1]\n",
    "      B = ''.join(sorted(liczba))\n",
    "      roznica = int(A) - int(B)\n",
    "      print(liczba,': ',A,' - ',B,' = ',roznica)\n",
    "      if liczba==str(roznica):\n",
    "        break\n",
    "      liczba = str(roznica)\n",
    "  else:\n",
    "    print('Nieprawidłowa liczba')\n",
    "  \n",
    "algorytm2(liczba)"
   ]
  },
  {
   "cell_type": "markdown",
   "metadata": {
    "colab_type": "text",
    "id": "3sp0jt4kmubi"
   },
   "source": [
    "### ZADANIE #15b\n",
    "<font color=\"0088CC\">\n",
    "Do poprzedniego zadania dodaj w pętli warunek jej przerwania po osiągnięciu punktu konwergencji.\n",
    "</font>"
   ]
  },
  {
   "cell_type": "code",
   "execution_count": 0,
   "metadata": {
    "colab": {},
    "colab_type": "code",
    "id": "MVw7c36Zmubj"
   },
   "outputs": [],
   "source": [
    "liczba = int(input('Podaj liczbę natruralną: '))\n",
    "\n",
    "def algorytm2(number):\n",
    "  liczba = str(number)\n",
    "  dl = len(liczba)\n",
    "  unique = len(''.join(set(liczba)))\n",
    "  if (dl==4) and (unique>=2):\n",
    "    while True:\n",
    "      A = ''.join(sorted(liczba))[::-1]\n",
    "      B = ''.join(sorted(liczba))\n",
    "      roznica = int(A) - int(B)\n",
    "      print(liczba,': ',A,' - ',B,' = ',roznica)\n",
    "      if liczba==str(roznica):\n",
    "        break\n",
    "      liczba = str(roznica)\n",
    "  else:\n",
    "    print('Nieprawidłowa liczba')\n",
    "  \n",
    "algorytm2(liczba)"
   ]
  },
  {
   "cell_type": "markdown",
   "metadata": {
    "colab_type": "text",
    "id": "Z94qCSOymubj"
   },
   "source": [
    "### ZADANIE #15c\n",
    "<font color=\"0088CC\">\n",
    "Zmodyfikuj kod z powyższego zadania tak, aby akceptował również liczby trzycyfrowe.\n",
    "</font>"
   ]
  },
  {
   "cell_type": "code",
   "execution_count": 8,
   "metadata": {
    "colab": {
     "base_uri": "https://localhost:8080/",
     "height": 104
    },
    "colab_type": "code",
    "executionInfo": {
     "elapsed": 5837,
     "status": "ok",
     "timestamp": 1556100145157,
     "user": {
      "displayName": "Krzysztof Bruszewski",
      "photoUrl": "https://lh4.googleusercontent.com/-uV0-wDJ-R2g/AAAAAAAAAAI/AAAAAAAALRA/TW0TOh0OXuo/s64/photo.jpg",
      "userId": "11139975063881261812"
     },
     "user_tz": -120
    },
    "id": "bbRqKTYgmubk",
    "outputId": "aff9c406-b58e-465c-9408-89bee8afa29f"
   },
   "outputs": [
    {
     "name": "stdout",
     "output_type": "stream",
     "text": [
      "Podaj liczbę natruralną: 128\n",
      "128 :  821  -  128  =  693\n",
      "693 :  963  -  369  =  594\n",
      "594 :  954  -  459  =  495\n",
      "495 :  954  -  459  =  495\n"
     ]
    }
   ],
   "source": [
    "liczba = int(input('Podaj liczbę natruralną: '))\n",
    "\n",
    "def algorytm2(number):\n",
    "  liczba = str(number)\n",
    "  dl = len(liczba)\n",
    "  unique = len(''.join(set(liczba)))\n",
    "  if (3 <= dl <= 4) and (unique>=2):\n",
    "    while True:\n",
    "      A = ''.join(sorted(liczba, reverse=True))\n",
    "      B = ''.join(sorted(liczba))\n",
    "      roznica = int(A) - int(B)\n",
    "      print(liczba,': ',A,' - ',B,' = ',roznica)\n",
    "      if liczba==str(roznica):\n",
    "        break\n",
    "      liczba = str(roznica)\n",
    "  else:\n",
    "    print('Nieprawidłowa liczba')\n",
    "  \n",
    "algorytm2(liczba)"
   ]
  },
  {
   "cell_type": "markdown",
   "metadata": {
    "colab_type": "text",
    "id": "NSW_5T3bmubk"
   },
   "source": [
    "### ZADANIE #15d*\n",
    "<font color=\"0088CC\">\n",
    "Zmodyfikuj kod tak, aby radził sobie z dowolnymi liczbami.\n",
    "</font>"
   ]
  },
  {
   "cell_type": "code",
   "execution_count": 0,
   "metadata": {
    "colab": {},
    "colab_type": "code",
    "collapsed": true,
    "id": "zegE7IJMmubl"
   },
   "outputs": [],
   "source": []
  },
  {
   "cell_type": "markdown",
   "metadata": {
    "colab_type": "text",
    "id": "Lo74IEMZmubm"
   },
   "source": [
    "<br><br><br><br><br><br>\n",
    "<hr>\n",
    "### Klasy - definicja, zmienne, parametry i funkcje"
   ]
  },
  {
   "cell_type": "markdown",
   "metadata": {
    "colab_type": "text",
    "id": "T9mHF1eHmubm"
   },
   "source": [
    "W Pythonie poza typami wbudowanymi, jak int czy str, istnieje możliwość definiowania własnych klas obiektów (typów danych) o określonych cechach - w zależności od potrzeb użytkownika."
   ]
  },
  {
   "cell_type": "code",
   "execution_count": 0,
   "metadata": {
    "colab": {},
    "colab_type": "code",
    "collapsed": true,
    "id": "mnLMwlU3mubm"
   },
   "outputs": [],
   "source": [
    "class Client():\n",
    "    \n",
    "    def __init__(self, index, name, town, phone): # tzw. konstruktor klasy - zawiera informacje dot. budowy obiektów\n",
    "        self.index = index\n",
    "        self.name = name\n",
    "        self.town = town\n",
    "        self.phone = phone\n",
    "    \n",
    "    def __str__(self):\n",
    "        return 'Index: {0}, Client name: {1}, City: {2}, Phone number: {3}'.\\\n",
    "    format(self.index, self.name, self.town, self.phone)\n",
    "    \n",
    "    def where(self):\n",
    "        return self.name + ' lives in ' + self.town"
   ]
  },
  {
   "cell_type": "code",
   "execution_count": 0,
   "metadata": {
    "colab": {},
    "colab_type": "code",
    "collapsed": true,
    "id": "ETlEmtnPmubn"
   },
   "outputs": [],
   "source": [
    "c = Client(1, 'Kuba', 'Warsaw', 123)"
   ]
  },
  {
   "cell_type": "code",
   "execution_count": 0,
   "metadata": {
    "colab": {},
    "colab_type": "code",
    "id": "yAunJGtJmubn"
   },
   "outputs": [],
   "source": [
    "print(c)"
   ]
  },
  {
   "cell_type": "code",
   "execution_count": 0,
   "metadata": {
    "colab": {},
    "colab_type": "code",
    "id": "TU2vT-qsmubp"
   },
   "outputs": [],
   "source": [
    "print(c.where())"
   ]
  }
 ],
 "metadata": {
  "colab": {
   "collapsed_sections": [
    "NSW_5T3bmubk",
    "Lo74IEMZmubm"
   ],
   "name": "Python_szkolenie_1.ipynb",
   "provenance": [
    {
     "file_id": "https://github.com/kuba-siekierzynski/szkolenie/blob/master/Python_szkolenie_1.ipynb",
     "timestamp": 1553264660980
    }
   ],
   "version": "0.3.2"
  },
  "kernelspec": {
   "display_name": "Python 3",
   "language": "python",
   "name": "python3"
  },
  "language_info": {
   "codemirror_mode": {
    "name": "ipython",
    "version": 3
   },
   "file_extension": ".py",
   "mimetype": "text/x-python",
   "name": "python",
   "nbconvert_exporter": "python",
   "pygments_lexer": "ipython3",
   "version": "3.6.5"
  }
 },
 "nbformat": 4,
 "nbformat_minor": 1
}
