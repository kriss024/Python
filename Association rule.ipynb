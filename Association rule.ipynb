{
 "cells": [
  {
   "cell_type": "code",
   "execution_count": 1,
   "id": "5b3eeeee",
   "metadata": {},
   "outputs": [
    {
     "data": {
      "text/plain": [
       "'2.3.9'"
      ]
     },
     "execution_count": 1,
     "metadata": {},
     "output_type": "execute_result"
    }
   ],
   "source": [
    "import numpy as np\n",
    "import pandas as pd\n",
    "from pycaret.datasets import get_data\n",
    "from pycaret.arules import *\n",
    "from IPython.display import display\n",
    "from pycaret.utils import version\n",
    "version()"
   ]
  },
  {
   "cell_type": "code",
   "execution_count": 2,
   "id": "4e760ec7",
   "metadata": {},
   "outputs": [
    {
     "data": {
      "text/plain": [
       "(29363, 2)"
      ]
     },
     "execution_count": 2,
     "metadata": {},
     "output_type": "execute_result"
    }
   ],
   "source": [
    "data = pd.read_excel('Online Retail.xlsx', sheet_name='Online Retail')\n",
    "data.shape"
   ]
  },
  {
   "cell_type": "code",
   "execution_count": 3,
   "id": "beb0bfd0",
   "metadata": {},
   "outputs": [
    {
     "data": {
      "text/html": [
       "<div>\n",
       "<style scoped>\n",
       "    .dataframe tbody tr th:only-of-type {\n",
       "        vertical-align: middle;\n",
       "    }\n",
       "\n",
       "    .dataframe tbody tr th {\n",
       "        vertical-align: top;\n",
       "    }\n",
       "\n",
       "    .dataframe thead th {\n",
       "        text-align: right;\n",
       "    }\n",
       "</style>\n",
       "<table border=\"1\" class=\"dataframe\">\n",
       "  <thead>\n",
       "    <tr style=\"text-align: right;\">\n",
       "      <th></th>\n",
       "      <th>InvoiceNo</th>\n",
       "      <th>Description</th>\n",
       "    </tr>\n",
       "  </thead>\n",
       "  <tbody>\n",
       "    <tr>\n",
       "      <th>0</th>\n",
       "      <td>1</td>\n",
       "      <td>shrimp</td>\n",
       "    </tr>\n",
       "    <tr>\n",
       "      <th>1</th>\n",
       "      <td>1</td>\n",
       "      <td>almonds</td>\n",
       "    </tr>\n",
       "    <tr>\n",
       "      <th>2</th>\n",
       "      <td>1</td>\n",
       "      <td>avocado</td>\n",
       "    </tr>\n",
       "    <tr>\n",
       "      <th>3</th>\n",
       "      <td>1</td>\n",
       "      <td>vegetables mix</td>\n",
       "    </tr>\n",
       "    <tr>\n",
       "      <th>4</th>\n",
       "      <td>1</td>\n",
       "      <td>green grapes</td>\n",
       "    </tr>\n",
       "    <tr>\n",
       "      <th>...</th>\n",
       "      <td>...</td>\n",
       "      <td>...</td>\n",
       "    </tr>\n",
       "    <tr>\n",
       "      <th>29358</th>\n",
       "      <td>7500</td>\n",
       "      <td>green tea</td>\n",
       "    </tr>\n",
       "    <tr>\n",
       "      <th>29359</th>\n",
       "      <td>7501</td>\n",
       "      <td>eggs</td>\n",
       "    </tr>\n",
       "    <tr>\n",
       "      <th>29360</th>\n",
       "      <td>7501</td>\n",
       "      <td>frozen smoothie</td>\n",
       "    </tr>\n",
       "    <tr>\n",
       "      <th>29361</th>\n",
       "      <td>7501</td>\n",
       "      <td>yogurt cake</td>\n",
       "    </tr>\n",
       "    <tr>\n",
       "      <th>29362</th>\n",
       "      <td>7501</td>\n",
       "      <td>low fat yogurt</td>\n",
       "    </tr>\n",
       "  </tbody>\n",
       "</table>\n",
       "<p>29363 rows × 2 columns</p>\n",
       "</div>"
      ],
      "text/plain": [
       "       InvoiceNo      Description\n",
       "0              1           shrimp\n",
       "1              1          almonds\n",
       "2              1          avocado\n",
       "3              1   vegetables mix\n",
       "4              1     green grapes\n",
       "...          ...              ...\n",
       "29358       7500        green tea\n",
       "29359       7501             eggs\n",
       "29360       7501  frozen smoothie\n",
       "29361       7501      yogurt cake\n",
       "29362       7501   low fat yogurt\n",
       "\n",
       "[29363 rows x 2 columns]"
      ]
     },
     "metadata": {},
     "output_type": "display_data"
    }
   ],
   "source": [
    "display(data)"
   ]
  },
  {
   "cell_type": "code",
   "execution_count": 4,
   "id": "53a2e0cb",
   "metadata": {},
   "outputs": [
    {
     "data": {
      "text/html": [
       "<style type=\"text/css\">\n",
       "</style>\n",
       "<table id=\"T_c1260\">\n",
       "  <thead>\n",
       "    <tr>\n",
       "      <th id=\"T_c1260_level0_col0\" class=\"col_heading level0 col0\" >Description</th>\n",
       "      <th id=\"T_c1260_level0_col1\" class=\"col_heading level0 col1\" >Value</th>\n",
       "    </tr>\n",
       "  </thead>\n",
       "  <tbody>\n",
       "    <tr>\n",
       "      <td id=\"T_c1260_row0_col0\" class=\"data row0 col0\" >session_id</td>\n",
       "      <td id=\"T_c1260_row0_col1\" class=\"data row0 col1\" >8357</td>\n",
       "    </tr>\n",
       "    <tr>\n",
       "      <td id=\"T_c1260_row1_col0\" class=\"data row1 col0\" ># Transactions</td>\n",
       "      <td id=\"T_c1260_row1_col1\" class=\"data row1 col1\" >7501</td>\n",
       "    </tr>\n",
       "    <tr>\n",
       "      <td id=\"T_c1260_row2_col0\" class=\"data row2 col0\" ># Items</td>\n",
       "      <td id=\"T_c1260_row2_col1\" class=\"data row2 col1\" >119</td>\n",
       "    </tr>\n",
       "    <tr>\n",
       "      <td id=\"T_c1260_row3_col0\" class=\"data row3 col0\" >Ignore Items</td>\n",
       "      <td id=\"T_c1260_row3_col1\" class=\"data row3 col1\" >None</td>\n",
       "    </tr>\n",
       "  </tbody>\n",
       "</table>\n"
      ],
      "text/plain": [
       "<pandas.io.formats.style.Styler at 0x7fc52c3c7100>"
      ]
     },
     "metadata": {},
     "output_type": "display_data"
    }
   ],
   "source": [
    "exp_arul101 = setup(data = data, \n",
    "                    transaction_id = 'InvoiceNo',\n",
    "                    item_id = 'Description') "
   ]
  },
  {
   "cell_type": "code",
   "execution_count": 5,
   "id": "f92e7a6e",
   "metadata": {},
   "outputs": [],
   "source": [
    "model1 = create_model(min_support=0.004)"
   ]
  },
  {
   "cell_type": "code",
   "execution_count": 6,
   "id": "7012af53",
   "metadata": {},
   "outputs": [
    {
     "name": "stdout",
     "output_type": "stream",
     "text": [
      "(35, 9)\n"
     ]
    },
    {
     "data": {
      "text/html": [
       "<div>\n",
       "<style scoped>\n",
       "    .dataframe tbody tr th:only-of-type {\n",
       "        vertical-align: middle;\n",
       "    }\n",
       "\n",
       "    .dataframe tbody tr th {\n",
       "        vertical-align: top;\n",
       "    }\n",
       "\n",
       "    .dataframe thead th {\n",
       "        text-align: right;\n",
       "    }\n",
       "</style>\n",
       "<table border=\"1\" class=\"dataframe\">\n",
       "  <thead>\n",
       "    <tr style=\"text-align: right;\">\n",
       "      <th></th>\n",
       "      <th>antecedents</th>\n",
       "      <th>consequents</th>\n",
       "      <th>antecedent support</th>\n",
       "      <th>consequent support</th>\n",
       "      <th>support</th>\n",
       "      <th>confidence</th>\n",
       "      <th>lift</th>\n",
       "      <th>leverage</th>\n",
       "      <th>conviction</th>\n",
       "    </tr>\n",
       "  </thead>\n",
       "  <tbody>\n",
       "    <tr>\n",
       "      <th>0</th>\n",
       "      <td>(frozen vegetables, soup)</td>\n",
       "      <td>(mineral water)</td>\n",
       "      <td>0.0080</td>\n",
       "      <td>0.2384</td>\n",
       "      <td>0.0051</td>\n",
       "      <td>0.6333</td>\n",
       "      <td>2.6570</td>\n",
       "      <td>0.0032</td>\n",
       "      <td>2.0772</td>\n",
       "    </tr>\n",
       "    <tr>\n",
       "      <th>1</th>\n",
       "      <td>(soup, pancakes)</td>\n",
       "      <td>(mineral water)</td>\n",
       "      <td>0.0068</td>\n",
       "      <td>0.2384</td>\n",
       "      <td>0.0043</td>\n",
       "      <td>0.6275</td>\n",
       "      <td>2.6323</td>\n",
       "      <td>0.0026</td>\n",
       "      <td>2.0444</td>\n",
       "    </tr>\n",
       "    <tr>\n",
       "      <th>2</th>\n",
       "      <td>(tomatoes, olive oil)</td>\n",
       "      <td>(spaghetti)</td>\n",
       "      <td>0.0072</td>\n",
       "      <td>0.1741</td>\n",
       "      <td>0.0044</td>\n",
       "      <td>0.6111</td>\n",
       "      <td>3.5099</td>\n",
       "      <td>0.0031</td>\n",
       "      <td>2.1237</td>\n",
       "    </tr>\n",
       "    <tr>\n",
       "      <th>3</th>\n",
       "      <td>(whole wheat rice, pancakes)</td>\n",
       "      <td>(mineral water)</td>\n",
       "      <td>0.0069</td>\n",
       "      <td>0.2384</td>\n",
       "      <td>0.0041</td>\n",
       "      <td>0.5962</td>\n",
       "      <td>2.5010</td>\n",
       "      <td>0.0025</td>\n",
       "      <td>1.8859</td>\n",
       "    </tr>\n",
       "    <tr>\n",
       "      <th>4</th>\n",
       "      <td>(cooking oil, pancakes)</td>\n",
       "      <td>(mineral water)</td>\n",
       "      <td>0.0079</td>\n",
       "      <td>0.2384</td>\n",
       "      <td>0.0047</td>\n",
       "      <td>0.5932</td>\n",
       "      <td>2.4887</td>\n",
       "      <td>0.0028</td>\n",
       "      <td>1.8723</td>\n",
       "    </tr>\n",
       "  </tbody>\n",
       "</table>\n",
       "</div>"
      ],
      "text/plain": [
       "                    antecedents      consequents  antecedent support  \\\n",
       "0     (frozen vegetables, soup)  (mineral water)              0.0080   \n",
       "1              (soup, pancakes)  (mineral water)              0.0068   \n",
       "2         (tomatoes, olive oil)      (spaghetti)              0.0072   \n",
       "3  (whole wheat rice, pancakes)  (mineral water)              0.0069   \n",
       "4       (cooking oil, pancakes)  (mineral water)              0.0079   \n",
       "\n",
       "   consequent support  support  confidence    lift  leverage  conviction  \n",
       "0              0.2384   0.0051      0.6333  2.6570    0.0032      2.0772  \n",
       "1              0.2384   0.0043      0.6275  2.6323    0.0026      2.0444  \n",
       "2              0.1741   0.0044      0.6111  3.5099    0.0031      2.1237  \n",
       "3              0.2384   0.0041      0.5962  2.5010    0.0025      1.8859  \n",
       "4              0.2384   0.0047      0.5932  2.4887    0.0028      1.8723  "
      ]
     },
     "execution_count": 6,
     "metadata": {},
     "output_type": "execute_result"
    }
   ],
   "source": [
    "print(model1.shape) \n",
    "model1.head()"
   ]
  },
  {
   "cell_type": "code",
   "execution_count": 7,
   "id": "2a411af0",
   "metadata": {},
   "outputs": [
    {
     "data": {
      "text/html": [
       "<div>\n",
       "<style scoped>\n",
       "    .dataframe tbody tr th:only-of-type {\n",
       "        vertical-align: middle;\n",
       "    }\n",
       "\n",
       "    .dataframe tbody tr th {\n",
       "        vertical-align: top;\n",
       "    }\n",
       "\n",
       "    .dataframe thead th {\n",
       "        text-align: right;\n",
       "    }\n",
       "</style>\n",
       "<table border=\"1\" class=\"dataframe\">\n",
       "  <thead>\n",
       "    <tr style=\"text-align: right;\">\n",
       "      <th></th>\n",
       "      <th>Description</th>\n",
       "    </tr>\n",
       "    <tr>\n",
       "      <th>Description</th>\n",
       "      <th></th>\n",
       "    </tr>\n",
       "  </thead>\n",
       "  <tbody>\n",
       "    <tr>\n",
       "      <th>mineral water</th>\n",
       "      <td>1788</td>\n",
       "    </tr>\n",
       "    <tr>\n",
       "      <th>eggs</th>\n",
       "      <td>1348</td>\n",
       "    </tr>\n",
       "    <tr>\n",
       "      <th>spaghetti</th>\n",
       "      <td>1306</td>\n",
       "    </tr>\n",
       "    <tr>\n",
       "      <th>french fries</th>\n",
       "      <td>1282</td>\n",
       "    </tr>\n",
       "    <tr>\n",
       "      <th>chocolate</th>\n",
       "      <td>1230</td>\n",
       "    </tr>\n",
       "  </tbody>\n",
       "</table>\n",
       "</div>"
      ],
      "text/plain": [
       "               Description\n",
       "Description               \n",
       "mineral water         1788\n",
       "eggs                  1348\n",
       "spaghetti             1306\n",
       "french fries          1282\n",
       "chocolate             1230"
      ]
     },
     "metadata": {},
     "output_type": "display_data"
    }
   ],
   "source": [
    "top = pd.DataFrame(data.groupby('Description')['Description'].count().nlargest(5))\n",
    "display(top)"
   ]
  },
  {
   "cell_type": "code",
   "execution_count": 8,
   "id": "a19e9ea0",
   "metadata": {},
   "outputs": [
    {
     "data": {
      "text/html": [
       "<style type=\"text/css\">\n",
       "</style>\n",
       "<table id=\"T_ac6dc\">\n",
       "  <thead>\n",
       "    <tr>\n",
       "      <th id=\"T_ac6dc_level0_col0\" class=\"col_heading level0 col0\" >Description</th>\n",
       "      <th id=\"T_ac6dc_level0_col1\" class=\"col_heading level0 col1\" >Value</th>\n",
       "    </tr>\n",
       "  </thead>\n",
       "  <tbody>\n",
       "    <tr>\n",
       "      <td id=\"T_ac6dc_row0_col0\" class=\"data row0 col0\" >session_id</td>\n",
       "      <td id=\"T_ac6dc_row0_col1\" class=\"data row0 col1\" >8899</td>\n",
       "    </tr>\n",
       "    <tr>\n",
       "      <td id=\"T_ac6dc_row1_col0\" class=\"data row1 col0\" ># Transactions</td>\n",
       "      <td id=\"T_ac6dc_row1_col1\" class=\"data row1 col1\" >7501</td>\n",
       "    </tr>\n",
       "    <tr>\n",
       "      <td id=\"T_ac6dc_row2_col0\" class=\"data row2 col0\" ># Items</td>\n",
       "      <td id=\"T_ac6dc_row2_col1\" class=\"data row2 col1\" >119</td>\n",
       "    </tr>\n",
       "    <tr>\n",
       "      <td id=\"T_ac6dc_row3_col0\" class=\"data row3 col0\" >Ignore Items</td>\n",
       "      <td id=\"T_ac6dc_row3_col1\" class=\"data row3 col1\" >['mineral water']</td>\n",
       "    </tr>\n",
       "  </tbody>\n",
       "</table>\n"
      ],
      "text/plain": [
       "<pandas.io.formats.style.Styler at 0x7fc4d9ac8c10>"
      ]
     },
     "metadata": {},
     "output_type": "display_data"
    }
   ],
   "source": [
    "exp_arul101 = setup(data = data, \n",
    "                    transaction_id = 'InvoiceNo',\n",
    "                    item_id = 'Description',\n",
    "                    ignore_items = ['mineral water'])"
   ]
  },
  {
   "cell_type": "code",
   "execution_count": 9,
   "id": "99aaf1bc",
   "metadata": {},
   "outputs": [
    {
     "name": "stdout",
     "output_type": "stream",
     "text": [
      "(142, 9)\n"
     ]
    },
    {
     "data": {
      "text/html": [
       "<div>\n",
       "<style scoped>\n",
       "    .dataframe tbody tr th:only-of-type {\n",
       "        vertical-align: middle;\n",
       "    }\n",
       "\n",
       "    .dataframe tbody tr th {\n",
       "        vertical-align: top;\n",
       "    }\n",
       "\n",
       "    .dataframe thead th {\n",
       "        text-align: right;\n",
       "    }\n",
       "</style>\n",
       "<table border=\"1\" class=\"dataframe\">\n",
       "  <thead>\n",
       "    <tr style=\"text-align: right;\">\n",
       "      <th></th>\n",
       "      <th>antecedents</th>\n",
       "      <th>consequents</th>\n",
       "      <th>antecedent support</th>\n",
       "      <th>consequent support</th>\n",
       "      <th>support</th>\n",
       "      <th>confidence</th>\n",
       "      <th>lift</th>\n",
       "      <th>leverage</th>\n",
       "      <th>conviction</th>\n",
       "    </tr>\n",
       "  </thead>\n",
       "  <tbody>\n",
       "    <tr>\n",
       "      <th>0</th>\n",
       "      <td>(tomatoes, olive oil)</td>\n",
       "      <td>(spaghetti)</td>\n",
       "      <td>0.0072</td>\n",
       "      <td>0.1741</td>\n",
       "      <td>0.0044</td>\n",
       "      <td>0.6111</td>\n",
       "      <td>3.5099</td>\n",
       "      <td>0.0031</td>\n",
       "      <td>2.1237</td>\n",
       "    </tr>\n",
       "    <tr>\n",
       "      <th>1</th>\n",
       "      <td>(cooking oil, ground beef)</td>\n",
       "      <td>(spaghetti)</td>\n",
       "      <td>0.0084</td>\n",
       "      <td>0.1741</td>\n",
       "      <td>0.0048</td>\n",
       "      <td>0.5714</td>\n",
       "      <td>3.2820</td>\n",
       "      <td>0.0033</td>\n",
       "      <td>1.9271</td>\n",
       "    </tr>\n",
       "    <tr>\n",
       "      <th>2</th>\n",
       "      <td>(shrimp, ground beef)</td>\n",
       "      <td>(spaghetti)</td>\n",
       "      <td>0.0115</td>\n",
       "      <td>0.1741</td>\n",
       "      <td>0.0060</td>\n",
       "      <td>0.5233</td>\n",
       "      <td>3.0053</td>\n",
       "      <td>0.0040</td>\n",
       "      <td>1.7324</td>\n",
       "    </tr>\n",
       "    <tr>\n",
       "      <th>3</th>\n",
       "      <td>(frozen vegetables, ground beef)</td>\n",
       "      <td>(spaghetti)</td>\n",
       "      <td>0.0169</td>\n",
       "      <td>0.1741</td>\n",
       "      <td>0.0087</td>\n",
       "      <td>0.5118</td>\n",
       "      <td>2.9396</td>\n",
       "      <td>0.0057</td>\n",
       "      <td>1.6917</td>\n",
       "    </tr>\n",
       "    <tr>\n",
       "      <th>4</th>\n",
       "      <td>(ground beef, chicken)</td>\n",
       "      <td>(spaghetti)</td>\n",
       "      <td>0.0095</td>\n",
       "      <td>0.1741</td>\n",
       "      <td>0.0048</td>\n",
       "      <td>0.5070</td>\n",
       "      <td>2.9122</td>\n",
       "      <td>0.0032</td>\n",
       "      <td>1.6754</td>\n",
       "    </tr>\n",
       "    <tr>\n",
       "      <th>...</th>\n",
       "      <td>...</td>\n",
       "      <td>...</td>\n",
       "      <td>...</td>\n",
       "      <td>...</td>\n",
       "      <td>...</td>\n",
       "      <td>...</td>\n",
       "      <td>...</td>\n",
       "      <td>...</td>\n",
       "      <td>...</td>\n",
       "    </tr>\n",
       "    <tr>\n",
       "      <th>137</th>\n",
       "      <td>(chocolate, green tea)</td>\n",
       "      <td>(spaghetti)</td>\n",
       "      <td>0.0235</td>\n",
       "      <td>0.1741</td>\n",
       "      <td>0.0071</td>\n",
       "      <td>0.3011</td>\n",
       "      <td>1.7296</td>\n",
       "      <td>0.0030</td>\n",
       "      <td>1.1818</td>\n",
       "    </tr>\n",
       "    <tr>\n",
       "      <th>138</th>\n",
       "      <td>(green tea, pancakes)</td>\n",
       "      <td>(spaghetti)</td>\n",
       "      <td>0.0164</td>\n",
       "      <td>0.1741</td>\n",
       "      <td>0.0049</td>\n",
       "      <td>0.3008</td>\n",
       "      <td>1.7277</td>\n",
       "      <td>0.0021</td>\n",
       "      <td>1.1812</td>\n",
       "    </tr>\n",
       "    <tr>\n",
       "      <th>139</th>\n",
       "      <td>(soup)</td>\n",
       "      <td>(milk)</td>\n",
       "      <td>0.0505</td>\n",
       "      <td>0.1296</td>\n",
       "      <td>0.0152</td>\n",
       "      <td>0.3008</td>\n",
       "      <td>2.3212</td>\n",
       "      <td>0.0087</td>\n",
       "      <td>1.2449</td>\n",
       "    </tr>\n",
       "    <tr>\n",
       "      <th>140</th>\n",
       "      <td>(mushroom cream sauce)</td>\n",
       "      <td>(escalope)</td>\n",
       "      <td>0.0191</td>\n",
       "      <td>0.0793</td>\n",
       "      <td>0.0057</td>\n",
       "      <td>0.3007</td>\n",
       "      <td>3.7908</td>\n",
       "      <td>0.0042</td>\n",
       "      <td>1.3166</td>\n",
       "    </tr>\n",
       "    <tr>\n",
       "      <th>141</th>\n",
       "      <td>(frozen vegetables, french fries)</td>\n",
       "      <td>(milk)</td>\n",
       "      <td>0.0191</td>\n",
       "      <td>0.1296</td>\n",
       "      <td>0.0057</td>\n",
       "      <td>0.3007</td>\n",
       "      <td>2.3205</td>\n",
       "      <td>0.0033</td>\n",
       "      <td>1.2447</td>\n",
       "    </tr>\n",
       "  </tbody>\n",
       "</table>\n",
       "<p>142 rows × 9 columns</p>\n",
       "</div>"
      ],
      "text/plain": [
       "                           antecedents  consequents  antecedent support  \\\n",
       "0                (tomatoes, olive oil)  (spaghetti)              0.0072   \n",
       "1           (cooking oil, ground beef)  (spaghetti)              0.0084   \n",
       "2                (shrimp, ground beef)  (spaghetti)              0.0115   \n",
       "3     (frozen vegetables, ground beef)  (spaghetti)              0.0169   \n",
       "4               (ground beef, chicken)  (spaghetti)              0.0095   \n",
       "..                                 ...          ...                 ...   \n",
       "137             (chocolate, green tea)  (spaghetti)              0.0235   \n",
       "138              (green tea, pancakes)  (spaghetti)              0.0164   \n",
       "139                             (soup)       (milk)              0.0505   \n",
       "140             (mushroom cream sauce)   (escalope)              0.0191   \n",
       "141  (frozen vegetables, french fries)       (milk)              0.0191   \n",
       "\n",
       "     consequent support  support  confidence    lift  leverage  conviction  \n",
       "0                0.1741   0.0044      0.6111  3.5099    0.0031      2.1237  \n",
       "1                0.1741   0.0048      0.5714  3.2820    0.0033      1.9271  \n",
       "2                0.1741   0.0060      0.5233  3.0053    0.0040      1.7324  \n",
       "3                0.1741   0.0087      0.5118  2.9396    0.0057      1.6917  \n",
       "4                0.1741   0.0048      0.5070  2.9122    0.0032      1.6754  \n",
       "..                  ...      ...         ...     ...       ...         ...  \n",
       "137              0.1741   0.0071      0.3011  1.7296    0.0030      1.1818  \n",
       "138              0.1741   0.0049      0.3008  1.7277    0.0021      1.1812  \n",
       "139              0.1296   0.0152      0.3008  2.3212    0.0087      1.2449  \n",
       "140              0.0793   0.0057      0.3007  3.7908    0.0042      1.3166  \n",
       "141              0.1296   0.0057      0.3007  2.3205    0.0033      1.2447  \n",
       "\n",
       "[142 rows x 9 columns]"
      ]
     },
     "metadata": {},
     "output_type": "display_data"
    }
   ],
   "source": [
    "model2 = create_model(metric = 'confidence', threshold=0.3, min_support=0.004)\n",
    "print(model2.shape) \n",
    "display(model2)"
   ]
  },
  {
   "cell_type": "code",
   "execution_count": 10,
   "id": "14f47906",
   "metadata": {},
   "outputs": [
    {
     "name": "stdout",
     "output_type": "stream",
     "text": [
      "Colab mode enabled.\n"
     ]
    }
   ],
   "source": [
    "from pycaret.utils import enable_colab\n",
    "enable_colab()"
   ]
  },
  {
   "cell_type": "code",
   "execution_count": 11,
   "id": "68debcf0",
   "metadata": {},
   "outputs": [
    {
     "data": {
      "text/html": [
       "\n",
       "            <script src=\"/static/components/requirejs/require.js\"></script>\n",
       "            <script>\n",
       "              requirejs.config({\n",
       "                paths: {\n",
       "                  base: '/static/base',\n",
       "                  plotly: 'https://cdn.plot.ly/plotly-latest.min.js?noext',\n",
       "                },\n",
       "              });\n",
       "            </script>\n",
       "            "
      ],
      "text/plain": [
       "<IPython.core.display.HTML object>"
      ]
     },
     "metadata": {},
     "output_type": "display_data"
    },
    {
     "data": {
      "text/html": [
       "        <script type=\"text/javascript\">\n",
       "        window.PlotlyConfig = {MathJaxConfig: 'local'};\n",
       "        if (window.MathJax) {MathJax.Hub.Config({SVG: {font: \"STIX-Web\"}});}\n",
       "        if (typeof require !== 'undefined') {\n",
       "        require.undef(\"plotly\");\n",
       "        requirejs.config({\n",
       "            paths: {\n",
       "                'plotly': ['https://cdn.plot.ly/plotly-2.11.1.min']\n",
       "            }\n",
       "        });\n",
       "        require(['plotly'], function(Plotly) {\n",
       "            window._Plotly = Plotly;\n",
       "        });\n",
       "        }\n",
       "        </script>\n",
       "        "
      ]
     },
     "metadata": {},
     "output_type": "display_data"
    },
    {
     "data": {
      "application/vnd.plotly.v1+json": {
       "config": {
        "plotlyServerURL": "https://plot.ly"
       },
       "data": [
        {
         "customdata": [
          [
           "tomatoes",
           "spaghetti"
          ],
          [
           "cooking oil",
           "spaghetti"
          ],
          [
           "shrimp",
           "spaghetti"
          ],
          [
           "frozen vegetables",
           "spaghetti"
          ],
          [
           "ground beef",
           "spaghetti"
          ],
          [
           "frozen vegetables",
           "spaghetti"
          ],
          [
           "tomatoes",
           "spaghetti"
          ],
          [
           "grated cheese",
           "spaghetti"
          ],
          [
           "ground beef",
           "spaghetti"
          ],
          [
           "pancakes",
           "spaghetti"
          ],
          [
           "ground beef",
           "spaghetti"
          ],
          [
           "green tea",
           "spaghetti"
          ],
          [
           "ground beef",
           "spaghetti"
          ],
          [
           "tomato sauce",
           "spaghetti"
          ],
          [
           "ground beef",
           "spaghetti"
          ],
          [
           "ground beef",
           "spaghetti"
          ],
          [
           "ground beef",
           "spaghetti"
          ],
          [
           "green tea",
           "spaghetti"
          ],
          [
           "chocolate",
           "spaghetti"
          ],
          [
           "frozen vegetables",
           "milk"
          ],
          [
           "milk",
           "spaghetti"
          ],
          [
           "eggs",
           "spaghetti"
          ],
          [
           "milk",
           "spaghetti"
          ],
          [
           "tomatoes",
           "spaghetti"
          ],
          [
           "burgers",
           "spaghetti"
          ],
          [
           "frozen vegetables",
           "spaghetti"
          ],
          [
           "frozen vegetables",
           "spaghetti"
          ],
          [
           "burgers",
           "eggs"
          ],
          [
           "cider",
           "eggs"
          ],
          [
           "ground beef",
           "spaghetti"
          ],
          [
           "herb & pepper",
           "spaghetti"
          ],
          [
           "ground beef",
           "spaghetti"
          ],
          [
           "chocolate",
           "spaghetti"
          ],
          [
           "herb & pepper",
           "ground beef"
          ],
          [
           "milk",
           "spaghetti"
          ],
          [
           "burgers",
           "eggs"
          ],
          [
           "green tea",
           "french fries"
          ],
          [
           "cooking oil",
           "chocolate"
          ],
          [
           "cooking oil",
           "chocolate"
          ],
          [
           "herb & pepper",
           "spaghetti"
          ],
          [
           "chocolate",
           "spaghetti"
          ],
          [
           "tomato sauce",
           "ground beef"
          ],
          [
           "chocolate",
           "spaghetti"
          ],
          [
           "pasta",
           "escalope"
          ],
          [
           "body spray",
           "french fries"
          ],
          [
           "pepper",
           "spaghetti"
          ],
          [
           "chicken",
           "spaghetti"
          ],
          [
           "red wine",
           "spaghetti"
          ],
          [
           "shrimp",
           "spaghetti"
          ],
          [
           "spaghetti",
           "milk"
          ],
          [
           "tomato sauce",
           "chocolate"
          ],
          [
           "milk",
           "spaghetti"
          ],
          [
           "chocolate",
           "spaghetti"
          ],
          [
           "chocolate",
           "spaghetti"
          ],
          [
           "cooking oil",
           "spaghetti"
          ],
          [
           "frozen vegetables",
           "spaghetti"
          ],
          [
           "cookies",
           "green tea"
          ],
          [
           "ground beef",
           "milk"
          ],
          [
           "chocolate",
           "milk"
          ],
          [
           "cake",
           "spaghetti"
          ],
          [
           "olive oil",
           "spaghetti"
          ],
          [
           "ham",
           "spaghetti"
          ],
          [
           "black tea",
           "eggs"
          ],
          [
           "extra dark chocolate",
           "spaghetti"
          ],
          [
           "chocolate",
           "spaghetti"
          ],
          [
           "ground beef",
           "milk"
          ],
          [
           "green tea",
           "eggs"
          ],
          [
           "french wine",
           "spaghetti"
          ],
          [
           "chocolate",
           "spaghetti"
          ],
          [
           "chocolate",
           "spaghetti"
          ],
          [
           "parmesan cheese",
           "spaghetti"
          ],
          [
           "light cream",
           "spaghetti"
          ],
          [
           "chocolate",
           "spaghetti"
          ],
          [
           "frozen vegetables",
           "chocolate"
          ],
          [
           "frozen vegetables",
           "milk"
          ],
          [
           "frozen vegetables",
           "chocolate"
          ],
          [
           "frozen vegetables",
           "milk"
          ],
          [
           "spaghetti",
           "eggs"
          ],
          [
           "whole wheat pasta",
           "milk"
          ],
          [
           "low fat yogurt",
           "spaghetti"
          ],
          [
           "cooking oil",
           "eggs"
          ],
          [
           "burgers",
           "eggs"
          ],
          [
           "herb & pepper",
           "ground beef"
          ],
          [
           "herb & pepper",
           "spaghetti"
          ],
          [
           "frozen vegetables",
           "spaghetti"
          ],
          [
           "ground beef",
           "chocolate"
          ],
          [
           "cooking oil",
           "milk"
          ],
          [
           "cooking oil",
           "spaghetti"
          ],
          [
           "herb & pepper",
           "ground beef"
          ],
          [
           "spaghetti",
           "ground beef"
          ],
          [
           "pasta",
           "shrimp"
          ],
          [
           "chocolate",
           "eggs"
          ],
          [
           "chocolate",
           "milk"
          ],
          [
           "almonds",
           "eggs"
          ],
          [
           "shrimp",
           "chocolate"
          ],
          [
           "spaghetti",
           "frozen vegetables"
          ],
          [
           "spaghetti",
           "milk"
          ],
          [
           "black tea",
           "spaghetti"
          ],
          [
           "spaghetti",
           "milk"
          ],
          [
           "chocolate",
           "spaghetti"
          ],
          [
           "chocolate",
           "milk"
          ],
          [
           "french fries",
           "chocolate"
          ],
          [
           "salmon",
           "spaghetti"
          ],
          [
           "grated cheese",
           "spaghetti"
          ],
          [
           "burgers",
           "french fries"
          ],
          [
           "spaghetti",
           "eggs"
          ],
          [
           "spaghetti",
           "chocolate"
          ],
          [
           "spaghetti",
           "milk"
          ],
          [
           "chocolate",
           "eggs"
          ],
          [
           "milk",
           "french fries"
          ],
          [
           "green tea",
           "french fries"
          ],
          [
           "chocolate",
           "spaghetti"
          ],
          [
           "green tea",
           "french fries"
          ],
          [
           "turkey",
           "eggs"
          ],
          [
           "spaghetti",
           "ground beef"
          ],
          [
           "frozen vegetables",
           "eggs"
          ],
          [
           "cooking oil",
           "spaghetti"
          ],
          [
           "shrimp",
           "chocolate"
          ],
          [
           "cake",
           "spaghetti"
          ],
          [
           "cake",
           "eggs"
          ],
          [
           "chocolate",
           "milk"
          ],
          [
           "milk",
           "chocolate"
          ],
          [
           "spaghetti",
           "chocolate"
          ],
          [
           "spaghetti",
           "chocolate"
          ],
          [
           "eggs",
           "spaghetti"
          ],
          [
           "chicken",
           "chocolate"
          ],
          [
           "tomatoes",
           "spaghetti"
          ],
          [
           "milk",
           "chocolate"
          ],
          [
           "meatballs",
           "spaghetti"
          ],
          [
           "fresh tuna",
           "spaghetti"
          ],
          [
           "milk",
           "chocolate"
          ],
          [
           "carrots",
           "spaghetti"
          ],
          [
           "chocolate",
           "milk"
          ],
          [
           "milk",
           "eggs"
          ],
          [
           "cooking oil",
           "ground beef"
          ],
          [
           "shrimp",
           "chocolate"
          ],
          [
           "shrimp",
           "milk"
          ],
          [
           "chocolate",
           "spaghetti"
          ],
          [
           "green tea",
           "spaghetti"
          ],
          [
           "soup",
           "milk"
          ],
          [
           "mushroom cream sauce",
           "escalope"
          ],
          [
           "frozen vegetables",
           "milk"
          ]
         ],
         "hovertemplate": "support=%{x}<br>confidence=%{y}<br>antecedents_short=%{text}<br>antecedents=%{customdata[0]}<br>consequents=%{customdata[1]}<br>lift=%{marker.color}<extra></extra>",
         "legendgroup": "",
         "marker": {
          "color": [
           3.5099,
           3.282,
           3.0053,
           2.9396,
           2.9122,
           2.9055,
           2.7412,
           2.7028,
           2.7028,
           2.6945,
           2.6165,
           2.6037,
           2.5654,
           2.5466,
           2.5411,
           2.5292,
           2.4925,
           2.4837,
           2.4748,
           3.2684,
           2.4325,
           2.425,
           2.423,
           2.4068,
           2.3992,
           2.374,
           2.3733,
           2.2933,
           2.254,
           2.3195,
           2.2974,
           2.2912,
           2.2908,
           4.0044,
           2.2545,
           2.1836,
           2.2754,
           2.3581,
           2.342,
           2.1996,
           2.196,
           3.8407,
           2.1538,
           4.7008,
           2.1771,
           2.1358,
           2.1215,
           2.096,
           2.0677,
           2.7702,
           2.188,
           2.0574,
           2.0421,
           2.0239,
           2.0233,
           2.0118,
           2.6492,
           2.6937,
           2.692,
           2.0005,
           1.9998,
           1.9915,
           1.9242,
           1.9783,
           1.9783,
           2.6581,
           1.9115,
           1.9711,
           1.9702,
           1.9659,
           1.9659,
           1.9636,
           1.9542,
           2.0689,
           2.6129,
           2.0665,
           2.6039,
           1.8664,
           2.584,
           1.9145,
           1.8548,
           1.8378,
           3.3565,
           1.8887,
           1.8766,
           1.9938,
           2.4967,
           1.8582,
           3.292,
           3.2831,
           4.5067,
           1.7824,
           2.4719,
           1.7821,
           1.9531,
           3.3411,
           2.4527,
           1.825,
           2.4522,
           1.8222,
           2.4469,
           1.9352,
           1.8185,
           1.8122,
           1.842,
           1.7501,
           1.9182,
           2.4228,
           1.7457,
           1.8339,
           1.8312,
           1.7948,
           1.8215,
           1.7322,
           3.1653,
           1.7291,
           1.7845,
           1.8957,
           1.7805,
           1.725,
           2.3853,
           1.8859,
           1.8815,
           1.8807,
           1.7618,
           1.8695,
           1.7578,
           1.8674,
           1.756,
           1.754,
           1.8596,
           1.748,
           2.3437,
           1.6881,
           3.079,
           1.8425,
           2.3297,
           1.7296,
           1.7277,
           2.3212,
           3.7908,
           2.3205
          ],
          "coloraxis": "coloraxis",
          "opacity": 0.5,
          "symbol": "circle"
         },
         "mode": "markers+text",
         "name": "",
         "orientation": "v",
         "showlegend": false,
         "text": [
          "tomatoes",
          "cooking oi",
          "shrimp",
          "frozen veg",
          "ground bee",
          "frozen veg",
          "tomatoes",
          "grated che",
          "ground bee",
          "pancakes",
          "ground bee",
          "green tea",
          "ground bee",
          "tomato sau",
          "ground bee",
          "ground bee",
          "ground bee",
          "green tea",
          "chocolate",
          "frozen veg",
          "milk",
          "eggs",
          "milk",
          "tomatoes",
          "burgers",
          "frozen veg",
          "frozen veg",
          "burgers",
          "cider",
          "ground bee",
          "herb & pep",
          "ground bee",
          "chocolate",
          "herb & pep",
          "milk",
          "burgers",
          "green tea",
          "cooking oi",
          "cooking oi",
          "herb & pep",
          "chocolate",
          "tomato sau",
          "chocolate",
          "pasta",
          "body spray",
          "pepper",
          "chicken",
          "red wine",
          "shrimp",
          "spaghetti",
          "tomato sau",
          "milk",
          "chocolate",
          "chocolate",
          "cooking oi",
          "frozen veg",
          "cookies",
          "ground bee",
          "chocolate",
          "cake",
          "olive oil",
          "ham",
          "black tea",
          "extra dark",
          "chocolate",
          "ground bee",
          "green tea",
          "french win",
          "chocolate",
          "chocolate",
          "parmesan c",
          "light crea",
          "chocolate",
          "frozen veg",
          "frozen veg",
          "frozen veg",
          "frozen veg",
          "spaghetti",
          "whole whea",
          "low fat yo",
          "cooking oi",
          "burgers",
          "herb & pep",
          "herb & pep",
          "frozen veg",
          "ground bee",
          "cooking oi",
          "cooking oi",
          "herb & pep",
          "spaghetti",
          "pasta",
          "chocolate",
          "chocolate",
          "almonds",
          "shrimp",
          "spaghetti",
          "spaghetti",
          "black tea",
          "spaghetti",
          "chocolate",
          "chocolate",
          "french fri",
          "salmon",
          "grated che",
          "burgers",
          "spaghetti",
          "spaghetti",
          "spaghetti",
          "chocolate",
          "milk",
          "green tea",
          "chocolate",
          "green tea",
          "turkey",
          "spaghetti",
          "frozen veg",
          "cooking oi",
          "shrimp",
          "cake",
          "cake",
          "chocolate",
          "milk",
          "spaghetti",
          "spaghetti",
          "eggs",
          "chicken",
          "tomatoes",
          "milk",
          "meatballs",
          "fresh tuna",
          "milk",
          "carrots",
          "chocolate",
          "milk",
          "cooking oi",
          "shrimp",
          "shrimp",
          "chocolate",
          "green tea",
          "soup",
          "mushroom c",
          "frozen veg"
         ],
         "textposition": "top center",
         "type": "scatter",
         "x": [
          0.0044,
          0.0048,
          0.006,
          0.0087,
          0.0048,
          0.0057,
          0.0056,
          0.0043,
          0.0053,
          0.0051,
          0.0055,
          0.0045,
          0.0089,
          0.0063,
          0.0097,
          0.0064,
          0.0061,
          0.0064,
          0.0071,
          0.0048,
          0.0048,
          0.0051,
          0.0072,
          0.0059,
          0.0044,
          0.0041,
          0.0067,
          0.0091,
          0.0043,
          0.0056,
          0.0064,
          0.0392,
          0.0092,
          0.0064,
          0.0056,
          0.0041,
          0.0047,
          0.0045,
          0.0044,
          0.0048,
          0.0052,
          0.0053,
          0.0064,
          0.0059,
          0.0043,
          0.0099,
          0.0055,
          0.0103,
          0.006,
          0.0056,
          0.0051,
          0.0064,
          0.0064,
          0.0049,
          0.0041,
          0.0083,
          0.0047,
          0.0049,
          0.008,
          0.0041,
          0.0229,
          0.0092,
          0.0049,
          0.0041,
          0.0041,
          0.0041,
          0.006,
          0.0077,
          0.0079,
          0.0068,
          0.0068,
          0.0053,
          0.0109,
          0.008,
          0.0057,
          0.0057,
          0.0073,
          0.0072,
          0.0099,
          0.0044,
          0.0045,
          0.0288,
          0.0041,
          0.0163,
          0.0044,
          0.0065,
          0.0044,
          0.0044,
          0.016,
          0.0053,
          0.0051,
          0.0055,
          0.0055,
          0.0065,
          0.0053,
          0.0067,
          0.0055,
          0.0045,
          0.0045,
          0.0105,
          0.0052,
          0.0052,
          0.0135,
          0.0165,
          0.0091,
          0.0052,
          0.0044,
          0.0072,
          0.0043,
          0.0056,
          0.0055,
          0.0047,
          0.0044,
          0.0195,
          0.0087,
          0.0073,
          0.0159,
          0.0055,
          0.0041,
          0.0041,
          0.0045,
          0.0073,
          0.0109,
          0.0071,
          0.0067,
          0.0045,
          0.0209,
          0.0055,
          0.0064,
          0.0068,
          0.0052,
          0.0047,
          0.0055,
          0.0072,
          0.0048,
          0.0064,
          0.0043,
          0.0071,
          0.0049,
          0.0152,
          0.0057,
          0.0057
         ],
         "xaxis": "x",
         "y": [
          0.6111,
          0.5714,
          0.5233,
          0.5118,
          0.507,
          0.5059,
          0.4773,
          0.4706,
          0.4706,
          0.4691,
          0.4556,
          0.4533,
          0.4467,
          0.4434,
          0.4424,
          0.4404,
          0.434,
          0.4324,
          0.4309,
          0.4235,
          0.4235,
          0.4222,
          0.4219,
          0.419,
          0.4177,
          0.4133,
          0.4132,
          0.4121,
          0.4051,
          0.4038,
          0.4,
          0.3989,
          0.3988,
          0.3934,
          0.3925,
          0.3924,
          0.3889,
          0.3864,
          0.3837,
          0.383,
          0.3824,
          0.3774,
          0.375,
          0.3729,
          0.3721,
          0.3719,
          0.3694,
          0.3649,
          0.36,
          0.359,
          0.3585,
          0.3582,
          0.3556,
          0.3524,
          0.3523,
          0.3503,
          0.35,
          0.3491,
          0.3488,
          0.3483,
          0.3482,
          0.3467,
          0.3458,
          0.3444,
          0.3444,
          0.3444,
          0.3435,
          0.3432,
          0.343,
          0.3423,
          0.3423,
          0.3419,
          0.3402,
          0.339,
          0.3386,
          0.3386,
          0.3374,
          0.3354,
          0.3348,
          0.3333,
          0.3333,
          0.3303,
          0.3298,
          0.3288,
          0.3267,
          0.3267,
          0.3235,
          0.3235,
          0.3235,
          0.3226,
          0.322,
          0.3203,
          0.3203,
          0.3203,
          0.32,
          0.3185,
          0.3178,
          0.3178,
          0.3178,
          0.3173,
          0.3171,
          0.3171,
          0.3166,
          0.3155,
          0.3148,
          0.3145,
          0.3143,
          0.314,
          0.3137,
          0.3134,
          0.313,
          0.3125,
          0.3113,
          0.3113,
          0.311,
          0.3107,
          0.3107,
          0.3106,
          0.31,
          0.31,
          0.3091,
          0.309,
          0.3083,
          0.3081,
          0.3067,
          0.3063,
          0.306,
          0.306,
          0.3057,
          0.3054,
          0.3047,
          0.3043,
          0.3037,
          0.3034,
          0.3025,
          0.3019,
          0.3019,
          0.3011,
          0.3008,
          0.3008,
          0.3007,
          0.3007
         ],
         "yaxis": "y"
        }
       ],
       "layout": {
        "coloraxis": {
         "colorbar": {
          "title": {
           "text": "lift"
          }
         },
         "colorscale": [
          [
           0,
           "#0d0887"
          ],
          [
           0.1111111111111111,
           "#46039f"
          ],
          [
           0.2222222222222222,
           "#7201a8"
          ],
          [
           0.3333333333333333,
           "#9c179e"
          ],
          [
           0.4444444444444444,
           "#bd3786"
          ],
          [
           0.5555555555555556,
           "#d8576b"
          ],
          [
           0.6666666666666666,
           "#ed7953"
          ],
          [
           0.7777777777777778,
           "#fb9f3a"
          ],
          [
           0.8888888888888888,
           "#fdca26"
          ],
          [
           1,
           "#f0f921"
          ]
         ]
        },
        "height": 800,
        "legend": {
         "tracegroupgap": 0
        },
        "margin": {
         "t": 60
        },
        "plot_bgcolor": "rgb(240,240,240)",
        "template": {
         "data": {
          "bar": [
           {
            "error_x": {
             "color": "#2a3f5f"
            },
            "error_y": {
             "color": "#2a3f5f"
            },
            "marker": {
             "line": {
              "color": "#E5ECF6",
              "width": 0.5
             },
             "pattern": {
              "fillmode": "overlay",
              "size": 10,
              "solidity": 0.2
             }
            },
            "type": "bar"
           }
          ],
          "barpolar": [
           {
            "marker": {
             "line": {
              "color": "#E5ECF6",
              "width": 0.5
             },
             "pattern": {
              "fillmode": "overlay",
              "size": 10,
              "solidity": 0.2
             }
            },
            "type": "barpolar"
           }
          ],
          "carpet": [
           {
            "aaxis": {
             "endlinecolor": "#2a3f5f",
             "gridcolor": "white",
             "linecolor": "white",
             "minorgridcolor": "white",
             "startlinecolor": "#2a3f5f"
            },
            "baxis": {
             "endlinecolor": "#2a3f5f",
             "gridcolor": "white",
             "linecolor": "white",
             "minorgridcolor": "white",
             "startlinecolor": "#2a3f5f"
            },
            "type": "carpet"
           }
          ],
          "choropleth": [
           {
            "colorbar": {
             "outlinewidth": 0,
             "ticks": ""
            },
            "type": "choropleth"
           }
          ],
          "contour": [
           {
            "colorbar": {
             "outlinewidth": 0,
             "ticks": ""
            },
            "colorscale": [
             [
              0,
              "#0d0887"
             ],
             [
              0.1111111111111111,
              "#46039f"
             ],
             [
              0.2222222222222222,
              "#7201a8"
             ],
             [
              0.3333333333333333,
              "#9c179e"
             ],
             [
              0.4444444444444444,
              "#bd3786"
             ],
             [
              0.5555555555555556,
              "#d8576b"
             ],
             [
              0.6666666666666666,
              "#ed7953"
             ],
             [
              0.7777777777777778,
              "#fb9f3a"
             ],
             [
              0.8888888888888888,
              "#fdca26"
             ],
             [
              1,
              "#f0f921"
             ]
            ],
            "type": "contour"
           }
          ],
          "contourcarpet": [
           {
            "colorbar": {
             "outlinewidth": 0,
             "ticks": ""
            },
            "type": "contourcarpet"
           }
          ],
          "heatmap": [
           {
            "colorbar": {
             "outlinewidth": 0,
             "ticks": ""
            },
            "colorscale": [
             [
              0,
              "#0d0887"
             ],
             [
              0.1111111111111111,
              "#46039f"
             ],
             [
              0.2222222222222222,
              "#7201a8"
             ],
             [
              0.3333333333333333,
              "#9c179e"
             ],
             [
              0.4444444444444444,
              "#bd3786"
             ],
             [
              0.5555555555555556,
              "#d8576b"
             ],
             [
              0.6666666666666666,
              "#ed7953"
             ],
             [
              0.7777777777777778,
              "#fb9f3a"
             ],
             [
              0.8888888888888888,
              "#fdca26"
             ],
             [
              1,
              "#f0f921"
             ]
            ],
            "type": "heatmap"
           }
          ],
          "heatmapgl": [
           {
            "colorbar": {
             "outlinewidth": 0,
             "ticks": ""
            },
            "colorscale": [
             [
              0,
              "#0d0887"
             ],
             [
              0.1111111111111111,
              "#46039f"
             ],
             [
              0.2222222222222222,
              "#7201a8"
             ],
             [
              0.3333333333333333,
              "#9c179e"
             ],
             [
              0.4444444444444444,
              "#bd3786"
             ],
             [
              0.5555555555555556,
              "#d8576b"
             ],
             [
              0.6666666666666666,
              "#ed7953"
             ],
             [
              0.7777777777777778,
              "#fb9f3a"
             ],
             [
              0.8888888888888888,
              "#fdca26"
             ],
             [
              1,
              "#f0f921"
             ]
            ],
            "type": "heatmapgl"
           }
          ],
          "histogram": [
           {
            "marker": {
             "pattern": {
              "fillmode": "overlay",
              "size": 10,
              "solidity": 0.2
             }
            },
            "type": "histogram"
           }
          ],
          "histogram2d": [
           {
            "colorbar": {
             "outlinewidth": 0,
             "ticks": ""
            },
            "colorscale": [
             [
              0,
              "#0d0887"
             ],
             [
              0.1111111111111111,
              "#46039f"
             ],
             [
              0.2222222222222222,
              "#7201a8"
             ],
             [
              0.3333333333333333,
              "#9c179e"
             ],
             [
              0.4444444444444444,
              "#bd3786"
             ],
             [
              0.5555555555555556,
              "#d8576b"
             ],
             [
              0.6666666666666666,
              "#ed7953"
             ],
             [
              0.7777777777777778,
              "#fb9f3a"
             ],
             [
              0.8888888888888888,
              "#fdca26"
             ],
             [
              1,
              "#f0f921"
             ]
            ],
            "type": "histogram2d"
           }
          ],
          "histogram2dcontour": [
           {
            "colorbar": {
             "outlinewidth": 0,
             "ticks": ""
            },
            "colorscale": [
             [
              0,
              "#0d0887"
             ],
             [
              0.1111111111111111,
              "#46039f"
             ],
             [
              0.2222222222222222,
              "#7201a8"
             ],
             [
              0.3333333333333333,
              "#9c179e"
             ],
             [
              0.4444444444444444,
              "#bd3786"
             ],
             [
              0.5555555555555556,
              "#d8576b"
             ],
             [
              0.6666666666666666,
              "#ed7953"
             ],
             [
              0.7777777777777778,
              "#fb9f3a"
             ],
             [
              0.8888888888888888,
              "#fdca26"
             ],
             [
              1,
              "#f0f921"
             ]
            ],
            "type": "histogram2dcontour"
           }
          ],
          "mesh3d": [
           {
            "colorbar": {
             "outlinewidth": 0,
             "ticks": ""
            },
            "type": "mesh3d"
           }
          ],
          "parcoords": [
           {
            "line": {
             "colorbar": {
              "outlinewidth": 0,
              "ticks": ""
             }
            },
            "type": "parcoords"
           }
          ],
          "pie": [
           {
            "automargin": true,
            "type": "pie"
           }
          ],
          "scatter": [
           {
            "fillpattern": {
             "fillmode": "overlay",
             "size": 10,
             "solidity": 0.2
            },
            "type": "scatter"
           }
          ],
          "scatter3d": [
           {
            "line": {
             "colorbar": {
              "outlinewidth": 0,
              "ticks": ""
             }
            },
            "marker": {
             "colorbar": {
              "outlinewidth": 0,
              "ticks": ""
             }
            },
            "type": "scatter3d"
           }
          ],
          "scattercarpet": [
           {
            "marker": {
             "colorbar": {
              "outlinewidth": 0,
              "ticks": ""
             }
            },
            "type": "scattercarpet"
           }
          ],
          "scattergeo": [
           {
            "marker": {
             "colorbar": {
              "outlinewidth": 0,
              "ticks": ""
             }
            },
            "type": "scattergeo"
           }
          ],
          "scattergl": [
           {
            "marker": {
             "colorbar": {
              "outlinewidth": 0,
              "ticks": ""
             }
            },
            "type": "scattergl"
           }
          ],
          "scattermapbox": [
           {
            "marker": {
             "colorbar": {
              "outlinewidth": 0,
              "ticks": ""
             }
            },
            "type": "scattermapbox"
           }
          ],
          "scatterpolar": [
           {
            "marker": {
             "colorbar": {
              "outlinewidth": 0,
              "ticks": ""
             }
            },
            "type": "scatterpolar"
           }
          ],
          "scatterpolargl": [
           {
            "marker": {
             "colorbar": {
              "outlinewidth": 0,
              "ticks": ""
             }
            },
            "type": "scatterpolargl"
           }
          ],
          "scatterternary": [
           {
            "marker": {
             "colorbar": {
              "outlinewidth": 0,
              "ticks": ""
             }
            },
            "type": "scatterternary"
           }
          ],
          "surface": [
           {
            "colorbar": {
             "outlinewidth": 0,
             "ticks": ""
            },
            "colorscale": [
             [
              0,
              "#0d0887"
             ],
             [
              0.1111111111111111,
              "#46039f"
             ],
             [
              0.2222222222222222,
              "#7201a8"
             ],
             [
              0.3333333333333333,
              "#9c179e"
             ],
             [
              0.4444444444444444,
              "#bd3786"
             ],
             [
              0.5555555555555556,
              "#d8576b"
             ],
             [
              0.6666666666666666,
              "#ed7953"
             ],
             [
              0.7777777777777778,
              "#fb9f3a"
             ],
             [
              0.8888888888888888,
              "#fdca26"
             ],
             [
              1,
              "#f0f921"
             ]
            ],
            "type": "surface"
           }
          ],
          "table": [
           {
            "cells": {
             "fill": {
              "color": "#EBF0F8"
             },
             "line": {
              "color": "white"
             }
            },
            "header": {
             "fill": {
              "color": "#C8D4E3"
             },
             "line": {
              "color": "white"
             }
            },
            "type": "table"
           }
          ]
         },
         "layout": {
          "annotationdefaults": {
           "arrowcolor": "#2a3f5f",
           "arrowhead": 0,
           "arrowwidth": 1
          },
          "autotypenumbers": "strict",
          "coloraxis": {
           "colorbar": {
            "outlinewidth": 0,
            "ticks": ""
           }
          },
          "colorscale": {
           "diverging": [
            [
             0,
             "#8e0152"
            ],
            [
             0.1,
             "#c51b7d"
            ],
            [
             0.2,
             "#de77ae"
            ],
            [
             0.3,
             "#f1b6da"
            ],
            [
             0.4,
             "#fde0ef"
            ],
            [
             0.5,
             "#f7f7f7"
            ],
            [
             0.6,
             "#e6f5d0"
            ],
            [
             0.7,
             "#b8e186"
            ],
            [
             0.8,
             "#7fbc41"
            ],
            [
             0.9,
             "#4d9221"
            ],
            [
             1,
             "#276419"
            ]
           ],
           "sequential": [
            [
             0,
             "#0d0887"
            ],
            [
             0.1111111111111111,
             "#46039f"
            ],
            [
             0.2222222222222222,
             "#7201a8"
            ],
            [
             0.3333333333333333,
             "#9c179e"
            ],
            [
             0.4444444444444444,
             "#bd3786"
            ],
            [
             0.5555555555555556,
             "#d8576b"
            ],
            [
             0.6666666666666666,
             "#ed7953"
            ],
            [
             0.7777777777777778,
             "#fb9f3a"
            ],
            [
             0.8888888888888888,
             "#fdca26"
            ],
            [
             1,
             "#f0f921"
            ]
           ],
           "sequentialminus": [
            [
             0,
             "#0d0887"
            ],
            [
             0.1111111111111111,
             "#46039f"
            ],
            [
             0.2222222222222222,
             "#7201a8"
            ],
            [
             0.3333333333333333,
             "#9c179e"
            ],
            [
             0.4444444444444444,
             "#bd3786"
            ],
            [
             0.5555555555555556,
             "#d8576b"
            ],
            [
             0.6666666666666666,
             "#ed7953"
            ],
            [
             0.7777777777777778,
             "#fb9f3a"
            ],
            [
             0.8888888888888888,
             "#fdca26"
            ],
            [
             1,
             "#f0f921"
            ]
           ]
          },
          "colorway": [
           "#636efa",
           "#EF553B",
           "#00cc96",
           "#ab63fa",
           "#FFA15A",
           "#19d3f3",
           "#FF6692",
           "#B6E880",
           "#FF97FF",
           "#FECB52"
          ],
          "font": {
           "color": "#2a3f5f"
          },
          "geo": {
           "bgcolor": "white",
           "lakecolor": "white",
           "landcolor": "#E5ECF6",
           "showlakes": true,
           "showland": true,
           "subunitcolor": "white"
          },
          "hoverlabel": {
           "align": "left"
          },
          "hovermode": "closest",
          "mapbox": {
           "style": "light"
          },
          "paper_bgcolor": "white",
          "plot_bgcolor": "#E5ECF6",
          "polar": {
           "angularaxis": {
            "gridcolor": "white",
            "linecolor": "white",
            "ticks": ""
           },
           "bgcolor": "#E5ECF6",
           "radialaxis": {
            "gridcolor": "white",
            "linecolor": "white",
            "ticks": ""
           }
          },
          "scene": {
           "xaxis": {
            "backgroundcolor": "#E5ECF6",
            "gridcolor": "white",
            "gridwidth": 2,
            "linecolor": "white",
            "showbackground": true,
            "ticks": "",
            "zerolinecolor": "white"
           },
           "yaxis": {
            "backgroundcolor": "#E5ECF6",
            "gridcolor": "white",
            "gridwidth": 2,
            "linecolor": "white",
            "showbackground": true,
            "ticks": "",
            "zerolinecolor": "white"
           },
           "zaxis": {
            "backgroundcolor": "#E5ECF6",
            "gridcolor": "white",
            "gridwidth": 2,
            "linecolor": "white",
            "showbackground": true,
            "ticks": "",
            "zerolinecolor": "white"
           }
          },
          "shapedefaults": {
           "line": {
            "color": "#2a3f5f"
           }
          },
          "ternary": {
           "aaxis": {
            "gridcolor": "white",
            "linecolor": "white",
            "ticks": ""
           },
           "baxis": {
            "gridcolor": "white",
            "linecolor": "white",
            "ticks": ""
           },
           "bgcolor": "#E5ECF6",
           "caxis": {
            "gridcolor": "white",
            "linecolor": "white",
            "ticks": ""
           }
          },
          "title": {
           "x": 0.05
          },
          "xaxis": {
           "automargin": true,
           "gridcolor": "white",
           "linecolor": "white",
           "ticks": "",
           "title": {
            "standoff": 15
           },
           "zerolinecolor": "white",
           "zerolinewidth": 2
          },
          "yaxis": {
           "automargin": true,
           "gridcolor": "white",
           "linecolor": "white",
           "ticks": "",
           "title": {
            "standoff": 15
           },
           "zerolinecolor": "white",
           "zerolinewidth": 2
          }
         }
        },
        "title": {
         "text": "2D Plot of Support, Confidence and Lift"
        },
        "xaxis": {
         "anchor": "y",
         "domain": [
          0,
          1
         ],
         "title": {
          "text": "support"
         },
         "type": "log"
        },
        "yaxis": {
         "anchor": "x",
         "domain": [
          0,
          1
         ],
         "title": {
          "text": "confidence"
         }
        }
       }
      },
      "text/html": [
       "<div>                            <div id=\"2b9ff524-8ee6-4625-8b12-7462e9d8ffd6\" class=\"plotly-graph-div\" style=\"height:800px; width:100%;\"></div>            <script type=\"text/javascript\">                require([\"plotly\"], function(Plotly) {                    window.PLOTLYENV=window.PLOTLYENV || {};                                    if (document.getElementById(\"2b9ff524-8ee6-4625-8b12-7462e9d8ffd6\")) {                    Plotly.newPlot(                        \"2b9ff524-8ee6-4625-8b12-7462e9d8ffd6\",                        [{\"customdata\":[[\"tomatoes\",\"spaghetti\"],[\"cooking oil\",\"spaghetti\"],[\"shrimp\",\"spaghetti\"],[\"frozen vegetables\",\"spaghetti\"],[\"ground beef\",\"spaghetti\"],[\"frozen vegetables\",\"spaghetti\"],[\"tomatoes\",\"spaghetti\"],[\"grated cheese\",\"spaghetti\"],[\"ground beef\",\"spaghetti\"],[\"pancakes\",\"spaghetti\"],[\"ground beef\",\"spaghetti\"],[\"green tea\",\"spaghetti\"],[\"ground beef\",\"spaghetti\"],[\"tomato sauce\",\"spaghetti\"],[\"ground beef\",\"spaghetti\"],[\"ground beef\",\"spaghetti\"],[\"ground beef\",\"spaghetti\"],[\"green tea\",\"spaghetti\"],[\"chocolate\",\"spaghetti\"],[\"frozen vegetables\",\"milk\"],[\"milk\",\"spaghetti\"],[\"eggs\",\"spaghetti\"],[\"milk\",\"spaghetti\"],[\"tomatoes\",\"spaghetti\"],[\"burgers\",\"spaghetti\"],[\"frozen vegetables\",\"spaghetti\"],[\"frozen vegetables\",\"spaghetti\"],[\"burgers\",\"eggs\"],[\"cider\",\"eggs\"],[\"ground beef\",\"spaghetti\"],[\"herb & pepper\",\"spaghetti\"],[\"ground beef\",\"spaghetti\"],[\"chocolate\",\"spaghetti\"],[\"herb & pepper\",\"ground beef\"],[\"milk\",\"spaghetti\"],[\"burgers\",\"eggs\"],[\"green tea\",\"french fries\"],[\"cooking oil\",\"chocolate\"],[\"cooking oil\",\"chocolate\"],[\"herb & pepper\",\"spaghetti\"],[\"chocolate\",\"spaghetti\"],[\"tomato sauce\",\"ground beef\"],[\"chocolate\",\"spaghetti\"],[\"pasta\",\"escalope\"],[\"body spray\",\"french fries\"],[\"pepper\",\"spaghetti\"],[\"chicken\",\"spaghetti\"],[\"red wine\",\"spaghetti\"],[\"shrimp\",\"spaghetti\"],[\"spaghetti\",\"milk\"],[\"tomato sauce\",\"chocolate\"],[\"milk\",\"spaghetti\"],[\"chocolate\",\"spaghetti\"],[\"chocolate\",\"spaghetti\"],[\"cooking oil\",\"spaghetti\"],[\"frozen vegetables\",\"spaghetti\"],[\"cookies\",\"green tea\"],[\"ground beef\",\"milk\"],[\"chocolate\",\"milk\"],[\"cake\",\"spaghetti\"],[\"olive oil\",\"spaghetti\"],[\"ham\",\"spaghetti\"],[\"black tea\",\"eggs\"],[\"extra dark chocolate\",\"spaghetti\"],[\"chocolate\",\"spaghetti\"],[\"ground beef\",\"milk\"],[\"green tea\",\"eggs\"],[\"french wine\",\"spaghetti\"],[\"chocolate\",\"spaghetti\"],[\"chocolate\",\"spaghetti\"],[\"parmesan cheese\",\"spaghetti\"],[\"light cream\",\"spaghetti\"],[\"chocolate\",\"spaghetti\"],[\"frozen vegetables\",\"chocolate\"],[\"frozen vegetables\",\"milk\"],[\"frozen vegetables\",\"chocolate\"],[\"frozen vegetables\",\"milk\"],[\"spaghetti\",\"eggs\"],[\"whole wheat pasta\",\"milk\"],[\"low fat yogurt\",\"spaghetti\"],[\"cooking oil\",\"eggs\"],[\"burgers\",\"eggs\"],[\"herb & pepper\",\"ground beef\"],[\"herb & pepper\",\"spaghetti\"],[\"frozen vegetables\",\"spaghetti\"],[\"ground beef\",\"chocolate\"],[\"cooking oil\",\"milk\"],[\"cooking oil\",\"spaghetti\"],[\"herb & pepper\",\"ground beef\"],[\"spaghetti\",\"ground beef\"],[\"pasta\",\"shrimp\"],[\"chocolate\",\"eggs\"],[\"chocolate\",\"milk\"],[\"almonds\",\"eggs\"],[\"shrimp\",\"chocolate\"],[\"spaghetti\",\"frozen vegetables\"],[\"spaghetti\",\"milk\"],[\"black tea\",\"spaghetti\"],[\"spaghetti\",\"milk\"],[\"chocolate\",\"spaghetti\"],[\"chocolate\",\"milk\"],[\"french fries\",\"chocolate\"],[\"salmon\",\"spaghetti\"],[\"grated cheese\",\"spaghetti\"],[\"burgers\",\"french fries\"],[\"spaghetti\",\"eggs\"],[\"spaghetti\",\"chocolate\"],[\"spaghetti\",\"milk\"],[\"chocolate\",\"eggs\"],[\"milk\",\"french fries\"],[\"green tea\",\"french fries\"],[\"chocolate\",\"spaghetti\"],[\"green tea\",\"french fries\"],[\"turkey\",\"eggs\"],[\"spaghetti\",\"ground beef\"],[\"frozen vegetables\",\"eggs\"],[\"cooking oil\",\"spaghetti\"],[\"shrimp\",\"chocolate\"],[\"cake\",\"spaghetti\"],[\"cake\",\"eggs\"],[\"chocolate\",\"milk\"],[\"milk\",\"chocolate\"],[\"spaghetti\",\"chocolate\"],[\"spaghetti\",\"chocolate\"],[\"eggs\",\"spaghetti\"],[\"chicken\",\"chocolate\"],[\"tomatoes\",\"spaghetti\"],[\"milk\",\"chocolate\"],[\"meatballs\",\"spaghetti\"],[\"fresh tuna\",\"spaghetti\"],[\"milk\",\"chocolate\"],[\"carrots\",\"spaghetti\"],[\"chocolate\",\"milk\"],[\"milk\",\"eggs\"],[\"cooking oil\",\"ground beef\"],[\"shrimp\",\"chocolate\"],[\"shrimp\",\"milk\"],[\"chocolate\",\"spaghetti\"],[\"green tea\",\"spaghetti\"],[\"soup\",\"milk\"],[\"mushroom cream sauce\",\"escalope\"],[\"frozen vegetables\",\"milk\"]],\"hovertemplate\":\"support=%{x}<br>confidence=%{y}<br>antecedents_short=%{text}<br>antecedents=%{customdata[0]}<br>consequents=%{customdata[1]}<br>lift=%{marker.color}<extra></extra>\",\"legendgroup\":\"\",\"marker\":{\"color\":[3.5099,3.282,3.0053,2.9396,2.9122,2.9055,2.7412,2.7028,2.7028,2.6945,2.6165,2.6037,2.5654,2.5466,2.5411,2.5292,2.4925,2.4837,2.4748,3.2684,2.4325,2.425,2.423,2.4068,2.3992,2.374,2.3733,2.2933,2.254,2.3195,2.2974,2.2912,2.2908,4.0044,2.2545,2.1836,2.2754,2.3581,2.342,2.1996,2.196,3.8407,2.1538,4.7008,2.1771,2.1358,2.1215,2.096,2.0677,2.7702,2.188,2.0574,2.0421,2.0239,2.0233,2.0118,2.6492,2.6937,2.692,2.0005,1.9998,1.9915,1.9242,1.9783,1.9783,2.6581,1.9115,1.9711,1.9702,1.9659,1.9659,1.9636,1.9542,2.0689,2.6129,2.0665,2.6039,1.8664,2.584,1.9145,1.8548,1.8378,3.3565,1.8887,1.8766,1.9938,2.4967,1.8582,3.292,3.2831,4.5067,1.7824,2.4719,1.7821,1.9531,3.3411,2.4527,1.825,2.4522,1.8222,2.4469,1.9352,1.8185,1.8122,1.842,1.7501,1.9182,2.4228,1.7457,1.8339,1.8312,1.7948,1.8215,1.7322,3.1653,1.7291,1.7845,1.8957,1.7805,1.725,2.3853,1.8859,1.8815,1.8807,1.7618,1.8695,1.7578,1.8674,1.756,1.754,1.8596,1.748,2.3437,1.6881,3.079,1.8425,2.3297,1.7296,1.7277,2.3212,3.7908,2.3205],\"coloraxis\":\"coloraxis\",\"opacity\":0.5,\"symbol\":\"circle\"},\"mode\":\"markers+text\",\"name\":\"\",\"orientation\":\"v\",\"showlegend\":false,\"text\":[\"tomatoes\",\"cooking oi\",\"shrimp\",\"frozen veg\",\"ground bee\",\"frozen veg\",\"tomatoes\",\"grated che\",\"ground bee\",\"pancakes\",\"ground bee\",\"green tea\",\"ground bee\",\"tomato sau\",\"ground bee\",\"ground bee\",\"ground bee\",\"green tea\",\"chocolate\",\"frozen veg\",\"milk\",\"eggs\",\"milk\",\"tomatoes\",\"burgers\",\"frozen veg\",\"frozen veg\",\"burgers\",\"cider\",\"ground bee\",\"herb & pep\",\"ground bee\",\"chocolate\",\"herb & pep\",\"milk\",\"burgers\",\"green tea\",\"cooking oi\",\"cooking oi\",\"herb & pep\",\"chocolate\",\"tomato sau\",\"chocolate\",\"pasta\",\"body spray\",\"pepper\",\"chicken\",\"red wine\",\"shrimp\",\"spaghetti\",\"tomato sau\",\"milk\",\"chocolate\",\"chocolate\",\"cooking oi\",\"frozen veg\",\"cookies\",\"ground bee\",\"chocolate\",\"cake\",\"olive oil\",\"ham\",\"black tea\",\"extra dark\",\"chocolate\",\"ground bee\",\"green tea\",\"french win\",\"chocolate\",\"chocolate\",\"parmesan c\",\"light crea\",\"chocolate\",\"frozen veg\",\"frozen veg\",\"frozen veg\",\"frozen veg\",\"spaghetti\",\"whole whea\",\"low fat yo\",\"cooking oi\",\"burgers\",\"herb & pep\",\"herb & pep\",\"frozen veg\",\"ground bee\",\"cooking oi\",\"cooking oi\",\"herb & pep\",\"spaghetti\",\"pasta\",\"chocolate\",\"chocolate\",\"almonds\",\"shrimp\",\"spaghetti\",\"spaghetti\",\"black tea\",\"spaghetti\",\"chocolate\",\"chocolate\",\"french fri\",\"salmon\",\"grated che\",\"burgers\",\"spaghetti\",\"spaghetti\",\"spaghetti\",\"chocolate\",\"milk\",\"green tea\",\"chocolate\",\"green tea\",\"turkey\",\"spaghetti\",\"frozen veg\",\"cooking oi\",\"shrimp\",\"cake\",\"cake\",\"chocolate\",\"milk\",\"spaghetti\",\"spaghetti\",\"eggs\",\"chicken\",\"tomatoes\",\"milk\",\"meatballs\",\"fresh tuna\",\"milk\",\"carrots\",\"chocolate\",\"milk\",\"cooking oi\",\"shrimp\",\"shrimp\",\"chocolate\",\"green tea\",\"soup\",\"mushroom c\",\"frozen veg\"],\"x\":[0.0044,0.0048,0.006,0.0087,0.0048,0.0057,0.0056,0.0043,0.0053,0.0051,0.0055,0.0045,0.0089,0.0063,0.0097,0.0064,0.0061,0.0064,0.0071,0.0048,0.0048,0.0051,0.0072,0.0059,0.0044,0.0041,0.0067,0.0091,0.0043,0.0056,0.0064,0.0392,0.0092,0.0064,0.0056,0.0041,0.0047,0.0045,0.0044,0.0048,0.0052,0.0053,0.0064,0.0059,0.0043,0.0099,0.0055,0.0103,0.006,0.0056,0.0051,0.0064,0.0064,0.0049,0.0041,0.0083,0.0047,0.0049,0.008,0.0041,0.0229,0.0092,0.0049,0.0041,0.0041,0.0041,0.006,0.0077,0.0079,0.0068,0.0068,0.0053,0.0109,0.008,0.0057,0.0057,0.0073,0.0072,0.0099,0.0044,0.0045,0.0288,0.0041,0.0163,0.0044,0.0065,0.0044,0.0044,0.016,0.0053,0.0051,0.0055,0.0055,0.0065,0.0053,0.0067,0.0055,0.0045,0.0045,0.0105,0.0052,0.0052,0.0135,0.0165,0.0091,0.0052,0.0044,0.0072,0.0043,0.0056,0.0055,0.0047,0.0044,0.0195,0.0087,0.0073,0.0159,0.0055,0.0041,0.0041,0.0045,0.0073,0.0109,0.0071,0.0067,0.0045,0.0209,0.0055,0.0064,0.0068,0.0052,0.0047,0.0055,0.0072,0.0048,0.0064,0.0043,0.0071,0.0049,0.0152,0.0057,0.0057],\"xaxis\":\"x\",\"y\":[0.6111,0.5714,0.5233,0.5118,0.507,0.5059,0.4773,0.4706,0.4706,0.4691,0.4556,0.4533,0.4467,0.4434,0.4424,0.4404,0.434,0.4324,0.4309,0.4235,0.4235,0.4222,0.4219,0.419,0.4177,0.4133,0.4132,0.4121,0.4051,0.4038,0.4,0.3989,0.3988,0.3934,0.3925,0.3924,0.3889,0.3864,0.3837,0.383,0.3824,0.3774,0.375,0.3729,0.3721,0.3719,0.3694,0.3649,0.36,0.359,0.3585,0.3582,0.3556,0.3524,0.3523,0.3503,0.35,0.3491,0.3488,0.3483,0.3482,0.3467,0.3458,0.3444,0.3444,0.3444,0.3435,0.3432,0.343,0.3423,0.3423,0.3419,0.3402,0.339,0.3386,0.3386,0.3374,0.3354,0.3348,0.3333,0.3333,0.3303,0.3298,0.3288,0.3267,0.3267,0.3235,0.3235,0.3235,0.3226,0.322,0.3203,0.3203,0.3203,0.32,0.3185,0.3178,0.3178,0.3178,0.3173,0.3171,0.3171,0.3166,0.3155,0.3148,0.3145,0.3143,0.314,0.3137,0.3134,0.313,0.3125,0.3113,0.3113,0.311,0.3107,0.3107,0.3106,0.31,0.31,0.3091,0.309,0.3083,0.3081,0.3067,0.3063,0.306,0.306,0.3057,0.3054,0.3047,0.3043,0.3037,0.3034,0.3025,0.3019,0.3019,0.3011,0.3008,0.3008,0.3007,0.3007],\"yaxis\":\"y\",\"type\":\"scatter\",\"textposition\":\"top center\"}],                        {\"template\":{\"data\":{\"histogram2dcontour\":[{\"type\":\"histogram2dcontour\",\"colorbar\":{\"outlinewidth\":0,\"ticks\":\"\"},\"colorscale\":[[0.0,\"#0d0887\"],[0.1111111111111111,\"#46039f\"],[0.2222222222222222,\"#7201a8\"],[0.3333333333333333,\"#9c179e\"],[0.4444444444444444,\"#bd3786\"],[0.5555555555555556,\"#d8576b\"],[0.6666666666666666,\"#ed7953\"],[0.7777777777777778,\"#fb9f3a\"],[0.8888888888888888,\"#fdca26\"],[1.0,\"#f0f921\"]]}],\"choropleth\":[{\"type\":\"choropleth\",\"colorbar\":{\"outlinewidth\":0,\"ticks\":\"\"}}],\"histogram2d\":[{\"type\":\"histogram2d\",\"colorbar\":{\"outlinewidth\":0,\"ticks\":\"\"},\"colorscale\":[[0.0,\"#0d0887\"],[0.1111111111111111,\"#46039f\"],[0.2222222222222222,\"#7201a8\"],[0.3333333333333333,\"#9c179e\"],[0.4444444444444444,\"#bd3786\"],[0.5555555555555556,\"#d8576b\"],[0.6666666666666666,\"#ed7953\"],[0.7777777777777778,\"#fb9f3a\"],[0.8888888888888888,\"#fdca26\"],[1.0,\"#f0f921\"]]}],\"heatmap\":[{\"type\":\"heatmap\",\"colorbar\":{\"outlinewidth\":0,\"ticks\":\"\"},\"colorscale\":[[0.0,\"#0d0887\"],[0.1111111111111111,\"#46039f\"],[0.2222222222222222,\"#7201a8\"],[0.3333333333333333,\"#9c179e\"],[0.4444444444444444,\"#bd3786\"],[0.5555555555555556,\"#d8576b\"],[0.6666666666666666,\"#ed7953\"],[0.7777777777777778,\"#fb9f3a\"],[0.8888888888888888,\"#fdca26\"],[1.0,\"#f0f921\"]]}],\"heatmapgl\":[{\"type\":\"heatmapgl\",\"colorbar\":{\"outlinewidth\":0,\"ticks\":\"\"},\"colorscale\":[[0.0,\"#0d0887\"],[0.1111111111111111,\"#46039f\"],[0.2222222222222222,\"#7201a8\"],[0.3333333333333333,\"#9c179e\"],[0.4444444444444444,\"#bd3786\"],[0.5555555555555556,\"#d8576b\"],[0.6666666666666666,\"#ed7953\"],[0.7777777777777778,\"#fb9f3a\"],[0.8888888888888888,\"#fdca26\"],[1.0,\"#f0f921\"]]}],\"contourcarpet\":[{\"type\":\"contourcarpet\",\"colorbar\":{\"outlinewidth\":0,\"ticks\":\"\"}}],\"contour\":[{\"type\":\"contour\",\"colorbar\":{\"outlinewidth\":0,\"ticks\":\"\"},\"colorscale\":[[0.0,\"#0d0887\"],[0.1111111111111111,\"#46039f\"],[0.2222222222222222,\"#7201a8\"],[0.3333333333333333,\"#9c179e\"],[0.4444444444444444,\"#bd3786\"],[0.5555555555555556,\"#d8576b\"],[0.6666666666666666,\"#ed7953\"],[0.7777777777777778,\"#fb9f3a\"],[0.8888888888888888,\"#fdca26\"],[1.0,\"#f0f921\"]]}],\"surface\":[{\"type\":\"surface\",\"colorbar\":{\"outlinewidth\":0,\"ticks\":\"\"},\"colorscale\":[[0.0,\"#0d0887\"],[0.1111111111111111,\"#46039f\"],[0.2222222222222222,\"#7201a8\"],[0.3333333333333333,\"#9c179e\"],[0.4444444444444444,\"#bd3786\"],[0.5555555555555556,\"#d8576b\"],[0.6666666666666666,\"#ed7953\"],[0.7777777777777778,\"#fb9f3a\"],[0.8888888888888888,\"#fdca26\"],[1.0,\"#f0f921\"]]}],\"mesh3d\":[{\"type\":\"mesh3d\",\"colorbar\":{\"outlinewidth\":0,\"ticks\":\"\"}}],\"scatter\":[{\"fillpattern\":{\"fillmode\":\"overlay\",\"size\":10,\"solidity\":0.2},\"type\":\"scatter\"}],\"parcoords\":[{\"type\":\"parcoords\",\"line\":{\"colorbar\":{\"outlinewidth\":0,\"ticks\":\"\"}}}],\"scatterpolargl\":[{\"type\":\"scatterpolargl\",\"marker\":{\"colorbar\":{\"outlinewidth\":0,\"ticks\":\"\"}}}],\"bar\":[{\"error_x\":{\"color\":\"#2a3f5f\"},\"error_y\":{\"color\":\"#2a3f5f\"},\"marker\":{\"line\":{\"color\":\"#E5ECF6\",\"width\":0.5},\"pattern\":{\"fillmode\":\"overlay\",\"size\":10,\"solidity\":0.2}},\"type\":\"bar\"}],\"scattergeo\":[{\"type\":\"scattergeo\",\"marker\":{\"colorbar\":{\"outlinewidth\":0,\"ticks\":\"\"}}}],\"scatterpolar\":[{\"type\":\"scatterpolar\",\"marker\":{\"colorbar\":{\"outlinewidth\":0,\"ticks\":\"\"}}}],\"histogram\":[{\"marker\":{\"pattern\":{\"fillmode\":\"overlay\",\"size\":10,\"solidity\":0.2}},\"type\":\"histogram\"}],\"scattergl\":[{\"type\":\"scattergl\",\"marker\":{\"colorbar\":{\"outlinewidth\":0,\"ticks\":\"\"}}}],\"scatter3d\":[{\"type\":\"scatter3d\",\"line\":{\"colorbar\":{\"outlinewidth\":0,\"ticks\":\"\"}},\"marker\":{\"colorbar\":{\"outlinewidth\":0,\"ticks\":\"\"}}}],\"scattermapbox\":[{\"type\":\"scattermapbox\",\"marker\":{\"colorbar\":{\"outlinewidth\":0,\"ticks\":\"\"}}}],\"scatterternary\":[{\"type\":\"scatterternary\",\"marker\":{\"colorbar\":{\"outlinewidth\":0,\"ticks\":\"\"}}}],\"scattercarpet\":[{\"type\":\"scattercarpet\",\"marker\":{\"colorbar\":{\"outlinewidth\":0,\"ticks\":\"\"}}}],\"carpet\":[{\"aaxis\":{\"endlinecolor\":\"#2a3f5f\",\"gridcolor\":\"white\",\"linecolor\":\"white\",\"minorgridcolor\":\"white\",\"startlinecolor\":\"#2a3f5f\"},\"baxis\":{\"endlinecolor\":\"#2a3f5f\",\"gridcolor\":\"white\",\"linecolor\":\"white\",\"minorgridcolor\":\"white\",\"startlinecolor\":\"#2a3f5f\"},\"type\":\"carpet\"}],\"table\":[{\"cells\":{\"fill\":{\"color\":\"#EBF0F8\"},\"line\":{\"color\":\"white\"}},\"header\":{\"fill\":{\"color\":\"#C8D4E3\"},\"line\":{\"color\":\"white\"}},\"type\":\"table\"}],\"barpolar\":[{\"marker\":{\"line\":{\"color\":\"#E5ECF6\",\"width\":0.5},\"pattern\":{\"fillmode\":\"overlay\",\"size\":10,\"solidity\":0.2}},\"type\":\"barpolar\"}],\"pie\":[{\"automargin\":true,\"type\":\"pie\"}]},\"layout\":{\"autotypenumbers\":\"strict\",\"colorway\":[\"#636efa\",\"#EF553B\",\"#00cc96\",\"#ab63fa\",\"#FFA15A\",\"#19d3f3\",\"#FF6692\",\"#B6E880\",\"#FF97FF\",\"#FECB52\"],\"font\":{\"color\":\"#2a3f5f\"},\"hovermode\":\"closest\",\"hoverlabel\":{\"align\":\"left\"},\"paper_bgcolor\":\"white\",\"plot_bgcolor\":\"#E5ECF6\",\"polar\":{\"bgcolor\":\"#E5ECF6\",\"angularaxis\":{\"gridcolor\":\"white\",\"linecolor\":\"white\",\"ticks\":\"\"},\"radialaxis\":{\"gridcolor\":\"white\",\"linecolor\":\"white\",\"ticks\":\"\"}},\"ternary\":{\"bgcolor\":\"#E5ECF6\",\"aaxis\":{\"gridcolor\":\"white\",\"linecolor\":\"white\",\"ticks\":\"\"},\"baxis\":{\"gridcolor\":\"white\",\"linecolor\":\"white\",\"ticks\":\"\"},\"caxis\":{\"gridcolor\":\"white\",\"linecolor\":\"white\",\"ticks\":\"\"}},\"coloraxis\":{\"colorbar\":{\"outlinewidth\":0,\"ticks\":\"\"}},\"colorscale\":{\"sequential\":[[0.0,\"#0d0887\"],[0.1111111111111111,\"#46039f\"],[0.2222222222222222,\"#7201a8\"],[0.3333333333333333,\"#9c179e\"],[0.4444444444444444,\"#bd3786\"],[0.5555555555555556,\"#d8576b\"],[0.6666666666666666,\"#ed7953\"],[0.7777777777777778,\"#fb9f3a\"],[0.8888888888888888,\"#fdca26\"],[1.0,\"#f0f921\"]],\"sequentialminus\":[[0.0,\"#0d0887\"],[0.1111111111111111,\"#46039f\"],[0.2222222222222222,\"#7201a8\"],[0.3333333333333333,\"#9c179e\"],[0.4444444444444444,\"#bd3786\"],[0.5555555555555556,\"#d8576b\"],[0.6666666666666666,\"#ed7953\"],[0.7777777777777778,\"#fb9f3a\"],[0.8888888888888888,\"#fdca26\"],[1.0,\"#f0f921\"]],\"diverging\":[[0,\"#8e0152\"],[0.1,\"#c51b7d\"],[0.2,\"#de77ae\"],[0.3,\"#f1b6da\"],[0.4,\"#fde0ef\"],[0.5,\"#f7f7f7\"],[0.6,\"#e6f5d0\"],[0.7,\"#b8e186\"],[0.8,\"#7fbc41\"],[0.9,\"#4d9221\"],[1,\"#276419\"]]},\"xaxis\":{\"gridcolor\":\"white\",\"linecolor\":\"white\",\"ticks\":\"\",\"title\":{\"standoff\":15},\"zerolinecolor\":\"white\",\"automargin\":true,\"zerolinewidth\":2},\"yaxis\":{\"gridcolor\":\"white\",\"linecolor\":\"white\",\"ticks\":\"\",\"title\":{\"standoff\":15},\"zerolinecolor\":\"white\",\"automargin\":true,\"zerolinewidth\":2},\"scene\":{\"xaxis\":{\"backgroundcolor\":\"#E5ECF6\",\"gridcolor\":\"white\",\"linecolor\":\"white\",\"showbackground\":true,\"ticks\":\"\",\"zerolinecolor\":\"white\",\"gridwidth\":2},\"yaxis\":{\"backgroundcolor\":\"#E5ECF6\",\"gridcolor\":\"white\",\"linecolor\":\"white\",\"showbackground\":true,\"ticks\":\"\",\"zerolinecolor\":\"white\",\"gridwidth\":2},\"zaxis\":{\"backgroundcolor\":\"#E5ECF6\",\"gridcolor\":\"white\",\"linecolor\":\"white\",\"showbackground\":true,\"ticks\":\"\",\"zerolinecolor\":\"white\",\"gridwidth\":2}},\"shapedefaults\":{\"line\":{\"color\":\"#2a3f5f\"}},\"annotationdefaults\":{\"arrowcolor\":\"#2a3f5f\",\"arrowhead\":0,\"arrowwidth\":1},\"geo\":{\"bgcolor\":\"white\",\"landcolor\":\"#E5ECF6\",\"subunitcolor\":\"white\",\"showland\":true,\"showlakes\":true,\"lakecolor\":\"white\"},\"title\":{\"x\":0.05},\"mapbox\":{\"style\":\"light\"}}},\"xaxis\":{\"anchor\":\"y\",\"domain\":[0.0,1.0],\"title\":{\"text\":\"support\"},\"type\":\"log\"},\"yaxis\":{\"anchor\":\"x\",\"domain\":[0.0,1.0],\"title\":{\"text\":\"confidence\"}},\"coloraxis\":{\"colorbar\":{\"title\":{\"text\":\"lift\"}},\"colorscale\":[[0.0,\"#0d0887\"],[0.1111111111111111,\"#46039f\"],[0.2222222222222222,\"#7201a8\"],[0.3333333333333333,\"#9c179e\"],[0.4444444444444444,\"#bd3786\"],[0.5555555555555556,\"#d8576b\"],[0.6666666666666666,\"#ed7953\"],[0.7777777777777778,\"#fb9f3a\"],[0.8888888888888888,\"#fdca26\"],[1.0,\"#f0f921\"]]},\"legend\":{\"tracegroupgap\":0},\"margin\":{\"t\":60},\"plot_bgcolor\":\"rgb(240,240,240)\",\"title\":{\"text\":\"2D Plot of Support, Confidence and Lift\"},\"height\":800},                        {\"responsive\": true}                    ).then(function(){\n",
       "                            \n",
       "var gd = document.getElementById('2b9ff524-8ee6-4625-8b12-7462e9d8ffd6');\n",
       "var x = new MutationObserver(function (mutations, observer) {{\n",
       "        var display = window.getComputedStyle(gd).display;\n",
       "        if (!display || display === 'none') {{\n",
       "            console.log([gd, 'removed!']);\n",
       "            Plotly.purge(gd);\n",
       "            observer.disconnect();\n",
       "        }}\n",
       "}});\n",
       "\n",
       "// Listen for the removal of the full notebook cells\n",
       "var notebookContainer = gd.closest('#notebook-container');\n",
       "if (notebookContainer) {{\n",
       "    x.observe(notebookContainer, {childList: true});\n",
       "}}\n",
       "\n",
       "// Listen for the clearing of the current output cell\n",
       "var outputEl = gd.closest('.output');\n",
       "if (outputEl) {{\n",
       "    x.observe(outputEl, {childList: true});\n",
       "}}\n",
       "\n",
       "                        })                };                });            </script>        </div>"
      ]
     },
     "metadata": {},
     "output_type": "display_data"
    }
   ],
   "source": [
    "plot_model(model2)"
   ]
  },
  {
   "cell_type": "code",
   "execution_count": 12,
   "id": "5aee834e",
   "metadata": {},
   "outputs": [
    {
     "data": {
      "text/html": [
       "\n",
       "            <script src=\"/static/components/requirejs/require.js\"></script>\n",
       "            <script>\n",
       "              requirejs.config({\n",
       "                paths: {\n",
       "                  base: '/static/base',\n",
       "                  plotly: 'https://cdn.plot.ly/plotly-latest.min.js?noext',\n",
       "                },\n",
       "              });\n",
       "            </script>\n",
       "            "
      ],
      "text/plain": [
       "<IPython.core.display.HTML object>"
      ]
     },
     "metadata": {},
     "output_type": "display_data"
    },
    {
     "data": {
      "text/html": [
       "        <script type=\"text/javascript\">\n",
       "        window.PlotlyConfig = {MathJaxConfig: 'local'};\n",
       "        if (window.MathJax) {MathJax.Hub.Config({SVG: {font: \"STIX-Web\"}});}\n",
       "        if (typeof require !== 'undefined') {\n",
       "        require.undef(\"plotly\");\n",
       "        requirejs.config({\n",
       "            paths: {\n",
       "                'plotly': ['https://cdn.plot.ly/plotly-2.11.1.min']\n",
       "            }\n",
       "        });\n",
       "        require(['plotly'], function(Plotly) {\n",
       "            window._Plotly = Plotly;\n",
       "        });\n",
       "        }\n",
       "        </script>\n",
       "        "
      ]
     },
     "metadata": {},
     "output_type": "display_data"
    },
    {
     "data": {
      "application/vnd.plotly.v1+json": {
       "config": {
        "plotlyServerURL": "https://plot.ly"
       },
       "data": [
        {
         "customdata": [
          [
           "tomatoes",
           "spaghetti"
          ],
          [
           "cooking oil",
           "spaghetti"
          ],
          [
           "shrimp",
           "spaghetti"
          ],
          [
           "frozen vegetables",
           "spaghetti"
          ],
          [
           "ground beef",
           "spaghetti"
          ],
          [
           "frozen vegetables",
           "spaghetti"
          ],
          [
           "tomatoes",
           "spaghetti"
          ],
          [
           "grated cheese",
           "spaghetti"
          ],
          [
           "ground beef",
           "spaghetti"
          ],
          [
           "pancakes",
           "spaghetti"
          ],
          [
           "ground beef",
           "spaghetti"
          ],
          [
           "green tea",
           "spaghetti"
          ],
          [
           "ground beef",
           "spaghetti"
          ],
          [
           "tomato sauce",
           "spaghetti"
          ],
          [
           "ground beef",
           "spaghetti"
          ],
          [
           "ground beef",
           "spaghetti"
          ],
          [
           "ground beef",
           "spaghetti"
          ],
          [
           "green tea",
           "spaghetti"
          ],
          [
           "chocolate",
           "spaghetti"
          ],
          [
           "frozen vegetables",
           "milk"
          ],
          [
           "milk",
           "spaghetti"
          ],
          [
           "eggs",
           "spaghetti"
          ],
          [
           "milk",
           "spaghetti"
          ],
          [
           "tomatoes",
           "spaghetti"
          ],
          [
           "burgers",
           "spaghetti"
          ],
          [
           "frozen vegetables",
           "spaghetti"
          ],
          [
           "frozen vegetables",
           "spaghetti"
          ],
          [
           "burgers",
           "eggs"
          ],
          [
           "cider",
           "eggs"
          ],
          [
           "ground beef",
           "spaghetti"
          ],
          [
           "herb & pepper",
           "spaghetti"
          ],
          [
           "ground beef",
           "spaghetti"
          ],
          [
           "chocolate",
           "spaghetti"
          ],
          [
           "herb & pepper",
           "ground beef"
          ],
          [
           "milk",
           "spaghetti"
          ],
          [
           "burgers",
           "eggs"
          ],
          [
           "green tea",
           "french fries"
          ],
          [
           "cooking oil",
           "chocolate"
          ],
          [
           "cooking oil",
           "chocolate"
          ],
          [
           "herb & pepper",
           "spaghetti"
          ],
          [
           "chocolate",
           "spaghetti"
          ],
          [
           "tomato sauce",
           "ground beef"
          ],
          [
           "chocolate",
           "spaghetti"
          ],
          [
           "pasta",
           "escalope"
          ],
          [
           "body spray",
           "french fries"
          ],
          [
           "pepper",
           "spaghetti"
          ],
          [
           "chicken",
           "spaghetti"
          ],
          [
           "red wine",
           "spaghetti"
          ],
          [
           "shrimp",
           "spaghetti"
          ],
          [
           "spaghetti",
           "milk"
          ],
          [
           "tomato sauce",
           "chocolate"
          ],
          [
           "milk",
           "spaghetti"
          ],
          [
           "chocolate",
           "spaghetti"
          ],
          [
           "chocolate",
           "spaghetti"
          ],
          [
           "cooking oil",
           "spaghetti"
          ],
          [
           "frozen vegetables",
           "spaghetti"
          ],
          [
           "cookies",
           "green tea"
          ],
          [
           "ground beef",
           "milk"
          ],
          [
           "chocolate",
           "milk"
          ],
          [
           "cake",
           "spaghetti"
          ],
          [
           "olive oil",
           "spaghetti"
          ],
          [
           "ham",
           "spaghetti"
          ],
          [
           "black tea",
           "eggs"
          ],
          [
           "extra dark chocolate",
           "spaghetti"
          ],
          [
           "chocolate",
           "spaghetti"
          ],
          [
           "ground beef",
           "milk"
          ],
          [
           "green tea",
           "eggs"
          ],
          [
           "french wine",
           "spaghetti"
          ],
          [
           "chocolate",
           "spaghetti"
          ],
          [
           "chocolate",
           "spaghetti"
          ],
          [
           "parmesan cheese",
           "spaghetti"
          ],
          [
           "light cream",
           "spaghetti"
          ],
          [
           "chocolate",
           "spaghetti"
          ],
          [
           "frozen vegetables",
           "chocolate"
          ],
          [
           "frozen vegetables",
           "milk"
          ],
          [
           "frozen vegetables",
           "chocolate"
          ],
          [
           "frozen vegetables",
           "milk"
          ],
          [
           "spaghetti",
           "eggs"
          ],
          [
           "whole wheat pasta",
           "milk"
          ],
          [
           "low fat yogurt",
           "spaghetti"
          ],
          [
           "cooking oil",
           "eggs"
          ],
          [
           "burgers",
           "eggs"
          ],
          [
           "herb & pepper",
           "ground beef"
          ],
          [
           "herb & pepper",
           "spaghetti"
          ],
          [
           "frozen vegetables",
           "spaghetti"
          ],
          [
           "ground beef",
           "chocolate"
          ],
          [
           "cooking oil",
           "milk"
          ],
          [
           "cooking oil",
           "spaghetti"
          ],
          [
           "herb & pepper",
           "ground beef"
          ],
          [
           "spaghetti",
           "ground beef"
          ],
          [
           "pasta",
           "shrimp"
          ],
          [
           "chocolate",
           "eggs"
          ],
          [
           "chocolate",
           "milk"
          ],
          [
           "almonds",
           "eggs"
          ],
          [
           "shrimp",
           "chocolate"
          ],
          [
           "spaghetti",
           "frozen vegetables"
          ],
          [
           "spaghetti",
           "milk"
          ],
          [
           "black tea",
           "spaghetti"
          ],
          [
           "spaghetti",
           "milk"
          ],
          [
           "chocolate",
           "spaghetti"
          ],
          [
           "chocolate",
           "milk"
          ],
          [
           "french fries",
           "chocolate"
          ],
          [
           "salmon",
           "spaghetti"
          ],
          [
           "grated cheese",
           "spaghetti"
          ],
          [
           "burgers",
           "french fries"
          ],
          [
           "spaghetti",
           "eggs"
          ],
          [
           "spaghetti",
           "chocolate"
          ],
          [
           "spaghetti",
           "milk"
          ],
          [
           "chocolate",
           "eggs"
          ],
          [
           "milk",
           "french fries"
          ],
          [
           "green tea",
           "french fries"
          ],
          [
           "chocolate",
           "spaghetti"
          ],
          [
           "green tea",
           "french fries"
          ],
          [
           "turkey",
           "eggs"
          ],
          [
           "spaghetti",
           "ground beef"
          ],
          [
           "frozen vegetables",
           "eggs"
          ],
          [
           "cooking oil",
           "spaghetti"
          ],
          [
           "shrimp",
           "chocolate"
          ],
          [
           "cake",
           "spaghetti"
          ],
          [
           "cake",
           "eggs"
          ],
          [
           "chocolate",
           "milk"
          ],
          [
           "milk",
           "chocolate"
          ],
          [
           "spaghetti",
           "chocolate"
          ],
          [
           "spaghetti",
           "chocolate"
          ],
          [
           "eggs",
           "spaghetti"
          ],
          [
           "chicken",
           "chocolate"
          ],
          [
           "tomatoes",
           "spaghetti"
          ],
          [
           "milk",
           "chocolate"
          ],
          [
           "meatballs",
           "spaghetti"
          ],
          [
           "fresh tuna",
           "spaghetti"
          ],
          [
           "milk",
           "chocolate"
          ],
          [
           "carrots",
           "spaghetti"
          ],
          [
           "chocolate",
           "milk"
          ],
          [
           "milk",
           "eggs"
          ],
          [
           "cooking oil",
           "ground beef"
          ],
          [
           "shrimp",
           "chocolate"
          ],
          [
           "shrimp",
           "milk"
          ],
          [
           "chocolate",
           "spaghetti"
          ],
          [
           "green tea",
           "spaghetti"
          ],
          [
           "soup",
           "milk"
          ],
          [
           "mushroom cream sauce",
           "escalope"
          ],
          [
           "frozen vegetables",
           "milk"
          ]
         ],
         "hovertemplate": "support=%{x}<br>confidence=%{y}<br>lift=%{z}<br>antecedents=%{customdata[0]}<br>consequents=%{customdata[1]}<br>antecedent support=%{marker.color}<extra></extra>",
         "legendgroup": "",
         "marker": {
          "color": [
           0.0072,
           0.0084,
           0.0115,
           0.0169,
           0.0095,
           0.0113,
           0.0117,
           0.0091,
           0.0113,
           0.0108,
           0.012,
           0.01,
           0.02,
           0.0141,
           0.022,
           0.0145,
           0.0141,
           0.0148,
           0.0164,
           0.0113,
           0.0113,
           0.012,
           0.0171,
           0.014,
           0.0105,
           0.01,
           0.0161,
           0.022,
           0.0105,
           0.0139,
           0.016,
           0.0983,
           0.0231,
           0.0163,
           0.0143,
           0.0105,
           0.012,
           0.0117,
           0.0115,
           0.0125,
           0.0136,
           0.0141,
           0.0171,
           0.0157,
           0.0115,
           0.0265,
           0.0148,
           0.0281,
           0.0167,
           0.0156,
           0.0141,
           0.0179,
           0.018,
           0.014,
           0.0117,
           0.0236,
           0.0133,
           0.0141,
           0.0229,
           0.0119,
           0.0659,
           0.0265,
           0.0143,
           0.012,
           0.012,
           0.012,
           0.0175,
           0.0225,
           0.0229,
           0.0199,
           0.0199,
           0.0156,
           0.0321,
           0.0236,
           0.0169,
           0.0169,
           0.0217,
           0.0215,
           0.0295,
           0.0132,
           0.0136,
           0.0872,
           0.0125,
           0.0495,
           0.0135,
           0.02,
           0.0136,
           0.0136,
           0.0495,
           0.0165,
           0.0157,
           0.0171,
           0.0171,
           0.0204,
           0.0167,
           0.0209,
           0.0172,
           0.0143,
           0.0143,
           0.0332,
           0.0164,
           0.0164,
           0.0425,
           0.0524,
           0.0288,
           0.0165,
           0.014,
           0.0229,
           0.0136,
           0.0179,
           0.0175,
           0.0149,
           0.0141,
           0.0625,
           0.0279,
           0.0236,
           0.0511,
           0.0176,
           0.0133,
           0.0133,
           0.0147,
           0.0237,
           0.0355,
           0.0229,
           0.0217,
           0.0148,
           0.0684,
           0.0179,
           0.0209,
           0.0223,
           0.0171,
           0.0153,
           0.018,
           0.0237,
           0.0159,
           0.0212,
           0.0141,
           0.0235,
           0.0164,
           0.0505,
           0.0191,
           0.0191
          ],
          "coloraxis": "coloraxis",
          "opacity": 0.7,
          "symbol": "circle"
         },
         "mode": "markers",
         "name": "",
         "scene": "scene",
         "showlegend": false,
         "type": "scatter3d",
         "x": [
          0.0044,
          0.0048,
          0.006,
          0.0087,
          0.0048,
          0.0057,
          0.0056,
          0.0043,
          0.0053,
          0.0051,
          0.0055,
          0.0045,
          0.0089,
          0.0063,
          0.0097,
          0.0064,
          0.0061,
          0.0064,
          0.0071,
          0.0048,
          0.0048,
          0.0051,
          0.0072,
          0.0059,
          0.0044,
          0.0041,
          0.0067,
          0.0091,
          0.0043,
          0.0056,
          0.0064,
          0.0392,
          0.0092,
          0.0064,
          0.0056,
          0.0041,
          0.0047,
          0.0045,
          0.0044,
          0.0048,
          0.0052,
          0.0053,
          0.0064,
          0.0059,
          0.0043,
          0.0099,
          0.0055,
          0.0103,
          0.006,
          0.0056,
          0.0051,
          0.0064,
          0.0064,
          0.0049,
          0.0041,
          0.0083,
          0.0047,
          0.0049,
          0.008,
          0.0041,
          0.0229,
          0.0092,
          0.0049,
          0.0041,
          0.0041,
          0.0041,
          0.006,
          0.0077,
          0.0079,
          0.0068,
          0.0068,
          0.0053,
          0.0109,
          0.008,
          0.0057,
          0.0057,
          0.0073,
          0.0072,
          0.0099,
          0.0044,
          0.0045,
          0.0288,
          0.0041,
          0.0163,
          0.0044,
          0.0065,
          0.0044,
          0.0044,
          0.016,
          0.0053,
          0.0051,
          0.0055,
          0.0055,
          0.0065,
          0.0053,
          0.0067,
          0.0055,
          0.0045,
          0.0045,
          0.0105,
          0.0052,
          0.0052,
          0.0135,
          0.0165,
          0.0091,
          0.0052,
          0.0044,
          0.0072,
          0.0043,
          0.0056,
          0.0055,
          0.0047,
          0.0044,
          0.0195,
          0.0087,
          0.0073,
          0.0159,
          0.0055,
          0.0041,
          0.0041,
          0.0045,
          0.0073,
          0.0109,
          0.0071,
          0.0067,
          0.0045,
          0.0209,
          0.0055,
          0.0064,
          0.0068,
          0.0052,
          0.0047,
          0.0055,
          0.0072,
          0.0048,
          0.0064,
          0.0043,
          0.0071,
          0.0049,
          0.0152,
          0.0057,
          0.0057
         ],
         "y": [
          0.6111,
          0.5714,
          0.5233,
          0.5118,
          0.507,
          0.5059,
          0.4773,
          0.4706,
          0.4706,
          0.4691,
          0.4556,
          0.4533,
          0.4467,
          0.4434,
          0.4424,
          0.4404,
          0.434,
          0.4324,
          0.4309,
          0.4235,
          0.4235,
          0.4222,
          0.4219,
          0.419,
          0.4177,
          0.4133,
          0.4132,
          0.4121,
          0.4051,
          0.4038,
          0.4,
          0.3989,
          0.3988,
          0.3934,
          0.3925,
          0.3924,
          0.3889,
          0.3864,
          0.3837,
          0.383,
          0.3824,
          0.3774,
          0.375,
          0.3729,
          0.3721,
          0.3719,
          0.3694,
          0.3649,
          0.36,
          0.359,
          0.3585,
          0.3582,
          0.3556,
          0.3524,
          0.3523,
          0.3503,
          0.35,
          0.3491,
          0.3488,
          0.3483,
          0.3482,
          0.3467,
          0.3458,
          0.3444,
          0.3444,
          0.3444,
          0.3435,
          0.3432,
          0.343,
          0.3423,
          0.3423,
          0.3419,
          0.3402,
          0.339,
          0.3386,
          0.3386,
          0.3374,
          0.3354,
          0.3348,
          0.3333,
          0.3333,
          0.3303,
          0.3298,
          0.3288,
          0.3267,
          0.3267,
          0.3235,
          0.3235,
          0.3235,
          0.3226,
          0.322,
          0.3203,
          0.3203,
          0.3203,
          0.32,
          0.3185,
          0.3178,
          0.3178,
          0.3178,
          0.3173,
          0.3171,
          0.3171,
          0.3166,
          0.3155,
          0.3148,
          0.3145,
          0.3143,
          0.314,
          0.3137,
          0.3134,
          0.313,
          0.3125,
          0.3113,
          0.3113,
          0.311,
          0.3107,
          0.3107,
          0.3106,
          0.31,
          0.31,
          0.3091,
          0.309,
          0.3083,
          0.3081,
          0.3067,
          0.3063,
          0.306,
          0.306,
          0.3057,
          0.3054,
          0.3047,
          0.3043,
          0.3037,
          0.3034,
          0.3025,
          0.3019,
          0.3019,
          0.3011,
          0.3008,
          0.3008,
          0.3007,
          0.3007
         ],
         "z": [
          3.5099,
          3.282,
          3.0053,
          2.9396,
          2.9122,
          2.9055,
          2.7412,
          2.7028,
          2.7028,
          2.6945,
          2.6165,
          2.6037,
          2.5654,
          2.5466,
          2.5411,
          2.5292,
          2.4925,
          2.4837,
          2.4748,
          3.2684,
          2.4325,
          2.425,
          2.423,
          2.4068,
          2.3992,
          2.374,
          2.3733,
          2.2933,
          2.254,
          2.3195,
          2.2974,
          2.2912,
          2.2908,
          4.0044,
          2.2545,
          2.1836,
          2.2754,
          2.3581,
          2.342,
          2.1996,
          2.196,
          3.8407,
          2.1538,
          4.7008,
          2.1771,
          2.1358,
          2.1215,
          2.096,
          2.0677,
          2.7702,
          2.188,
          2.0574,
          2.0421,
          2.0239,
          2.0233,
          2.0118,
          2.6492,
          2.6937,
          2.692,
          2.0005,
          1.9998,
          1.9915,
          1.9242,
          1.9783,
          1.9783,
          2.6581,
          1.9115,
          1.9711,
          1.9702,
          1.9659,
          1.9659,
          1.9636,
          1.9542,
          2.0689,
          2.6129,
          2.0665,
          2.6039,
          1.8664,
          2.584,
          1.9145,
          1.8548,
          1.8378,
          3.3565,
          1.8887,
          1.8766,
          1.9938,
          2.4967,
          1.8582,
          3.292,
          3.2831,
          4.5067,
          1.7824,
          2.4719,
          1.7821,
          1.9531,
          3.3411,
          2.4527,
          1.825,
          2.4522,
          1.8222,
          2.4469,
          1.9352,
          1.8185,
          1.8122,
          1.842,
          1.7501,
          1.9182,
          2.4228,
          1.7457,
          1.8339,
          1.8312,
          1.7948,
          1.8215,
          1.7322,
          3.1653,
          1.7291,
          1.7845,
          1.8957,
          1.7805,
          1.725,
          2.3853,
          1.8859,
          1.8815,
          1.8807,
          1.7618,
          1.8695,
          1.7578,
          1.8674,
          1.756,
          1.754,
          1.8596,
          1.748,
          2.3437,
          1.6881,
          3.079,
          1.8425,
          2.3297,
          1.7296,
          1.7277,
          2.3212,
          3.7908,
          2.3205
         ]
        }
       ],
       "layout": {
        "coloraxis": {
         "colorbar": {
          "title": {
           "text": "antecedent support"
          }
         },
         "colorscale": [
          [
           0,
           "#0d0887"
          ],
          [
           0.1111111111111111,
           "#46039f"
          ],
          [
           0.2222222222222222,
           "#7201a8"
          ],
          [
           0.3333333333333333,
           "#9c179e"
          ],
          [
           0.4444444444444444,
           "#bd3786"
          ],
          [
           0.5555555555555556,
           "#d8576b"
          ],
          [
           0.6666666666666666,
           "#ed7953"
          ],
          [
           0.7777777777777778,
           "#fb9f3a"
          ],
          [
           0.8888888888888888,
           "#fdca26"
          ],
          [
           1,
           "#f0f921"
          ]
         ]
        },
        "height": 800,
        "legend": {
         "tracegroupgap": 0
        },
        "scene": {
         "domain": {
          "x": [
           0,
           1
          ],
          "y": [
           0,
           1
          ]
         },
         "xaxis": {
          "title": {
           "text": "support"
          }
         },
         "yaxis": {
          "title": {
           "text": "confidence"
          }
         },
         "zaxis": {
          "title": {
           "text": "lift"
          }
         }
        },
        "template": {
         "data": {
          "bar": [
           {
            "error_x": {
             "color": "#2a3f5f"
            },
            "error_y": {
             "color": "#2a3f5f"
            },
            "marker": {
             "line": {
              "color": "#E5ECF6",
              "width": 0.5
             },
             "pattern": {
              "fillmode": "overlay",
              "size": 10,
              "solidity": 0.2
             }
            },
            "type": "bar"
           }
          ],
          "barpolar": [
           {
            "marker": {
             "line": {
              "color": "#E5ECF6",
              "width": 0.5
             },
             "pattern": {
              "fillmode": "overlay",
              "size": 10,
              "solidity": 0.2
             }
            },
            "type": "barpolar"
           }
          ],
          "carpet": [
           {
            "aaxis": {
             "endlinecolor": "#2a3f5f",
             "gridcolor": "white",
             "linecolor": "white",
             "minorgridcolor": "white",
             "startlinecolor": "#2a3f5f"
            },
            "baxis": {
             "endlinecolor": "#2a3f5f",
             "gridcolor": "white",
             "linecolor": "white",
             "minorgridcolor": "white",
             "startlinecolor": "#2a3f5f"
            },
            "type": "carpet"
           }
          ],
          "choropleth": [
           {
            "colorbar": {
             "outlinewidth": 0,
             "ticks": ""
            },
            "type": "choropleth"
           }
          ],
          "contour": [
           {
            "colorbar": {
             "outlinewidth": 0,
             "ticks": ""
            },
            "colorscale": [
             [
              0,
              "#0d0887"
             ],
             [
              0.1111111111111111,
              "#46039f"
             ],
             [
              0.2222222222222222,
              "#7201a8"
             ],
             [
              0.3333333333333333,
              "#9c179e"
             ],
             [
              0.4444444444444444,
              "#bd3786"
             ],
             [
              0.5555555555555556,
              "#d8576b"
             ],
             [
              0.6666666666666666,
              "#ed7953"
             ],
             [
              0.7777777777777778,
              "#fb9f3a"
             ],
             [
              0.8888888888888888,
              "#fdca26"
             ],
             [
              1,
              "#f0f921"
             ]
            ],
            "type": "contour"
           }
          ],
          "contourcarpet": [
           {
            "colorbar": {
             "outlinewidth": 0,
             "ticks": ""
            },
            "type": "contourcarpet"
           }
          ],
          "heatmap": [
           {
            "colorbar": {
             "outlinewidth": 0,
             "ticks": ""
            },
            "colorscale": [
             [
              0,
              "#0d0887"
             ],
             [
              0.1111111111111111,
              "#46039f"
             ],
             [
              0.2222222222222222,
              "#7201a8"
             ],
             [
              0.3333333333333333,
              "#9c179e"
             ],
             [
              0.4444444444444444,
              "#bd3786"
             ],
             [
              0.5555555555555556,
              "#d8576b"
             ],
             [
              0.6666666666666666,
              "#ed7953"
             ],
             [
              0.7777777777777778,
              "#fb9f3a"
             ],
             [
              0.8888888888888888,
              "#fdca26"
             ],
             [
              1,
              "#f0f921"
             ]
            ],
            "type": "heatmap"
           }
          ],
          "heatmapgl": [
           {
            "colorbar": {
             "outlinewidth": 0,
             "ticks": ""
            },
            "colorscale": [
             [
              0,
              "#0d0887"
             ],
             [
              0.1111111111111111,
              "#46039f"
             ],
             [
              0.2222222222222222,
              "#7201a8"
             ],
             [
              0.3333333333333333,
              "#9c179e"
             ],
             [
              0.4444444444444444,
              "#bd3786"
             ],
             [
              0.5555555555555556,
              "#d8576b"
             ],
             [
              0.6666666666666666,
              "#ed7953"
             ],
             [
              0.7777777777777778,
              "#fb9f3a"
             ],
             [
              0.8888888888888888,
              "#fdca26"
             ],
             [
              1,
              "#f0f921"
             ]
            ],
            "type": "heatmapgl"
           }
          ],
          "histogram": [
           {
            "marker": {
             "pattern": {
              "fillmode": "overlay",
              "size": 10,
              "solidity": 0.2
             }
            },
            "type": "histogram"
           }
          ],
          "histogram2d": [
           {
            "colorbar": {
             "outlinewidth": 0,
             "ticks": ""
            },
            "colorscale": [
             [
              0,
              "#0d0887"
             ],
             [
              0.1111111111111111,
              "#46039f"
             ],
             [
              0.2222222222222222,
              "#7201a8"
             ],
             [
              0.3333333333333333,
              "#9c179e"
             ],
             [
              0.4444444444444444,
              "#bd3786"
             ],
             [
              0.5555555555555556,
              "#d8576b"
             ],
             [
              0.6666666666666666,
              "#ed7953"
             ],
             [
              0.7777777777777778,
              "#fb9f3a"
             ],
             [
              0.8888888888888888,
              "#fdca26"
             ],
             [
              1,
              "#f0f921"
             ]
            ],
            "type": "histogram2d"
           }
          ],
          "histogram2dcontour": [
           {
            "colorbar": {
             "outlinewidth": 0,
             "ticks": ""
            },
            "colorscale": [
             [
              0,
              "#0d0887"
             ],
             [
              0.1111111111111111,
              "#46039f"
             ],
             [
              0.2222222222222222,
              "#7201a8"
             ],
             [
              0.3333333333333333,
              "#9c179e"
             ],
             [
              0.4444444444444444,
              "#bd3786"
             ],
             [
              0.5555555555555556,
              "#d8576b"
             ],
             [
              0.6666666666666666,
              "#ed7953"
             ],
             [
              0.7777777777777778,
              "#fb9f3a"
             ],
             [
              0.8888888888888888,
              "#fdca26"
             ],
             [
              1,
              "#f0f921"
             ]
            ],
            "type": "histogram2dcontour"
           }
          ],
          "mesh3d": [
           {
            "colorbar": {
             "outlinewidth": 0,
             "ticks": ""
            },
            "type": "mesh3d"
           }
          ],
          "parcoords": [
           {
            "line": {
             "colorbar": {
              "outlinewidth": 0,
              "ticks": ""
             }
            },
            "type": "parcoords"
           }
          ],
          "pie": [
           {
            "automargin": true,
            "type": "pie"
           }
          ],
          "scatter": [
           {
            "fillpattern": {
             "fillmode": "overlay",
             "size": 10,
             "solidity": 0.2
            },
            "type": "scatter"
           }
          ],
          "scatter3d": [
           {
            "line": {
             "colorbar": {
              "outlinewidth": 0,
              "ticks": ""
             }
            },
            "marker": {
             "colorbar": {
              "outlinewidth": 0,
              "ticks": ""
             }
            },
            "type": "scatter3d"
           }
          ],
          "scattercarpet": [
           {
            "marker": {
             "colorbar": {
              "outlinewidth": 0,
              "ticks": ""
             }
            },
            "type": "scattercarpet"
           }
          ],
          "scattergeo": [
           {
            "marker": {
             "colorbar": {
              "outlinewidth": 0,
              "ticks": ""
             }
            },
            "type": "scattergeo"
           }
          ],
          "scattergl": [
           {
            "marker": {
             "colorbar": {
              "outlinewidth": 0,
              "ticks": ""
             }
            },
            "type": "scattergl"
           }
          ],
          "scattermapbox": [
           {
            "marker": {
             "colorbar": {
              "outlinewidth": 0,
              "ticks": ""
             }
            },
            "type": "scattermapbox"
           }
          ],
          "scatterpolar": [
           {
            "marker": {
             "colorbar": {
              "outlinewidth": 0,
              "ticks": ""
             }
            },
            "type": "scatterpolar"
           }
          ],
          "scatterpolargl": [
           {
            "marker": {
             "colorbar": {
              "outlinewidth": 0,
              "ticks": ""
             }
            },
            "type": "scatterpolargl"
           }
          ],
          "scatterternary": [
           {
            "marker": {
             "colorbar": {
              "outlinewidth": 0,
              "ticks": ""
             }
            },
            "type": "scatterternary"
           }
          ],
          "surface": [
           {
            "colorbar": {
             "outlinewidth": 0,
             "ticks": ""
            },
            "colorscale": [
             [
              0,
              "#0d0887"
             ],
             [
              0.1111111111111111,
              "#46039f"
             ],
             [
              0.2222222222222222,
              "#7201a8"
             ],
             [
              0.3333333333333333,
              "#9c179e"
             ],
             [
              0.4444444444444444,
              "#bd3786"
             ],
             [
              0.5555555555555556,
              "#d8576b"
             ],
             [
              0.6666666666666666,
              "#ed7953"
             ],
             [
              0.7777777777777778,
              "#fb9f3a"
             ],
             [
              0.8888888888888888,
              "#fdca26"
             ],
             [
              1,
              "#f0f921"
             ]
            ],
            "type": "surface"
           }
          ],
          "table": [
           {
            "cells": {
             "fill": {
              "color": "#EBF0F8"
             },
             "line": {
              "color": "white"
             }
            },
            "header": {
             "fill": {
              "color": "#C8D4E3"
             },
             "line": {
              "color": "white"
             }
            },
            "type": "table"
           }
          ]
         },
         "layout": {
          "annotationdefaults": {
           "arrowcolor": "#2a3f5f",
           "arrowhead": 0,
           "arrowwidth": 1
          },
          "autotypenumbers": "strict",
          "coloraxis": {
           "colorbar": {
            "outlinewidth": 0,
            "ticks": ""
           }
          },
          "colorscale": {
           "diverging": [
            [
             0,
             "#8e0152"
            ],
            [
             0.1,
             "#c51b7d"
            ],
            [
             0.2,
             "#de77ae"
            ],
            [
             0.3,
             "#f1b6da"
            ],
            [
             0.4,
             "#fde0ef"
            ],
            [
             0.5,
             "#f7f7f7"
            ],
            [
             0.6,
             "#e6f5d0"
            ],
            [
             0.7,
             "#b8e186"
            ],
            [
             0.8,
             "#7fbc41"
            ],
            [
             0.9,
             "#4d9221"
            ],
            [
             1,
             "#276419"
            ]
           ],
           "sequential": [
            [
             0,
             "#0d0887"
            ],
            [
             0.1111111111111111,
             "#46039f"
            ],
            [
             0.2222222222222222,
             "#7201a8"
            ],
            [
             0.3333333333333333,
             "#9c179e"
            ],
            [
             0.4444444444444444,
             "#bd3786"
            ],
            [
             0.5555555555555556,
             "#d8576b"
            ],
            [
             0.6666666666666666,
             "#ed7953"
            ],
            [
             0.7777777777777778,
             "#fb9f3a"
            ],
            [
             0.8888888888888888,
             "#fdca26"
            ],
            [
             1,
             "#f0f921"
            ]
           ],
           "sequentialminus": [
            [
             0,
             "#0d0887"
            ],
            [
             0.1111111111111111,
             "#46039f"
            ],
            [
             0.2222222222222222,
             "#7201a8"
            ],
            [
             0.3333333333333333,
             "#9c179e"
            ],
            [
             0.4444444444444444,
             "#bd3786"
            ],
            [
             0.5555555555555556,
             "#d8576b"
            ],
            [
             0.6666666666666666,
             "#ed7953"
            ],
            [
             0.7777777777777778,
             "#fb9f3a"
            ],
            [
             0.8888888888888888,
             "#fdca26"
            ],
            [
             1,
             "#f0f921"
            ]
           ]
          },
          "colorway": [
           "#636efa",
           "#EF553B",
           "#00cc96",
           "#ab63fa",
           "#FFA15A",
           "#19d3f3",
           "#FF6692",
           "#B6E880",
           "#FF97FF",
           "#FECB52"
          ],
          "font": {
           "color": "#2a3f5f"
          },
          "geo": {
           "bgcolor": "white",
           "lakecolor": "white",
           "landcolor": "#E5ECF6",
           "showlakes": true,
           "showland": true,
           "subunitcolor": "white"
          },
          "hoverlabel": {
           "align": "left"
          },
          "hovermode": "closest",
          "mapbox": {
           "style": "light"
          },
          "paper_bgcolor": "white",
          "plot_bgcolor": "#E5ECF6",
          "polar": {
           "angularaxis": {
            "gridcolor": "white",
            "linecolor": "white",
            "ticks": ""
           },
           "bgcolor": "#E5ECF6",
           "radialaxis": {
            "gridcolor": "white",
            "linecolor": "white",
            "ticks": ""
           }
          },
          "scene": {
           "xaxis": {
            "backgroundcolor": "#E5ECF6",
            "gridcolor": "white",
            "gridwidth": 2,
            "linecolor": "white",
            "showbackground": true,
            "ticks": "",
            "zerolinecolor": "white"
           },
           "yaxis": {
            "backgroundcolor": "#E5ECF6",
            "gridcolor": "white",
            "gridwidth": 2,
            "linecolor": "white",
            "showbackground": true,
            "ticks": "",
            "zerolinecolor": "white"
           },
           "zaxis": {
            "backgroundcolor": "#E5ECF6",
            "gridcolor": "white",
            "gridwidth": 2,
            "linecolor": "white",
            "showbackground": true,
            "ticks": "",
            "zerolinecolor": "white"
           }
          },
          "shapedefaults": {
           "line": {
            "color": "#2a3f5f"
           }
          },
          "ternary": {
           "aaxis": {
            "gridcolor": "white",
            "linecolor": "white",
            "ticks": ""
           },
           "baxis": {
            "gridcolor": "white",
            "linecolor": "white",
            "ticks": ""
           },
           "bgcolor": "#E5ECF6",
           "caxis": {
            "gridcolor": "white",
            "linecolor": "white",
            "ticks": ""
           }
          },
          "title": {
           "x": 0.05
          },
          "xaxis": {
           "automargin": true,
           "gridcolor": "white",
           "linecolor": "white",
           "ticks": "",
           "title": {
            "standoff": 15
           },
           "zerolinecolor": "white",
           "zerolinewidth": 2
          },
          "yaxis": {
           "automargin": true,
           "gridcolor": "white",
           "linecolor": "white",
           "ticks": "",
           "title": {
            "standoff": 15
           },
           "zerolinecolor": "white",
           "zerolinewidth": 2
          }
         }
        },
        "title": {
         "text": "3d Plot for Rule Mining"
        },
        "width": 900
       }
      },
      "text/html": [
       "<div>                            <div id=\"181c1616-10a5-423c-9d83-1db3d4b6b71c\" class=\"plotly-graph-div\" style=\"height:800px; width:900px;\"></div>            <script type=\"text/javascript\">                require([\"plotly\"], function(Plotly) {                    window.PLOTLYENV=window.PLOTLYENV || {};                                    if (document.getElementById(\"181c1616-10a5-423c-9d83-1db3d4b6b71c\")) {                    Plotly.newPlot(                        \"181c1616-10a5-423c-9d83-1db3d4b6b71c\",                        [{\"customdata\":[[\"tomatoes\",\"spaghetti\"],[\"cooking oil\",\"spaghetti\"],[\"shrimp\",\"spaghetti\"],[\"frozen vegetables\",\"spaghetti\"],[\"ground beef\",\"spaghetti\"],[\"frozen vegetables\",\"spaghetti\"],[\"tomatoes\",\"spaghetti\"],[\"grated cheese\",\"spaghetti\"],[\"ground beef\",\"spaghetti\"],[\"pancakes\",\"spaghetti\"],[\"ground beef\",\"spaghetti\"],[\"green tea\",\"spaghetti\"],[\"ground beef\",\"spaghetti\"],[\"tomato sauce\",\"spaghetti\"],[\"ground beef\",\"spaghetti\"],[\"ground beef\",\"spaghetti\"],[\"ground beef\",\"spaghetti\"],[\"green tea\",\"spaghetti\"],[\"chocolate\",\"spaghetti\"],[\"frozen vegetables\",\"milk\"],[\"milk\",\"spaghetti\"],[\"eggs\",\"spaghetti\"],[\"milk\",\"spaghetti\"],[\"tomatoes\",\"spaghetti\"],[\"burgers\",\"spaghetti\"],[\"frozen vegetables\",\"spaghetti\"],[\"frozen vegetables\",\"spaghetti\"],[\"burgers\",\"eggs\"],[\"cider\",\"eggs\"],[\"ground beef\",\"spaghetti\"],[\"herb & pepper\",\"spaghetti\"],[\"ground beef\",\"spaghetti\"],[\"chocolate\",\"spaghetti\"],[\"herb & pepper\",\"ground beef\"],[\"milk\",\"spaghetti\"],[\"burgers\",\"eggs\"],[\"green tea\",\"french fries\"],[\"cooking oil\",\"chocolate\"],[\"cooking oil\",\"chocolate\"],[\"herb & pepper\",\"spaghetti\"],[\"chocolate\",\"spaghetti\"],[\"tomato sauce\",\"ground beef\"],[\"chocolate\",\"spaghetti\"],[\"pasta\",\"escalope\"],[\"body spray\",\"french fries\"],[\"pepper\",\"spaghetti\"],[\"chicken\",\"spaghetti\"],[\"red wine\",\"spaghetti\"],[\"shrimp\",\"spaghetti\"],[\"spaghetti\",\"milk\"],[\"tomato sauce\",\"chocolate\"],[\"milk\",\"spaghetti\"],[\"chocolate\",\"spaghetti\"],[\"chocolate\",\"spaghetti\"],[\"cooking oil\",\"spaghetti\"],[\"frozen vegetables\",\"spaghetti\"],[\"cookies\",\"green tea\"],[\"ground beef\",\"milk\"],[\"chocolate\",\"milk\"],[\"cake\",\"spaghetti\"],[\"olive oil\",\"spaghetti\"],[\"ham\",\"spaghetti\"],[\"black tea\",\"eggs\"],[\"extra dark chocolate\",\"spaghetti\"],[\"chocolate\",\"spaghetti\"],[\"ground beef\",\"milk\"],[\"green tea\",\"eggs\"],[\"french wine\",\"spaghetti\"],[\"chocolate\",\"spaghetti\"],[\"chocolate\",\"spaghetti\"],[\"parmesan cheese\",\"spaghetti\"],[\"light cream\",\"spaghetti\"],[\"chocolate\",\"spaghetti\"],[\"frozen vegetables\",\"chocolate\"],[\"frozen vegetables\",\"milk\"],[\"frozen vegetables\",\"chocolate\"],[\"frozen vegetables\",\"milk\"],[\"spaghetti\",\"eggs\"],[\"whole wheat pasta\",\"milk\"],[\"low fat yogurt\",\"spaghetti\"],[\"cooking oil\",\"eggs\"],[\"burgers\",\"eggs\"],[\"herb & pepper\",\"ground beef\"],[\"herb & pepper\",\"spaghetti\"],[\"frozen vegetables\",\"spaghetti\"],[\"ground beef\",\"chocolate\"],[\"cooking oil\",\"milk\"],[\"cooking oil\",\"spaghetti\"],[\"herb & pepper\",\"ground beef\"],[\"spaghetti\",\"ground beef\"],[\"pasta\",\"shrimp\"],[\"chocolate\",\"eggs\"],[\"chocolate\",\"milk\"],[\"almonds\",\"eggs\"],[\"shrimp\",\"chocolate\"],[\"spaghetti\",\"frozen vegetables\"],[\"spaghetti\",\"milk\"],[\"black tea\",\"spaghetti\"],[\"spaghetti\",\"milk\"],[\"chocolate\",\"spaghetti\"],[\"chocolate\",\"milk\"],[\"french fries\",\"chocolate\"],[\"salmon\",\"spaghetti\"],[\"grated cheese\",\"spaghetti\"],[\"burgers\",\"french fries\"],[\"spaghetti\",\"eggs\"],[\"spaghetti\",\"chocolate\"],[\"spaghetti\",\"milk\"],[\"chocolate\",\"eggs\"],[\"milk\",\"french fries\"],[\"green tea\",\"french fries\"],[\"chocolate\",\"spaghetti\"],[\"green tea\",\"french fries\"],[\"turkey\",\"eggs\"],[\"spaghetti\",\"ground beef\"],[\"frozen vegetables\",\"eggs\"],[\"cooking oil\",\"spaghetti\"],[\"shrimp\",\"chocolate\"],[\"cake\",\"spaghetti\"],[\"cake\",\"eggs\"],[\"chocolate\",\"milk\"],[\"milk\",\"chocolate\"],[\"spaghetti\",\"chocolate\"],[\"spaghetti\",\"chocolate\"],[\"eggs\",\"spaghetti\"],[\"chicken\",\"chocolate\"],[\"tomatoes\",\"spaghetti\"],[\"milk\",\"chocolate\"],[\"meatballs\",\"spaghetti\"],[\"fresh tuna\",\"spaghetti\"],[\"milk\",\"chocolate\"],[\"carrots\",\"spaghetti\"],[\"chocolate\",\"milk\"],[\"milk\",\"eggs\"],[\"cooking oil\",\"ground beef\"],[\"shrimp\",\"chocolate\"],[\"shrimp\",\"milk\"],[\"chocolate\",\"spaghetti\"],[\"green tea\",\"spaghetti\"],[\"soup\",\"milk\"],[\"mushroom cream sauce\",\"escalope\"],[\"frozen vegetables\",\"milk\"]],\"hovertemplate\":\"support=%{x}<br>confidence=%{y}<br>lift=%{z}<br>antecedents=%{customdata[0]}<br>consequents=%{customdata[1]}<br>antecedent support=%{marker.color}<extra></extra>\",\"legendgroup\":\"\",\"marker\":{\"color\":[0.0072,0.0084,0.0115,0.0169,0.0095,0.0113,0.0117,0.0091,0.0113,0.0108,0.012,0.01,0.02,0.0141,0.022,0.0145,0.0141,0.0148,0.0164,0.0113,0.0113,0.012,0.0171,0.014,0.0105,0.01,0.0161,0.022,0.0105,0.0139,0.016,0.0983,0.0231,0.0163,0.0143,0.0105,0.012,0.0117,0.0115,0.0125,0.0136,0.0141,0.0171,0.0157,0.0115,0.0265,0.0148,0.0281,0.0167,0.0156,0.0141,0.0179,0.018,0.014,0.0117,0.0236,0.0133,0.0141,0.0229,0.0119,0.0659,0.0265,0.0143,0.012,0.012,0.012,0.0175,0.0225,0.0229,0.0199,0.0199,0.0156,0.0321,0.0236,0.0169,0.0169,0.0217,0.0215,0.0295,0.0132,0.0136,0.0872,0.0125,0.0495,0.0135,0.02,0.0136,0.0136,0.0495,0.0165,0.0157,0.0171,0.0171,0.0204,0.0167,0.0209,0.0172,0.0143,0.0143,0.0332,0.0164,0.0164,0.0425,0.0524,0.0288,0.0165,0.014,0.0229,0.0136,0.0179,0.0175,0.0149,0.0141,0.0625,0.0279,0.0236,0.0511,0.0176,0.0133,0.0133,0.0147,0.0237,0.0355,0.0229,0.0217,0.0148,0.0684,0.0179,0.0209,0.0223,0.0171,0.0153,0.018,0.0237,0.0159,0.0212,0.0141,0.0235,0.0164,0.0505,0.0191,0.0191],\"coloraxis\":\"coloraxis\",\"opacity\":0.7,\"symbol\":\"circle\"},\"mode\":\"markers\",\"name\":\"\",\"scene\":\"scene\",\"showlegend\":false,\"x\":[0.0044,0.0048,0.006,0.0087,0.0048,0.0057,0.0056,0.0043,0.0053,0.0051,0.0055,0.0045,0.0089,0.0063,0.0097,0.0064,0.0061,0.0064,0.0071,0.0048,0.0048,0.0051,0.0072,0.0059,0.0044,0.0041,0.0067,0.0091,0.0043,0.0056,0.0064,0.0392,0.0092,0.0064,0.0056,0.0041,0.0047,0.0045,0.0044,0.0048,0.0052,0.0053,0.0064,0.0059,0.0043,0.0099,0.0055,0.0103,0.006,0.0056,0.0051,0.0064,0.0064,0.0049,0.0041,0.0083,0.0047,0.0049,0.008,0.0041,0.0229,0.0092,0.0049,0.0041,0.0041,0.0041,0.006,0.0077,0.0079,0.0068,0.0068,0.0053,0.0109,0.008,0.0057,0.0057,0.0073,0.0072,0.0099,0.0044,0.0045,0.0288,0.0041,0.0163,0.0044,0.0065,0.0044,0.0044,0.016,0.0053,0.0051,0.0055,0.0055,0.0065,0.0053,0.0067,0.0055,0.0045,0.0045,0.0105,0.0052,0.0052,0.0135,0.0165,0.0091,0.0052,0.0044,0.0072,0.0043,0.0056,0.0055,0.0047,0.0044,0.0195,0.0087,0.0073,0.0159,0.0055,0.0041,0.0041,0.0045,0.0073,0.0109,0.0071,0.0067,0.0045,0.0209,0.0055,0.0064,0.0068,0.0052,0.0047,0.0055,0.0072,0.0048,0.0064,0.0043,0.0071,0.0049,0.0152,0.0057,0.0057],\"y\":[0.6111,0.5714,0.5233,0.5118,0.507,0.5059,0.4773,0.4706,0.4706,0.4691,0.4556,0.4533,0.4467,0.4434,0.4424,0.4404,0.434,0.4324,0.4309,0.4235,0.4235,0.4222,0.4219,0.419,0.4177,0.4133,0.4132,0.4121,0.4051,0.4038,0.4,0.3989,0.3988,0.3934,0.3925,0.3924,0.3889,0.3864,0.3837,0.383,0.3824,0.3774,0.375,0.3729,0.3721,0.3719,0.3694,0.3649,0.36,0.359,0.3585,0.3582,0.3556,0.3524,0.3523,0.3503,0.35,0.3491,0.3488,0.3483,0.3482,0.3467,0.3458,0.3444,0.3444,0.3444,0.3435,0.3432,0.343,0.3423,0.3423,0.3419,0.3402,0.339,0.3386,0.3386,0.3374,0.3354,0.3348,0.3333,0.3333,0.3303,0.3298,0.3288,0.3267,0.3267,0.3235,0.3235,0.3235,0.3226,0.322,0.3203,0.3203,0.3203,0.32,0.3185,0.3178,0.3178,0.3178,0.3173,0.3171,0.3171,0.3166,0.3155,0.3148,0.3145,0.3143,0.314,0.3137,0.3134,0.313,0.3125,0.3113,0.3113,0.311,0.3107,0.3107,0.3106,0.31,0.31,0.3091,0.309,0.3083,0.3081,0.3067,0.3063,0.306,0.306,0.3057,0.3054,0.3047,0.3043,0.3037,0.3034,0.3025,0.3019,0.3019,0.3011,0.3008,0.3008,0.3007,0.3007],\"z\":[3.5099,3.282,3.0053,2.9396,2.9122,2.9055,2.7412,2.7028,2.7028,2.6945,2.6165,2.6037,2.5654,2.5466,2.5411,2.5292,2.4925,2.4837,2.4748,3.2684,2.4325,2.425,2.423,2.4068,2.3992,2.374,2.3733,2.2933,2.254,2.3195,2.2974,2.2912,2.2908,4.0044,2.2545,2.1836,2.2754,2.3581,2.342,2.1996,2.196,3.8407,2.1538,4.7008,2.1771,2.1358,2.1215,2.096,2.0677,2.7702,2.188,2.0574,2.0421,2.0239,2.0233,2.0118,2.6492,2.6937,2.692,2.0005,1.9998,1.9915,1.9242,1.9783,1.9783,2.6581,1.9115,1.9711,1.9702,1.9659,1.9659,1.9636,1.9542,2.0689,2.6129,2.0665,2.6039,1.8664,2.584,1.9145,1.8548,1.8378,3.3565,1.8887,1.8766,1.9938,2.4967,1.8582,3.292,3.2831,4.5067,1.7824,2.4719,1.7821,1.9531,3.3411,2.4527,1.825,2.4522,1.8222,2.4469,1.9352,1.8185,1.8122,1.842,1.7501,1.9182,2.4228,1.7457,1.8339,1.8312,1.7948,1.8215,1.7322,3.1653,1.7291,1.7845,1.8957,1.7805,1.725,2.3853,1.8859,1.8815,1.8807,1.7618,1.8695,1.7578,1.8674,1.756,1.754,1.8596,1.748,2.3437,1.6881,3.079,1.8425,2.3297,1.7296,1.7277,2.3212,3.7908,2.3205],\"type\":\"scatter3d\"}],                        {\"template\":{\"data\":{\"histogram2dcontour\":[{\"type\":\"histogram2dcontour\",\"colorbar\":{\"outlinewidth\":0,\"ticks\":\"\"},\"colorscale\":[[0.0,\"#0d0887\"],[0.1111111111111111,\"#46039f\"],[0.2222222222222222,\"#7201a8\"],[0.3333333333333333,\"#9c179e\"],[0.4444444444444444,\"#bd3786\"],[0.5555555555555556,\"#d8576b\"],[0.6666666666666666,\"#ed7953\"],[0.7777777777777778,\"#fb9f3a\"],[0.8888888888888888,\"#fdca26\"],[1.0,\"#f0f921\"]]}],\"choropleth\":[{\"type\":\"choropleth\",\"colorbar\":{\"outlinewidth\":0,\"ticks\":\"\"}}],\"histogram2d\":[{\"type\":\"histogram2d\",\"colorbar\":{\"outlinewidth\":0,\"ticks\":\"\"},\"colorscale\":[[0.0,\"#0d0887\"],[0.1111111111111111,\"#46039f\"],[0.2222222222222222,\"#7201a8\"],[0.3333333333333333,\"#9c179e\"],[0.4444444444444444,\"#bd3786\"],[0.5555555555555556,\"#d8576b\"],[0.6666666666666666,\"#ed7953\"],[0.7777777777777778,\"#fb9f3a\"],[0.8888888888888888,\"#fdca26\"],[1.0,\"#f0f921\"]]}],\"heatmap\":[{\"type\":\"heatmap\",\"colorbar\":{\"outlinewidth\":0,\"ticks\":\"\"},\"colorscale\":[[0.0,\"#0d0887\"],[0.1111111111111111,\"#46039f\"],[0.2222222222222222,\"#7201a8\"],[0.3333333333333333,\"#9c179e\"],[0.4444444444444444,\"#bd3786\"],[0.5555555555555556,\"#d8576b\"],[0.6666666666666666,\"#ed7953\"],[0.7777777777777778,\"#fb9f3a\"],[0.8888888888888888,\"#fdca26\"],[1.0,\"#f0f921\"]]}],\"heatmapgl\":[{\"type\":\"heatmapgl\",\"colorbar\":{\"outlinewidth\":0,\"ticks\":\"\"},\"colorscale\":[[0.0,\"#0d0887\"],[0.1111111111111111,\"#46039f\"],[0.2222222222222222,\"#7201a8\"],[0.3333333333333333,\"#9c179e\"],[0.4444444444444444,\"#bd3786\"],[0.5555555555555556,\"#d8576b\"],[0.6666666666666666,\"#ed7953\"],[0.7777777777777778,\"#fb9f3a\"],[0.8888888888888888,\"#fdca26\"],[1.0,\"#f0f921\"]]}],\"contourcarpet\":[{\"type\":\"contourcarpet\",\"colorbar\":{\"outlinewidth\":0,\"ticks\":\"\"}}],\"contour\":[{\"type\":\"contour\",\"colorbar\":{\"outlinewidth\":0,\"ticks\":\"\"},\"colorscale\":[[0.0,\"#0d0887\"],[0.1111111111111111,\"#46039f\"],[0.2222222222222222,\"#7201a8\"],[0.3333333333333333,\"#9c179e\"],[0.4444444444444444,\"#bd3786\"],[0.5555555555555556,\"#d8576b\"],[0.6666666666666666,\"#ed7953\"],[0.7777777777777778,\"#fb9f3a\"],[0.8888888888888888,\"#fdca26\"],[1.0,\"#f0f921\"]]}],\"surface\":[{\"type\":\"surface\",\"colorbar\":{\"outlinewidth\":0,\"ticks\":\"\"},\"colorscale\":[[0.0,\"#0d0887\"],[0.1111111111111111,\"#46039f\"],[0.2222222222222222,\"#7201a8\"],[0.3333333333333333,\"#9c179e\"],[0.4444444444444444,\"#bd3786\"],[0.5555555555555556,\"#d8576b\"],[0.6666666666666666,\"#ed7953\"],[0.7777777777777778,\"#fb9f3a\"],[0.8888888888888888,\"#fdca26\"],[1.0,\"#f0f921\"]]}],\"mesh3d\":[{\"type\":\"mesh3d\",\"colorbar\":{\"outlinewidth\":0,\"ticks\":\"\"}}],\"scatter\":[{\"fillpattern\":{\"fillmode\":\"overlay\",\"size\":10,\"solidity\":0.2},\"type\":\"scatter\"}],\"parcoords\":[{\"type\":\"parcoords\",\"line\":{\"colorbar\":{\"outlinewidth\":0,\"ticks\":\"\"}}}],\"scatterpolargl\":[{\"type\":\"scatterpolargl\",\"marker\":{\"colorbar\":{\"outlinewidth\":0,\"ticks\":\"\"}}}],\"bar\":[{\"error_x\":{\"color\":\"#2a3f5f\"},\"error_y\":{\"color\":\"#2a3f5f\"},\"marker\":{\"line\":{\"color\":\"#E5ECF6\",\"width\":0.5},\"pattern\":{\"fillmode\":\"overlay\",\"size\":10,\"solidity\":0.2}},\"type\":\"bar\"}],\"scattergeo\":[{\"type\":\"scattergeo\",\"marker\":{\"colorbar\":{\"outlinewidth\":0,\"ticks\":\"\"}}}],\"scatterpolar\":[{\"type\":\"scatterpolar\",\"marker\":{\"colorbar\":{\"outlinewidth\":0,\"ticks\":\"\"}}}],\"histogram\":[{\"marker\":{\"pattern\":{\"fillmode\":\"overlay\",\"size\":10,\"solidity\":0.2}},\"type\":\"histogram\"}],\"scattergl\":[{\"type\":\"scattergl\",\"marker\":{\"colorbar\":{\"outlinewidth\":0,\"ticks\":\"\"}}}],\"scatter3d\":[{\"type\":\"scatter3d\",\"line\":{\"colorbar\":{\"outlinewidth\":0,\"ticks\":\"\"}},\"marker\":{\"colorbar\":{\"outlinewidth\":0,\"ticks\":\"\"}}}],\"scattermapbox\":[{\"type\":\"scattermapbox\",\"marker\":{\"colorbar\":{\"outlinewidth\":0,\"ticks\":\"\"}}}],\"scatterternary\":[{\"type\":\"scatterternary\",\"marker\":{\"colorbar\":{\"outlinewidth\":0,\"ticks\":\"\"}}}],\"scattercarpet\":[{\"type\":\"scattercarpet\",\"marker\":{\"colorbar\":{\"outlinewidth\":0,\"ticks\":\"\"}}}],\"carpet\":[{\"aaxis\":{\"endlinecolor\":\"#2a3f5f\",\"gridcolor\":\"white\",\"linecolor\":\"white\",\"minorgridcolor\":\"white\",\"startlinecolor\":\"#2a3f5f\"},\"baxis\":{\"endlinecolor\":\"#2a3f5f\",\"gridcolor\":\"white\",\"linecolor\":\"white\",\"minorgridcolor\":\"white\",\"startlinecolor\":\"#2a3f5f\"},\"type\":\"carpet\"}],\"table\":[{\"cells\":{\"fill\":{\"color\":\"#EBF0F8\"},\"line\":{\"color\":\"white\"}},\"header\":{\"fill\":{\"color\":\"#C8D4E3\"},\"line\":{\"color\":\"white\"}},\"type\":\"table\"}],\"barpolar\":[{\"marker\":{\"line\":{\"color\":\"#E5ECF6\",\"width\":0.5},\"pattern\":{\"fillmode\":\"overlay\",\"size\":10,\"solidity\":0.2}},\"type\":\"barpolar\"}],\"pie\":[{\"automargin\":true,\"type\":\"pie\"}]},\"layout\":{\"autotypenumbers\":\"strict\",\"colorway\":[\"#636efa\",\"#EF553B\",\"#00cc96\",\"#ab63fa\",\"#FFA15A\",\"#19d3f3\",\"#FF6692\",\"#B6E880\",\"#FF97FF\",\"#FECB52\"],\"font\":{\"color\":\"#2a3f5f\"},\"hovermode\":\"closest\",\"hoverlabel\":{\"align\":\"left\"},\"paper_bgcolor\":\"white\",\"plot_bgcolor\":\"#E5ECF6\",\"polar\":{\"bgcolor\":\"#E5ECF6\",\"angularaxis\":{\"gridcolor\":\"white\",\"linecolor\":\"white\",\"ticks\":\"\"},\"radialaxis\":{\"gridcolor\":\"white\",\"linecolor\":\"white\",\"ticks\":\"\"}},\"ternary\":{\"bgcolor\":\"#E5ECF6\",\"aaxis\":{\"gridcolor\":\"white\",\"linecolor\":\"white\",\"ticks\":\"\"},\"baxis\":{\"gridcolor\":\"white\",\"linecolor\":\"white\",\"ticks\":\"\"},\"caxis\":{\"gridcolor\":\"white\",\"linecolor\":\"white\",\"ticks\":\"\"}},\"coloraxis\":{\"colorbar\":{\"outlinewidth\":0,\"ticks\":\"\"}},\"colorscale\":{\"sequential\":[[0.0,\"#0d0887\"],[0.1111111111111111,\"#46039f\"],[0.2222222222222222,\"#7201a8\"],[0.3333333333333333,\"#9c179e\"],[0.4444444444444444,\"#bd3786\"],[0.5555555555555556,\"#d8576b\"],[0.6666666666666666,\"#ed7953\"],[0.7777777777777778,\"#fb9f3a\"],[0.8888888888888888,\"#fdca26\"],[1.0,\"#f0f921\"]],\"sequentialminus\":[[0.0,\"#0d0887\"],[0.1111111111111111,\"#46039f\"],[0.2222222222222222,\"#7201a8\"],[0.3333333333333333,\"#9c179e\"],[0.4444444444444444,\"#bd3786\"],[0.5555555555555556,\"#d8576b\"],[0.6666666666666666,\"#ed7953\"],[0.7777777777777778,\"#fb9f3a\"],[0.8888888888888888,\"#fdca26\"],[1.0,\"#f0f921\"]],\"diverging\":[[0,\"#8e0152\"],[0.1,\"#c51b7d\"],[0.2,\"#de77ae\"],[0.3,\"#f1b6da\"],[0.4,\"#fde0ef\"],[0.5,\"#f7f7f7\"],[0.6,\"#e6f5d0\"],[0.7,\"#b8e186\"],[0.8,\"#7fbc41\"],[0.9,\"#4d9221\"],[1,\"#276419\"]]},\"xaxis\":{\"gridcolor\":\"white\",\"linecolor\":\"white\",\"ticks\":\"\",\"title\":{\"standoff\":15},\"zerolinecolor\":\"white\",\"automargin\":true,\"zerolinewidth\":2},\"yaxis\":{\"gridcolor\":\"white\",\"linecolor\":\"white\",\"ticks\":\"\",\"title\":{\"standoff\":15},\"zerolinecolor\":\"white\",\"automargin\":true,\"zerolinewidth\":2},\"scene\":{\"xaxis\":{\"backgroundcolor\":\"#E5ECF6\",\"gridcolor\":\"white\",\"linecolor\":\"white\",\"showbackground\":true,\"ticks\":\"\",\"zerolinecolor\":\"white\",\"gridwidth\":2},\"yaxis\":{\"backgroundcolor\":\"#E5ECF6\",\"gridcolor\":\"white\",\"linecolor\":\"white\",\"showbackground\":true,\"ticks\":\"\",\"zerolinecolor\":\"white\",\"gridwidth\":2},\"zaxis\":{\"backgroundcolor\":\"#E5ECF6\",\"gridcolor\":\"white\",\"linecolor\":\"white\",\"showbackground\":true,\"ticks\":\"\",\"zerolinecolor\":\"white\",\"gridwidth\":2}},\"shapedefaults\":{\"line\":{\"color\":\"#2a3f5f\"}},\"annotationdefaults\":{\"arrowcolor\":\"#2a3f5f\",\"arrowhead\":0,\"arrowwidth\":1},\"geo\":{\"bgcolor\":\"white\",\"landcolor\":\"#E5ECF6\",\"subunitcolor\":\"white\",\"showland\":true,\"showlakes\":true,\"lakecolor\":\"white\"},\"title\":{\"x\":0.05},\"mapbox\":{\"style\":\"light\"}}},\"scene\":{\"domain\":{\"x\":[0.0,1.0],\"y\":[0.0,1.0]},\"xaxis\":{\"title\":{\"text\":\"support\"}},\"yaxis\":{\"title\":{\"text\":\"confidence\"}},\"zaxis\":{\"title\":{\"text\":\"lift\"}}},\"coloraxis\":{\"colorbar\":{\"title\":{\"text\":\"antecedent support\"}},\"colorscale\":[[0.0,\"#0d0887\"],[0.1111111111111111,\"#46039f\"],[0.2222222222222222,\"#7201a8\"],[0.3333333333333333,\"#9c179e\"],[0.4444444444444444,\"#bd3786\"],[0.5555555555555556,\"#d8576b\"],[0.6666666666666666,\"#ed7953\"],[0.7777777777777778,\"#fb9f3a\"],[0.8888888888888888,\"#fdca26\"],[1.0,\"#f0f921\"]]},\"legend\":{\"tracegroupgap\":0},\"title\":{\"text\":\"3d Plot for Rule Mining\"},\"height\":800,\"width\":900},                        {\"responsive\": true}                    ).then(function(){\n",
       "                            \n",
       "var gd = document.getElementById('181c1616-10a5-423c-9d83-1db3d4b6b71c');\n",
       "var x = new MutationObserver(function (mutations, observer) {{\n",
       "        var display = window.getComputedStyle(gd).display;\n",
       "        if (!display || display === 'none') {{\n",
       "            console.log([gd, 'removed!']);\n",
       "            Plotly.purge(gd);\n",
       "            observer.disconnect();\n",
       "        }}\n",
       "}});\n",
       "\n",
       "// Listen for the removal of the full notebook cells\n",
       "var notebookContainer = gd.closest('#notebook-container');\n",
       "if (notebookContainer) {{\n",
       "    x.observe(notebookContainer, {childList: true});\n",
       "}}\n",
       "\n",
       "// Listen for the clearing of the current output cell\n",
       "var outputEl = gd.closest('.output');\n",
       "if (outputEl) {{\n",
       "    x.observe(outputEl, {childList: true});\n",
       "}}\n",
       "\n",
       "                        })                };                });            </script>        </div>"
      ]
     },
     "metadata": {},
     "output_type": "display_data"
    }
   ],
   "source": [
    "plot_model(model2, plot = '3d')"
   ]
  }
 ],
 "metadata": {
  "kernelspec": {
   "display_name": "Python 3 (ipykernel)",
   "language": "python",
   "name": "python3"
  },
  "language_info": {
   "codemirror_mode": {
    "name": "ipython",
    "version": 3
   },
   "file_extension": ".py",
   "mimetype": "text/x-python",
   "name": "python",
   "nbconvert_exporter": "python",
   "pygments_lexer": "ipython3",
   "version": "3.8.10"
  }
 },
 "nbformat": 4,
 "nbformat_minor": 5
}
