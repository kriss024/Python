{
 "cells": [
  {
   "cell_type": "code",
   "execution_count": 1,
   "id": "52292268",
   "metadata": {},
   "outputs": [],
   "source": [
    "import math\n",
    "import numpy as np\n",
    "import pandas as pd\n",
    "import seaborn as sns\n",
    "import scipy.stats as stats\n",
    "from scipy.stats import chi2_contingency\n",
    "from IPython.display import display"
   ]
  },
  {
   "cell_type": "code",
   "execution_count": 2,
   "id": "6b1210cb",
   "metadata": {},
   "outputs": [],
   "source": [
    "# Create a contingency table\n",
    "# In the two-dimensional case, the table is often described as an “R x C table”.\n",
    "observed = np.array([[10, 20, 30, 40, 50], [51, 38, 32, 18, 11]])"
   ]
  },
  {
   "cell_type": "code",
   "execution_count": 3,
   "id": "a05bdf79",
   "metadata": {},
   "outputs": [
    {
     "name": "stdout",
     "output_type": "stream",
     "text": [
      "Chi-square statistic: 66.48735389047941\n",
      "p-value: 1.250359608337329e-13\n",
      "Degrees of freedom: 4\n",
      "Expected frequencies:\n",
      " [[30.5 29.  31.  29.  30.5]\n",
      " [30.5 29.  31.  29.  30.5]]\n"
     ]
    }
   ],
   "source": [
    "# Perform the chi-square test of independence\n",
    "chi2, p, dof, expected = chi2_contingency(observed)\n",
    "\n",
    "# Print the results\n",
    "print(\"Chi-square statistic:\", chi2)\n",
    "print(\"p-value:\", p)\n",
    "print(\"Degrees of freedom:\", dof)\n",
    "print(\"Expected frequencies:\\n\", expected)"
   ]
  },
  {
   "cell_type": "code",
   "execution_count": 4,
   "id": "4c15f533",
   "metadata": {},
   "outputs": [],
   "source": [
    "# Create a contingency table\n",
    "# In the two-dimensional case, the table is often described as an “R x C table”.\n",
    "observed = np.array([[10, 20, 30, 40, 50], [9, 21, 37, 45, 47]])"
   ]
  },
  {
   "cell_type": "code",
   "execution_count": 5,
   "id": "459c673b",
   "metadata": {},
   "outputs": [
    {
     "name": "stdout",
     "output_type": "stream",
     "text": [
      "Chi-square statistic: 0.9339226167894914\n",
      "p-value: 0.919644419468446\n",
      "Degrees of freedom: 4\n",
      "Expected frequencies:\n",
      " [[ 9.22330097 19.90291262 32.52427184 41.26213592 47.08737864]\n",
      " [ 9.77669903 21.09708738 34.47572816 43.73786408 49.91262136]]\n"
     ]
    }
   ],
   "source": [
    "# Perform the chi-square test of independence\n",
    "chi2, p, dof, expected = chi2_contingency(observed)\n",
    "\n",
    "# Print the results\n",
    "print(\"Chi-square statistic:\", chi2)\n",
    "print(\"p-value:\", p)\n",
    "print(\"Degrees of freedom:\", dof)\n",
    "print(\"Expected frequencies:\\n\", expected)"
   ]
  },
  {
   "cell_type": "code",
   "execution_count": 6,
   "id": "2f35984f",
   "metadata": {},
   "outputs": [],
   "source": [
    "# no of hours a student studies\n",
    "# in a week vs expected no of hours\n",
    "observed_data = [10, 20, 30, 40, 50]\n",
    "expected_data = [51, 38, 32, 18, 11]"
   ]
  },
  {
   "cell_type": "code",
   "execution_count": 7,
   "id": "d0752505",
   "metadata": {},
   "outputs": [
    {
     "name": "stdout",
     "output_type": "stream",
     "text": [
      "Chi-square statistic is: 206.77371626481533\n",
      "p-value: 1.313118252244011e-43\n"
     ]
    }
   ],
   "source": [
    "# Chi-Square Goodness of Fit Test\n",
    "chi_square_test_statistic, p_value = stats.chisquare(\n",
    "    observed_data, expected_data)\n",
    "  \n",
    "# chi square test statistic and p value\n",
    "print('Chi-square statistic is: ' +\n",
    "      str(chi_square_test_statistic))\n",
    "print('p-value: ' + str(p_value))"
   ]
  },
  {
   "cell_type": "code",
   "execution_count": 8,
   "id": "e78b643e",
   "metadata": {},
   "outputs": [
    {
     "name": "stdout",
     "output_type": "stream",
     "text": [
      "Degrees of freedom: 4\n",
      "Critical value: 9.487729036781154\n",
      "Critical value: 9.487729036781154\n",
      "p-value: 0.0\n"
     ]
    }
   ],
   "source": [
    "# the degrees of freedom, df, formula is\n",
    "nrows = 2\n",
    "ncols = len(observed_data)\n",
    "df = (nrows - 1) * (ncols - 1)\n",
    "print('Degrees of freedom: ' + str(df))\n",
    "\n",
    "# significance level\n",
    "alpha = 0.05\n",
    "\n",
    "# find Chi-Square critical value\n",
    "crit = stats.chi2.ppf(1-alpha, df = df)\n",
    "print('Critical value: ' + str(crit))\n",
    "\n",
    "crit = stats.chi2.ppf(q = 1-alpha, # Find the critical value for 95% confidence*\n",
    "                      df = df)   # Df = number of variable categories - 1\n",
    "\n",
    "print('Critical value: ' + str(crit))\n",
    "\n",
    "p_value = 1 - stats.chi2.cdf(x=chi_square_test_statistic,  # Find the p-value\n",
    "                             df = df) # Df = number of variable categories - 1\n",
    "\n",
    "print('p-value: ' + str(p_value))"
   ]
  }
 ],
 "metadata": {
  "kernelspec": {
   "display_name": "Python 3 (ipykernel)",
   "language": "python",
   "name": "python3"
  },
  "language_info": {
   "codemirror_mode": {
    "name": "ipython",
    "version": 3
   },
   "file_extension": ".py",
   "mimetype": "text/x-python",
   "name": "python",
   "nbconvert_exporter": "python",
   "pygments_lexer": "ipython3",
   "version": "3.10.10"
  }
 },
 "nbformat": 4,
 "nbformat_minor": 5
}
