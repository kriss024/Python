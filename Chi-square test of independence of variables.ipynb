{
 "cells": [
  {
   "cell_type": "code",
   "execution_count": 1,
   "id": "52292268",
   "metadata": {},
   "outputs": [],
   "source": [
    "import math\n",
    "import numpy as np\n",
    "import pandas as pd\n",
    "import seaborn as sns\n",
    "import matplotlib\n",
    "import matplotlib.pyplot as plt\n",
    "import scipy.stats as stats\n",
    "from scipy.stats import chi2_contingency\n",
    "from scipy.stats.contingency import association\n",
    "from IPython.display import display\n",
    "# Config the matlotlib backend as plotting inline in IPython\n",
    "%matplotlib inline"
   ]
  },
  {
   "cell_type": "code",
   "execution_count": 2,
   "id": "6b1210cb",
   "metadata": {},
   "outputs": [],
   "source": [
    "# Create a contingency table\n",
    "# In the two-dimensional case, the table is often described as an “R x C table”.\n",
    "observed = np.array([[10, 20, 30, 40, 50], [51, 38, 32, 18, 11]])"
   ]
  },
  {
   "cell_type": "code",
   "execution_count": 3,
   "id": "a05bdf79",
   "metadata": {},
   "outputs": [
    {
     "name": "stdout",
     "output_type": "stream",
     "text": [
      "Chi-square statistic: 66.48735\n",
      "p-value: 0.0\n",
      "Degrees of freedom: 4\n",
      "Expected frequencies:\n",
      " [[30.5 29.  31.  29.  30.5]\n",
      " [30.5 29.  31.  29.  30.5]]\n"
     ]
    }
   ],
   "source": [
    "# Perform the chi-square test of independence\n",
    "chi2, p, dof, expected = chi2_contingency(observed)\n",
    "\n",
    "# Print the results\n",
    "print(\"Chi-square statistic:\", round(chi2, 5))\n",
    "print(\"p-value:\", round(p, 5))\n",
    "print(\"Degrees of freedom:\", dof)\n",
    "print(\"Expected frequencies:\\n\", expected)"
   ]
  },
  {
   "cell_type": "code",
   "execution_count": 4,
   "id": "4c15f533",
   "metadata": {},
   "outputs": [],
   "source": [
    "# Create a contingency table\n",
    "# In the two-dimensional case, the table is often described as an “R x C table”.\n",
    "observed = np.array([[10, 20, 30, 40, 50], [9, 21, 37, 45, 47]])"
   ]
  },
  {
   "cell_type": "code",
   "execution_count": 5,
   "id": "459c673b",
   "metadata": {},
   "outputs": [
    {
     "name": "stdout",
     "output_type": "stream",
     "text": [
      "Chi-square statistic: 0.93392\n",
      "p-value: 0.91964\n",
      "Degrees of freedom: 4\n",
      "Expected frequencies:\n",
      " [[ 9.22330097 19.90291262 32.52427184 41.26213592 47.08737864]\n",
      " [ 9.77669903 21.09708738 34.47572816 43.73786408 49.91262136]]\n"
     ]
    }
   ],
   "source": [
    "# Perform the chi-square test of independence\n",
    "chi2, p, dof, expected = chi2_contingency(observed)\n",
    "\n",
    "# Print the results\n",
    "print(\"Chi-square statistic:\", round(chi2, 5))\n",
    "print(\"p-value:\", round(p, 5))\n",
    "print(\"Degrees of freedom:\", dof)\n",
    "print(\"Expected frequencies:\\n\", expected)"
   ]
  },
  {
   "cell_type": "code",
   "execution_count": 6,
   "id": "2f35984f",
   "metadata": {},
   "outputs": [],
   "source": [
    "# no of hours a student studies\n",
    "# in a week vs expected no of hours\n",
    "observed_data = [10, 20, 30, 40, 50]\n",
    "expected_data = [51, 38, 32, 18, 11]"
   ]
  },
  {
   "cell_type": "code",
   "execution_count": 7,
   "id": "d0752505",
   "metadata": {},
   "outputs": [
    {
     "name": "stdout",
     "output_type": "stream",
     "text": [
      "Chi-square statistic: 206.77372\n",
      "p-value: 0.0\n"
     ]
    }
   ],
   "source": [
    "# Chi-Square Goodness of Fit Test\n",
    "chi_square, p_value = stats.chisquare(\n",
    "    observed_data, expected_data)\n",
    "  \n",
    "# chi square test statistic and p value\n",
    "print(\"Chi-square statistic:\", round(chi_square, 5))\n",
    "print(\"p-value:\", round(p_value, 5))"
   ]
  },
  {
   "cell_type": "code",
   "execution_count": 8,
   "id": "e78b643e",
   "metadata": {},
   "outputs": [
    {
     "name": "stdout",
     "output_type": "stream",
     "text": [
      "Degrees of freedom: 4\n",
      "Critical value: 9.48773\n",
      "Chisquare-score is: 206.77372  and critical value is: 9.48773\n",
      "Null Hypothesis is rejected.\n"
     ]
    }
   ],
   "source": [
    "# the degrees of freedom, df, formula is\n",
    "nrows = 2\n",
    "ncols = len(observed_data)\n",
    "df = (nrows - 1) * (ncols - 1)\n",
    "print(\"Degrees of freedom:\", round(df, 5))\n",
    "\n",
    "# significance level\n",
    "alpha = 0.05\n",
    "\n",
    "# find Chi-Square critical value\n",
    "critical_value = stats.chi2.ppf(q = 1-alpha, # Find the critical value for 95% confidence*\n",
    "                      df = df)   # Df = number of variable categories - 1\n",
    "\n",
    "print(\"Critical value:\", round(critical_value, 5))\n",
    "\n",
    "conclusion = \"Failed to reject the null hypothesis.\"\n",
    "if chi_square > critical_value:\n",
    "    conclusion = \"Null Hypothesis is rejected.\"\n",
    "        \n",
    "print(\"Chisquare-score is:\", round(chi_square, 5), \" and critical value is:\", round(critical_value, 5))\n",
    "print(conclusion)"
   ]
  },
  {
   "cell_type": "code",
   "execution_count": 9,
   "id": "f2a2cf70",
   "metadata": {},
   "outputs": [
    {
     "name": "stdout",
     "output_type": "stream",
     "text": [
      "p-value: 0.0\n",
      "Chisquare-score is: 206.77371626481533  and p-value is: 0.0\n",
      "Null Hypothesis is rejected.\n"
     ]
    }
   ],
   "source": [
    "p_value = 1 - stats.chi2.cdf(x=chi_square,  # Find the p-value\n",
    "                             df = df) # Df = number of variable categories - 1\n",
    "\n",
    "print(\"p-value:\", round(p_value, 5))\n",
    "\n",
    "conclusion = \"Failed to reject the null hypothesis.\"\n",
    "if p_value <= alpha:\n",
    "    conclusion = \"Null Hypothesis is rejected.\"\n",
    "        \n",
    "print(\"Chisquare-score is:\", chi_square, \" and p-value is:\", p_value)\n",
    "print(conclusion)"
   ]
  },
  {
   "cell_type": "code",
   "execution_count": 10,
   "id": "1160e762",
   "metadata": {},
   "outputs": [
    {
     "name": "stdout",
     "output_type": "stream",
     "text": [
      "[[100 150]\n",
      " [203 322]\n",
      " [420 700]\n",
      " [320 210]]\n",
      "V-Cramer: 0.18618\n"
     ]
    }
   ],
   "source": [
    "observed = np.array([[100, 150], [203, 322], [420, 700], [320, 210]])\n",
    "print(observed)\n",
    "vcramer = association(observed, method=\"cramer\")\n",
    "\n",
    "print(\"V-Cramer:\", round(vcramer, 5))"
   ]
  }
 ],
 "metadata": {
  "kernelspec": {
   "display_name": "Python 3 (ipykernel)",
   "language": "python",
   "name": "python3"
  },
  "language_info": {
   "codemirror_mode": {
    "name": "ipython",
    "version": 3
   },
   "file_extension": ".py",
   "mimetype": "text/x-python",
   "name": "python",
   "nbconvert_exporter": "python",
   "pygments_lexer": "ipython3",
   "version": "3.10.10"
  }
 },
 "nbformat": 4,
 "nbformat_minor": 5
}
