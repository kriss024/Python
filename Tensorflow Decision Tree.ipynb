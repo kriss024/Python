{
 "cells": [
  {
   "cell_type": "code",
   "execution_count": 1,
   "id": "ce3b4753",
   "metadata": {},
   "outputs": [
    {
     "name": "stdout",
     "output_type": "stream",
     "text": [
      "Found TensorFlow Decision Forests v1.0.1\n"
     ]
    }
   ],
   "source": [
    "import os\n",
    "os.environ['TF_CPP_MIN_LOG_LEVEL'] = '3'\n",
    "\n",
    "import math\n",
    "import numpy as np\n",
    "import pandas as pd\n",
    "import seaborn as sns\n",
    "import matplotlib.pyplot as plt\n",
    "from sklearn.metrics import roc_auc_score, f1_score, confusion_matrix\n",
    "from sklearn.model_selection import train_test_split\n",
    "from tensorflow import keras\n",
    "import tensorflow_decision_forests as tfdf\n",
    "from IPython.display import display\n",
    "print(\"Found TensorFlow Decision Forests v\" + tfdf.__version__)"
   ]
  },
  {
   "cell_type": "code",
   "execution_count": 2,
   "id": "07cb5b4c",
   "metadata": {},
   "outputs": [
    {
     "data": {
      "text/html": [
       "<div>\n",
       "<style scoped>\n",
       "    .dataframe tbody tr th:only-of-type {\n",
       "        vertical-align: middle;\n",
       "    }\n",
       "\n",
       "    .dataframe tbody tr th {\n",
       "        vertical-align: top;\n",
       "    }\n",
       "\n",
       "    .dataframe thead th {\n",
       "        text-align: right;\n",
       "    }\n",
       "</style>\n",
       "<table border=\"1\" class=\"dataframe\">\n",
       "  <thead>\n",
       "    <tr style=\"text-align: right;\">\n",
       "      <th></th>\n",
       "      <th>CustomerID</th>\n",
       "      <th>CheckingStatus</th>\n",
       "      <th>LoanDuration</th>\n",
       "      <th>CreditHistory</th>\n",
       "      <th>LoanPurpose</th>\n",
       "      <th>LoanAmount</th>\n",
       "      <th>ExistingSavings</th>\n",
       "      <th>EmploymentDuration</th>\n",
       "      <th>InstallmentPercent</th>\n",
       "      <th>Sex</th>\n",
       "      <th>...</th>\n",
       "      <th>OwnsProperty</th>\n",
       "      <th>Age</th>\n",
       "      <th>InstallmentPlans</th>\n",
       "      <th>Housing</th>\n",
       "      <th>ExistingCreditsCount</th>\n",
       "      <th>Job</th>\n",
       "      <th>Dependents</th>\n",
       "      <th>Telephone</th>\n",
       "      <th>ForeignWorker</th>\n",
       "      <th>Risk</th>\n",
       "    </tr>\n",
       "  </thead>\n",
       "  <tbody>\n",
       "    <tr>\n",
       "      <th>0</th>\n",
       "      <td>713a336c-a255-4e2d-9d57-90b3e99e2f06</td>\n",
       "      <td>0_to_200</td>\n",
       "      <td>31</td>\n",
       "      <td>credits_paid_to_date</td>\n",
       "      <td>other</td>\n",
       "      <td>1889</td>\n",
       "      <td>100_to_500</td>\n",
       "      <td>less_1</td>\n",
       "      <td>3</td>\n",
       "      <td>female</td>\n",
       "      <td>...</td>\n",
       "      <td>savings_insurance</td>\n",
       "      <td>32</td>\n",
       "      <td>none</td>\n",
       "      <td>own</td>\n",
       "      <td>1</td>\n",
       "      <td>skilled</td>\n",
       "      <td>1</td>\n",
       "      <td>none</td>\n",
       "      <td>yes</td>\n",
       "      <td>No Risk</td>\n",
       "    </tr>\n",
       "    <tr>\n",
       "      <th>1</th>\n",
       "      <td>140b363f-a3fe-4828-a33f-7284dfdb3969</td>\n",
       "      <td>less_0</td>\n",
       "      <td>18</td>\n",
       "      <td>credits_paid_to_date</td>\n",
       "      <td>car_new</td>\n",
       "      <td>462</td>\n",
       "      <td>less_100</td>\n",
       "      <td>1_to_4</td>\n",
       "      <td>2</td>\n",
       "      <td>female</td>\n",
       "      <td>...</td>\n",
       "      <td>savings_insurance</td>\n",
       "      <td>37</td>\n",
       "      <td>stores</td>\n",
       "      <td>own</td>\n",
       "      <td>2</td>\n",
       "      <td>skilled</td>\n",
       "      <td>1</td>\n",
       "      <td>none</td>\n",
       "      <td>yes</td>\n",
       "      <td>No Risk</td>\n",
       "    </tr>\n",
       "    <tr>\n",
       "      <th>2</th>\n",
       "      <td>43b7b51d-5eda-4860-b461-ebef3d3436f4</td>\n",
       "      <td>less_0</td>\n",
       "      <td>15</td>\n",
       "      <td>prior_payments_delayed</td>\n",
       "      <td>furniture</td>\n",
       "      <td>250</td>\n",
       "      <td>less_100</td>\n",
       "      <td>1_to_4</td>\n",
       "      <td>2</td>\n",
       "      <td>male</td>\n",
       "      <td>...</td>\n",
       "      <td>real_estate</td>\n",
       "      <td>28</td>\n",
       "      <td>none</td>\n",
       "      <td>own</td>\n",
       "      <td>2</td>\n",
       "      <td>skilled</td>\n",
       "      <td>1</td>\n",
       "      <td>yes</td>\n",
       "      <td>no</td>\n",
       "      <td>No Risk</td>\n",
       "    </tr>\n",
       "    <tr>\n",
       "      <th>3</th>\n",
       "      <td>f40eaf08-e6d1-4765-ab20-c5f7faca1635</td>\n",
       "      <td>0_to_200</td>\n",
       "      <td>28</td>\n",
       "      <td>credits_paid_to_date</td>\n",
       "      <td>retraining</td>\n",
       "      <td>3693</td>\n",
       "      <td>less_100</td>\n",
       "      <td>greater_7</td>\n",
       "      <td>3</td>\n",
       "      <td>male</td>\n",
       "      <td>...</td>\n",
       "      <td>savings_insurance</td>\n",
       "      <td>32</td>\n",
       "      <td>none</td>\n",
       "      <td>own</td>\n",
       "      <td>1</td>\n",
       "      <td>skilled</td>\n",
       "      <td>1</td>\n",
       "      <td>none</td>\n",
       "      <td>yes</td>\n",
       "      <td>No Risk</td>\n",
       "    </tr>\n",
       "    <tr>\n",
       "      <th>4</th>\n",
       "      <td>1728910a-d3ff-4799-ac50-203a3a58a3fb</td>\n",
       "      <td>no_checking</td>\n",
       "      <td>28</td>\n",
       "      <td>prior_payments_delayed</td>\n",
       "      <td>education</td>\n",
       "      <td>6235</td>\n",
       "      <td>500_to_1000</td>\n",
       "      <td>greater_7</td>\n",
       "      <td>3</td>\n",
       "      <td>male</td>\n",
       "      <td>...</td>\n",
       "      <td>unknown</td>\n",
       "      <td>57</td>\n",
       "      <td>none</td>\n",
       "      <td>own</td>\n",
       "      <td>2</td>\n",
       "      <td>skilled</td>\n",
       "      <td>1</td>\n",
       "      <td>none</td>\n",
       "      <td>yes</td>\n",
       "      <td>Risk</td>\n",
       "    </tr>\n",
       "    <tr>\n",
       "      <th>...</th>\n",
       "      <td>...</td>\n",
       "      <td>...</td>\n",
       "      <td>...</td>\n",
       "      <td>...</td>\n",
       "      <td>...</td>\n",
       "      <td>...</td>\n",
       "      <td>...</td>\n",
       "      <td>...</td>\n",
       "      <td>...</td>\n",
       "      <td>...</td>\n",
       "      <td>...</td>\n",
       "      <td>...</td>\n",
       "      <td>...</td>\n",
       "      <td>...</td>\n",
       "      <td>...</td>\n",
       "      <td>...</td>\n",
       "      <td>...</td>\n",
       "      <td>...</td>\n",
       "      <td>...</td>\n",
       "      <td>...</td>\n",
       "      <td>...</td>\n",
       "    </tr>\n",
       "    <tr>\n",
       "      <th>4995</th>\n",
       "      <td>e77fa77b-78da-4607-a2fa-ede36c1e968f</td>\n",
       "      <td>greater_200</td>\n",
       "      <td>27</td>\n",
       "      <td>credits_paid_to_date</td>\n",
       "      <td>furniture</td>\n",
       "      <td>4650</td>\n",
       "      <td>less_100</td>\n",
       "      <td>1_to_4</td>\n",
       "      <td>3</td>\n",
       "      <td>male</td>\n",
       "      <td>...</td>\n",
       "      <td>savings_insurance</td>\n",
       "      <td>40</td>\n",
       "      <td>none</td>\n",
       "      <td>own</td>\n",
       "      <td>1</td>\n",
       "      <td>skilled</td>\n",
       "      <td>1</td>\n",
       "      <td>none</td>\n",
       "      <td>yes</td>\n",
       "      <td>No Risk</td>\n",
       "    </tr>\n",
       "    <tr>\n",
       "      <th>4996</th>\n",
       "      <td>6e71db4b-375c-42e1-b4a8-3292c007967a</td>\n",
       "      <td>0_to_200</td>\n",
       "      <td>11</td>\n",
       "      <td>prior_payments_delayed</td>\n",
       "      <td>furniture</td>\n",
       "      <td>250</td>\n",
       "      <td>greater_1000</td>\n",
       "      <td>4_to_7</td>\n",
       "      <td>3</td>\n",
       "      <td>male</td>\n",
       "      <td>...</td>\n",
       "      <td>car_other</td>\n",
       "      <td>32</td>\n",
       "      <td>bank</td>\n",
       "      <td>own</td>\n",
       "      <td>1</td>\n",
       "      <td>unemployed</td>\n",
       "      <td>1</td>\n",
       "      <td>none</td>\n",
       "      <td>yes</td>\n",
       "      <td>No Risk</td>\n",
       "    </tr>\n",
       "    <tr>\n",
       "      <th>4997</th>\n",
       "      <td>db501d22-e0c9-4f38-bf05-7f2c1df35395</td>\n",
       "      <td>no_checking</td>\n",
       "      <td>32</td>\n",
       "      <td>outstanding_credit</td>\n",
       "      <td>appliances</td>\n",
       "      <td>6536</td>\n",
       "      <td>unknown</td>\n",
       "      <td>greater_7</td>\n",
       "      <td>5</td>\n",
       "      <td>male</td>\n",
       "      <td>...</td>\n",
       "      <td>unknown</td>\n",
       "      <td>54</td>\n",
       "      <td>stores</td>\n",
       "      <td>own</td>\n",
       "      <td>2</td>\n",
       "      <td>unskilled</td>\n",
       "      <td>2</td>\n",
       "      <td>yes</td>\n",
       "      <td>yes</td>\n",
       "      <td>Risk</td>\n",
       "    </tr>\n",
       "    <tr>\n",
       "      <th>4998</th>\n",
       "      <td>802055d6-6aa7-4532-bf1c-0b8b114b483d</td>\n",
       "      <td>0_to_200</td>\n",
       "      <td>38</td>\n",
       "      <td>outstanding_credit</td>\n",
       "      <td>other</td>\n",
       "      <td>1597</td>\n",
       "      <td>500_to_1000</td>\n",
       "      <td>greater_7</td>\n",
       "      <td>3</td>\n",
       "      <td>female</td>\n",
       "      <td>...</td>\n",
       "      <td>savings_insurance</td>\n",
       "      <td>27</td>\n",
       "      <td>stores</td>\n",
       "      <td>own</td>\n",
       "      <td>1</td>\n",
       "      <td>skilled</td>\n",
       "      <td>1</td>\n",
       "      <td>none</td>\n",
       "      <td>yes</td>\n",
       "      <td>Risk</td>\n",
       "    </tr>\n",
       "    <tr>\n",
       "      <th>4999</th>\n",
       "      <td>53094239-82f4-4b14-b2e9-7a0355a10839</td>\n",
       "      <td>less_0</td>\n",
       "      <td>12</td>\n",
       "      <td>all_credits_paid_back</td>\n",
       "      <td>car_new</td>\n",
       "      <td>4152</td>\n",
       "      <td>less_100</td>\n",
       "      <td>1_to_4</td>\n",
       "      <td>2</td>\n",
       "      <td>male</td>\n",
       "      <td>...</td>\n",
       "      <td>savings_insurance</td>\n",
       "      <td>29</td>\n",
       "      <td>none</td>\n",
       "      <td>own</td>\n",
       "      <td>2</td>\n",
       "      <td>skilled</td>\n",
       "      <td>1</td>\n",
       "      <td>none</td>\n",
       "      <td>yes</td>\n",
       "      <td>No Risk</td>\n",
       "    </tr>\n",
       "  </tbody>\n",
       "</table>\n",
       "<p>5000 rows × 22 columns</p>\n",
       "</div>"
      ],
      "text/plain": [
       "                                CustomerID CheckingStatus  LoanDuration  \\\n",
       "0     713a336c-a255-4e2d-9d57-90b3e99e2f06       0_to_200            31   \n",
       "1     140b363f-a3fe-4828-a33f-7284dfdb3969         less_0            18   \n",
       "2     43b7b51d-5eda-4860-b461-ebef3d3436f4         less_0            15   \n",
       "3     f40eaf08-e6d1-4765-ab20-c5f7faca1635       0_to_200            28   \n",
       "4     1728910a-d3ff-4799-ac50-203a3a58a3fb    no_checking            28   \n",
       "...                                    ...            ...           ...   \n",
       "4995  e77fa77b-78da-4607-a2fa-ede36c1e968f    greater_200            27   \n",
       "4996  6e71db4b-375c-42e1-b4a8-3292c007967a       0_to_200            11   \n",
       "4997  db501d22-e0c9-4f38-bf05-7f2c1df35395    no_checking            32   \n",
       "4998  802055d6-6aa7-4532-bf1c-0b8b114b483d       0_to_200            38   \n",
       "4999  53094239-82f4-4b14-b2e9-7a0355a10839         less_0            12   \n",
       "\n",
       "               CreditHistory LoanPurpose  LoanAmount ExistingSavings  \\\n",
       "0       credits_paid_to_date       other        1889      100_to_500   \n",
       "1       credits_paid_to_date     car_new         462        less_100   \n",
       "2     prior_payments_delayed   furniture         250        less_100   \n",
       "3       credits_paid_to_date  retraining        3693        less_100   \n",
       "4     prior_payments_delayed   education        6235     500_to_1000   \n",
       "...                      ...         ...         ...             ...   \n",
       "4995    credits_paid_to_date   furniture        4650        less_100   \n",
       "4996  prior_payments_delayed   furniture         250    greater_1000   \n",
       "4997      outstanding_credit  appliances        6536         unknown   \n",
       "4998      outstanding_credit       other        1597     500_to_1000   \n",
       "4999   all_credits_paid_back     car_new        4152        less_100   \n",
       "\n",
       "     EmploymentDuration  InstallmentPercent     Sex  ...       OwnsProperty  \\\n",
       "0                less_1                   3  female  ...  savings_insurance   \n",
       "1                1_to_4                   2  female  ...  savings_insurance   \n",
       "2                1_to_4                   2    male  ...        real_estate   \n",
       "3             greater_7                   3    male  ...  savings_insurance   \n",
       "4             greater_7                   3    male  ...            unknown   \n",
       "...                 ...                 ...     ...  ...                ...   \n",
       "4995             1_to_4                   3    male  ...  savings_insurance   \n",
       "4996             4_to_7                   3    male  ...          car_other   \n",
       "4997          greater_7                   5    male  ...            unknown   \n",
       "4998          greater_7                   3  female  ...  savings_insurance   \n",
       "4999             1_to_4                   2    male  ...  savings_insurance   \n",
       "\n",
       "      Age InstallmentPlans  Housing ExistingCreditsCount         Job  \\\n",
       "0      32             none      own                    1     skilled   \n",
       "1      37           stores      own                    2     skilled   \n",
       "2      28             none      own                    2     skilled   \n",
       "3      32             none      own                    1     skilled   \n",
       "4      57             none      own                    2     skilled   \n",
       "...   ...              ...      ...                  ...         ...   \n",
       "4995   40             none      own                    1     skilled   \n",
       "4996   32             bank      own                    1  unemployed   \n",
       "4997   54           stores      own                    2   unskilled   \n",
       "4998   27           stores      own                    1     skilled   \n",
       "4999   29             none      own                    2     skilled   \n",
       "\n",
       "      Dependents Telephone  ForeignWorker     Risk  \n",
       "0              1      none            yes  No Risk  \n",
       "1              1      none            yes  No Risk  \n",
       "2              1       yes             no  No Risk  \n",
       "3              1      none            yes  No Risk  \n",
       "4              1      none            yes     Risk  \n",
       "...          ...       ...            ...      ...  \n",
       "4995           1      none            yes  No Risk  \n",
       "4996           1      none            yes  No Risk  \n",
       "4997           2       yes            yes     Risk  \n",
       "4998           1      none            yes     Risk  \n",
       "4999           1      none            yes  No Risk  \n",
       "\n",
       "[5000 rows x 22 columns]"
      ]
     },
     "metadata": {},
     "output_type": "display_data"
    }
   ],
   "source": [
    "# credit_data = pd.read_csv('german_credit_data.csv')\n",
    "# credit_data.to_hdf('credit_data.h5', key='df', mode='w')\n",
    "credit_data = pd.read_hdf('credit_data.h5', 'df')  \n",
    "display(credit_data)"
   ]
  },
  {
   "cell_type": "code",
   "execution_count": 3,
   "id": "8a811f85",
   "metadata": {},
   "outputs": [],
   "source": [
    "data = credit_data.copy()"
   ]
  },
  {
   "cell_type": "code",
   "execution_count": 4,
   "id": "e199a46c",
   "metadata": {},
   "outputs": [
    {
     "data": {
      "text/html": [
       "<div>\n",
       "<style scoped>\n",
       "    .dataframe tbody tr th:only-of-type {\n",
       "        vertical-align: middle;\n",
       "    }\n",
       "\n",
       "    .dataframe tbody tr th {\n",
       "        vertical-align: top;\n",
       "    }\n",
       "\n",
       "    .dataframe thead th {\n",
       "        text-align: right;\n",
       "    }\n",
       "</style>\n",
       "<table border=\"1\" class=\"dataframe\">\n",
       "  <thead>\n",
       "    <tr style=\"text-align: right;\">\n",
       "      <th></th>\n",
       "      <th>No Risk</th>\n",
       "      <th>Risk</th>\n",
       "    </tr>\n",
       "  </thead>\n",
       "  <tbody>\n",
       "    <tr>\n",
       "      <th>Risk</th>\n",
       "      <td>3330</td>\n",
       "      <td>1670</td>\n",
       "    </tr>\n",
       "  </tbody>\n",
       "</table>\n",
       "</div>"
      ],
      "text/plain": [
       "      No Risk  Risk\n",
       "Risk     3330  1670"
      ]
     },
     "execution_count": 4,
     "metadata": {},
     "output_type": "execute_result"
    }
   ],
   "source": [
    "# Name of the label column.\n",
    "label = 'Risk'\n",
    "id_column = 'CustomerID'\n",
    "data[label].value_counts().to_frame().T"
   ]
  },
  {
   "cell_type": "code",
   "execution_count": 5,
   "id": "75d196b8",
   "metadata": {},
   "outputs": [
    {
     "data": {
      "text/html": [
       "<div>\n",
       "<style scoped>\n",
       "    .dataframe tbody tr th:only-of-type {\n",
       "        vertical-align: middle;\n",
       "    }\n",
       "\n",
       "    .dataframe tbody tr th {\n",
       "        vertical-align: top;\n",
       "    }\n",
       "\n",
       "    .dataframe thead th {\n",
       "        text-align: right;\n",
       "    }\n",
       "</style>\n",
       "<table border=\"1\" class=\"dataframe\">\n",
       "  <thead>\n",
       "    <tr style=\"text-align: right;\">\n",
       "      <th></th>\n",
       "      <th>0</th>\n",
       "      <th>1</th>\n",
       "    </tr>\n",
       "  </thead>\n",
       "  <tbody>\n",
       "    <tr>\n",
       "      <th>Risk_target</th>\n",
       "      <td>3330</td>\n",
       "      <td>1670</td>\n",
       "    </tr>\n",
       "  </tbody>\n",
       "</table>\n",
       "</div>"
      ],
      "text/plain": [
       "                0     1\n",
       "Risk_target  3330  1670"
      ]
     },
     "execution_count": 5,
     "metadata": {},
     "output_type": "execute_result"
    }
   ],
   "source": [
    "label_new = label + '_target'\n",
    "data[label_new] = data[label].map({'No Risk':0, 'Risk':1})\n",
    "data = data.drop(columns=[label])\n",
    "data[label_new].value_counts().to_frame().T"
   ]
  },
  {
   "cell_type": "code",
   "execution_count": 6,
   "id": "5006f50c",
   "metadata": {},
   "outputs": [
    {
     "name": "stdout",
     "output_type": "stream",
     "text": [
      "CustomerID                  object\n",
      "CheckingStatus              object\n",
      "LoanDuration                 int64\n",
      "CreditHistory               object\n",
      "LoanPurpose                 object\n",
      "LoanAmount                   int64\n",
      "ExistingSavings             object\n",
      "EmploymentDuration          object\n",
      "InstallmentPercent           int64\n",
      "Sex                         object\n",
      "OthersOnLoan                object\n",
      "CurrentResidenceDuration     int64\n",
      "OwnsProperty                object\n",
      "Age                          int64\n",
      "InstallmentPlans            object\n",
      "Housing                     object\n",
      "ExistingCreditsCount         int64\n",
      "Job                         object\n",
      "Dependents                   int64\n",
      "Telephone                   object\n",
      "ForeignWorker               object\n",
      "Risk_target                  int64\n",
      "dtype: object\n"
     ]
    }
   ],
   "source": [
    "print(data.dtypes)"
   ]
  },
  {
   "cell_type": "code",
   "execution_count": 7,
   "id": "a2d87f4d",
   "metadata": {},
   "outputs": [],
   "source": [
    "def remove_all_by_values(list_obj, values):\n",
    "    list_obj_rem = list_obj.copy()\n",
    "    for value in set(values):\n",
    "        while value in list_obj_rem:\n",
    "            list_obj_rem.remove(value)\n",
    "    return list_obj_rem"
   ]
  },
  {
   "cell_type": "code",
   "execution_count": 8,
   "id": "96fbc739",
   "metadata": {},
   "outputs": [
    {
     "name": "stdout",
     "output_type": "stream",
     "text": [
      "Risk_target\n",
      "['LoanDuration', 'LoanAmount', 'InstallmentPercent', 'CurrentResidenceDuration', 'Age', 'ExistingCreditsCount', 'Dependents']\n",
      "['CheckingStatus', 'CreditHistory', 'LoanPurpose', 'ExistingSavings', 'EmploymentDuration', 'Sex', 'OthersOnLoan', 'OwnsProperty', 'InstallmentPlans', 'Housing', 'Job', 'Telephone', 'ForeignWorker']\n"
     ]
    }
   ],
   "source": [
    "label = label_new\n",
    "id_column = 'CustomerID'\n",
    "outColumns = [label, id_column]\n",
    "# Get  columns whose data type is object i.e. string\n",
    "filteredColumns = data.dtypes[data.dtypes == object]\n",
    "# list of columns whose data type is object i.e. string\n",
    "objectColumns = list(filteredColumns.index)\n",
    "objectFeatures = remove_all_by_values(objectColumns, outColumns)\n",
    "\n",
    "filteredColumns = data.dtypes[data.dtypes == np.int64]\n",
    "objectColumns = list(filteredColumns.index)\n",
    "numericFeatures = remove_all_by_values(objectColumns, outColumns)\n",
    "\n",
    "\n",
    "# Target column name.\n",
    "TARGET_COLUMN_NAME = label\n",
    "# Numeric feature names.\n",
    "NUMERIC_FEATURE_NAMES = numericFeatures\n",
    "# Categorical features and their vocabulary lists.\n",
    "CATEGORICAL_FEATURE_NAMES = objectFeatures\n",
    "\n",
    "print(TARGET_COLUMN_NAME)\n",
    "print(NUMERIC_FEATURE_NAMES)\n",
    "print(CATEGORICAL_FEATURE_NAMES)"
   ]
  },
  {
   "cell_type": "code",
   "execution_count": 9,
   "id": "8c49103e",
   "metadata": {},
   "outputs": [
    {
     "name": "stdout",
     "output_type": "stream",
     "text": [
      "Train data shape: (3499, 22)\n",
      "Test data shape: (1501, 22)\n"
     ]
    },
    {
     "data": {
      "text/html": [
       "<div>\n",
       "<style scoped>\n",
       "    .dataframe tbody tr th:only-of-type {\n",
       "        vertical-align: middle;\n",
       "    }\n",
       "\n",
       "    .dataframe tbody tr th {\n",
       "        vertical-align: top;\n",
       "    }\n",
       "\n",
       "    .dataframe thead th {\n",
       "        text-align: right;\n",
       "    }\n",
       "</style>\n",
       "<table border=\"1\" class=\"dataframe\">\n",
       "  <thead>\n",
       "    <tr style=\"text-align: right;\">\n",
       "      <th></th>\n",
       "      <th>0</th>\n",
       "      <th>1</th>\n",
       "    </tr>\n",
       "  </thead>\n",
       "  <tbody>\n",
       "    <tr>\n",
       "      <th>Risk_target</th>\n",
       "      <td>2330</td>\n",
       "      <td>1169</td>\n",
       "    </tr>\n",
       "  </tbody>\n",
       "</table>\n",
       "</div>"
      ],
      "text/plain": [
       "                0     1\n",
       "Risk_target  2330  1169"
      ]
     },
     "execution_count": 9,
     "metadata": {},
     "output_type": "execute_result"
    }
   ],
   "source": [
    "train = 0.7\n",
    "test = 1 - train\n",
    "label_lst = [label]\n",
    "train_data, test_data = train_test_split(data, test_size=test, random_state=0, stratify=data[label_lst])\n",
    "print(f\"Train data shape: {train_data.shape}\")\n",
    "print(f\"Test data shape: {test_data.shape}\")\n",
    "train_data[label].value_counts().to_frame().T"
   ]
  },
  {
   "cell_type": "code",
   "execution_count": 10,
   "id": "a5abe831",
   "metadata": {},
   "outputs": [],
   "source": [
    "def specify_feature_usages():\n",
    "    feature_usages = list()\n",
    "\n",
    "    for feature_name in NUMERIC_FEATURE_NAMES:\n",
    "        feature_usage = tfdf.keras.FeatureUsage(\n",
    "            name=feature_name, semantic=tfdf.keras.FeatureSemantic.NUMERICAL\n",
    "        )\n",
    "        feature_usages.append(feature_usage)\n",
    "\n",
    "    for feature_name in CATEGORICAL_FEATURE_NAMES:\n",
    "        feature_usage = tfdf.keras.FeatureUsage(\n",
    "            name=feature_name, semantic=tfdf.keras.FeatureSemantic.CATEGORICAL\n",
    "        )\n",
    "        feature_usages.append(feature_usage)\n",
    "\n",
    "    return feature_usages"
   ]
  },
  {
   "cell_type": "code",
   "execution_count": 11,
   "id": "90105195",
   "metadata": {},
   "outputs": [
    {
     "name": "stderr",
     "output_type": "stream",
     "text": [
      "/opt/conda/lib/python3.10/site-packages/tensorflow_decision_forests/keras/core_inference.py:873: FutureWarning: In a future version of pandas all arguments of DataFrame.drop except for the argument 'labels' will be keyword-only.\n",
      "  features_dataframe = dataframe.drop(label, 1)\n",
      "/opt/conda/lib/python3.10/site-packages/tensorflow_decision_forests/keras/core_inference.py:873: FutureWarning: In a future version of pandas all arguments of DataFrame.drop except for the argument 'labels' will be keyword-only.\n",
      "  features_dataframe = dataframe.drop(label, 1)\n"
     ]
    }
   ],
   "source": [
    "# Convert the dataset into a TensorFlow dataset.\n",
    "batch_size = int(train_data.shape[0]/10)\n",
    "train_dataset = tfdf.keras.pd_dataframe_to_tf_dataset(train_data, label=TARGET_COLUMN_NAME, batch_size=batch_size)\n",
    "test_dataset = tfdf.keras.pd_dataframe_to_tf_dataset(test_data, label=TARGET_COLUMN_NAME, batch_size=batch_size)"
   ]
  },
  {
   "cell_type": "code",
   "execution_count": 12,
   "id": "9ce60f0e",
   "metadata": {},
   "outputs": [
    {
     "name": "stdout",
     "output_type": "stream",
     "text": [
      "Use /tmp/tmpfe6aptwz as temporary training directory\n"
     ]
    }
   ],
   "source": [
    "# Minimum number of examples in a node.\n",
    "MIN_EXAMPLES = int(train_data.shape[0]*0.05)\n",
    "# Maximum depth of the tree. max_depth=1 means that all trees will be roots.\n",
    "MAX_DEPTH = 12\n",
    "# Ratio of the training dataset used to monitor the training. Require to be >0 if early stopping is enabled.\n",
    "VALIDATION_RATIO = 0.2\n",
    "\n",
    "# Train the model\n",
    "model = tfdf.keras.CartModel(features=specify_feature_usages(),\n",
    "        exclude_non_specified_features=True,\n",
    "        # max_depth=MAX_DEPTH,\n",
    "        # min_examples=MIN_EXAMPLES,\n",
    "        # validation_ratio=VALIDATION_RATIO,\n",
    "        task=tfdf.keras.Task.CLASSIFICATION)\n",
    "\n",
    "model.compile(metrics=[keras.metrics.PrecisionAtRecall(0.5)])"
   ]
  },
  {
   "cell_type": "code",
   "execution_count": 13,
   "id": "ffdf60b3",
   "metadata": {},
   "outputs": [
    {
     "name": "stdout",
     "output_type": "stream",
     "text": [
      "Warning: Model constructor argument batch_size=349 not supported. See https://www.tensorflow.org/decision_forests/migration for an explanation about the specificities of TF-DF.\n"
     ]
    },
    {
     "name": "stderr",
     "output_type": "stream",
     "text": [
      "WARNING:absl:Model constructor argument batch_size=349 not supported. See https://www.tensorflow.org/decision_forests/migration for an explanation about the specificities of TF-DF.\n"
     ]
    },
    {
     "name": "stdout",
     "output_type": "stream",
     "text": [
      "Reading training dataset...\n",
      "Training dataset read in 0:00:02.540426. Found 3499 examples.\n",
      "Training model...\n",
      "Model trained in 0:00:00.041348\n",
      "Compiling model...\n"
     ]
    },
    {
     "name": "stderr",
     "output_type": "stream",
     "text": [
      "[INFO kernel.cc:1176] Loading model from path /tmp/tmpfe6aptwz/model/ with prefix da8d26d205904198\n",
      "[INFO abstract_model.cc:1248] Engine \"RandomForestOptPred\" built\n",
      "[INFO kernel.cc:1022] Use fast generic engine\n"
     ]
    },
    {
     "name": "stdout",
     "output_type": "stream",
     "text": [
      "WARNING:tensorflow:AutoGraph could not transform <function simple_ml_inference_op_with_handle at 0x7f646a924700> and will run it as-is.\n",
      "Please report this to the TensorFlow team. When filing the bug, set the verbosity to 10 (on Linux, `export AUTOGRAPH_VERBOSITY=10`) and attach the full output.\n",
      "Cause: could not get source code\n",
      "To silence this warning, decorate the function with @tf.autograph.experimental.do_not_convert\n"
     ]
    },
    {
     "name": "stderr",
     "output_type": "stream",
     "text": [
      "WARNING:tensorflow:AutoGraph could not transform <function simple_ml_inference_op_with_handle at 0x7f646a924700> and will run it as-is.\n",
      "Please report this to the TensorFlow team. When filing the bug, set the verbosity to 10 (on Linux, `export AUTOGRAPH_VERBOSITY=10`) and attach the full output.\n",
      "Cause: could not get source code\n",
      "To silence this warning, decorate the function with @tf.autograph.experimental.do_not_convert\n"
     ]
    },
    {
     "name": "stdout",
     "output_type": "stream",
     "text": [
      "WARNING: AutoGraph could not transform <function simple_ml_inference_op_with_handle at 0x7f646a924700> and will run it as-is.\n",
      "Please report this to the TensorFlow team. When filing the bug, set the verbosity to 10 (on Linux, `export AUTOGRAPH_VERBOSITY=10`) and attach the full output.\n",
      "Cause: could not get source code\n",
      "To silence this warning, decorate the function with @tf.autograph.experimental.do_not_convert\n",
      "Model compiled.\n"
     ]
    },
    {
     "data": {
      "text/plain": [
       "<keras.callbacks.History at 0x7f6468c45270>"
      ]
     },
     "execution_count": 13,
     "metadata": {},
     "output_type": "execute_result"
    }
   ],
   "source": [
    "model.fit(train_dataset, batch_size=batch_size)"
   ]
  },
  {
   "cell_type": "code",
   "execution_count": 14,
   "id": "140d3510",
   "metadata": {},
   "outputs": [],
   "source": [
    "with open(\"model.html\", \"w\") as html_file:\n",
    "    html_file.write(tfdf.model_plotter.plot_model(model, max_depth=MAX_DEPTH))"
   ]
  },
  {
   "cell_type": "code",
   "execution_count": 15,
   "id": "6c653f87",
   "metadata": {},
   "outputs": [
    {
     "name": "stdout",
     "output_type": "stream",
     "text": [
      "Available variable importances:\n",
      "\t NUM_AS_ROOT\n",
      "\t SUM_SCORE\n",
      "\t NUM_NODES\n",
      "\t MEAN_MIN_DEPTH\n"
     ]
    },
    {
     "data": {
      "text/plain": [
       "[(\"EmploymentDuration\" (4; #5), 306.952433668077),\n",
       " (\"CheckingStatus\" (4; #1), 104.42077428288758),\n",
       " (\"LoanDuration\" (1; #14), 62.80766389518976),\n",
       " (\"Age\" (1; #0), 40.701236886903644),\n",
       " (\"CreditHistory\" (4; #2), 31.263962658122182),\n",
       " (\"Sex\" (4; #18), 31.05180247500539),\n",
       " (\"Housing\" (4; #9), 29.11526518687606),\n",
       " (\"OthersOnLoan\" (4; #16), 25.114207178354263),\n",
       " (\"CurrentResidenceDuration\" (1; #3), 23.401690114289522),\n",
       " (\"LoanPurpose\" (4; #15), 21.98563720472157),\n",
       " (\"ExistingCreditsCount\" (1; #6), 18.241982291452587),\n",
       " (\"LoanAmount\" (1; #13), 15.910028874874115),\n",
       " (\"OwnsProperty\" (4; #17), 9.100025609135628),\n",
       " (\"ExistingSavings\" (4; #7), 8.510946996510029),\n",
       " (\"Telephone\" (4; #19), 5.046664588153362),\n",
       " (\"Job\" (4; #12), 4.766048341989517)]"
      ]
     },
     "execution_count": 15,
     "metadata": {},
     "output_type": "execute_result"
    }
   ],
   "source": [
    "#print(model.summary())\n",
    "\n",
    "# The input features\n",
    "model.make_inspector().features()\n",
    "\n",
    "# The feature importances\n",
    "print(f\"Available variable importances:\")\n",
    "for importance in model.make_inspector().variable_importances().keys():\n",
    "    print(\"\\t\", importance)\n",
    "\n",
    "model.make_inspector().variable_importances()[\"SUM_SCORE\"]"
   ]
  },
  {
   "cell_type": "code",
   "execution_count": 16,
   "id": "3afe5f64",
   "metadata": {},
   "outputs": [
    {
     "name": "stdout",
     "output_type": "stream",
     "text": [
      "Evaluate\n",
      "5/5 [==============================] - 0s 3ms/step - loss: 0.0000e+00 - precision_at_recall: 0.7654\n"
     ]
    },
    {
     "data": {
      "text/plain": [
       "{'loss': 0.0, 'precision_at_recall': 0.7653631567955017}"
      ]
     },
     "execution_count": 16,
     "metadata": {},
     "output_type": "execute_result"
    }
   ],
   "source": [
    "print(\"Evaluate\")\n",
    "result = model.evaluate(test_dataset)\n",
    "dict(zip(model.metrics_names, result))"
   ]
  },
  {
   "cell_type": "code",
   "execution_count": 17,
   "id": "a6b49d0f",
   "metadata": {},
   "outputs": [
    {
     "name": "stdout",
     "output_type": "stream",
     "text": [
      "5/5 [==============================] - 0s 2ms/step\n",
      "The ROC AUC score is 0.8093902195608782\n"
     ]
    }
   ],
   "source": [
    "predictions = model.predict(test_dataset)\n",
    "y_true = test_data[label]\n",
    "roc_auc = roc_auc_score(y_true, predictions)\n",
    "print(f\"The ROC AUC score is {roc_auc}\")"
   ]
  },
  {
   "cell_type": "code",
   "execution_count": 18,
   "id": "430692a4",
   "metadata": {},
   "outputs": [
    {
     "name": "stdout",
     "output_type": "stream",
     "text": [
      "5/5 [==============================] - 0s 2ms/step\n",
      "[[859 141]\n",
      " [204 297]]\n",
      "0.7326778366441129\n"
     ]
    }
   ],
   "source": [
    "y_pred = np.where(model.predict(test_dataset) < 0.5, 0, 1).ravel()\n",
    "y_true = test_data[label]\n",
    "print(confusion_matrix(y_true, y_pred))\n",
    "print(f1_score(y_true, y_pred, average='macro'))"
   ]
  }
 ],
 "metadata": {
  "kernelspec": {
   "display_name": "Python 3 (ipykernel)",
   "language": "python",
   "name": "python3"
  },
  "language_info": {
   "codemirror_mode": {
    "name": "ipython",
    "version": 3
   },
   "file_extension": ".py",
   "mimetype": "text/x-python",
   "name": "python",
   "nbconvert_exporter": "python",
   "pygments_lexer": "ipython3",
   "version": "3.10.5"
  }
 },
 "nbformat": 4,
 "nbformat_minor": 5
}
