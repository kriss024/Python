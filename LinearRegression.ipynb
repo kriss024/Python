{
 "cells": [
  {
   "cell_type": "code",
   "execution_count": 1,
   "metadata": {
    "colab": {
     "base_uri": "https://localhost:8080/",
     "height": 518
    },
    "colab_type": "code",
    "executionInfo": {
     "elapsed": 1253,
     "status": "ok",
     "timestamp": 1570630321746,
     "user": {
      "displayName": "Krzysztof Bruszewski",
      "photoUrl": "https://lh3.googleusercontent.com/a-/AAuE7mD8XjPIbmFmobTGjPD9InAcNJs6OPEd3spUgIN9RQ=s64",
      "userId": "11139975063881261812"
     },
     "user_tz": -120
    },
    "id": "5P98W-ZBqiZv",
    "outputId": "6f569d99-2a21-4144-d9a3-dfe07b6dabe2"
   },
   "outputs": [],
   "source": [
    "import warnings\n",
    "warnings.filterwarnings(\"ignore\")\n",
    "\n",
    "import math\n",
    "import numpy as np\n",
    "import pandas as pd\n",
    "import seaborn as sns\n",
    "import matplotlib\n",
    "import matplotlib.pyplot as plt\n",
    "from IPython.display import display, Image\n",
    "from pandas import get_dummies\n",
    "from sklearn.model_selection import train_test_split\n",
    "# Config the matlotlib backend as plotting inline in IPython\n",
    "%matplotlib inline"
   ]
  },
  {
   "cell_type": "code",
   "execution_count": 2,
   "metadata": {},
   "outputs": [
    {
     "data": {
      "text/html": [
       "<div>\n",
       "<style scoped>\n",
       "    .dataframe tbody tr th:only-of-type {\n",
       "        vertical-align: middle;\n",
       "    }\n",
       "\n",
       "    .dataframe tbody tr th {\n",
       "        vertical-align: top;\n",
       "    }\n",
       "\n",
       "    .dataframe thead th {\n",
       "        text-align: right;\n",
       "    }\n",
       "</style>\n",
       "<table border=\"1\" class=\"dataframe\">\n",
       "  <thead>\n",
       "    <tr style=\"text-align: right;\">\n",
       "      <th></th>\n",
       "      <th>sepal_length</th>\n",
       "      <th>sepal_width</th>\n",
       "      <th>petal_length</th>\n",
       "      <th>petal_width</th>\n",
       "      <th>species</th>\n",
       "    </tr>\n",
       "  </thead>\n",
       "  <tbody>\n",
       "    <tr>\n",
       "      <th>0</th>\n",
       "      <td>5.1</td>\n",
       "      <td>3.5</td>\n",
       "      <td>1.4</td>\n",
       "      <td>0.2</td>\n",
       "      <td>setosa</td>\n",
       "    </tr>\n",
       "    <tr>\n",
       "      <th>1</th>\n",
       "      <td>4.9</td>\n",
       "      <td>3.0</td>\n",
       "      <td>1.4</td>\n",
       "      <td>0.2</td>\n",
       "      <td>setosa</td>\n",
       "    </tr>\n",
       "    <tr>\n",
       "      <th>2</th>\n",
       "      <td>4.7</td>\n",
       "      <td>3.2</td>\n",
       "      <td>1.3</td>\n",
       "      <td>0.2</td>\n",
       "      <td>setosa</td>\n",
       "    </tr>\n",
       "    <tr>\n",
       "      <th>3</th>\n",
       "      <td>4.6</td>\n",
       "      <td>3.1</td>\n",
       "      <td>1.5</td>\n",
       "      <td>0.2</td>\n",
       "      <td>setosa</td>\n",
       "    </tr>\n",
       "    <tr>\n",
       "      <th>4</th>\n",
       "      <td>5.0</td>\n",
       "      <td>3.6</td>\n",
       "      <td>1.4</td>\n",
       "      <td>0.2</td>\n",
       "      <td>setosa</td>\n",
       "    </tr>\n",
       "  </tbody>\n",
       "</table>\n",
       "</div>"
      ],
      "text/plain": [
       "   sepal_length  sepal_width  petal_length  petal_width species\n",
       "0           5.1          3.5           1.4          0.2  setosa\n",
       "1           4.9          3.0           1.4          0.2  setosa\n",
       "2           4.7          3.2           1.3          0.2  setosa\n",
       "3           4.6          3.1           1.5          0.2  setosa\n",
       "4           5.0          3.6           1.4          0.2  setosa"
      ]
     },
     "execution_count": 2,
     "metadata": {},
     "output_type": "execute_result"
    }
   ],
   "source": [
    "data = sns.load_dataset(\"iris\")\n",
    "data.head()"
   ]
  },
  {
   "cell_type": "code",
   "execution_count": 3,
   "metadata": {},
   "outputs": [
    {
     "name": "stdout",
     "output_type": "stream",
     "text": [
      "2.0\n"
     ]
    }
   ],
   "source": [
    "print(math.sqrt(4))"
   ]
  },
  {
   "cell_type": "code",
   "execution_count": 4,
   "metadata": {},
   "outputs": [
    {
     "name": "stdout",
     "output_type": "stream",
     "text": [
      "['Python', 'R', 'SQL', 'Git', 'Tableau', 'SAS', 'SAS']\n",
      "{'R', 'SQL', 'Git', 'SAS', 'Python', 'Tableau'}\n"
     ]
    },
    {
     "data": {
      "text/html": [
       "<div>\n",
       "<style scoped>\n",
       "    .dataframe tbody tr th:only-of-type {\n",
       "        vertical-align: middle;\n",
       "    }\n",
       "\n",
       "    .dataframe tbody tr th {\n",
       "        vertical-align: top;\n",
       "    }\n",
       "\n",
       "    .dataframe thead th {\n",
       "        text-align: right;\n",
       "    }\n",
       "</style>\n",
       "<table border=\"1\" class=\"dataframe\">\n",
       "  <thead>\n",
       "    <tr style=\"text-align: right;\">\n",
       "      <th></th>\n",
       "      <th>0</th>\n",
       "    </tr>\n",
       "  </thead>\n",
       "  <tbody>\n",
       "    <tr>\n",
       "      <th>0</th>\n",
       "      <td>Python</td>\n",
       "    </tr>\n",
       "    <tr>\n",
       "      <th>1</th>\n",
       "      <td>R</td>\n",
       "    </tr>\n",
       "    <tr>\n",
       "      <th>2</th>\n",
       "      <td>SQL</td>\n",
       "    </tr>\n",
       "    <tr>\n",
       "      <th>3</th>\n",
       "      <td>Git</td>\n",
       "    </tr>\n",
       "    <tr>\n",
       "      <th>4</th>\n",
       "      <td>Tableau</td>\n",
       "    </tr>\n",
       "    <tr>\n",
       "      <th>5</th>\n",
       "      <td>SAS</td>\n",
       "    </tr>\n",
       "    <tr>\n",
       "      <th>6</th>\n",
       "      <td>SAS</td>\n",
       "    </tr>\n",
       "  </tbody>\n",
       "</table>\n",
       "</div>"
      ],
      "text/plain": [
       "         0\n",
       "0   Python\n",
       "1        R\n",
       "2      SQL\n",
       "3      Git\n",
       "4  Tableau\n",
       "5      SAS\n",
       "6      SAS"
      ]
     },
     "metadata": {},
     "output_type": "display_data"
    },
    {
     "data": {
      "text/html": [
       "<div>\n",
       "<style scoped>\n",
       "    .dataframe tbody tr th:only-of-type {\n",
       "        vertical-align: middle;\n",
       "    }\n",
       "\n",
       "    .dataframe tbody tr th {\n",
       "        vertical-align: top;\n",
       "    }\n",
       "\n",
       "    .dataframe thead th {\n",
       "        text-align: right;\n",
       "    }\n",
       "</style>\n",
       "<table border=\"1\" class=\"dataframe\">\n",
       "  <thead>\n",
       "    <tr style=\"text-align: right;\">\n",
       "      <th></th>\n",
       "      <th>0</th>\n",
       "    </tr>\n",
       "  </thead>\n",
       "  <tbody>\n",
       "    <tr>\n",
       "      <th>0</th>\n",
       "      <td>R</td>\n",
       "    </tr>\n",
       "    <tr>\n",
       "      <th>1</th>\n",
       "      <td>SQL</td>\n",
       "    </tr>\n",
       "    <tr>\n",
       "      <th>2</th>\n",
       "      <td>Git</td>\n",
       "    </tr>\n",
       "    <tr>\n",
       "      <th>3</th>\n",
       "      <td>SAS</td>\n",
       "    </tr>\n",
       "    <tr>\n",
       "      <th>4</th>\n",
       "      <td>Python</td>\n",
       "    </tr>\n",
       "    <tr>\n",
       "      <th>5</th>\n",
       "      <td>Tableau</td>\n",
       "    </tr>\n",
       "  </tbody>\n",
       "</table>\n",
       "</div>"
      ],
      "text/plain": [
       "         0\n",
       "0        R\n",
       "1      SQL\n",
       "2      Git\n",
       "3      SAS\n",
       "4   Python\n",
       "5  Tableau"
      ]
     },
     "metadata": {},
     "output_type": "display_data"
    }
   ],
   "source": [
    "lista = ['Python', 'R', 'SQL', 'Git', 'Tableau', 'SAS', 'SAS']\n",
    "dataScientist = set(['Python', 'R', 'SQL', 'Git', 'Tableau', 'SAS', 'SAS'])\n",
    "print(lista)\n",
    "print(dataScientist)\n",
    "display(pd.DataFrame(lista))\n",
    "display(pd.DataFrame(dataScientist))"
   ]
  },
  {
   "cell_type": "code",
   "execution_count": 5,
   "metadata": {},
   "outputs": [
    {
     "name": "stdout",
     "output_type": "stream",
     "text": [
      "Python Crash Course, 2nd Edition\n"
     ]
    }
   ],
   "source": [
    "lista = ['R', 'SQL', 'Git', 'Tableau', 'SAS']\n",
    "title = 'Python Crash Course, 2nd Edition'\n",
    "\n",
    "if any(x in title for x in lista):\n",
    "    print(lista)\n",
    "\n",
    "lista = ['Python', 'R', 'SQL', 'Git', 'Tableau', 'SAS']\n",
    "title = 'Python Crash Course, 2nd Edition'\n",
    "\n",
    "if any(x in title for x in lista):\n",
    "    print(title)    "
   ]
  },
  {
   "cell_type": "code",
   "execution_count": 6,
   "metadata": {
    "colab": {},
    "colab_type": "code",
    "id": "C6n2DuPLNB_E"
   },
   "outputs": [],
   "source": [
    "from sklearn.linear_model import LinearRegression\n",
    "\n",
    "x = [[0, 1], [5, 1], [15, 2], [25, 5], [35, 11], [45, 15], [55, 34], [60, 35]]\n",
    "y = [4, 5, 20, 14, 32, 22, 38, 43]\n",
    "x, y = np.array(x), np.array(y)"
   ]
  },
  {
   "cell_type": "code",
   "execution_count": 7,
   "metadata": {
    "colab": {
     "base_uri": "https://localhost:8080/",
     "height": 170
    },
    "colab_type": "code",
    "executionInfo": {
     "elapsed": 2297,
     "status": "ok",
     "timestamp": 1570630322828,
     "user": {
      "displayName": "Krzysztof Bruszewski",
      "photoUrl": "https://lh3.googleusercontent.com/a-/AAuE7mD8XjPIbmFmobTGjPD9InAcNJs6OPEd3spUgIN9RQ=s64",
      "userId": "11139975063881261812"
     },
     "user_tz": -120
    },
    "id": "f0k3doOSO3y8",
    "outputId": "7834ea9b-6b31-4aa5-b1d8-cbadf2d3471c"
   },
   "outputs": [
    {
     "name": "stdout",
     "output_type": "stream",
     "text": [
      "[[ 0  1]\n",
      " [ 5  1]\n",
      " [15  2]\n",
      " [25  5]\n",
      " [35 11]\n",
      " [45 15]\n",
      " [55 34]\n",
      " [60 35]]\n",
      "[ 4  5 20 14 32 22 38 43]\n"
     ]
    }
   ],
   "source": [
    "print(x)\n",
    "print(y)"
   ]
  },
  {
   "cell_type": "code",
   "execution_count": 8,
   "metadata": {
    "colab": {},
    "colab_type": "code",
    "id": "7gTVZH2yPF10"
   },
   "outputs": [],
   "source": [
    "model = LinearRegression().fit(x, y)"
   ]
  },
  {
   "cell_type": "code",
   "execution_count": 9,
   "metadata": {
    "colab": {
     "base_uri": "https://localhost:8080/",
     "height": 68
    },
    "colab_type": "code",
    "executionInfo": {
     "elapsed": 2264,
     "status": "ok",
     "timestamp": 1570630322833,
     "user": {
      "displayName": "Krzysztof Bruszewski",
      "photoUrl": "https://lh3.googleusercontent.com/a-/AAuE7mD8XjPIbmFmobTGjPD9InAcNJs6OPEd3spUgIN9RQ=s64",
      "userId": "11139975063881261812"
     },
     "user_tz": -120
    },
    "id": "9O-WlZDyPKNd",
    "outputId": "5f0a3bb3-dbb5-4351-ff52-2e2ec0b4f87a"
   },
   "outputs": [
    {
     "name": "stdout",
     "output_type": "stream",
     "text": [
      "coefficient of determination: 0.8616\n",
      "intercept: 5.52257927519819\n",
      "slope: [0.44706965 0.25502548]\n"
     ]
    }
   ],
   "source": [
    "r_sq = model.score(x, y)\n",
    "print('coefficient of determination:', round(r_sq, 4))\n",
    "print('intercept:', model.intercept_)\n",
    "print('slope:', model.coef_)"
   ]
  },
  {
   "cell_type": "code",
   "execution_count": 10,
   "metadata": {
    "colab": {
     "base_uri": "https://localhost:8080/",
     "height": 68
    },
    "colab_type": "code",
    "executionInfo": {
     "elapsed": 2230,
     "status": "ok",
     "timestamp": 1570630322834,
     "user": {
      "displayName": "Krzysztof Bruszewski",
      "photoUrl": "https://lh3.googleusercontent.com/a-/AAuE7mD8XjPIbmFmobTGjPD9InAcNJs6OPEd3spUgIN9RQ=s64",
      "userId": "11139975063881261812"
     },
     "user_tz": -120
    },
    "id": "HMmt8vwkPdYk",
    "outputId": "c6e0c5c4-14d2-4eea-a887-dd68110be68a"
   },
   "outputs": [
    {
     "name": "stdout",
     "output_type": "stream",
     "text": [
      "predicted response:\n",
      "[ 5.77760476  8.012953   12.73867497 17.9744479  23.97529728 29.4660957\n",
      " 38.78227633 41.27265006]\n"
     ]
    }
   ],
   "source": [
    "y_pred = model.predict(x)\n",
    "print('predicted response:', y_pred, sep='\\n')"
   ]
  },
  {
   "cell_type": "code",
   "execution_count": 11,
   "metadata": {
    "colab": {
     "base_uri": "https://localhost:8080/",
     "height": 68
    },
    "colab_type": "code",
    "executionInfo": {
     "elapsed": 2181,
     "status": "ok",
     "timestamp": 1570630322835,
     "user": {
      "displayName": "Krzysztof Bruszewski",
      "photoUrl": "https://lh3.googleusercontent.com/a-/AAuE7mD8XjPIbmFmobTGjPD9InAcNJs6OPEd3spUgIN9RQ=s64",
      "userId": "11139975063881261812"
     },
     "user_tz": -120
    },
    "id": "Slz9GyIsQnTs",
    "outputId": "c4e79081-2503-45c8-965f-436605e6b376"
   },
   "outputs": [
    {
     "name": "stdout",
     "output_type": "stream",
     "text": [
      "predicted response:\n",
      "[ 5.77760476  8.012953   12.73867497 17.9744479  23.97529728 29.4660957\n",
      " 38.78227633 41.27265006]\n"
     ]
    }
   ],
   "source": [
    "y_pred = model.intercept_ + model.coef_[0] * x[:,0] + model.coef_[1] * x[:,1]\n",
    "print('predicted response:', y_pred, sep='\\n')"
   ]
  },
  {
   "cell_type": "code",
   "execution_count": 12,
   "metadata": {
    "colab": {},
    "colab_type": "code",
    "id": "FEsBWzTzRbal"
   },
   "outputs": [],
   "source": [
    "from sklearn.preprocessing import PolynomialFeatures"
   ]
  },
  {
   "cell_type": "code",
   "execution_count": 13,
   "metadata": {
    "colab": {
     "base_uri": "https://localhost:8080/",
     "height": 153
    },
    "colab_type": "code",
    "executionInfo": {
     "elapsed": 2139,
     "status": "ok",
     "timestamp": 1570630322837,
     "user": {
      "displayName": "Krzysztof Bruszewski",
      "photoUrl": "https://lh3.googleusercontent.com/a-/AAuE7mD8XjPIbmFmobTGjPD9InAcNJs6OPEd3spUgIN9RQ=s64",
      "userId": "11139975063881261812"
     },
     "user_tz": -120
    },
    "id": "cT434mPzR600",
    "outputId": "761506e8-fde2-4deb-e1e0-fe28f1c7b10d"
   },
   "outputs": [
    {
     "name": "stdout",
     "output_type": "stream",
     "text": [
      "[[0.000e+00 1.000e+00 0.000e+00 0.000e+00 1.000e+00]\n",
      " [5.000e+00 1.000e+00 2.500e+01 5.000e+00 1.000e+00]\n",
      " [1.500e+01 2.000e+00 2.250e+02 3.000e+01 4.000e+00]\n",
      " [2.500e+01 5.000e+00 6.250e+02 1.250e+02 2.500e+01]\n",
      " [3.500e+01 1.100e+01 1.225e+03 3.850e+02 1.210e+02]\n",
      " [4.500e+01 1.500e+01 2.025e+03 6.750e+02 2.250e+02]\n",
      " [5.500e+01 3.400e+01 3.025e+03 1.870e+03 1.156e+03]\n",
      " [6.000e+01 3.500e+01 3.600e+03 2.100e+03 1.225e+03]]\n"
     ]
    }
   ],
   "source": [
    "x_ = PolynomialFeatures(degree=2, include_bias=False).fit_transform(x)\n",
    "print(x_)"
   ]
  },
  {
   "cell_type": "code",
   "execution_count": 14,
   "metadata": {
    "colab": {},
    "colab_type": "code",
    "id": "oQPHqho6TyT1"
   },
   "outputs": [],
   "source": [
    "model = LinearRegression().fit(x_, y)"
   ]
  },
  {
   "cell_type": "code",
   "execution_count": 15,
   "metadata": {
    "colab": {
     "base_uri": "https://localhost:8080/",
     "height": 68
    },
    "colab_type": "code",
    "executionInfo": {
     "elapsed": 2108,
     "status": "ok",
     "timestamp": 1570630322839,
     "user": {
      "displayName": "Krzysztof Bruszewski",
      "photoUrl": "https://lh3.googleusercontent.com/a-/AAuE7mD8XjPIbmFmobTGjPD9InAcNJs6OPEd3spUgIN9RQ=s64",
      "userId": "11139975063881261812"
     },
     "user_tz": -120
    },
    "id": "cVGiKfALTnDz",
    "outputId": "b15e3203-2e19-481e-da28-772bf610a49f"
   },
   "outputs": [
    {
     "name": "stdout",
     "output_type": "stream",
     "text": [
      "coefficient of determination: 0.9454\n",
      "intercept: 0.8430556452395734\n",
      "coefficients: [ 2.44828275  0.16160353 -0.15259677  0.47928683 -0.4641851 ]\n"
     ]
    }
   ],
   "source": [
    "r_sq = model.score(x_, y)\n",
    "print('coefficient of determination:', round(r_sq, 4))\n",
    "intercept, coefficients = model.intercept_, model.coef_\n",
    "print('intercept:', intercept)\n",
    "print('coefficients:', coefficients)"
   ]
  },
  {
   "cell_type": "code",
   "execution_count": 16,
   "metadata": {
    "colab": {
     "base_uri": "https://localhost:8080/",
     "height": 68
    },
    "colab_type": "code",
    "executionInfo": {
     "elapsed": 2096,
     "status": "ok",
     "timestamp": 1570630322839,
     "user": {
      "displayName": "Krzysztof Bruszewski",
      "photoUrl": "https://lh3.googleusercontent.com/a-/AAuE7mD8XjPIbmFmobTGjPD9InAcNJs6OPEd3spUgIN9RQ=s64",
      "userId": "11139975063881261812"
     },
     "user_tz": -120
    },
    "id": "k5l5_z0IUJ5V",
    "outputId": "9838b28b-fae9-4a00-87f5-8a99064731a6"
   },
   "outputs": [
    {
     "name": "stdout",
     "output_type": "stream",
     "text": [
      "predicted response:\n",
      "[ 0.54047408 11.36340283 16.07809622 15.79139    29.73858619 23.50834636\n",
      " 39.05631386 41.92339046]\n"
     ]
    }
   ],
   "source": [
    "y_pred = model.predict(x_)\n",
    "print('predicted response:', y_pred, sep='\\n')"
   ]
  },
  {
   "cell_type": "code",
   "execution_count": 17,
   "metadata": {
    "colab": {},
    "colab_type": "code",
    "id": "Ap1fJSu4VEs9"
   },
   "outputs": [],
   "source": [
    "import statsmodels.api as sm"
   ]
  },
  {
   "cell_type": "code",
   "execution_count": 18,
   "metadata": {
    "colab": {},
    "colab_type": "code",
    "id": "2rF86B-VV5Ru"
   },
   "outputs": [],
   "source": [
    "x = [[0, 1], [5, 1], [15, 2], [25, 5], [35, 11], [45, 15], [55, 34], [60, 35]]\n",
    "y = [4, 5, 20, 14, 32, 22, 38, 43]\n",
    "x, y = np.array(x), np.array(y)"
   ]
  },
  {
   "cell_type": "code",
   "execution_count": 19,
   "metadata": {
    "colab": {},
    "colab_type": "code",
    "id": "LGsUKXzNV7i9"
   },
   "outputs": [],
   "source": [
    "x = sm.add_constant(x)"
   ]
  },
  {
   "cell_type": "code",
   "execution_count": 20,
   "metadata": {
    "colab": {
     "base_uri": "https://localhost:8080/",
     "height": 170
    },
    "colab_type": "code",
    "executionInfo": {
     "elapsed": 2056,
     "status": "ok",
     "timestamp": 1570630322842,
     "user": {
      "displayName": "Krzysztof Bruszewski",
      "photoUrl": "https://lh3.googleusercontent.com/a-/AAuE7mD8XjPIbmFmobTGjPD9InAcNJs6OPEd3spUgIN9RQ=s64",
      "userId": "11139975063881261812"
     },
     "user_tz": -120
    },
    "id": "bZM78g6LV9ts",
    "outputId": "f0338bab-98a4-4ded-bfc7-d58ebc5ea5fc"
   },
   "outputs": [
    {
     "name": "stdout",
     "output_type": "stream",
     "text": [
      "[[ 1.  0.  1.]\n",
      " [ 1.  5.  1.]\n",
      " [ 1. 15.  2.]\n",
      " [ 1. 25.  5.]\n",
      " [ 1. 35. 11.]\n",
      " [ 1. 45. 15.]\n",
      " [ 1. 55. 34.]\n",
      " [ 1. 60. 35.]]\n",
      "[ 4  5 20 14 32 22 38 43]\n"
     ]
    }
   ],
   "source": [
    "print(x)\n",
    "print(y)"
   ]
  },
  {
   "cell_type": "code",
   "execution_count": 21,
   "metadata": {
    "colab": {},
    "colab_type": "code",
    "id": "grRIPKHPWCy1"
   },
   "outputs": [],
   "source": [
    "model = sm.OLS(y, x)"
   ]
  },
  {
   "cell_type": "code",
   "execution_count": 22,
   "metadata": {
    "colab": {},
    "colab_type": "code",
    "id": "OXOtrY8kWES8"
   },
   "outputs": [],
   "source": [
    "results = model.fit()"
   ]
  },
  {
   "cell_type": "code",
   "execution_count": 23,
   "metadata": {
    "colab": {
     "base_uri": "https://localhost:8080/",
     "height": 493
    },
    "colab_type": "code",
    "executionInfo": {
     "elapsed": 2028,
     "status": "ok",
     "timestamp": 1570630322844,
     "user": {
      "displayName": "Krzysztof Bruszewski",
      "photoUrl": "https://lh3.googleusercontent.com/a-/AAuE7mD8XjPIbmFmobTGjPD9InAcNJs6OPEd3spUgIN9RQ=s64",
      "userId": "11139975063881261812"
     },
     "user_tz": -120
    },
    "id": "OtbBLUPSWHHs",
    "outputId": "c510c905-db10-4c82-dc8f-efbb05bafee9"
   },
   "outputs": [
    {
     "name": "stdout",
     "output_type": "stream",
     "text": [
      "                            OLS Regression Results                            \n",
      "==============================================================================\n",
      "Dep. Variable:                      y   R-squared:                       0.862\n",
      "Model:                            OLS   Adj. R-squared:                  0.806\n",
      "Method:                 Least Squares   F-statistic:                     15.56\n",
      "Date:                Sun, 24 Jan 2021   Prob (F-statistic):            0.00713\n",
      "Time:                        19:49:32   Log-Likelihood:                -24.316\n",
      "No. Observations:                   8   AIC:                             54.63\n",
      "Df Residuals:                       5   BIC:                             54.87\n",
      "Df Model:                           2                                         \n",
      "Covariance Type:            nonrobust                                         \n",
      "==============================================================================\n",
      "                 coef    std err          t      P>|t|      [0.025      0.975]\n",
      "------------------------------------------------------------------------------\n",
      "const          5.5226      4.431      1.246      0.268      -5.867      16.912\n",
      "x1             0.4471      0.285      1.567      0.178      -0.286       1.180\n",
      "x2             0.2550      0.453      0.563      0.598      -0.910       1.420\n",
      "==============================================================================\n",
      "Omnibus:                        0.561   Durbin-Watson:                   3.268\n",
      "Prob(Omnibus):                  0.755   Jarque-Bera (JB):                0.534\n",
      "Skew:                           0.380   Prob(JB):                        0.766\n",
      "Kurtosis:                       1.987   Cond. No.                         80.1\n",
      "==============================================================================\n",
      "\n",
      "Warnings:\n",
      "[1] Standard Errors assume that the covariance matrix of the errors is correctly specified.\n"
     ]
    }
   ],
   "source": [
    "print(results.summary())"
   ]
  },
  {
   "cell_type": "code",
   "execution_count": 24,
   "metadata": {
    "colab": {
     "base_uri": "https://localhost:8080/",
     "height": 68
    },
    "colab_type": "code",
    "executionInfo": {
     "elapsed": 2015,
     "status": "ok",
     "timestamp": 1570630322844,
     "user": {
      "displayName": "Krzysztof Bruszewski",
      "photoUrl": "https://lh3.googleusercontent.com/a-/AAuE7mD8XjPIbmFmobTGjPD9InAcNJs6OPEd3spUgIN9RQ=s64",
      "userId": "11139975063881261812"
     },
     "user_tz": -120
    },
    "id": "SOTkAT2PWNp8",
    "outputId": "6c463f1c-f252-4dab-d6d3-838ecb830fc7"
   },
   "outputs": [
    {
     "name": "stdout",
     "output_type": "stream",
     "text": [
      "coefficient of determination: 0.8615939258756777\n",
      "adjusted coefficient of determination: 0.8062314962259488\n",
      "regression coefficients: [5.52257928 0.44706965 0.25502548]\n"
     ]
    }
   ],
   "source": [
    "print('coefficient of determination:', results.rsquared)\n",
    "print('adjusted coefficient of determination:', results.rsquared_adj)\n",
    "print('regression coefficients:', results.params)"
   ]
  },
  {
   "cell_type": "code",
   "execution_count": 25,
   "metadata": {
    "colab": {
     "base_uri": "https://localhost:8080/",
     "height": 68
    },
    "colab_type": "code",
    "executionInfo": {
     "elapsed": 2005,
     "status": "ok",
     "timestamp": 1570630322845,
     "user": {
      "displayName": "Krzysztof Bruszewski",
      "photoUrl": "https://lh3.googleusercontent.com/a-/AAuE7mD8XjPIbmFmobTGjPD9InAcNJs6OPEd3spUgIN9RQ=s64",
      "userId": "11139975063881261812"
     },
     "user_tz": -120
    },
    "id": "Os2hQzi3Wd5t",
    "outputId": "6ecf8cca-c680-4441-cdd8-62909026c10c"
   },
   "outputs": [
    {
     "name": "stdout",
     "output_type": "stream",
     "text": [
      "predicted response:\n",
      "[ 5.77760476  8.012953   12.73867497 17.9744479  23.97529728 29.4660957\n",
      " 38.78227633 41.27265006]\n"
     ]
    }
   ],
   "source": [
    "print('predicted response:', results.predict(x), sep='\\n')"
   ]
  },
  {
   "cell_type": "code",
   "execution_count": 26,
   "metadata": {
    "colab": {},
    "colab_type": "code",
    "id": "9O4PxuWepmzo"
   },
   "outputs": [],
   "source": [
    "from sklearn import tree\n",
    "from sklearn.metrics import accuracy_score\n",
    "from sklearn.model_selection import train_test_split\n",
    "from sklearn.neighbors import KNeighborsClassifier"
   ]
  },
  {
   "cell_type": "code",
   "execution_count": 27,
   "metadata": {},
   "outputs": [
    {
     "name": "stdout",
     "output_type": "stream",
     "text": [
      "|--- petal_length <= 2.45\n",
      "|   |--- class: setosa\n",
      "|--- petal_length >  2.45\n",
      "|   |--- petal_length <= 4.75\n",
      "|   |   |--- petal_width <= 1.65\n",
      "|   |   |   |--- class: versicolor\n",
      "|   |   |--- petal_width >  1.65\n",
      "|   |   |   |--- class: virginica\n",
      "|   |--- petal_length >  4.75\n",
      "|   |   |--- petal_length <= 5.15\n",
      "|   |   |   |--- class: virginica\n",
      "|   |   |--- petal_length >  5.15\n",
      "|   |   |   |--- class: virginica\n",
      "\n",
      "col_0       setosa  versicolor  virginica\n",
      "species                                  \n",
      "setosa          15           0          0\n",
      "versicolor       0          13          2\n",
      "virginica        0           0         15\n",
      "Accuracy: 0.9556\n"
     ]
    },
    {
     "data": {
      "image/png": "[encoded data removed]",
      "text/plain": [
       "<Figure size 432x288 with 1 Axes>"
      ]
     },
     "metadata": {
      "needs_background": "light"
     },
     "output_type": "display_data"
    }
   ],
   "source": [
    "data = sns.load_dataset(\"iris\")\n",
    "x = data.drop(['species'], axis=1)\n",
    "y = data['species']\n",
    "\n",
    "x_train, x_test, y_train, y_test = train_test_split(x, y, stratify=y, test_size=.3)\n",
    "\n",
    "decision_tree = tree.DecisionTreeClassifier(criterion=\"entropy\", max_depth=3)\n",
    "decision_tree.fit(x_train, y_train)\n",
    "\n",
    "feature_names=x.columns.tolist()\n",
    "class_names=y.unique().tolist()\n",
    "\n",
    "tree_rules = tree.export_text(decision_tree, feature_names=feature_names)\n",
    "print(tree_rules)\n",
    "\n",
    "tree.plot_tree(decision_tree, \n",
    "                feature_names=feature_names,  \n",
    "                class_names=class_names,\n",
    "                rounded=True,\n",
    "                filled=True)\n",
    "\n",
    "predictions = decision_tree.predict(x_test)\n",
    "tab = pd.crosstab(y_test, predictions)\n",
    "print(tab)\n",
    "\n",
    "output = accuracy_score(y_test, predictions)\n",
    "print(\"Accuracy:\",round(output,4))"
   ]
  },
  {
   "cell_type": "code",
   "execution_count": 28,
   "metadata": {
    "scrolled": true
   },
   "outputs": [
    {
     "data": {
      "image/png": "[encoded data removed]",
      "text/plain": [
       "<IPython.core.display.Image object>"
      ]
     },
     "execution_count": 28,
     "metadata": {},
     "output_type": "execute_result"
    }
   ],
   "source": [
    "import pydotplus\n",
    "dot_data = tree.export_graphviz(decision_tree, \n",
    "                                out_file=None, \n",
    "                                feature_names=feature_names,  \n",
    "                                class_names=class_names,\n",
    "                                rounded=True,\n",
    "                                filled=True) \n",
    "\n",
    "graph = pydotplus.graph_from_dot_data(dot_data)  \n",
    "Image(graph.create_png())"
   ]
  },
  {
   "cell_type": "code",
   "execution_count": 29,
   "metadata": {},
   "outputs": [],
   "source": [
    "from sklearn.metrics import accuracy_score\n",
    "from sklearn.preprocessing import StandardScaler\n",
    "from sklearn.model_selection import train_test_split\n",
    "from sklearn.neural_network import MLPClassifier"
   ]
  },
  {
   "cell_type": "code",
   "execution_count": 30,
   "metadata": {},
   "outputs": [
    {
     "name": "stdout",
     "output_type": "stream",
     "text": [
      "col_0       setosa  versicolor  virginica\n",
      "species                                  \n",
      "setosa          15           0          0\n",
      "versicolor       0          14          1\n",
      "virginica        0           0         15\n",
      "Accuracy: 0.9778\n"
     ]
    }
   ],
   "source": [
    "data = sns.load_dataset(\"iris\")\n",
    "x = data.drop(['species'], axis=1)\n",
    "y = data['species']\n",
    "\n",
    "x_train, x_test, y_train, y_test = train_test_split(x, y, stratify=y, test_size=.3)\n",
    "\n",
    "scaler = StandardScaler()\n",
    "scaler.fit(x_train)\n",
    "x_train = scaler.transform(x_train)\n",
    "x_test = scaler.transform(x_test)\n",
    "\n",
    "mlp = MLPClassifier(hidden_layer_sizes=(30,20,10),max_iter=300)\n",
    "mlp.fit(x_train,y_train)\n",
    "\n",
    "predictions = mlp.predict(x_test)\n",
    "tab = pd.crosstab(y_test, predictions)\n",
    "print(tab)\n",
    "\n",
    "output = accuracy_score(y_test, predictions)\n",
    "print(\"Accuracy:\",round(output,4))"
   ]
  },
  {
   "cell_type": "code",
   "execution_count": 31,
   "metadata": {},
   "outputs": [],
   "source": [
    "from sklearn.metrics import accuracy_score\n",
    "from sklearn.preprocessing import StandardScaler\n",
    "from sklearn.model_selection import GridSearchCV\n",
    "from sklearn.model_selection import train_test_split\n",
    "from sklearn.neural_network import MLPClassifier"
   ]
  },
  {
   "cell_type": "code",
   "execution_count": 32,
   "metadata": {},
   "outputs": [
    {
     "name": "stdout",
     "output_type": "stream",
     "text": [
      "Best parameters found:\n",
      " {'activation': 'tanh', 'alpha': 0.0001, 'hidden_layer_sizes': (30, 30, 30), 'learning_rate': 'adaptive', 'solver': 'adam'}\n",
      "col_0       setosa  versicolor  virginica\n",
      "species                                  \n",
      "setosa          15           0          0\n",
      "versicolor       0          13          2\n",
      "virginica        0           1         14\n",
      "Accuracy: 0.9333\n"
     ]
    }
   ],
   "source": [
    "data = sns.load_dataset(\"iris\")\n",
    "x = data.drop(['species'], axis=1)\n",
    "y = data['species']\n",
    "\n",
    "x_train, x_test, y_train, y_test = train_test_split(x, y, stratify=y, test_size=.3)\n",
    "\n",
    "scaler = StandardScaler()\n",
    "scaler.fit(x_train)\n",
    "x_train = scaler.transform(x_train)\n",
    "x_test = scaler.transform(x_test)\n",
    "\n",
    "mlp = MLPClassifier(max_iter=100)\n",
    "\n",
    "parameter_space = {\n",
    "    'hidden_layer_sizes': [(30,30,30), (20,10,5), (30,20,10)],\n",
    "    'activation': ['tanh', 'relu'],\n",
    "    'solver': ['sgd', 'adam'],\n",
    "    'alpha': [0.0001, 0.05],\n",
    "    'learning_rate': ['constant','adaptive'],\n",
    "}\n",
    "\n",
    "clf = GridSearchCV(mlp, parameter_space, n_jobs=-1, cv=3)\n",
    "clf.fit(x_train,y_train)\n",
    "\n",
    "print('Best parameters found:\\n', clf.best_params_)\n",
    "\n",
    "predictions = clf.predict(x_test)\n",
    "tab = pd.crosstab(y_test, predictions)\n",
    "print(tab)\n",
    "\n",
    "output = accuracy_score(y_test, predictions)\n",
    "print(\"Accuracy:\",round(output,4))"
   ]
  },
  {
   "cell_type": "code",
   "execution_count": 33,
   "metadata": {},
   "outputs": [],
   "source": [
    "from sklearn.preprocessing import scale \n",
    "from sklearn.model_selection import train_test_split\n",
    "from sklearn.linear_model import LinearRegression, Ridge, RidgeCV, Lasso, LassoCV, ElasticNet\n",
    "from sklearn.metrics import mean_squared_error, r2_score"
   ]
  },
  {
   "cell_type": "code",
   "execution_count": 34,
   "metadata": {},
   "outputs": [
    {
     "data": {
      "text/html": [
       "<div>\n",
       "<style scoped>\n",
       "    .dataframe tbody tr th:only-of-type {\n",
       "        vertical-align: middle;\n",
       "    }\n",
       "\n",
       "    .dataframe tbody tr th {\n",
       "        vertical-align: top;\n",
       "    }\n",
       "\n",
       "    .dataframe thead th {\n",
       "        text-align: right;\n",
       "    }\n",
       "</style>\n",
       "<table border=\"1\" class=\"dataframe\">\n",
       "  <thead>\n",
       "    <tr style=\"text-align: right;\">\n",
       "      <th></th>\n",
       "      <th>dzialka</th>\n",
       "      <th>pokoje</th>\n",
       "      <th>lazienki</th>\n",
       "      <th>miasto</th>\n",
       "      <th>cena</th>\n",
       "    </tr>\n",
       "  </thead>\n",
       "  <tbody>\n",
       "    <tr>\n",
       "      <th>0</th>\n",
       "      <td>200</td>\n",
       "      <td>2</td>\n",
       "      <td>1</td>\n",
       "      <td>1</td>\n",
       "      <td>300000</td>\n",
       "    </tr>\n",
       "    <tr>\n",
       "      <th>1</th>\n",
       "      <td>500</td>\n",
       "      <td>4</td>\n",
       "      <td>1</td>\n",
       "      <td>1</td>\n",
       "      <td>500000</td>\n",
       "    </tr>\n",
       "    <tr>\n",
       "      <th>2</th>\n",
       "      <td>400</td>\n",
       "      <td>4</td>\n",
       "      <td>2</td>\n",
       "      <td>1</td>\n",
       "      <td>450000</td>\n",
       "    </tr>\n",
       "    <tr>\n",
       "      <th>3</th>\n",
       "      <td>600</td>\n",
       "      <td>3</td>\n",
       "      <td>2</td>\n",
       "      <td>1</td>\n",
       "      <td>430000</td>\n",
       "    </tr>\n",
       "    <tr>\n",
       "      <th>4</th>\n",
       "      <td>1000</td>\n",
       "      <td>5</td>\n",
       "      <td>2</td>\n",
       "      <td>0</td>\n",
       "      <td>650000</td>\n",
       "    </tr>\n",
       "  </tbody>\n",
       "</table>\n",
       "</div>"
      ],
      "text/plain": [
       "   dzialka  pokoje  lazienki  miasto    cena\n",
       "0      200       2         1       1  300000\n",
       "1      500       4         1       1  500000\n",
       "2      400       4         2       1  450000\n",
       "3      600       3         2       1  430000\n",
       "4     1000       5         2       0  650000"
      ]
     },
     "metadata": {},
     "output_type": "display_data"
    }
   ],
   "source": [
    "data = {'dzialka': [200,500,400,600,1000],\n",
    "        'pokoje': [2,4,4,3,5],\n",
    "        'lazienki': [1,1,2,2,2],\n",
    "        'miasto': [1,1,1,1,0],\n",
    "        'cena': [300000,500000,450000,430000,650000]\n",
    "        }\n",
    "\n",
    "data = pd.DataFrame(data)\n",
    "display(data)"
   ]
  },
  {
   "cell_type": "code",
   "execution_count": 35,
   "metadata": {},
   "outputs": [],
   "source": [
    "X_train = data[['dzialka', 'pokoje', 'lazienki', 'miasto']]\n",
    "y_train = data['cena']\n",
    "X_test = X_train\n",
    "y_test = y_train"
   ]
  },
  {
   "cell_type": "code",
   "execution_count": 36,
   "metadata": {},
   "outputs": [],
   "source": [
    "regres = LinearRegression(normalize = True)\n",
    "ridge = Ridge(normalize = True)\n",
    "ridgecv = RidgeCV(normalize = True, alphas = [0.1, 1.0, 10, 15])\n",
    "lasso = Lasso (normalize = True)\n",
    "lassocv = LassoCV (normalize = True, alphas = [0.1, 1.0, 10, 15])\n",
    "elastic = ElasticNet(normalize = True)"
   ]
  },
  {
   "cell_type": "code",
   "execution_count": 37,
   "metadata": {},
   "outputs": [
    {
     "data": {
      "text/plain": [
       "ElasticNet(normalize=True)"
      ]
     },
     "execution_count": 37,
     "metadata": {},
     "output_type": "execute_result"
    }
   ],
   "source": [
    "regres.fit(X_train, y_train)\n",
    "ridge.fit(X_train, y_train)\n",
    "ridgecv.fit(X_train, y_train)\n",
    "lasso.fit(X_train, y_train)\n",
    "lassocv.fit(X_train, y_train)\n",
    "elastic.fit(X_train, y_train)"
   ]
  },
  {
   "cell_type": "code",
   "execution_count": 38,
   "metadata": {},
   "outputs": [
    {
     "name": "stdout",
     "output_type": "stream",
     "text": [
      "Alpha dla ridge: 0.1\n",
      "Alpha dla lasso: 0.1\n"
     ]
    }
   ],
   "source": [
    "print('Alpha dla ridge:', ridgecv.alpha_)\n",
    "print('Alpha dla lasso:', lassocv.alpha_)"
   ]
  },
  {
   "cell_type": "code",
   "execution_count": 39,
   "metadata": {},
   "outputs": [
    {
     "name": "stdout",
     "output_type": "stream",
     "text": [
      "Wartość R2 dla prostej regresji: 1.0\n",
      "Wartość R2 dla regresji ridge: 0.89\n",
      "Wartość R2 dla regresji ridgecv: 0.99\n",
      "Wartość R2 dla regresji lasso: 1.0\n",
      "Wartość R2 dla regresji lassocv: 1.0\n",
      "Wartość R2 dla regresji elastic net: 0.73\n"
     ]
    }
   ],
   "source": [
    "print('Wartość R2 dla prostej regresji:', np.round(regres.score(X_test, y_test),2))\n",
    "print('Wartość R2 dla regresji ridge:', np.round(ridge.score(X_test, y_test),2))\n",
    "print('Wartość R2 dla regresji ridgecv:', np.round(ridgecv.score(X_test, y_test),2))\n",
    "print('Wartość R2 dla regresji lasso:', np.round(lasso.score(X_test, y_test),2))\n",
    "print('Wartość R2 dla regresji lassocv:', np.round(lassocv.score(X_test, y_test),2))\n",
    "print('Wartość R2 dla regresji elastic net:', np.round(elastic.score(X_test, y_test),2))"
   ]
  },
  {
   "cell_type": "code",
   "execution_count": 40,
   "metadata": {},
   "outputs": [],
   "source": [
    "pred_regres = regres.predict (X_test)\n",
    "pred_ridge = ridge.predict (X_test)\n",
    "pred_ridgecv = ridgecv.predict (X_test)\n",
    "pred_lasso = lasso.predict (X_test)\n",
    "pred_lassocv = lassocv.predict (X_test)\n",
    "pred_elastic = elastic.predict (X_test)"
   ]
  },
  {
   "cell_type": "code",
   "execution_count": 41,
   "metadata": {},
   "outputs": [
    {
     "name": "stdout",
     "output_type": "stream",
     "text": [
      "MSE dla prostej regresji: 0.0\n",
      "MSE dla regresji ridge: 1461191878.68\n",
      "MSE dla regresji ridgecv: 96791333.68\n",
      "MSE dla regresji lasso: 20.34\n",
      "MSE dla regresji lassocv: 102.98\n",
      "MSE dla regresji elastic net: 3448673495.08\n"
     ]
    }
   ],
   "source": [
    "from sklearn  import metrics\n",
    "print('MSE dla prostej regresji:', np.round(metrics.mean_squared_error(y_test, pred_regres),2))\n",
    "print('MSE dla regresji ridge:', np.round(metrics.mean_squared_error(y_test, pred_ridge),2))\n",
    "print('MSE dla regresji ridgecv:', np.round(metrics.mean_squared_error(y_test, pred_ridgecv),2))\n",
    "print('MSE dla regresji lasso:', np.round(metrics.mean_squared_error(y_test, pred_lasso),2))\n",
    "print('MSE dla regresji lassocv:', np.round(metrics.mean_squared_error(y_test, pred_lassocv),2))\n",
    "print('MSE dla regresji elastic net:', np.round(metrics.mean_squared_error(y_test, pred_elastic),2))"
   ]
  },
  {
   "cell_type": "code",
   "execution_count": 42,
   "metadata": {},
   "outputs": [],
   "source": [
    "import numpy as np\n",
    "import pandas as pd\n",
    "from random import choices\n",
    "import seaborn as sns\n",
    "from IPython.display import display"
   ]
  },
  {
   "cell_type": "code",
   "execution_count": 43,
   "metadata": {},
   "outputs": [
    {
     "data": {
      "text/html": [
       "<div>\n",
       "<style scoped>\n",
       "    .dataframe tbody tr th:only-of-type {\n",
       "        vertical-align: middle;\n",
       "    }\n",
       "\n",
       "    .dataframe tbody tr th {\n",
       "        vertical-align: top;\n",
       "    }\n",
       "\n",
       "    .dataframe thead th {\n",
       "        text-align: right;\n",
       "    }\n",
       "</style>\n",
       "<table border=\"1\" class=\"dataframe\">\n",
       "  <thead>\n",
       "    <tr style=\"text-align: right;\">\n",
       "      <th></th>\n",
       "      <th>survived</th>\n",
       "      <th>pclass</th>\n",
       "      <th>sex</th>\n",
       "      <th>age</th>\n",
       "      <th>sibsp</th>\n",
       "      <th>parch</th>\n",
       "      <th>fare</th>\n",
       "      <th>embarked</th>\n",
       "      <th>class</th>\n",
       "      <th>who</th>\n",
       "      <th>adult_male</th>\n",
       "      <th>deck</th>\n",
       "      <th>embark_town</th>\n",
       "      <th>alive</th>\n",
       "      <th>alone</th>\n",
       "    </tr>\n",
       "  </thead>\n",
       "  <tbody>\n",
       "    <tr>\n",
       "      <th>0</th>\n",
       "      <td>0</td>\n",
       "      <td>3</td>\n",
       "      <td>male</td>\n",
       "      <td>22.0</td>\n",
       "      <td>1</td>\n",
       "      <td>0</td>\n",
       "      <td>7.2500</td>\n",
       "      <td>S</td>\n",
       "      <td>Third</td>\n",
       "      <td>man</td>\n",
       "      <td>True</td>\n",
       "      <td>NaN</td>\n",
       "      <td>Southampton</td>\n",
       "      <td>no</td>\n",
       "      <td>False</td>\n",
       "    </tr>\n",
       "    <tr>\n",
       "      <th>1</th>\n",
       "      <td>1</td>\n",
       "      <td>1</td>\n",
       "      <td>female</td>\n",
       "      <td>38.0</td>\n",
       "      <td>1</td>\n",
       "      <td>0</td>\n",
       "      <td>71.2833</td>\n",
       "      <td>C</td>\n",
       "      <td>First</td>\n",
       "      <td>woman</td>\n",
       "      <td>False</td>\n",
       "      <td>C</td>\n",
       "      <td>Cherbourg</td>\n",
       "      <td>yes</td>\n",
       "      <td>False</td>\n",
       "    </tr>\n",
       "    <tr>\n",
       "      <th>2</th>\n",
       "      <td>1</td>\n",
       "      <td>3</td>\n",
       "      <td>female</td>\n",
       "      <td>26.0</td>\n",
       "      <td>0</td>\n",
       "      <td>0</td>\n",
       "      <td>7.9250</td>\n",
       "      <td>S</td>\n",
       "      <td>Third</td>\n",
       "      <td>woman</td>\n",
       "      <td>False</td>\n",
       "      <td>NaN</td>\n",
       "      <td>Southampton</td>\n",
       "      <td>yes</td>\n",
       "      <td>True</td>\n",
       "    </tr>\n",
       "    <tr>\n",
       "      <th>3</th>\n",
       "      <td>1</td>\n",
       "      <td>1</td>\n",
       "      <td>female</td>\n",
       "      <td>35.0</td>\n",
       "      <td>1</td>\n",
       "      <td>0</td>\n",
       "      <td>53.1000</td>\n",
       "      <td>S</td>\n",
       "      <td>First</td>\n",
       "      <td>woman</td>\n",
       "      <td>False</td>\n",
       "      <td>C</td>\n",
       "      <td>Southampton</td>\n",
       "      <td>yes</td>\n",
       "      <td>False</td>\n",
       "    </tr>\n",
       "    <tr>\n",
       "      <th>4</th>\n",
       "      <td>0</td>\n",
       "      <td>3</td>\n",
       "      <td>male</td>\n",
       "      <td>35.0</td>\n",
       "      <td>0</td>\n",
       "      <td>0</td>\n",
       "      <td>8.0500</td>\n",
       "      <td>S</td>\n",
       "      <td>Third</td>\n",
       "      <td>man</td>\n",
       "      <td>True</td>\n",
       "      <td>NaN</td>\n",
       "      <td>Southampton</td>\n",
       "      <td>no</td>\n",
       "      <td>True</td>\n",
       "    </tr>\n",
       "    <tr>\n",
       "      <th>...</th>\n",
       "      <td>...</td>\n",
       "      <td>...</td>\n",
       "      <td>...</td>\n",
       "      <td>...</td>\n",
       "      <td>...</td>\n",
       "      <td>...</td>\n",
       "      <td>...</td>\n",
       "      <td>...</td>\n",
       "      <td>...</td>\n",
       "      <td>...</td>\n",
       "      <td>...</td>\n",
       "      <td>...</td>\n",
       "      <td>...</td>\n",
       "      <td>...</td>\n",
       "      <td>...</td>\n",
       "    </tr>\n",
       "    <tr>\n",
       "      <th>886</th>\n",
       "      <td>0</td>\n",
       "      <td>2</td>\n",
       "      <td>male</td>\n",
       "      <td>27.0</td>\n",
       "      <td>0</td>\n",
       "      <td>0</td>\n",
       "      <td>13.0000</td>\n",
       "      <td>S</td>\n",
       "      <td>Second</td>\n",
       "      <td>man</td>\n",
       "      <td>True</td>\n",
       "      <td>NaN</td>\n",
       "      <td>Southampton</td>\n",
       "      <td>no</td>\n",
       "      <td>True</td>\n",
       "    </tr>\n",
       "    <tr>\n",
       "      <th>887</th>\n",
       "      <td>1</td>\n",
       "      <td>1</td>\n",
       "      <td>female</td>\n",
       "      <td>19.0</td>\n",
       "      <td>0</td>\n",
       "      <td>0</td>\n",
       "      <td>30.0000</td>\n",
       "      <td>S</td>\n",
       "      <td>First</td>\n",
       "      <td>woman</td>\n",
       "      <td>False</td>\n",
       "      <td>B</td>\n",
       "      <td>Southampton</td>\n",
       "      <td>yes</td>\n",
       "      <td>True</td>\n",
       "    </tr>\n",
       "    <tr>\n",
       "      <th>888</th>\n",
       "      <td>0</td>\n",
       "      <td>3</td>\n",
       "      <td>female</td>\n",
       "      <td>NaN</td>\n",
       "      <td>1</td>\n",
       "      <td>2</td>\n",
       "      <td>23.4500</td>\n",
       "      <td>S</td>\n",
       "      <td>Third</td>\n",
       "      <td>woman</td>\n",
       "      <td>False</td>\n",
       "      <td>NaN</td>\n",
       "      <td>Southampton</td>\n",
       "      <td>no</td>\n",
       "      <td>False</td>\n",
       "    </tr>\n",
       "    <tr>\n",
       "      <th>889</th>\n",
       "      <td>1</td>\n",
       "      <td>1</td>\n",
       "      <td>male</td>\n",
       "      <td>26.0</td>\n",
       "      <td>0</td>\n",
       "      <td>0</td>\n",
       "      <td>30.0000</td>\n",
       "      <td>C</td>\n",
       "      <td>First</td>\n",
       "      <td>man</td>\n",
       "      <td>True</td>\n",
       "      <td>C</td>\n",
       "      <td>Cherbourg</td>\n",
       "      <td>yes</td>\n",
       "      <td>True</td>\n",
       "    </tr>\n",
       "    <tr>\n",
       "      <th>890</th>\n",
       "      <td>0</td>\n",
       "      <td>3</td>\n",
       "      <td>male</td>\n",
       "      <td>32.0</td>\n",
       "      <td>0</td>\n",
       "      <td>0</td>\n",
       "      <td>7.7500</td>\n",
       "      <td>Q</td>\n",
       "      <td>Third</td>\n",
       "      <td>man</td>\n",
       "      <td>True</td>\n",
       "      <td>NaN</td>\n",
       "      <td>Queenstown</td>\n",
       "      <td>no</td>\n",
       "      <td>True</td>\n",
       "    </tr>\n",
       "  </tbody>\n",
       "</table>\n",
       "<p>891 rows × 15 columns</p>\n",
       "</div>"
      ],
      "text/plain": [
       "     survived  pclass     sex   age  sibsp  parch     fare embarked   class  \\\n",
       "0           0       3    male  22.0      1      0   7.2500        S   Third   \n",
       "1           1       1  female  38.0      1      0  71.2833        C   First   \n",
       "2           1       3  female  26.0      0      0   7.9250        S   Third   \n",
       "3           1       1  female  35.0      1      0  53.1000        S   First   \n",
       "4           0       3    male  35.0      0      0   8.0500        S   Third   \n",
       "..        ...     ...     ...   ...    ...    ...      ...      ...     ...   \n",
       "886         0       2    male  27.0      0      0  13.0000        S  Second   \n",
       "887         1       1  female  19.0      0      0  30.0000        S   First   \n",
       "888         0       3  female   NaN      1      2  23.4500        S   Third   \n",
       "889         1       1    male  26.0      0      0  30.0000        C   First   \n",
       "890         0       3    male  32.0      0      0   7.7500        Q   Third   \n",
       "\n",
       "       who  adult_male deck  embark_town alive  alone  \n",
       "0      man        True  NaN  Southampton    no  False  \n",
       "1    woman       False    C    Cherbourg   yes  False  \n",
       "2    woman       False  NaN  Southampton   yes   True  \n",
       "3    woman       False    C  Southampton   yes  False  \n",
       "4      man        True  NaN  Southampton    no   True  \n",
       "..     ...         ...  ...          ...   ...    ...  \n",
       "886    man        True  NaN  Southampton    no   True  \n",
       "887  woman       False    B  Southampton   yes   True  \n",
       "888  woman       False  NaN  Southampton    no  False  \n",
       "889    man        True    C    Cherbourg   yes   True  \n",
       "890    man        True  NaN   Queenstown    no   True  \n",
       "\n",
       "[891 rows x 15 columns]"
      ]
     },
     "metadata": {},
     "output_type": "display_data"
    }
   ],
   "source": [
    "titanic = sns.load_dataset('titanic')\n",
    "col = ['pclass',\t'sex',\t'age',\t'sibsp',\t'parch',\t'fare',\t'embarked',\t'class', \t'who',\t'adult_male',\t'deck',\t'embark_town',\t'alive',\t'alone']\n",
    "cat_col = ['sex',\t'embarked',\t'class', \t'who',\t'adult_male',\t'deck',\t'embark_town',\t'alive',\t'alone']\n",
    "features = titanic.drop(['survived'], axis=1)\n",
    "labels = titanic[['survived']]\n",
    "display(titanic)"
   ]
  },
  {
   "cell_type": "code",
   "execution_count": 44,
   "metadata": {},
   "outputs": [
    {
     "data": {
      "text/html": [
       "<div>\n",
       "<style scoped>\n",
       "    .dataframe tbody tr th:only-of-type {\n",
       "        vertical-align: middle;\n",
       "    }\n",
       "\n",
       "    .dataframe tbody tr th {\n",
       "        vertical-align: top;\n",
       "    }\n",
       "\n",
       "    .dataframe thead th {\n",
       "        text-align: right;\n",
       "    }\n",
       "</style>\n",
       "<table border=\"1\" class=\"dataframe\">\n",
       "  <thead>\n",
       "    <tr style=\"text-align: right;\">\n",
       "      <th></th>\n",
       "      <th>survived</th>\n",
       "      <th>pclass</th>\n",
       "      <th>sex</th>\n",
       "      <th>age</th>\n",
       "      <th>sibsp</th>\n",
       "      <th>parch</th>\n",
       "      <th>fare</th>\n",
       "      <th>embarked</th>\n",
       "      <th>class</th>\n",
       "      <th>who</th>\n",
       "      <th>adult_male</th>\n",
       "      <th>deck</th>\n",
       "      <th>embark_town</th>\n",
       "      <th>alive</th>\n",
       "      <th>alone</th>\n",
       "    </tr>\n",
       "  </thead>\n",
       "  <tbody>\n",
       "    <tr>\n",
       "      <th>0</th>\n",
       "      <td>0</td>\n",
       "      <td>3</td>\n",
       "      <td>0.188908</td>\n",
       "      <td>22.0</td>\n",
       "      <td>1</td>\n",
       "      <td>0</td>\n",
       "      <td>7.2500</td>\n",
       "      <td>0.336957</td>\n",
       "      <td>0.242363</td>\n",
       "      <td>0.163873</td>\n",
       "      <td>0.163873</td>\n",
       "      <td>0.299419</td>\n",
       "      <td>0.336957</td>\n",
       "      <td>0.0</td>\n",
       "      <td>0.505650</td>\n",
       "    </tr>\n",
       "    <tr>\n",
       "      <th>1</th>\n",
       "      <td>1</td>\n",
       "      <td>1</td>\n",
       "      <td>0.742038</td>\n",
       "      <td>38.0</td>\n",
       "      <td>1</td>\n",
       "      <td>0</td>\n",
       "      <td>71.2833</td>\n",
       "      <td>0.553571</td>\n",
       "      <td>0.629630</td>\n",
       "      <td>0.756458</td>\n",
       "      <td>0.717514</td>\n",
       "      <td>0.593220</td>\n",
       "      <td>0.553571</td>\n",
       "      <td>1.0</td>\n",
       "      <td>0.505650</td>\n",
       "    </tr>\n",
       "    <tr>\n",
       "      <th>2</th>\n",
       "      <td>1</td>\n",
       "      <td>3</td>\n",
       "      <td>0.742038</td>\n",
       "      <td>26.0</td>\n",
       "      <td>0</td>\n",
       "      <td>0</td>\n",
       "      <td>7.9250</td>\n",
       "      <td>0.336957</td>\n",
       "      <td>0.242363</td>\n",
       "      <td>0.756458</td>\n",
       "      <td>0.717514</td>\n",
       "      <td>0.299419</td>\n",
       "      <td>0.336957</td>\n",
       "      <td>1.0</td>\n",
       "      <td>0.303538</td>\n",
       "    </tr>\n",
       "    <tr>\n",
       "      <th>3</th>\n",
       "      <td>1</td>\n",
       "      <td>1</td>\n",
       "      <td>0.742038</td>\n",
       "      <td>35.0</td>\n",
       "      <td>1</td>\n",
       "      <td>0</td>\n",
       "      <td>53.1000</td>\n",
       "      <td>0.336957</td>\n",
       "      <td>0.629630</td>\n",
       "      <td>0.756458</td>\n",
       "      <td>0.717514</td>\n",
       "      <td>0.593220</td>\n",
       "      <td>0.336957</td>\n",
       "      <td>1.0</td>\n",
       "      <td>0.505650</td>\n",
       "    </tr>\n",
       "    <tr>\n",
       "      <th>4</th>\n",
       "      <td>0</td>\n",
       "      <td>3</td>\n",
       "      <td>0.188908</td>\n",
       "      <td>35.0</td>\n",
       "      <td>0</td>\n",
       "      <td>0</td>\n",
       "      <td>8.0500</td>\n",
       "      <td>0.336957</td>\n",
       "      <td>0.242363</td>\n",
       "      <td>0.163873</td>\n",
       "      <td>0.163873</td>\n",
       "      <td>0.299419</td>\n",
       "      <td>0.336957</td>\n",
       "      <td>0.0</td>\n",
       "      <td>0.303538</td>\n",
       "    </tr>\n",
       "    <tr>\n",
       "      <th>...</th>\n",
       "      <td>...</td>\n",
       "      <td>...</td>\n",
       "      <td>...</td>\n",
       "      <td>...</td>\n",
       "      <td>...</td>\n",
       "      <td>...</td>\n",
       "      <td>...</td>\n",
       "      <td>...</td>\n",
       "      <td>...</td>\n",
       "      <td>...</td>\n",
       "      <td>...</td>\n",
       "      <td>...</td>\n",
       "      <td>...</td>\n",
       "      <td>...</td>\n",
       "      <td>...</td>\n",
       "    </tr>\n",
       "    <tr>\n",
       "      <th>886</th>\n",
       "      <td>0</td>\n",
       "      <td>2</td>\n",
       "      <td>0.188908</td>\n",
       "      <td>27.0</td>\n",
       "      <td>0</td>\n",
       "      <td>0</td>\n",
       "      <td>13.0000</td>\n",
       "      <td>0.336957</td>\n",
       "      <td>0.472826</td>\n",
       "      <td>0.163873</td>\n",
       "      <td>0.163873</td>\n",
       "      <td>0.299419</td>\n",
       "      <td>0.336957</td>\n",
       "      <td>0.0</td>\n",
       "      <td>0.303538</td>\n",
       "    </tr>\n",
       "    <tr>\n",
       "      <th>887</th>\n",
       "      <td>1</td>\n",
       "      <td>1</td>\n",
       "      <td>0.742038</td>\n",
       "      <td>19.0</td>\n",
       "      <td>0</td>\n",
       "      <td>0</td>\n",
       "      <td>30.0000</td>\n",
       "      <td>0.336957</td>\n",
       "      <td>0.629630</td>\n",
       "      <td>0.756458</td>\n",
       "      <td>0.717514</td>\n",
       "      <td>0.744681</td>\n",
       "      <td>0.336957</td>\n",
       "      <td>1.0</td>\n",
       "      <td>0.303538</td>\n",
       "    </tr>\n",
       "    <tr>\n",
       "      <th>888</th>\n",
       "      <td>0</td>\n",
       "      <td>3</td>\n",
       "      <td>0.742038</td>\n",
       "      <td>NaN</td>\n",
       "      <td>1</td>\n",
       "      <td>2</td>\n",
       "      <td>23.4500</td>\n",
       "      <td>0.336957</td>\n",
       "      <td>0.242363</td>\n",
       "      <td>0.756458</td>\n",
       "      <td>0.717514</td>\n",
       "      <td>0.299419</td>\n",
       "      <td>0.336957</td>\n",
       "      <td>0.0</td>\n",
       "      <td>0.505650</td>\n",
       "    </tr>\n",
       "    <tr>\n",
       "      <th>889</th>\n",
       "      <td>1</td>\n",
       "      <td>1</td>\n",
       "      <td>0.188908</td>\n",
       "      <td>26.0</td>\n",
       "      <td>0</td>\n",
       "      <td>0</td>\n",
       "      <td>30.0000</td>\n",
       "      <td>0.553571</td>\n",
       "      <td>0.629630</td>\n",
       "      <td>0.163873</td>\n",
       "      <td>0.163873</td>\n",
       "      <td>0.593220</td>\n",
       "      <td>0.553571</td>\n",
       "      <td>1.0</td>\n",
       "      <td>0.303538</td>\n",
       "    </tr>\n",
       "    <tr>\n",
       "      <th>890</th>\n",
       "      <td>0</td>\n",
       "      <td>3</td>\n",
       "      <td>0.188908</td>\n",
       "      <td>32.0</td>\n",
       "      <td>0</td>\n",
       "      <td>0</td>\n",
       "      <td>7.7500</td>\n",
       "      <td>0.389610</td>\n",
       "      <td>0.242363</td>\n",
       "      <td>0.163873</td>\n",
       "      <td>0.163873</td>\n",
       "      <td>0.299419</td>\n",
       "      <td>0.389610</td>\n",
       "      <td>0.0</td>\n",
       "      <td>0.303538</td>\n",
       "    </tr>\n",
       "  </tbody>\n",
       "</table>\n",
       "<p>891 rows × 15 columns</p>\n",
       "</div>"
      ],
      "text/plain": [
       "     survived  pclass       sex   age  sibsp  parch     fare  embarked  \\\n",
       "0           0       3  0.188908  22.0      1      0   7.2500  0.336957   \n",
       "1           1       1  0.742038  38.0      1      0  71.2833  0.553571   \n",
       "2           1       3  0.742038  26.0      0      0   7.9250  0.336957   \n",
       "3           1       1  0.742038  35.0      1      0  53.1000  0.336957   \n",
       "4           0       3  0.188908  35.0      0      0   8.0500  0.336957   \n",
       "..        ...     ...       ...   ...    ...    ...      ...       ...   \n",
       "886         0       2  0.188908  27.0      0      0  13.0000  0.336957   \n",
       "887         1       1  0.742038  19.0      0      0  30.0000  0.336957   \n",
       "888         0       3  0.742038   NaN      1      2  23.4500  0.336957   \n",
       "889         1       1  0.188908  26.0      0      0  30.0000  0.553571   \n",
       "890         0       3  0.188908  32.0      0      0   7.7500  0.389610   \n",
       "\n",
       "        class       who  adult_male      deck  embark_town  alive     alone  \n",
       "0    0.242363  0.163873    0.163873  0.299419     0.336957    0.0  0.505650  \n",
       "1    0.629630  0.756458    0.717514  0.593220     0.553571    1.0  0.505650  \n",
       "2    0.242363  0.756458    0.717514  0.299419     0.336957    1.0  0.303538  \n",
       "3    0.629630  0.756458    0.717514  0.593220     0.336957    1.0  0.505650  \n",
       "4    0.242363  0.163873    0.163873  0.299419     0.336957    0.0  0.303538  \n",
       "..        ...       ...         ...       ...          ...    ...       ...  \n",
       "886  0.472826  0.163873    0.163873  0.299419     0.336957    0.0  0.303538  \n",
       "887  0.629630  0.756458    0.717514  0.744681     0.336957    1.0  0.303538  \n",
       "888  0.242363  0.756458    0.717514  0.299419     0.336957    0.0  0.505650  \n",
       "889  0.629630  0.163873    0.163873  0.593220     0.553571    1.0  0.303538  \n",
       "890  0.242363  0.163873    0.163873  0.299419     0.389610    0.0  0.303538  \n",
       "\n",
       "[891 rows x 15 columns]"
      ]
     },
     "metadata": {},
     "output_type": "display_data"
    }
   ],
   "source": [
    "import category_encoders as ce\n",
    "\n",
    "ce_target = ce.TargetEncoder(cols = cat_col)\n",
    "ce_target.fit(features, labels)\n",
    "features_transform = ce_target.transform(features, labels)\n",
    "titanic_transform = labels.join(features_transform)\n",
    "display(titanic_transform)"
   ]
  },
  {
   "cell_type": "code",
   "execution_count": 45,
   "metadata": {},
   "outputs": [
    {
     "name": "stdout",
     "output_type": "stream",
     "text": [
      "(714, 5)\n"
     ]
    }
   ],
   "source": [
    "from sklearn.feature_selection import SelectKBest\n",
    "from sklearn.feature_selection import chi2\n",
    "\n",
    "titanic_transform_dropna = titanic_transform.dropna()\n",
    "features = titanic_transform_dropna.drop(['survived'], axis=1)\n",
    "labels = titanic_transform_dropna[['survived']]\n",
    "best_features = SelectKBest(chi2, k=5).fit_transform(features, labels)\n",
    "print(best_features.shape)"
   ]
  },
  {
   "cell_type": "code",
   "execution_count": 46,
   "metadata": {},
   "outputs": [
    {
     "name": "stdout",
     "output_type": "stream",
     "text": [
      "   Nearest Neighbors | Accuracy: 74.94% (+/- 5.59%)\n",
      "          Linear SVM | Accuracy: 100.00% (+/- 0.00%)\n",
      "             RBF SVM | Accuracy: 66.94% (+/- 2.20%)\n",
      "    Gaussian Process | Accuracy: 73.74% (+/- 4.48%)\n",
      "       Decision Tree | Accuracy: 100.00% (+/- 0.00%)\n",
      "       Random Forest | Accuracy: 99.80% (+/- 0.40%)\n",
      "          Neural Net | Accuracy: 99.20% (+/- 0.75%)\n",
      "            AdaBoost | Accuracy: 100.00% (+/- 0.00%)\n",
      "         Naive Bayes | Accuracy: 100.00% (+/- 0.00%)\n",
      "                 QDA | Accuracy: 55.72% (+/- 7.87%)\n"
     ]
    }
   ],
   "source": [
    "from sklearn.neural_network import MLPClassifier\n",
    "from sklearn.neighbors import KNeighborsClassifier\n",
    "from sklearn.svm import SVC\n",
    "from sklearn.gaussian_process import GaussianProcessClassifier\n",
    "from sklearn.tree import DecisionTreeClassifier\n",
    "from sklearn.ensemble import RandomForestClassifier, AdaBoostClassifier\n",
    "from sklearn.naive_bayes import GaussianNB\n",
    "from sklearn.discriminant_analysis import QuadraticDiscriminantAnalysis\n",
    "from sklearn.model_selection import train_test_split\n",
    "from sklearn.model_selection import cross_val_score\n",
    "\n",
    "features_train, features_test, labels_train, labels_test = train_test_split(features, labels, test_size=0.3, random_state=42)\n",
    "\n",
    "names = [\n",
    "    \"Nearest Neighbors\",\n",
    "    \"Linear SVM\",\n",
    "    \"RBF SVM\",\n",
    "    \"Gaussian Process\",\n",
    "    \"Decision Tree\",\n",
    "    \"Random Forest\",\n",
    "    \"Neural Net\",\n",
    "    \"AdaBoost\",\n",
    "    \"Naive Bayes\",\n",
    "    \"QDA\"\n",
    "]\n",
    "\n",
    "classifiers = [\n",
    "    {'name': \"Nearest Neighbors\", 'model': KNeighborsClassifier()},\n",
    "    {'name': \"Linear SVM\",        'model': SVC(kernel=\"linear\")},\n",
    "    {'name': \"RBF SVM\",           'model': SVC(kernel=\"rbf\")},\n",
    "    {'name': \"Gaussian Process\",  'model': GaussianProcessClassifier()},\n",
    "    {'name': \"Decision Tree\",     'model': DecisionTreeClassifier()},\n",
    "    {'name': \"Random Forest\",     'model': RandomForestClassifier()},\n",
    "    {'name': \"Neural Net\",        'model': MLPClassifier()},\n",
    "    {'name': \"AdaBoost\",          'model': AdaBoostClassifier()},\n",
    "    {'name': \"Naive Bayes\",       'model': GaussianNB()},\n",
    "    {'name': \"QDA\",               'model': QuadraticDiscriminantAnalysis()},\n",
    "]\n",
    "\n",
    "for classifier in classifiers:\n",
    "    model = classifier['model']\n",
    "    name = classifier['name']\n",
    "\n",
    "    scores = cross_val_score(model, features_train, labels_train, cv=5)\n",
    "\n",
    "    accuracy = 100 * scores.mean()\n",
    "    stdev = 100 * scores.std()\n",
    "\n",
    "    print(f'{name:>20} | Accuracy: {accuracy:.2f}% (+/- {stdev:.2f}%)')"
   ]
  }
 ],
 "metadata": {
  "colab": {
   "collapsed_sections": [],
   "name": "LinearRegression.ipynb",
   "provenance": []
  },
  "kernelspec": {
   "display_name": "Python 3",
   "language": "python",
   "name": "python3"
  },
  "language_info": {
   "codemirror_mode": {
    "name": "ipython",
    "version": 3
   },
   "file_extension": ".py",
   "mimetype": "text/x-python",
   "name": "python",
   "nbconvert_exporter": "python",
   "pygments_lexer": "ipython3",
   "version": "3.8.5"
  }
 },
 "nbformat": 4,
 "nbformat_minor": 1
}
