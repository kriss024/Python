{
 "cells": [
  {
   "cell_type": "code",
   "execution_count": 1,
   "metadata": {},
   "outputs": [],
   "source": [
    "from geopy.geocoders import Nominatim"
   ]
  },
  {
   "cell_type": "code",
   "execution_count": 2,
   "metadata": {},
   "outputs": [
    {
     "name": "stdout",
     "output_type": "stream",
     "text": [
      "BGŻ BNP Paribas, 10/16, Marcina Kasprzaka, Czyste, Wola, Warszawa, województwo mazowieckie, 01-213, Polska\n",
      "(52.2294694, 20.974774)\n"
     ]
    }
   ],
   "source": [
    "geolocator = Nominatim(user_agent=\"http\")\n",
    "address = 'BGŻ BNP Paribas, Marcina Kasprzaka 2, 01-211 Warszawa'\n",
    "location = geolocator.geocode(address)\n",
    "print(location.address)\n",
    "print((location.latitude, location.longitude))"
   ]
  },
  {
   "cell_type": "code",
   "execution_count": 3,
   "metadata": {},
   "outputs": [],
   "source": [
    "import requests\n",
    "import urllib.parse"
   ]
  },
  {
   "cell_type": "code",
   "execution_count": 4,
   "metadata": {},
   "outputs": [
    {
     "name": "stdout",
     "output_type": "stream",
     "text": [
      "('52.2294694', '20.974774')\n",
      "BGŻ BNP Paribas, 10/16, Marcina Kasprzaka, Czyste, Wola, Warszawa, województwo mazowieckie, 01-213, Polska\n"
     ]
    }
   ],
   "source": [
    "address = 'BGŻ BNP Paribas, Marcina Kasprzaka 2, 01-211 Warszawa'\n",
    "url = 'https://nominatim.openstreetmap.org/search/' + urllib.parse.quote(address) +'?format=json'\n",
    "\n",
    "response = requests.get(url).json()\n",
    "print((response[0][\"lat\"], response[0][\"lon\"]))\n",
    "print(response[0][\"display_name\"])"
   ]
  },
  {
   "cell_type": "code",
   "execution_count": 5,
   "metadata": {},
   "outputs": [
    {
     "name": "stdout",
     "output_type": "stream",
     "text": [
      "BGŻ BNP Paribas, 10/16, Marcina Kasprzaka, Czyste, Wola, Warszawa, województwo mazowieckie, 01-213, Polska\n",
      "(52.2294694, 20.974774)\n",
      "done!\n"
     ]
    }
   ],
   "source": [
    "geolocator = Nominatim(user_agent=\"http\")\n",
    "address = 'BGŻ BNP Paribas, Marcina Kasprzaka 2, 01-211 Warszawa'\n",
    "\n",
    "try:\n",
    "    location = geolocator.geocode(address)\n",
    "    print(location.address)\n",
    "    print((location.latitude, location.longitude))\n",
    "except:\n",
    "    print(\"address is not defined!\")\n",
    "finally:\n",
    "    print(\"done!\")"
   ]
  },
  {
   "cell_type": "code",
   "execution_count": 6,
   "metadata": {},
   "outputs": [],
   "source": [
    "import numpy as np\n",
    "import pandas as pd\n",
    "import json\n",
    "from IPython.display import display"
   ]
  },
  {
   "cell_type": "code",
   "execution_count": 7,
   "metadata": {},
   "outputs": [
    {
     "data": {
      "text/html": [
       "<div>\n",
       "<style scoped>\n",
       "    .dataframe tbody tr th:only-of-type {\n",
       "        vertical-align: middle;\n",
       "    }\n",
       "\n",
       "    .dataframe tbody tr th {\n",
       "        vertical-align: top;\n",
       "    }\n",
       "\n",
       "    .dataframe thead th {\n",
       "        text-align: right;\n",
       "    }\n",
       "</style>\n",
       "<table border=\"1\" class=\"dataframe\">\n",
       "  <thead>\n",
       "    <tr style=\"text-align: right;\">\n",
       "      <th></th>\n",
       "      <th>address</th>\n",
       "      <th>address_loc</th>\n",
       "      <th>latitude</th>\n",
       "      <th>longitude</th>\n",
       "    </tr>\n",
       "  </thead>\n",
       "  <tbody>\n",
       "    <tr>\n",
       "      <th>0</th>\n",
       "      <td>Marcina Kasprzaka 2, 01-211 Warszawa</td>\n",
       "      <td></td>\n",
       "      <td>NaN</td>\n",
       "      <td>NaN</td>\n",
       "    </tr>\n",
       "    <tr>\n",
       "      <th>1</th>\n",
       "      <td>Aleja Jana Pawła II 17, 00-854 Warszawa</td>\n",
       "      <td></td>\n",
       "      <td>NaN</td>\n",
       "      <td>NaN</td>\n",
       "    </tr>\n",
       "    <tr>\n",
       "      <th>2</th>\n",
       "      <td>Puławska 15, 02-515 Warszawa</td>\n",
       "      <td></td>\n",
       "      <td>NaN</td>\n",
       "      <td>NaN</td>\n",
       "    </tr>\n",
       "    <tr>\n",
       "      <th>3</th>\n",
       "      <td>Rondo Ignacego Daszyńskiego 2C, 00-843 Warszawa</td>\n",
       "      <td></td>\n",
       "      <td>NaN</td>\n",
       "      <td>NaN</td>\n",
       "    </tr>\n",
       "    <tr>\n",
       "      <th>4</th>\n",
       "      <td>Świętokrzyska 11/21, 00-919 Warszawa</td>\n",
       "      <td></td>\n",
       "      <td>NaN</td>\n",
       "      <td>NaN</td>\n",
       "    </tr>\n",
       "  </tbody>\n",
       "</table>\n",
       "</div>"
      ],
      "text/plain": [
       "                                           address address_loc  latitude  \\\n",
       "0             Marcina Kasprzaka 2, 01-211 Warszawa                   NaN   \n",
       "1          Aleja Jana Pawła II 17, 00-854 Warszawa                   NaN   \n",
       "2                     Puławska 15, 02-515 Warszawa                   NaN   \n",
       "3  Rondo Ignacego Daszyńskiego 2C, 00-843 Warszawa                   NaN   \n",
       "4             Świętokrzyska 11/21, 00-919 Warszawa                   NaN   \n",
       "\n",
       "   longitude  \n",
       "0        NaN  \n",
       "1        NaN  \n",
       "2        NaN  \n",
       "3        NaN  \n",
       "4        NaN  "
      ]
     },
     "metadata": {},
     "output_type": "display_data"
    }
   ],
   "source": [
    "a1 = 'Marcina Kasprzaka 2, 01-211 Warszawa'\n",
    "a2 = 'Aleja Jana Pawła II 17, 00-854 Warszawa'\n",
    "a3 = 'Puławska 15, 02-515 Warszawa'\n",
    "a4 = 'Rondo Ignacego Daszyńskiego 2C, 00-843 Warszawa'\n",
    "a5 = 'Świętokrzyska 11/21, 00-919 Warszawa'\n",
    "address_dict = {'address': [a1, a2, a3, a4, a5]}\n",
    "dataframe = pd.DataFrame.from_dict(address_dict)\n",
    "dataframe['address_loc'] = ''\n",
    "dataframe['latitude'] = np.nan\n",
    "dataframe['longitude'] = np.nan\n",
    "display(dataframe)"
   ]
  },
  {
   "cell_type": "code",
   "execution_count": 8,
   "metadata": {},
   "outputs": [
    {
     "data": {
      "text/html": [
       "<div>\n",
       "<style scoped>\n",
       "    .dataframe tbody tr th:only-of-type {\n",
       "        vertical-align: middle;\n",
       "    }\n",
       "\n",
       "    .dataframe tbody tr th {\n",
       "        vertical-align: top;\n",
       "    }\n",
       "\n",
       "    .dataframe thead th {\n",
       "        text-align: right;\n",
       "    }\n",
       "</style>\n",
       "<table border=\"1\" class=\"dataframe\">\n",
       "  <thead>\n",
       "    <tr style=\"text-align: right;\">\n",
       "      <th></th>\n",
       "      <th>address</th>\n",
       "      <th>address_loc</th>\n",
       "      <th>latitude</th>\n",
       "      <th>longitude</th>\n",
       "    </tr>\n",
       "  </thead>\n",
       "  <tbody>\n",
       "    <tr>\n",
       "      <th>0</th>\n",
       "      <td>Marcina Kasprzaka 2, 01-211 Warszawa</td>\n",
       "      <td>2, Marcina Kasprzaka, Czyste, Wola, Warszawa, ...</td>\n",
       "      <td>52.230035</td>\n",
       "      <td>20.977560</td>\n",
       "    </tr>\n",
       "    <tr>\n",
       "      <th>1</th>\n",
       "      <td>Aleja Jana Pawła II 17, 00-854 Warszawa</td>\n",
       "      <td>Santander, 17, Aleja Jana Pawła II, Za Żelazną...</td>\n",
       "      <td>52.234046</td>\n",
       "      <td>20.997241</td>\n",
       "    </tr>\n",
       "    <tr>\n",
       "      <th>2</th>\n",
       "      <td>Puławska 15, 02-515 Warszawa</td>\n",
       "      <td>15, Puławska, Stary Mokotów, Mokotów, Warszawa...</td>\n",
       "      <td>52.210814</td>\n",
       "      <td>21.022002</td>\n",
       "    </tr>\n",
       "    <tr>\n",
       "      <th>3</th>\n",
       "      <td>Rondo Ignacego Daszyńskiego 2C, 00-843 Warszawa</td>\n",
       "      <td>Rondo Ignacego Daszyńskiego, Mirów, Wola, Wars...</td>\n",
       "      <td>52.230066</td>\n",
       "      <td>20.984641</td>\n",
       "    </tr>\n",
       "    <tr>\n",
       "      <th>4</th>\n",
       "      <td>Świętokrzyska 11/21, 00-919 Warszawa</td>\n",
       "      <td>address is not defined!</td>\n",
       "      <td>NaN</td>\n",
       "      <td>NaN</td>\n",
       "    </tr>\n",
       "  </tbody>\n",
       "</table>\n",
       "</div>"
      ],
      "text/plain": [
       "                                           address  \\\n",
       "0             Marcina Kasprzaka 2, 01-211 Warszawa   \n",
       "1          Aleja Jana Pawła II 17, 00-854 Warszawa   \n",
       "2                     Puławska 15, 02-515 Warszawa   \n",
       "3  Rondo Ignacego Daszyńskiego 2C, 00-843 Warszawa   \n",
       "4             Świętokrzyska 11/21, 00-919 Warszawa   \n",
       "\n",
       "                                         address_loc   latitude  longitude  \n",
       "0  2, Marcina Kasprzaka, Czyste, Wola, Warszawa, ...  52.230035  20.977560  \n",
       "1  Santander, 17, Aleja Jana Pawła II, Za Żelazną...  52.234046  20.997241  \n",
       "2  15, Puławska, Stary Mokotów, Mokotów, Warszawa...  52.210814  21.022002  \n",
       "3  Rondo Ignacego Daszyńskiego, Mirów, Wola, Wars...  52.230066  20.984641  \n",
       "4                            address is not defined!        NaN        NaN  "
      ]
     },
     "metadata": {},
     "output_type": "display_data"
    }
   ],
   "source": [
    "geolocator = Nominatim(user_agent=\"http\")\n",
    "\n",
    "for index, row in dataframe.iterrows():\n",
    "    address = row['address']\n",
    "    latitude = None\n",
    "    longitude = None\n",
    "    try:\n",
    "        location = geolocator.geocode(address)\n",
    "        address_loc = location.address\n",
    "        latitude = location.latitude\n",
    "        longitude = location.longitude\n",
    "    except:\n",
    "        latitude = None\n",
    "        longitude = None\n",
    "        address_loc = 'address is not defined!'\n",
    "    finally:\n",
    "        dataframe.at[index, 'address_loc'] = address_loc\n",
    "        dataframe.at[index, 'latitude'] = latitude\n",
    "        dataframe.at[index, 'longitude'] = longitude\n",
    "\n",
    "display(dataframe)"
   ]
  }
 ],
 "metadata": {
  "kernelspec": {
   "display_name": "Python 3",
   "language": "python",
   "name": "python3"
  },
  "language_info": {
   "codemirror_mode": {
    "name": "ipython",
    "version": 3
   },
   "file_extension": ".py",
   "mimetype": "text/x-python",
   "name": "python",
   "nbconvert_exporter": "python",
   "pygments_lexer": "ipython3",
   "version": "3.8.5"
  }
 },
 "nbformat": 4,
 "nbformat_minor": 4
}
