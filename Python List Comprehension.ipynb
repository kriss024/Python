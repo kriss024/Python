{
 "cells": [
  {
   "cell_type": "markdown",
   "id": "614ad740-a17f-42a2-94f3-fcf09b6689c2",
   "metadata": {},
   "source": [
    "1. Basic List Comprehension"
   ]
  },
  {
   "cell_type": "code",
   "execution_count": 1,
   "id": "2882a2e1-91d0-422d-b4a3-14490690a877",
   "metadata": {},
   "outputs": [
    {
     "data": {
      "text/plain": [
       "[0, 1, 2, 3, 4]"
      ]
     },
     "execution_count": 1,
     "metadata": {},
     "output_type": "execute_result"
    }
   ],
   "source": [
    "[x for x in range(5)]"
   ]
  },
  {
   "cell_type": "code",
   "execution_count": 2,
   "id": "34ca172d-6f45-46b4-92c5-2738671d4f1b",
   "metadata": {},
   "outputs": [
    {
     "data": {
      "text/plain": [
       "[0, 1, 4, 9, 16]"
      ]
     },
     "execution_count": 2,
     "metadata": {},
     "output_type": "execute_result"
    }
   ],
   "source": [
    "[x**2 for x in range(5)]"
   ]
  },
  {
   "cell_type": "markdown",
   "id": "74b79288-5b9f-4aff-b875-d55ff30609c0",
   "metadata": {},
   "source": [
    "2. List Comprehension with Condition (Filtering)"
   ]
  },
  {
   "cell_type": "code",
   "execution_count": 3,
   "id": "af6a26f6-42a5-4239-bcb9-e2154f2d9669",
   "metadata": {},
   "outputs": [
    {
     "data": {
      "text/plain": [
       "[0, 2, 4, 6, 8]"
      ]
     },
     "execution_count": 3,
     "metadata": {},
     "output_type": "execute_result"
    }
   ],
   "source": [
    "[x for x in range(10) if x % 2 == 0]"
   ]
  },
  {
   "cell_type": "code",
   "execution_count": 4,
   "id": "abd4fffb-736d-4e99-8251-a78bab3459bc",
   "metadata": {},
   "outputs": [
    {
     "data": {
      "text/plain": [
       "[1, 4, 9]"
      ]
     },
     "execution_count": 4,
     "metadata": {},
     "output_type": "execute_result"
    }
   ],
   "source": [
    "numbers = [-2, -1, 0, 1, 2, 3]\n",
    "[x**2 for x in numbers if x > 0]"
   ]
  },
  {
   "cell_type": "code",
   "execution_count": 5,
   "id": "021330a3-c8d1-499b-b750-c7edf40bbcff",
   "metadata": {},
   "outputs": [
    {
     "data": {
      "text/plain": [
       "[1, 2, 6, 7]"
      ]
     },
     "execution_count": 5,
     "metadata": {},
     "output_type": "execute_result"
    }
   ],
   "source": [
    "nums = [1, 2, 3, 4, 5, 6, 7]\n",
    "[x for x in nums if x < 3 or x > 5]"
   ]
  },
  {
   "cell_type": "code",
   "execution_count": 6,
   "id": "7dbc9de6-f619-45e4-9a6c-812f3c7ba21e",
   "metadata": {},
   "outputs": [
    {
     "data": {
      "text/plain": [
       "['low', 'high', 'low', 'high', 'low', 'high', 'low']"
      ]
     },
     "execution_count": 6,
     "metadata": {},
     "output_type": "execute_result"
    }
   ],
   "source": [
    "[3, 6, 9, 12]\n",
    "['low' if x < 10 and x % 2 == 1 else 'high' for x in nums]"
   ]
  },
  {
   "cell_type": "code",
   "execution_count": 7,
   "id": "2b879f32-8c55-4a9e-a4ef-dbbeb91e8768",
   "metadata": {},
   "outputs": [
    {
     "data": {
      "text/plain": [
       "[3, 4, 5]"
      ]
     },
     "execution_count": 7,
     "metadata": {},
     "output_type": "execute_result"
    }
   ],
   "source": [
    "list1 = [1, 2, 3, 4, 5]\n",
    "list2 = [3, 4, 5, 6, 7]\n",
    "[x for x in list1 if x in list2]"
   ]
  },
  {
   "cell_type": "code",
   "execution_count": 8,
   "id": "885e805a-af53-4db4-a88d-3a4876c5dc8b",
   "metadata": {},
   "outputs": [
    {
     "data": {
      "text/plain": [
       "['no', 'yes', 'no', 'yes']"
      ]
     },
     "execution_count": 8,
     "metadata": {},
     "output_type": "execute_result"
    }
   ],
   "source": [
    "list1 = ['a', 'b', 'c', 'd']\n",
    "list2 = ['b', 'd']\n",
    "['yes' if x in list2 else 'no' for x in list1]"
   ]
  },
  {
   "cell_type": "code",
   "execution_count": 9,
   "id": "ede7f718-c9f6-4600-bb17-b1c028efd310",
   "metadata": {},
   "outputs": [
    {
     "data": {
      "text/plain": [
       "['apple', 'pineapple']"
      ]
     },
     "execution_count": 9,
     "metadata": {},
     "output_type": "execute_result"
    }
   ],
   "source": [
    "fruits = ['apple', 'banana', 'pineapple', 'grape']\n",
    "[fruit for fruit in fruits if 'apple' in fruit]"
   ]
  },
  {
   "cell_type": "code",
   "execution_count": 10,
   "id": "048bbc84-4dd1-488e-9296-3d350e55a0be",
   "metadata": {},
   "outputs": [
    {
     "data": {
      "text/plain": [
       "['banana', 'grape']"
      ]
     },
     "execution_count": 10,
     "metadata": {},
     "output_type": "execute_result"
    }
   ],
   "source": [
    "fruits = ['apple', 'banana', 'pineapple', 'grape']\n",
    "[fruit for fruit in fruits if 'apple' not in fruit]"
   ]
  },
  {
   "cell_type": "markdown",
   "id": "29ea1c4a-38fa-4948-8322-119a7293d526",
   "metadata": {},
   "source": [
    "3. List Comprehension with If-Else (Ternary Expression)"
   ]
  },
  {
   "cell_type": "code",
   "execution_count": 11,
   "id": "759e2499-3f37-49a0-8629-0e697d08a845",
   "metadata": {},
   "outputs": [
    {
     "data": {
      "text/plain": [
       "['even', 'odd', 'even', 'odd', 'even']"
      ]
     },
     "execution_count": 11,
     "metadata": {},
     "output_type": "execute_result"
    }
   ],
   "source": [
    "[\"even\" if x % 2 == 0 else \"odd\" for x in range(5)]"
   ]
  },
  {
   "cell_type": "code",
   "execution_count": 12,
   "id": "9bf8ec51-2171-4a8c-8be5-048d0ed5e96d",
   "metadata": {},
   "outputs": [
    {
     "data": {
      "text/plain": [
       "[0, 0, 4, 0, 16]"
      ]
     },
     "execution_count": 12,
     "metadata": {},
     "output_type": "execute_result"
    }
   ],
   "source": [
    "[x**2 if x % 2 == 0 else 0 for x in range(5)]"
   ]
  },
  {
   "cell_type": "code",
   "execution_count": 13,
   "id": "d391340a-adda-45f2-8ac2-ced6e5b334c1",
   "metadata": {},
   "outputs": [
    {
     "data": {
      "text/plain": [
       "[1, 3]"
      ]
     },
     "execution_count": 13,
     "metadata": {},
     "output_type": "execute_result"
    }
   ],
   "source": [
    "[x for x in [1, \"a\", 2.5, 3] if isinstance(x, int)]"
   ]
  },
  {
   "cell_type": "markdown",
   "id": "7e1aca37-e658-406c-92c7-c15ad76a772c",
   "metadata": {},
   "source": [
    "4. Nested List Comprehension"
   ]
  },
  {
   "cell_type": "code",
   "execution_count": 14,
   "id": "067a76e2-d300-4116-bdd8-49e1c95c24c8",
   "metadata": {},
   "outputs": [
    {
     "data": {
      "text/plain": [
       "[[0, 0, 0], [0, 1, 2], [0, 2, 4]]"
      ]
     },
     "execution_count": 14,
     "metadata": {},
     "output_type": "execute_result"
    }
   ],
   "source": [
    "[[x * y for y in range(3)] for x in range(3)]"
   ]
  },
  {
   "cell_type": "markdown",
   "id": "be593eb9-0b7d-4ca3-9f50-218d2899eaf2",
   "metadata": {},
   "source": [
    "5. List Comprehension with Function Calls"
   ]
  },
  {
   "cell_type": "code",
   "execution_count": 15,
   "id": "7ccd01b7-2a4a-4d80-84d4-cae1fdbb1b96",
   "metadata": {},
   "outputs": [
    {
     "data": {
      "text/plain": [
       "[0.0, 1.0, 1.4142135623730951, 1.7320508075688772, 2.0]"
      ]
     },
     "execution_count": 15,
     "metadata": {},
     "output_type": "execute_result"
    }
   ],
   "source": [
    "import math\n",
    "[math.sqrt(x) for x in range(5)]"
   ]
  },
  {
   "cell_type": "code",
   "execution_count": 16,
   "id": "d603c35b-4648-49fc-aff5-2aa444a9ec74",
   "metadata": {},
   "outputs": [
    {
     "data": {
      "text/plain": [
       "[0, 1, 4, 9, 16]"
      ]
     },
     "execution_count": 16,
     "metadata": {},
     "output_type": "execute_result"
    }
   ],
   "source": [
    "def square(x):\n",
    "    return x * x\n",
    "    \n",
    "[square(x) for x in range(5)]"
   ]
  },
  {
   "cell_type": "code",
   "execution_count": 17,
   "id": "36674d3d-7dc2-4c98-9353-b0238919038d",
   "metadata": {},
   "outputs": [
    {
     "data": {
      "text/plain": [
       "[None, 10.0, 5.0]"
      ]
     },
     "execution_count": 17,
     "metadata": {},
     "output_type": "execute_result"
    }
   ],
   "source": [
    "def safe_div(x):\n",
    "    try:\n",
    "        return 10 / x\n",
    "    except ZeroDivisionError:\n",
    "        return None\n",
    "\n",
    "[safe_div(x) for x in [0, 1, 2]]"
   ]
  },
  {
   "cell_type": "markdown",
   "id": "3514adf3-5ec4-4b32-970b-0b1430e2790c",
   "metadata": {},
   "source": [
    "6. Replace None with Default Value"
   ]
  },
  {
   "cell_type": "code",
   "execution_count": 18,
   "id": "628b2090-3e31-4edd-81d8-fd53d78aaaeb",
   "metadata": {},
   "outputs": [
    {
     "data": {
      "text/plain": [
       "[10, 0, 30, 0, 50]"
      ]
     },
     "execution_count": 18,
     "metadata": {},
     "output_type": "execute_result"
    }
   ],
   "source": [
    "data = [10, None, 30, None, 50]\n",
    "[x if x is not None else 0 for x in data]"
   ]
  },
  {
   "cell_type": "markdown",
   "id": "ec5165af-2271-47ae-9cd8-ac840d48a170",
   "metadata": {},
   "source": [
    "7. List Comprehension with String Manipulation"
   ]
  },
  {
   "cell_type": "code",
   "execution_count": 19,
   "id": "9d5232d1-74c6-405d-9a18-1587a860bce2",
   "metadata": {},
   "outputs": [
    {
     "data": {
      "text/plain": [
       "['HELLO', 'WORLD']"
      ]
     },
     "execution_count": 19,
     "metadata": {},
     "output_type": "execute_result"
    }
   ],
   "source": [
    "[word.upper() for word in [\"hello\", \"world\"]]"
   ]
  },
  {
   "cell_type": "code",
   "execution_count": 20,
   "id": "c862b669-c8d4-4197-9b21-cc6af8cfc6f3",
   "metadata": {},
   "outputs": [
    {
     "data": {
      "text/plain": [
       "['hello', 'world']"
      ]
     },
     "execution_count": 20,
     "metadata": {},
     "output_type": "execute_result"
    }
   ],
   "source": [
    "[word.lower() for word in [\"HELLO\", \"WORLD\"]]"
   ]
  },
  {
   "cell_type": "code",
   "execution_count": 21,
   "id": "82e2d4c5-07de-4798-8d6b-2372660f1311",
   "metadata": {},
   "outputs": [
    {
     "data": {
      "text/plain": [
       "['a', 'b', 'c']"
      ]
     },
     "execution_count": 21,
     "metadata": {},
     "output_type": "execute_result"
    }
   ],
   "source": [
    "[s.strip() for s in [\" a \", \" b \", \"c \"]]"
   ]
  },
  {
   "cell_type": "code",
   "execution_count": 22,
   "id": "06209fbd-b62e-45e1-92dd-6911a58ecae1",
   "metadata": {},
   "outputs": [
    {
     "data": {
      "text/plain": [
       "['HELLO', 'WORLD']"
      ]
     },
     "execution_count": 22,
     "metadata": {},
     "output_type": "execute_result"
    }
   ],
   "source": [
    "words = [\" hello \", \" world\"]\n",
    "[word.strip().upper() for word in words]"
   ]
  },
  {
   "cell_type": "code",
   "execution_count": 23,
   "id": "fe506f54-6e7c-45dd-aecf-123fc3092bf6",
   "metadata": {},
   "outputs": [
    {
     "data": {
      "text/plain": [
       "['apple', 'avocado']"
      ]
     },
     "execution_count": 23,
     "metadata": {},
     "output_type": "execute_result"
    }
   ],
   "source": [
    "words = ['apple', 'banana', 'avocado', 'cherry']\n",
    "[word for word in words if word.startswith('a')]"
   ]
  },
  {
   "cell_type": "code",
   "execution_count": 24,
   "id": "8af77f2d-a659-4277-b243-224b5b6aef42",
   "metadata": {},
   "outputs": [
    {
     "data": {
      "text/plain": [
       "['apple', 'banana']"
      ]
     },
     "execution_count": 24,
     "metadata": {},
     "output_type": "execute_result"
    }
   ],
   "source": [
    "words = ['apple', 'banana', 'avocado', 'cherry']\n",
    "[word for word in words if word.endswith('a') or word.endswith('e')]"
   ]
  },
  {
   "cell_type": "code",
   "execution_count": 25,
   "id": "56a258de-f433-47ae-9017-57bbc790cd6c",
   "metadata": {},
   "outputs": [
    {
     "data": {
      "text/plain": [
       "['HELLO', 'WORLD', 'PYTHON', 'list', 'COMPREHENSION']"
      ]
     },
     "execution_count": 25,
     "metadata": {},
     "output_type": "execute_result"
    }
   ],
   "source": [
    "words = ['hello', 'world', 'python', 'list', 'comprehension']\n",
    "[word.upper() if len(word) > 4 else word.lower() for word in words]"
   ]
  },
  {
   "cell_type": "code",
   "execution_count": 26,
   "id": "3c61eece-565d-4040-8cb1-b368d6953235",
   "metadata": {},
   "outputs": [
    {
     "data": {
      "text/plain": [
       "['warning.log']"
      ]
     },
     "execution_count": 26,
     "metadata": {},
     "output_type": "execute_result"
    }
   ],
   "source": [
    "text_data = ['error.log', 'report.csv', 'summary.txt', 'warning.log']\n",
    "[t for t in text_data if 'log' in t and 'error' not in t]"
   ]
  },
  {
   "cell_type": "code",
   "execution_count": 27,
   "id": "5c2fe2f0-2b05-4feb-b9f1-2d3a596c5de5",
   "metadata": {},
   "outputs": [
    {
     "data": {
      "text/plain": [
       "'Grade: Pass'"
      ]
     },
     "execution_count": 27,
     "metadata": {},
     "output_type": "execute_result"
    }
   ],
   "source": [
    "score = 85\n",
    "grade = f\"Grade: {'Pass' if score >= 60 else 'Fail'}\"\n",
    "grade"
   ]
  },
  {
   "cell_type": "markdown",
   "id": "1473bed1-6542-400e-bbf0-3e8ed0f4fe52",
   "metadata": {},
   "source": [
    "8. List Comprehension with Dictionary Iteration"
   ]
  },
  {
   "cell_type": "code",
   "execution_count": 28,
   "id": "95cf3afb-bed2-4043-a2b5-bc0c5b08422b",
   "metadata": {},
   "outputs": [
    {
     "data": {
      "text/plain": [
       "[('a', 1), ('b', 2)]"
      ]
     },
     "execution_count": 28,
     "metadata": {},
     "output_type": "execute_result"
    }
   ],
   "source": [
    "dictionary = {\"a\": 1, \"b\": 2}\n",
    "[(k, v) for k, v in dictionary.items()]"
   ]
  },
  {
   "cell_type": "code",
   "execution_count": 29,
   "id": "1b043569-cd9f-48dd-8147-d9c0c144a5b5",
   "metadata": {},
   "outputs": [
    {
     "data": {
      "text/plain": [
       "[('b', 2)]"
      ]
     },
     "execution_count": 29,
     "metadata": {},
     "output_type": "execute_result"
    }
   ],
   "source": [
    "[(k, v) for k, v in dictionary.items() if v % 2 == 0]"
   ]
  },
  {
   "cell_type": "markdown",
   "id": "9aa46ef8-7ddf-4dd7-bb50-7018ae0f176c",
   "metadata": {},
   "source": [
    "9. Using Zip in List Comprehension"
   ]
  },
  {
   "cell_type": "code",
   "execution_count": 30,
   "id": "8b0af6e6-617f-4183-a080-ff74ef382753",
   "metadata": {},
   "outputs": [
    {
     "data": {
      "text/plain": [
       "[4, 6, 8, 10, 12]"
      ]
     },
     "execution_count": 30,
     "metadata": {},
     "output_type": "execute_result"
    }
   ],
   "source": [
    "list1 = [1, 2, 3, 4, 5]\n",
    "list2 = [3, 4, 5, 6, 7]\n",
    "[x + y for x, y in zip(list1, list2)]"
   ]
  },
  {
   "cell_type": "markdown",
   "id": "e2a89ab7-3445-4d05-b099-a0103ddc9e21",
   "metadata": {},
   "source": [
    "10. Using set, dict, and generator comprehensions"
   ]
  },
  {
   "cell_type": "code",
   "execution_count": 31,
   "id": "65a09b53-9323-4e8f-9256-3b19d496d569",
   "metadata": {},
   "outputs": [
    {
     "data": {
      "text/plain": [
       "{0, 1, 2, 3, 4}"
      ]
     },
     "execution_count": 31,
     "metadata": {},
     "output_type": "execute_result"
    }
   ],
   "source": [
    "{x for x in range(5)}"
   ]
  },
  {
   "cell_type": "code",
   "execution_count": 32,
   "id": "321e4455-7412-4b10-9817-574b2947a16d",
   "metadata": {},
   "outputs": [
    {
     "data": {
      "text/plain": [
       "{1, 2, 3}"
      ]
     },
     "execution_count": 32,
     "metadata": {},
     "output_type": "execute_result"
    }
   ],
   "source": [
    "{x for x in [1, 1, 2, 3, 3]}"
   ]
  },
  {
   "cell_type": "code",
   "execution_count": 33,
   "id": "b1e661ad-bc7f-457d-afb1-f4fa124251be",
   "metadata": {},
   "outputs": [
    {
     "data": {
      "text/plain": [
       "{0: 0, 1: 1, 2: 4, 3: 9, 4: 16}"
      ]
     },
     "execution_count": 33,
     "metadata": {},
     "output_type": "execute_result"
    }
   ],
   "source": [
    "{x: x**2 for x in range(5)}"
   ]
  },
  {
   "cell_type": "code",
   "execution_count": 34,
   "id": "dc01bcf5-183a-437b-a744-cd362531b0d2",
   "metadata": {},
   "outputs": [
    {
     "data": {
      "text/plain": [
       "<generator object <genexpr> at 0x000001C3B0528AC0>"
      ]
     },
     "execution_count": 34,
     "metadata": {},
     "output_type": "execute_result"
    }
   ],
   "source": [
    "generator = (x for x in range(5))\n",
    "generator"
   ]
  },
  {
   "cell_type": "code",
   "execution_count": 35,
   "id": "6d1e8827-48bd-4247-a19e-7a384bec5814",
   "metadata": {},
   "outputs": [
    {
     "data": {
      "text/plain": [
       "[0, 1, 2, 3, 4]"
      ]
     },
     "execution_count": 35,
     "metadata": {},
     "output_type": "execute_result"
    }
   ],
   "source": [
    "list(generator)"
   ]
  },
  {
   "cell_type": "markdown",
   "id": "74dcd259-333b-42bf-bc2c-97fcd38d251a",
   "metadata": {},
   "source": [
    "11. Combine Two Lists into Pairs"
   ]
  },
  {
   "cell_type": "code",
   "execution_count": 36,
   "id": "7ddbd722-64e4-4283-81e9-78782d0cf2c0",
   "metadata": {},
   "outputs": [
    {
     "data": {
      "text/plain": [
       "[('Alice', 85), ('Bob', 90), ('Charlie', 95)]"
      ]
     },
     "execution_count": 36,
     "metadata": {},
     "output_type": "execute_result"
    }
   ],
   "source": [
    "names = ['Alice', 'Bob', 'Charlie']\n",
    "scores = [85, 90, 95]\n",
    "\n",
    "list(zip(names, scores))"
   ]
  },
  {
   "cell_type": "code",
   "execution_count": 37,
   "id": "ea26c3ae-379b-41c7-bff1-40c14054eaef",
   "metadata": {},
   "outputs": [
    {
     "name": "stdout",
     "output_type": "stream",
     "text": [
      "Alice scored 85\n",
      "Bob scored 90\n",
      "Charlie scored 95\n"
     ]
    }
   ],
   "source": [
    "for name, score in zip(names, scores):\n",
    "    print(f\"{name} scored {score}\")"
   ]
  },
  {
   "cell_type": "code",
   "execution_count": 38,
   "id": "d69b33f1-8ae1-4dd9-ad8d-ea6b2d879fa0",
   "metadata": {},
   "outputs": [
    {
     "data": {
      "text/plain": [
       "{'Alice': 85, 'Bob': 90, 'Charlie': 95}"
      ]
     },
     "execution_count": 38,
     "metadata": {},
     "output_type": "execute_result"
    }
   ],
   "source": [
    "dict(zip(names, scores))"
   ]
  },
  {
   "cell_type": "code",
   "execution_count": 39,
   "id": "6f7bc0e0-94fc-4f3a-9641-8716be420350",
   "metadata": {},
   "outputs": [
    {
     "data": {
      "text/plain": [
       "[(1, 'a'), (2, 'b')]"
      ]
     },
     "execution_count": 39,
     "metadata": {},
     "output_type": "execute_result"
    }
   ],
   "source": [
    "a = [1, 2, 3, 4]\n",
    "b = ['a', 'b']\n",
    "list(zip(a, b))"
   ]
  },
  {
   "cell_type": "code",
   "execution_count": 40,
   "id": "bf0c17f0-f6fc-4760-8d86-c3c56b8f30df",
   "metadata": {},
   "outputs": [
    {
     "data": {
      "text/plain": [
       "{'name': 'Alice', 'age': 25, 'city': 'New York', 'country': 'USA'}"
      ]
     },
     "execution_count": 40,
     "metadata": {},
     "output_type": "execute_result"
    }
   ],
   "source": [
    "list1 = ['name', 'age', 'city', 'country']\n",
    "list2 = ['Alice', 25, 'New York', 'USA']\n",
    "dict(zip(list1, list2))"
   ]
  },
  {
   "cell_type": "code",
   "execution_count": 41,
   "id": "73a53c24-4706-4ec5-ac3b-c2bc606adfe9",
   "metadata": {},
   "outputs": [
    {
     "data": {
      "text/plain": [
       "{'name': 'Alice', 'age': 25, 'city': 'New York', 'country': 'USA'}"
      ]
     },
     "execution_count": 41,
     "metadata": {},
     "output_type": "execute_result"
    }
   ],
   "source": [
    "{k: v for k, v in zip(list1, list2)}"
   ]
  },
  {
   "cell_type": "code",
   "execution_count": 42,
   "id": "d30a068d-4e18-4b14-abae-4787d9c9064a",
   "metadata": {},
   "outputs": [
    {
     "data": {
      "text/plain": [
       "[('Alice', 25, 'New York'), ('Bob', 30, 'London'), ('Charlie', 35, 'Tokyo')]"
      ]
     },
     "execution_count": 42,
     "metadata": {},
     "output_type": "execute_result"
    }
   ],
   "source": [
    "names = ['Alice', 'Bob', 'Charlie']\n",
    "ages = [25, 30, 35]\n",
    "cities = ['New York', 'London', 'Tokyo']\n",
    "list(zip(names, ages, cities))"
   ]
  },
  {
   "cell_type": "code",
   "execution_count": 43,
   "id": "eb1c56d2-7f6a-4202-b678-b80ad7fc00d8",
   "metadata": {},
   "outputs": [
    {
     "data": {
      "text/plain": [
       "[{'name': 'Alice', 'age': 25, 'city': 'New York'},\n",
       " {'name': 'Bob', 'age': 30, 'city': 'London'},\n",
       " {'name': 'Charlie', 'age': 35, 'city': 'Tokyo'}]"
      ]
     },
     "execution_count": 43,
     "metadata": {},
     "output_type": "execute_result"
    }
   ],
   "source": [
    "[{'name': n, 'age': a, 'city': c} for n, a, c in zip(names, ages, cities)]"
   ]
  },
  {
   "cell_type": "markdown",
   "id": "32d29c01-2488-435a-916d-f41d5de2fd89",
   "metadata": {},
   "source": [
    "12. Advanced Pairing Techniques"
   ]
  },
  {
   "cell_type": "code",
   "execution_count": 44,
   "id": "aa3e4417-714d-4772-b2af-8969e0a49135",
   "metadata": {},
   "outputs": [
    {
     "data": {
      "text/plain": [
       "[('a', 1), ('a', 2), ('a', 3), ('b', 1), ('b', 2), ('b', 3)]"
      ]
     },
     "execution_count": 44,
     "metadata": {},
     "output_type": "execute_result"
    }
   ],
   "source": [
    "from itertools import product\n",
    "\n",
    "list1 = ['a', 'b']\n",
    "list2 = [1, 2, 3]\n",
    "\n",
    "all_combinations = list(product(list1, list2))\n",
    "all_combinations"
   ]
  },
  {
   "cell_type": "code",
   "execution_count": 45,
   "id": "8743a02f-fd68-4acf-842c-5e5457e4dc66",
   "metadata": {},
   "outputs": [
    {
     "data": {
      "text/plain": [
       "[('cherry', 3.5)]"
      ]
     },
     "execution_count": 45,
     "metadata": {},
     "output_type": "execute_result"
    }
   ],
   "source": [
    "list1 = ['apple', 'banana', 'cherry']\n",
    "list2 = [1.5, 2.0, 3.5]\n",
    "[(fruit, price) for fruit, price in zip(list1, list2) if price > 2.0]"
   ]
  },
  {
   "cell_type": "code",
   "execution_count": 46,
   "id": "e3f49374-8c77-4076-bf1b-ce82fbc20813",
   "metadata": {},
   "outputs": [
    {
     "data": {
      "text/plain": [
       "['apple: $1.5', 'banana: $2.0', 'cherry: $3.5']"
      ]
     },
     "execution_count": 46,
     "metadata": {},
     "output_type": "execute_result"
    }
   ],
   "source": [
    "[f\"{fruit}: ${price}\" for fruit, price in zip(list1, list2)]"
   ]
  },
  {
   "cell_type": "markdown",
   "id": "60df88a8-3e06-4bc9-a680-2da967b22d83",
   "metadata": {},
   "source": [
    "13. Number Formatting"
   ]
  },
  {
   "cell_type": "code",
   "execution_count": 47,
   "id": "7415005f-8424-499f-a69c-7685c3ec576e",
   "metadata": {},
   "outputs": [
    {
     "name": "stdout",
     "output_type": "stream",
     "text": [
      "Price: $123.46\n"
     ]
    }
   ],
   "source": [
    "price = 123.456789\n",
    "quantity = 1234\n",
    "formatted_price = f\"Price: ${price:.2f}\"\n",
    "print(formatted_price)"
   ]
  },
  {
   "cell_type": "code",
   "execution_count": 48,
   "id": "57092c65-7ef2-42b1-bc43-ab9debda1337",
   "metadata": {},
   "outputs": [
    {
     "name": "stdout",
     "output_type": "stream",
     "text": [
      "Success rate: 87.5%\n"
     ]
    }
   ],
   "source": [
    "ratio = 0.875\n",
    "percentage = f\"Success rate: {ratio:.1%}\"\n",
    "print(percentage)"
   ]
  }
 ],
 "metadata": {
  "kernelspec": {
   "display_name": "Python 3 (ipykernel)",
   "language": "python",
   "name": "python3"
  },
  "language_info": {
   "codemirror_mode": {
    "name": "ipython",
    "version": 3
   },
   "file_extension": ".py",
   "mimetype": "text/x-python",
   "name": "python",
   "nbconvert_exporter": "python",
   "pygments_lexer": "ipython3",
   "version": "3.12.10"
  }
 },
 "nbformat": 4,
 "nbformat_minor": 5
}
